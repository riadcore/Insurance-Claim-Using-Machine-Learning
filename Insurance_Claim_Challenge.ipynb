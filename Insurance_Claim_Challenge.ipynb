{
 "cells": [
  {
   "cell_type": "code",
   "execution_count": 2,
   "metadata": {},
   "outputs": [],
   "source": [
    "import numpy as np\n",
    "import pandas as pd\n",
    "import matplotlib.pyplot as plt\n",
    "import seaborn as sns\n",
    "from sklearn.metrics import confusion_matrix   \n",
    "%matplotlib inline"
   ]
  },
  {
   "cell_type": "code",
   "execution_count": 3,
   "metadata": {},
   "outputs": [],
   "source": [
    "data_01=pd.read_csv('Claim.csv')\n",
    "data_02=pd.read_csv('Demographics.csv')\n",
    "data_03=pd.read_csv('Fraud Data.csv')\n",
    "data_04=pd.read_csv('Policy.csv')\n",
    "data_05=pd.read_csv('Vehicle.csv')"
   ]
  },
  {
   "cell_type": "code",
   "execution_count": 4,
   "metadata": {},
   "outputs": [
    {
     "data": {
      "text/html": [
       "<div>\n",
       "<style scoped>\n",
       "    .dataframe tbody tr th:only-of-type {\n",
       "        vertical-align: middle;\n",
       "    }\n",
       "\n",
       "    .dataframe tbody tr th {\n",
       "        vertical-align: top;\n",
       "    }\n",
       "\n",
       "    .dataframe thead th {\n",
       "        text-align: right;\n",
       "    }\n",
       "</style>\n",
       "<table border=\"1\" class=\"dataframe\">\n",
       "  <thead>\n",
       "    <tr style=\"text-align: right;\">\n",
       "      <th></th>\n",
       "      <th>CustomerID</th>\n",
       "      <th>DateOfIncident</th>\n",
       "      <th>TypeOfIncident</th>\n",
       "      <th>TypeOfCollission</th>\n",
       "      <th>SeverityOfIncident</th>\n",
       "      <th>AuthoritiesContacted</th>\n",
       "      <th>IncidentState</th>\n",
       "      <th>IncidentCity</th>\n",
       "      <th>IncidentAddress</th>\n",
       "      <th>IncidentTime</th>\n",
       "      <th>NumberOfVehicles</th>\n",
       "      <th>PropertyDamage</th>\n",
       "      <th>BodilyInjuries</th>\n",
       "      <th>Witnesses</th>\n",
       "      <th>PoliceReport</th>\n",
       "      <th>AmountOfTotalClaim</th>\n",
       "      <th>AmountOfInjuryClaim</th>\n",
       "      <th>AmountOfPropertyClaim</th>\n",
       "      <th>AmountOfVehicleDamage</th>\n",
       "    </tr>\n",
       "  </thead>\n",
       "  <tbody>\n",
       "    <tr>\n",
       "      <th>0</th>\n",
       "      <td>Cust10000</td>\n",
       "      <td>2015-02-03</td>\n",
       "      <td>Multi-vehicle Collision</td>\n",
       "      <td>Side Collision</td>\n",
       "      <td>Total Loss</td>\n",
       "      <td>Police</td>\n",
       "      <td>State7</td>\n",
       "      <td>City1</td>\n",
       "      <td>Location 1311</td>\n",
       "      <td>17</td>\n",
       "      <td>3</td>\n",
       "      <td>?</td>\n",
       "      <td>1</td>\n",
       "      <td>0</td>\n",
       "      <td>?</td>\n",
       "      <td>65501</td>\n",
       "      <td>13417</td>\n",
       "      <td>6071</td>\n",
       "      <td>46013</td>\n",
       "    </tr>\n",
       "    <tr>\n",
       "      <th>1</th>\n",
       "      <td>Cust10001</td>\n",
       "      <td>2015-02-02</td>\n",
       "      <td>Multi-vehicle Collision</td>\n",
       "      <td>Side Collision</td>\n",
       "      <td>Total Loss</td>\n",
       "      <td>Police</td>\n",
       "      <td>State7</td>\n",
       "      <td>City5</td>\n",
       "      <td>Location 1311</td>\n",
       "      <td>10</td>\n",
       "      <td>3</td>\n",
       "      <td>YES</td>\n",
       "      <td>2</td>\n",
       "      <td>1</td>\n",
       "      <td>YES</td>\n",
       "      <td>61382</td>\n",
       "      <td>15560</td>\n",
       "      <td>5919</td>\n",
       "      <td>39903</td>\n",
       "    </tr>\n",
       "    <tr>\n",
       "      <th>2</th>\n",
       "      <td>Cust10002</td>\n",
       "      <td>2015-01-15</td>\n",
       "      <td>Single Vehicle Collision</td>\n",
       "      <td>Side Collision</td>\n",
       "      <td>Minor Damage</td>\n",
       "      <td>Other</td>\n",
       "      <td>State8</td>\n",
       "      <td>City6</td>\n",
       "      <td>Location 2081</td>\n",
       "      <td>22</td>\n",
       "      <td>1</td>\n",
       "      <td>YES</td>\n",
       "      <td>2</td>\n",
       "      <td>3</td>\n",
       "      <td>NO</td>\n",
       "      <td>66755</td>\n",
       "      <td>11630</td>\n",
       "      <td>11630</td>\n",
       "      <td>43495</td>\n",
       "    </tr>\n",
       "    <tr>\n",
       "      <th>3</th>\n",
       "      <td>Cust10003</td>\n",
       "      <td>2015-01-19</td>\n",
       "      <td>Single Vehicle Collision</td>\n",
       "      <td>Side Collision</td>\n",
       "      <td>Minor Damage</td>\n",
       "      <td>Other</td>\n",
       "      <td>State9</td>\n",
       "      <td>City6</td>\n",
       "      <td>Location 2081</td>\n",
       "      <td>22</td>\n",
       "      <td>1</td>\n",
       "      <td>YES</td>\n",
       "      <td>2</td>\n",
       "      <td>3</td>\n",
       "      <td>NO</td>\n",
       "      <td>66243</td>\n",
       "      <td>12003</td>\n",
       "      <td>12003</td>\n",
       "      <td>42237</td>\n",
       "    </tr>\n",
       "    <tr>\n",
       "      <th>4</th>\n",
       "      <td>Cust10004</td>\n",
       "      <td>2015-01-09</td>\n",
       "      <td>Single Vehicle Collision</td>\n",
       "      <td>Rear Collision</td>\n",
       "      <td>Minor Damage</td>\n",
       "      <td>Fire</td>\n",
       "      <td>State8</td>\n",
       "      <td>City6</td>\n",
       "      <td>Location 1695</td>\n",
       "      <td>10</td>\n",
       "      <td>1</td>\n",
       "      <td>NO</td>\n",
       "      <td>2</td>\n",
       "      <td>1</td>\n",
       "      <td>YES</td>\n",
       "      <td>53544</td>\n",
       "      <td>8829</td>\n",
       "      <td>7234</td>\n",
       "      <td>37481</td>\n",
       "    </tr>\n",
       "  </tbody>\n",
       "</table>\n",
       "</div>"
      ],
      "text/plain": [
       "  CustomerID DateOfIncident            TypeOfIncident TypeOfCollission  \\\n",
       "0  Cust10000     2015-02-03   Multi-vehicle Collision   Side Collision   \n",
       "1  Cust10001     2015-02-02   Multi-vehicle Collision   Side Collision   \n",
       "2  Cust10002     2015-01-15  Single Vehicle Collision   Side Collision   \n",
       "3  Cust10003     2015-01-19  Single Vehicle Collision   Side Collision   \n",
       "4  Cust10004     2015-01-09  Single Vehicle Collision   Rear Collision   \n",
       "\n",
       "  SeverityOfIncident AuthoritiesContacted IncidentState IncidentCity  \\\n",
       "0         Total Loss               Police        State7        City1   \n",
       "1         Total Loss               Police        State7        City5   \n",
       "2       Minor Damage                Other        State8        City6   \n",
       "3       Minor Damage                Other        State9        City6   \n",
       "4       Minor Damage                 Fire        State8        City6   \n",
       "\n",
       "  IncidentAddress  IncidentTime  NumberOfVehicles PropertyDamage  \\\n",
       "0   Location 1311            17                 3              ?   \n",
       "1   Location 1311            10                 3            YES   \n",
       "2   Location 2081            22                 1            YES   \n",
       "3   Location 2081            22                 1            YES   \n",
       "4   Location 1695            10                 1             NO   \n",
       "\n",
       "   BodilyInjuries Witnesses PoliceReport AmountOfTotalClaim  \\\n",
       "0               1         0            ?              65501   \n",
       "1               2         1          YES              61382   \n",
       "2               2         3           NO              66755   \n",
       "3               2         3           NO              66243   \n",
       "4               2         1          YES              53544   \n",
       "\n",
       "   AmountOfInjuryClaim  AmountOfPropertyClaim  AmountOfVehicleDamage  \n",
       "0                13417                   6071                  46013  \n",
       "1                15560                   5919                  39903  \n",
       "2                11630                  11630                  43495  \n",
       "3                12003                  12003                  42237  \n",
       "4                 8829                   7234                  37481  "
      ]
     },
     "execution_count": 4,
     "metadata": {},
     "output_type": "execute_result"
    }
   ],
   "source": [
    "data_01.head()"
   ]
  },
  {
   "cell_type": "code",
   "execution_count": 5,
   "metadata": {},
   "outputs": [
    {
     "data": {
      "text/html": [
       "<div>\n",
       "<style scoped>\n",
       "    .dataframe tbody tr th:only-of-type {\n",
       "        vertical-align: middle;\n",
       "    }\n",
       "\n",
       "    .dataframe tbody tr th {\n",
       "        vertical-align: top;\n",
       "    }\n",
       "\n",
       "    .dataframe thead th {\n",
       "        text-align: right;\n",
       "    }\n",
       "</style>\n",
       "<table border=\"1\" class=\"dataframe\">\n",
       "  <thead>\n",
       "    <tr style=\"text-align: right;\">\n",
       "      <th></th>\n",
       "      <th>CustomerID</th>\n",
       "      <th>InsuredAge</th>\n",
       "      <th>InsuredZipCode</th>\n",
       "      <th>InsuredGender</th>\n",
       "      <th>InsuredEducationLevel</th>\n",
       "      <th>InsuredOccupation</th>\n",
       "      <th>InsuredHobbies</th>\n",
       "      <th>CapitalGains</th>\n",
       "      <th>CapitalLoss</th>\n",
       "      <th>Country</th>\n",
       "    </tr>\n",
       "  </thead>\n",
       "  <tbody>\n",
       "    <tr>\n",
       "      <th>0</th>\n",
       "      <td>Cust10000</td>\n",
       "      <td>35</td>\n",
       "      <td>454776</td>\n",
       "      <td>MALE</td>\n",
       "      <td>JD</td>\n",
       "      <td>armed-forces</td>\n",
       "      <td>movies</td>\n",
       "      <td>56700</td>\n",
       "      <td>-48500</td>\n",
       "      <td>India</td>\n",
       "    </tr>\n",
       "    <tr>\n",
       "      <th>1</th>\n",
       "      <td>Cust10001</td>\n",
       "      <td>36</td>\n",
       "      <td>454776</td>\n",
       "      <td>MALE</td>\n",
       "      <td>JD</td>\n",
       "      <td>tech-support</td>\n",
       "      <td>cross-fit</td>\n",
       "      <td>70600</td>\n",
       "      <td>-48500</td>\n",
       "      <td>India</td>\n",
       "    </tr>\n",
       "    <tr>\n",
       "      <th>2</th>\n",
       "      <td>Cust10002</td>\n",
       "      <td>33</td>\n",
       "      <td>603260</td>\n",
       "      <td>MALE</td>\n",
       "      <td>JD</td>\n",
       "      <td>armed-forces</td>\n",
       "      <td>polo</td>\n",
       "      <td>66400</td>\n",
       "      <td>-63700</td>\n",
       "      <td>India</td>\n",
       "    </tr>\n",
       "    <tr>\n",
       "      <th>3</th>\n",
       "      <td>Cust10003</td>\n",
       "      <td>36</td>\n",
       "      <td>474848</td>\n",
       "      <td>MALE</td>\n",
       "      <td>JD</td>\n",
       "      <td>armed-forces</td>\n",
       "      <td>polo</td>\n",
       "      <td>47900</td>\n",
       "      <td>-73400</td>\n",
       "      <td>India</td>\n",
       "    </tr>\n",
       "    <tr>\n",
       "      <th>4</th>\n",
       "      <td>Cust10004</td>\n",
       "      <td>29</td>\n",
       "      <td>457942</td>\n",
       "      <td>FEMALE</td>\n",
       "      <td>High School</td>\n",
       "      <td>exec-managerial</td>\n",
       "      <td>dancing</td>\n",
       "      <td>0</td>\n",
       "      <td>-41500</td>\n",
       "      <td>India</td>\n",
       "    </tr>\n",
       "  </tbody>\n",
       "</table>\n",
       "</div>"
      ],
      "text/plain": [
       "  CustomerID  InsuredAge  InsuredZipCode InsuredGender InsuredEducationLevel  \\\n",
       "0  Cust10000          35          454776          MALE                    JD   \n",
       "1  Cust10001          36          454776          MALE                    JD   \n",
       "2  Cust10002          33          603260          MALE                    JD   \n",
       "3  Cust10003          36          474848          MALE                    JD   \n",
       "4  Cust10004          29          457942        FEMALE           High School   \n",
       "\n",
       "  InsuredOccupation InsuredHobbies  CapitalGains  CapitalLoss Country  \n",
       "0      armed-forces         movies         56700       -48500   India  \n",
       "1      tech-support      cross-fit         70600       -48500   India  \n",
       "2      armed-forces           polo         66400       -63700   India  \n",
       "3      armed-forces           polo         47900       -73400   India  \n",
       "4   exec-managerial        dancing             0       -41500   India  "
      ]
     },
     "execution_count": 5,
     "metadata": {},
     "output_type": "execute_result"
    }
   ],
   "source": [
    "data_02.head()"
   ]
  },
  {
   "cell_type": "code",
   "execution_count": 6,
   "metadata": {},
   "outputs": [
    {
     "data": {
      "text/html": [
       "<div>\n",
       "<style scoped>\n",
       "    .dataframe tbody tr th:only-of-type {\n",
       "        vertical-align: middle;\n",
       "    }\n",
       "\n",
       "    .dataframe tbody tr th {\n",
       "        vertical-align: top;\n",
       "    }\n",
       "\n",
       "    .dataframe thead th {\n",
       "        text-align: right;\n",
       "    }\n",
       "</style>\n",
       "<table border=\"1\" class=\"dataframe\">\n",
       "  <thead>\n",
       "    <tr style=\"text-align: right;\">\n",
       "      <th></th>\n",
       "      <th>CustomerID</th>\n",
       "      <th>ReportedFraud</th>\n",
       "    </tr>\n",
       "  </thead>\n",
       "  <tbody>\n",
       "    <tr>\n",
       "      <th>0</th>\n",
       "      <td>Cust20065</td>\n",
       "      <td>N</td>\n",
       "    </tr>\n",
       "    <tr>\n",
       "      <th>1</th>\n",
       "      <td>Cust37589</td>\n",
       "      <td>N</td>\n",
       "    </tr>\n",
       "    <tr>\n",
       "      <th>2</th>\n",
       "      <td>Cust24312</td>\n",
       "      <td>N</td>\n",
       "    </tr>\n",
       "    <tr>\n",
       "      <th>3</th>\n",
       "      <td>Cust5493</td>\n",
       "      <td>Y</td>\n",
       "    </tr>\n",
       "    <tr>\n",
       "      <th>4</th>\n",
       "      <td>Cust7704</td>\n",
       "      <td>Y</td>\n",
       "    </tr>\n",
       "  </tbody>\n",
       "</table>\n",
       "</div>"
      ],
      "text/plain": [
       "  CustomerID ReportedFraud\n",
       "0  Cust20065             N\n",
       "1  Cust37589             N\n",
       "2  Cust24312             N\n",
       "3   Cust5493             Y\n",
       "4   Cust7704             Y"
      ]
     },
     "execution_count": 6,
     "metadata": {},
     "output_type": "execute_result"
    }
   ],
   "source": [
    "data_03.head()"
   ]
  },
  {
   "cell_type": "code",
   "execution_count": 7,
   "metadata": {},
   "outputs": [
    {
     "data": {
      "text/html": [
       "<div>\n",
       "<style scoped>\n",
       "    .dataframe tbody tr th:only-of-type {\n",
       "        vertical-align: middle;\n",
       "    }\n",
       "\n",
       "    .dataframe tbody tr th {\n",
       "        vertical-align: top;\n",
       "    }\n",
       "\n",
       "    .dataframe thead th {\n",
       "        text-align: right;\n",
       "    }\n",
       "</style>\n",
       "<table border=\"1\" class=\"dataframe\">\n",
       "  <thead>\n",
       "    <tr style=\"text-align: right;\">\n",
       "      <th></th>\n",
       "      <th>InsurancePolicyNumber</th>\n",
       "      <th>CustomerLoyaltyPeriod</th>\n",
       "      <th>DateOfPolicyCoverage</th>\n",
       "      <th>InsurancePolicyState</th>\n",
       "      <th>Policy_CombinedSingleLimit</th>\n",
       "      <th>Policy_Deductible</th>\n",
       "      <th>PolicyAnnualPremium</th>\n",
       "      <th>UmbrellaLimit</th>\n",
       "      <th>InsuredRelationship</th>\n",
       "      <th>CustomerID</th>\n",
       "    </tr>\n",
       "  </thead>\n",
       "  <tbody>\n",
       "    <tr>\n",
       "      <th>0</th>\n",
       "      <td>110122</td>\n",
       "      <td>328</td>\n",
       "      <td>2014-10-17</td>\n",
       "      <td>State3</td>\n",
       "      <td>250/500</td>\n",
       "      <td>1000</td>\n",
       "      <td>1406.91</td>\n",
       "      <td>0</td>\n",
       "      <td>husband</td>\n",
       "      <td>Cust1001</td>\n",
       "    </tr>\n",
       "    <tr>\n",
       "      <th>1</th>\n",
       "      <td>110125</td>\n",
       "      <td>256</td>\n",
       "      <td>1990-05-25</td>\n",
       "      <td>State1</td>\n",
       "      <td>250/500</td>\n",
       "      <td>2000</td>\n",
       "      <td>1415.74</td>\n",
       "      <td>6000000</td>\n",
       "      <td>unmarried</td>\n",
       "      <td>Cust1004</td>\n",
       "    </tr>\n",
       "    <tr>\n",
       "      <th>2</th>\n",
       "      <td>110126</td>\n",
       "      <td>228</td>\n",
       "      <td>2014-06-06</td>\n",
       "      <td>State1</td>\n",
       "      <td>500/1000</td>\n",
       "      <td>1000</td>\n",
       "      <td>1583.91</td>\n",
       "      <td>6000000</td>\n",
       "      <td>unmarried</td>\n",
       "      <td>Cust1005</td>\n",
       "    </tr>\n",
       "    <tr>\n",
       "      <th>3</th>\n",
       "      <td>110127</td>\n",
       "      <td>256</td>\n",
       "      <td>2006-10-12</td>\n",
       "      <td>State3</td>\n",
       "      <td>250/500</td>\n",
       "      <td>1000</td>\n",
       "      <td>1351.10</td>\n",
       "      <td>0</td>\n",
       "      <td>unmarried</td>\n",
       "      <td>Cust1006</td>\n",
       "    </tr>\n",
       "    <tr>\n",
       "      <th>4</th>\n",
       "      <td>110128</td>\n",
       "      <td>137</td>\n",
       "      <td>2000-06-04</td>\n",
       "      <td>State2</td>\n",
       "      <td>250/500</td>\n",
       "      <td>1000</td>\n",
       "      <td>1333.35</td>\n",
       "      <td>0</td>\n",
       "      <td>husband</td>\n",
       "      <td>Cust1007</td>\n",
       "    </tr>\n",
       "  </tbody>\n",
       "</table>\n",
       "</div>"
      ],
      "text/plain": [
       "   InsurancePolicyNumber  CustomerLoyaltyPeriod DateOfPolicyCoverage  \\\n",
       "0                 110122                    328           2014-10-17   \n",
       "1                 110125                    256           1990-05-25   \n",
       "2                 110126                    228           2014-06-06   \n",
       "3                 110127                    256           2006-10-12   \n",
       "4                 110128                    137           2000-06-04   \n",
       "\n",
       "  InsurancePolicyState Policy_CombinedSingleLimit  Policy_Deductible  \\\n",
       "0               State3                    250/500               1000   \n",
       "1               State1                    250/500               2000   \n",
       "2               State1                   500/1000               1000   \n",
       "3               State3                    250/500               1000   \n",
       "4               State2                    250/500               1000   \n",
       "\n",
       "   PolicyAnnualPremium  UmbrellaLimit InsuredRelationship CustomerID  \n",
       "0              1406.91              0             husband   Cust1001  \n",
       "1              1415.74        6000000           unmarried   Cust1004  \n",
       "2              1583.91        6000000           unmarried   Cust1005  \n",
       "3              1351.10              0           unmarried   Cust1006  \n",
       "4              1333.35              0             husband   Cust1007  "
      ]
     },
     "execution_count": 7,
     "metadata": {},
     "output_type": "execute_result"
    }
   ],
   "source": [
    "data_04.head()"
   ]
  },
  {
   "cell_type": "code",
   "execution_count": 8,
   "metadata": {},
   "outputs": [
    {
     "data": {
      "text/html": [
       "<div>\n",
       "<style scoped>\n",
       "    .dataframe tbody tr th:only-of-type {\n",
       "        vertical-align: middle;\n",
       "    }\n",
       "\n",
       "    .dataframe tbody tr th {\n",
       "        vertical-align: top;\n",
       "    }\n",
       "\n",
       "    .dataframe thead th {\n",
       "        text-align: right;\n",
       "    }\n",
       "</style>\n",
       "<table border=\"1\" class=\"dataframe\">\n",
       "  <thead>\n",
       "    <tr style=\"text-align: right;\">\n",
       "      <th></th>\n",
       "      <th>CustomerID</th>\n",
       "      <th>VehicleAttribute</th>\n",
       "      <th>VehicleAttributeDetails</th>\n",
       "    </tr>\n",
       "  </thead>\n",
       "  <tbody>\n",
       "    <tr>\n",
       "      <th>0</th>\n",
       "      <td>Cust20179</td>\n",
       "      <td>VehicleID</td>\n",
       "      <td>Vehicle8898</td>\n",
       "    </tr>\n",
       "    <tr>\n",
       "      <th>1</th>\n",
       "      <td>Cust21384</td>\n",
       "      <td>VehicleModel</td>\n",
       "      <td>Malibu</td>\n",
       "    </tr>\n",
       "    <tr>\n",
       "      <th>2</th>\n",
       "      <td>Cust33335</td>\n",
       "      <td>VehicleMake</td>\n",
       "      <td>Toyota</td>\n",
       "    </tr>\n",
       "    <tr>\n",
       "      <th>3</th>\n",
       "      <td>Cust27118</td>\n",
       "      <td>VehicleModel</td>\n",
       "      <td>Neon</td>\n",
       "    </tr>\n",
       "    <tr>\n",
       "      <th>4</th>\n",
       "      <td>Cust13038</td>\n",
       "      <td>VehicleID</td>\n",
       "      <td>Vehicle30212</td>\n",
       "    </tr>\n",
       "  </tbody>\n",
       "</table>\n",
       "</div>"
      ],
      "text/plain": [
       "  CustomerID VehicleAttribute VehicleAttributeDetails\n",
       "0  Cust20179        VehicleID             Vehicle8898\n",
       "1  Cust21384     VehicleModel                  Malibu\n",
       "2  Cust33335      VehicleMake                  Toyota\n",
       "3  Cust27118     VehicleModel                    Neon\n",
       "4  Cust13038        VehicleID            Vehicle30212"
      ]
     },
     "execution_count": 8,
     "metadata": {},
     "output_type": "execute_result"
    }
   ],
   "source": [
    "data_05.head()"
   ]
  },
  {
   "cell_type": "code",
   "execution_count": 9,
   "metadata": {},
   "outputs": [
    {
     "name": "stdout",
     "output_type": "stream",
     "text": [
      "(28836, 19)\n",
      "(28836, 10)\n",
      "(28836, 2)\n",
      "(28836, 10)\n",
      "(115344, 3)\n"
     ]
    }
   ],
   "source": [
    "print(data_01.shape)\n",
    "print(data_02.shape)\n",
    "print(data_03.shape)\n",
    "print(data_04.shape)\n",
    "print(data_05.shape)"
   ]
  },
  {
   "cell_type": "code",
   "execution_count": 10,
   "metadata": {},
   "outputs": [
    {
     "data": {
      "text/plain": [
       "(115344, 40)"
      ]
     },
     "execution_count": 10,
     "metadata": {},
     "output_type": "execute_result"
    }
   ],
   "source": [
    "# Outer join of data_01, data_02, data_03, data_04, data_05 with 'CustomerID' as key\n",
    "data_06 = pd.merge(data_01, data_02, on='CustomerID', how='outer')\n",
    "data_07 = pd.merge(data_06, data_03, on='CustomerID', how='outer')\n",
    "data_08 = pd.merge(data_07, data_04, on='CustomerID', how='outer')\n",
    "data_09 = pd.merge(data_08, data_05, on='CustomerID', how='outer')\n",
    "data_09.shape"
   ]
  },
  {
   "cell_type": "code",
   "execution_count": 11,
   "metadata": {},
   "outputs": [
    {
     "data": {
      "text/html": [
       "<div>\n",
       "<style scoped>\n",
       "    .dataframe tbody tr th:only-of-type {\n",
       "        vertical-align: middle;\n",
       "    }\n",
       "\n",
       "    .dataframe tbody tr th {\n",
       "        vertical-align: top;\n",
       "    }\n",
       "\n",
       "    .dataframe thead th {\n",
       "        text-align: right;\n",
       "    }\n",
       "</style>\n",
       "<table border=\"1\" class=\"dataframe\">\n",
       "  <thead>\n",
       "    <tr style=\"text-align: right;\">\n",
       "      <th></th>\n",
       "      <th>CustomerID</th>\n",
       "      <th>DateOfIncident</th>\n",
       "      <th>TypeOfIncident</th>\n",
       "      <th>TypeOfCollission</th>\n",
       "      <th>SeverityOfIncident</th>\n",
       "      <th>AuthoritiesContacted</th>\n",
       "      <th>IncidentState</th>\n",
       "      <th>IncidentCity</th>\n",
       "      <th>IncidentAddress</th>\n",
       "      <th>IncidentTime</th>\n",
       "      <th>...</th>\n",
       "      <th>CustomerLoyaltyPeriod</th>\n",
       "      <th>DateOfPolicyCoverage</th>\n",
       "      <th>InsurancePolicyState</th>\n",
       "      <th>Policy_CombinedSingleLimit</th>\n",
       "      <th>Policy_Deductible</th>\n",
       "      <th>PolicyAnnualPremium</th>\n",
       "      <th>UmbrellaLimit</th>\n",
       "      <th>InsuredRelationship</th>\n",
       "      <th>VehicleAttribute</th>\n",
       "      <th>VehicleAttributeDetails</th>\n",
       "    </tr>\n",
       "  </thead>\n",
       "  <tbody>\n",
       "    <tr>\n",
       "      <th>0</th>\n",
       "      <td>Cust10000</td>\n",
       "      <td>2015-02-03</td>\n",
       "      <td>Multi-vehicle Collision</td>\n",
       "      <td>Side Collision</td>\n",
       "      <td>Total Loss</td>\n",
       "      <td>Police</td>\n",
       "      <td>State7</td>\n",
       "      <td>City1</td>\n",
       "      <td>Location 1311</td>\n",
       "      <td>17</td>\n",
       "      <td>...</td>\n",
       "      <td>49</td>\n",
       "      <td>1998-10-25</td>\n",
       "      <td>State1</td>\n",
       "      <td>100/300</td>\n",
       "      <td>1000</td>\n",
       "      <td>1632.73</td>\n",
       "      <td>0</td>\n",
       "      <td>not-in-family</td>\n",
       "      <td>VehicleID</td>\n",
       "      <td>Vehicle26917</td>\n",
       "    </tr>\n",
       "    <tr>\n",
       "      <th>1</th>\n",
       "      <td>Cust10000</td>\n",
       "      <td>2015-02-03</td>\n",
       "      <td>Multi-vehicle Collision</td>\n",
       "      <td>Side Collision</td>\n",
       "      <td>Total Loss</td>\n",
       "      <td>Police</td>\n",
       "      <td>State7</td>\n",
       "      <td>City1</td>\n",
       "      <td>Location 1311</td>\n",
       "      <td>17</td>\n",
       "      <td>...</td>\n",
       "      <td>49</td>\n",
       "      <td>1998-10-25</td>\n",
       "      <td>State1</td>\n",
       "      <td>100/300</td>\n",
       "      <td>1000</td>\n",
       "      <td>1632.73</td>\n",
       "      <td>0</td>\n",
       "      <td>not-in-family</td>\n",
       "      <td>VehicleModel</td>\n",
       "      <td>A5</td>\n",
       "    </tr>\n",
       "    <tr>\n",
       "      <th>2</th>\n",
       "      <td>Cust10000</td>\n",
       "      <td>2015-02-03</td>\n",
       "      <td>Multi-vehicle Collision</td>\n",
       "      <td>Side Collision</td>\n",
       "      <td>Total Loss</td>\n",
       "      <td>Police</td>\n",
       "      <td>State7</td>\n",
       "      <td>City1</td>\n",
       "      <td>Location 1311</td>\n",
       "      <td>17</td>\n",
       "      <td>...</td>\n",
       "      <td>49</td>\n",
       "      <td>1998-10-25</td>\n",
       "      <td>State1</td>\n",
       "      <td>100/300</td>\n",
       "      <td>1000</td>\n",
       "      <td>1632.73</td>\n",
       "      <td>0</td>\n",
       "      <td>not-in-family</td>\n",
       "      <td>VehicleYOM</td>\n",
       "      <td>2008</td>\n",
       "    </tr>\n",
       "    <tr>\n",
       "      <th>3</th>\n",
       "      <td>Cust10000</td>\n",
       "      <td>2015-02-03</td>\n",
       "      <td>Multi-vehicle Collision</td>\n",
       "      <td>Side Collision</td>\n",
       "      <td>Total Loss</td>\n",
       "      <td>Police</td>\n",
       "      <td>State7</td>\n",
       "      <td>City1</td>\n",
       "      <td>Location 1311</td>\n",
       "      <td>17</td>\n",
       "      <td>...</td>\n",
       "      <td>49</td>\n",
       "      <td>1998-10-25</td>\n",
       "      <td>State1</td>\n",
       "      <td>100/300</td>\n",
       "      <td>1000</td>\n",
       "      <td>1632.73</td>\n",
       "      <td>0</td>\n",
       "      <td>not-in-family</td>\n",
       "      <td>VehicleMake</td>\n",
       "      <td>Audi</td>\n",
       "    </tr>\n",
       "    <tr>\n",
       "      <th>4</th>\n",
       "      <td>Cust10001</td>\n",
       "      <td>2015-02-02</td>\n",
       "      <td>Multi-vehicle Collision</td>\n",
       "      <td>Side Collision</td>\n",
       "      <td>Total Loss</td>\n",
       "      <td>Police</td>\n",
       "      <td>State7</td>\n",
       "      <td>City5</td>\n",
       "      <td>Location 1311</td>\n",
       "      <td>10</td>\n",
       "      <td>...</td>\n",
       "      <td>114</td>\n",
       "      <td>2000-11-15</td>\n",
       "      <td>State1</td>\n",
       "      <td>100/300</td>\n",
       "      <td>1000</td>\n",
       "      <td>1255.19</td>\n",
       "      <td>0</td>\n",
       "      <td>not-in-family</td>\n",
       "      <td>VehicleYOM</td>\n",
       "      <td>2006</td>\n",
       "    </tr>\n",
       "  </tbody>\n",
       "</table>\n",
       "<p>5 rows × 40 columns</p>\n",
       "</div>"
      ],
      "text/plain": [
       "  CustomerID DateOfIncident           TypeOfIncident TypeOfCollission  \\\n",
       "0  Cust10000     2015-02-03  Multi-vehicle Collision   Side Collision   \n",
       "1  Cust10000     2015-02-03  Multi-vehicle Collision   Side Collision   \n",
       "2  Cust10000     2015-02-03  Multi-vehicle Collision   Side Collision   \n",
       "3  Cust10000     2015-02-03  Multi-vehicle Collision   Side Collision   \n",
       "4  Cust10001     2015-02-02  Multi-vehicle Collision   Side Collision   \n",
       "\n",
       "  SeverityOfIncident AuthoritiesContacted IncidentState IncidentCity  \\\n",
       "0         Total Loss               Police        State7        City1   \n",
       "1         Total Loss               Police        State7        City1   \n",
       "2         Total Loss               Police        State7        City1   \n",
       "3         Total Loss               Police        State7        City1   \n",
       "4         Total Loss               Police        State7        City5   \n",
       "\n",
       "  IncidentAddress  IncidentTime  ...  CustomerLoyaltyPeriod  \\\n",
       "0   Location 1311            17  ...                     49   \n",
       "1   Location 1311            17  ...                     49   \n",
       "2   Location 1311            17  ...                     49   \n",
       "3   Location 1311            17  ...                     49   \n",
       "4   Location 1311            10  ...                    114   \n",
       "\n",
       "  DateOfPolicyCoverage  InsurancePolicyState Policy_CombinedSingleLimit  \\\n",
       "0           1998-10-25                State1                    100/300   \n",
       "1           1998-10-25                State1                    100/300   \n",
       "2           1998-10-25                State1                    100/300   \n",
       "3           1998-10-25                State1                    100/300   \n",
       "4           2000-11-15                State1                    100/300   \n",
       "\n",
       "  Policy_Deductible PolicyAnnualPremium  UmbrellaLimit  InsuredRelationship  \\\n",
       "0              1000             1632.73              0        not-in-family   \n",
       "1              1000             1632.73              0        not-in-family   \n",
       "2              1000             1632.73              0        not-in-family   \n",
       "3              1000             1632.73              0        not-in-family   \n",
       "4              1000             1255.19              0        not-in-family   \n",
       "\n",
       "   VehicleAttribute  VehicleAttributeDetails  \n",
       "0         VehicleID             Vehicle26917  \n",
       "1      VehicleModel                       A5  \n",
       "2        VehicleYOM                     2008  \n",
       "3       VehicleMake                     Audi  \n",
       "4        VehicleYOM                     2006  \n",
       "\n",
       "[5 rows x 40 columns]"
      ]
     },
     "execution_count": 11,
     "metadata": {},
     "output_type": "execute_result"
    }
   ],
   "source": [
    "data_09.head()"
   ]
  },
  {
   "cell_type": "code",
   "execution_count": 12,
   "metadata": {},
   "outputs": [
    {
     "data": {
      "text/plain": [
       "0"
      ]
     },
     "execution_count": 12,
     "metadata": {},
     "output_type": "execute_result"
    }
   ],
   "source": [
    "# Finding duplicate rows\n",
    "data_09.duplicated().sum()"
   ]
  },
  {
   "cell_type": "code",
   "execution_count": 13,
   "metadata": {},
   "outputs": [
    {
     "data": {
      "text/html": [
       "<div>\n",
       "<style scoped>\n",
       "    .dataframe tbody tr th:only-of-type {\n",
       "        vertical-align: middle;\n",
       "    }\n",
       "\n",
       "    .dataframe tbody tr th {\n",
       "        vertical-align: top;\n",
       "    }\n",
       "\n",
       "    .dataframe thead th {\n",
       "        text-align: right;\n",
       "    }\n",
       "</style>\n",
       "<table border=\"1\" class=\"dataframe\">\n",
       "  <thead>\n",
       "    <tr style=\"text-align: right;\">\n",
       "      <th></th>\n",
       "      <th>CustomerID</th>\n",
       "      <th>DateOfIncident</th>\n",
       "      <th>TypeOfIncident</th>\n",
       "      <th>TypeOfCollission</th>\n",
       "      <th>SeverityOfIncident</th>\n",
       "      <th>AuthoritiesContacted</th>\n",
       "      <th>IncidentState</th>\n",
       "      <th>IncidentCity</th>\n",
       "      <th>IncidentAddress</th>\n",
       "      <th>IncidentTime</th>\n",
       "      <th>NumberOfVehicles</th>\n",
       "      <th>PropertyDamage</th>\n",
       "      <th>BodilyInjuries</th>\n",
       "      <th>Witnesses</th>\n",
       "      <th>PoliceReport</th>\n",
       "      <th>AmountOfTotalClaim</th>\n",
       "      <th>AmountOfInjuryClaim</th>\n",
       "      <th>AmountOfPropertyClaim</th>\n",
       "      <th>AmountOfVehicleDamage</th>\n",
       "      <th>InsuredAge</th>\n",
       "    </tr>\n",
       "  </thead>\n",
       "  <tbody>\n",
       "    <tr>\n",
       "      <th>0</th>\n",
       "      <td>Cust10000</td>\n",
       "      <td>2015-02-03</td>\n",
       "      <td>Multi-vehicle Collision</td>\n",
       "      <td>Side Collision</td>\n",
       "      <td>Total Loss</td>\n",
       "      <td>Police</td>\n",
       "      <td>State7</td>\n",
       "      <td>City1</td>\n",
       "      <td>Location 1311</td>\n",
       "      <td>17</td>\n",
       "      <td>3</td>\n",
       "      <td>?</td>\n",
       "      <td>1</td>\n",
       "      <td>0</td>\n",
       "      <td>?</td>\n",
       "      <td>65501</td>\n",
       "      <td>13417</td>\n",
       "      <td>6071</td>\n",
       "      <td>46013</td>\n",
       "      <td>35</td>\n",
       "    </tr>\n",
       "    <tr>\n",
       "      <th>1</th>\n",
       "      <td>Cust10000</td>\n",
       "      <td>2015-02-03</td>\n",
       "      <td>Multi-vehicle Collision</td>\n",
       "      <td>Side Collision</td>\n",
       "      <td>Total Loss</td>\n",
       "      <td>Police</td>\n",
       "      <td>State7</td>\n",
       "      <td>City1</td>\n",
       "      <td>Location 1311</td>\n",
       "      <td>17</td>\n",
       "      <td>3</td>\n",
       "      <td>?</td>\n",
       "      <td>1</td>\n",
       "      <td>0</td>\n",
       "      <td>?</td>\n",
       "      <td>65501</td>\n",
       "      <td>13417</td>\n",
       "      <td>6071</td>\n",
       "      <td>46013</td>\n",
       "      <td>35</td>\n",
       "    </tr>\n",
       "    <tr>\n",
       "      <th>2</th>\n",
       "      <td>Cust10000</td>\n",
       "      <td>2015-02-03</td>\n",
       "      <td>Multi-vehicle Collision</td>\n",
       "      <td>Side Collision</td>\n",
       "      <td>Total Loss</td>\n",
       "      <td>Police</td>\n",
       "      <td>State7</td>\n",
       "      <td>City1</td>\n",
       "      <td>Location 1311</td>\n",
       "      <td>17</td>\n",
       "      <td>3</td>\n",
       "      <td>?</td>\n",
       "      <td>1</td>\n",
       "      <td>0</td>\n",
       "      <td>?</td>\n",
       "      <td>65501</td>\n",
       "      <td>13417</td>\n",
       "      <td>6071</td>\n",
       "      <td>46013</td>\n",
       "      <td>35</td>\n",
       "    </tr>\n",
       "    <tr>\n",
       "      <th>3</th>\n",
       "      <td>Cust10000</td>\n",
       "      <td>2015-02-03</td>\n",
       "      <td>Multi-vehicle Collision</td>\n",
       "      <td>Side Collision</td>\n",
       "      <td>Total Loss</td>\n",
       "      <td>Police</td>\n",
       "      <td>State7</td>\n",
       "      <td>City1</td>\n",
       "      <td>Location 1311</td>\n",
       "      <td>17</td>\n",
       "      <td>3</td>\n",
       "      <td>?</td>\n",
       "      <td>1</td>\n",
       "      <td>0</td>\n",
       "      <td>?</td>\n",
       "      <td>65501</td>\n",
       "      <td>13417</td>\n",
       "      <td>6071</td>\n",
       "      <td>46013</td>\n",
       "      <td>35</td>\n",
       "    </tr>\n",
       "    <tr>\n",
       "      <th>4</th>\n",
       "      <td>Cust10001</td>\n",
       "      <td>2015-02-02</td>\n",
       "      <td>Multi-vehicle Collision</td>\n",
       "      <td>Side Collision</td>\n",
       "      <td>Total Loss</td>\n",
       "      <td>Police</td>\n",
       "      <td>State7</td>\n",
       "      <td>City5</td>\n",
       "      <td>Location 1311</td>\n",
       "      <td>10</td>\n",
       "      <td>3</td>\n",
       "      <td>YES</td>\n",
       "      <td>2</td>\n",
       "      <td>1</td>\n",
       "      <td>YES</td>\n",
       "      <td>61382</td>\n",
       "      <td>15560</td>\n",
       "      <td>5919</td>\n",
       "      <td>39903</td>\n",
       "      <td>36</td>\n",
       "    </tr>\n",
       "  </tbody>\n",
       "</table>\n",
       "</div>"
      ],
      "text/plain": [
       "  CustomerID DateOfIncident           TypeOfIncident TypeOfCollission  \\\n",
       "0  Cust10000     2015-02-03  Multi-vehicle Collision   Side Collision   \n",
       "1  Cust10000     2015-02-03  Multi-vehicle Collision   Side Collision   \n",
       "2  Cust10000     2015-02-03  Multi-vehicle Collision   Side Collision   \n",
       "3  Cust10000     2015-02-03  Multi-vehicle Collision   Side Collision   \n",
       "4  Cust10001     2015-02-02  Multi-vehicle Collision   Side Collision   \n",
       "\n",
       "  SeverityOfIncident AuthoritiesContacted IncidentState IncidentCity  \\\n",
       "0         Total Loss               Police        State7        City1   \n",
       "1         Total Loss               Police        State7        City1   \n",
       "2         Total Loss               Police        State7        City1   \n",
       "3         Total Loss               Police        State7        City1   \n",
       "4         Total Loss               Police        State7        City5   \n",
       "\n",
       "  IncidentAddress  IncidentTime  NumberOfVehicles PropertyDamage  \\\n",
       "0   Location 1311            17                 3              ?   \n",
       "1   Location 1311            17                 3              ?   \n",
       "2   Location 1311            17                 3              ?   \n",
       "3   Location 1311            17                 3              ?   \n",
       "4   Location 1311            10                 3            YES   \n",
       "\n",
       "   BodilyInjuries Witnesses PoliceReport AmountOfTotalClaim  \\\n",
       "0               1         0            ?              65501   \n",
       "1               1         0            ?              65501   \n",
       "2               1         0            ?              65501   \n",
       "3               1         0            ?              65501   \n",
       "4               2         1          YES              61382   \n",
       "\n",
       "   AmountOfInjuryClaim  AmountOfPropertyClaim  AmountOfVehicleDamage  \\\n",
       "0                13417                   6071                  46013   \n",
       "1                13417                   6071                  46013   \n",
       "2                13417                   6071                  46013   \n",
       "3                13417                   6071                  46013   \n",
       "4                15560                   5919                  39903   \n",
       "\n",
       "   InsuredAge  \n",
       "0          35  \n",
       "1          35  \n",
       "2          35  \n",
       "3          35  \n",
       "4          36  "
      ]
     },
     "execution_count": 13,
     "metadata": {},
     "output_type": "execute_result"
    }
   ],
   "source": [
    "data_09.iloc[:,0:20].head()"
   ]
  },
  {
   "cell_type": "code",
   "execution_count": 14,
   "metadata": {},
   "outputs": [
    {
     "data": {
      "text/html": [
       "<div>\n",
       "<style scoped>\n",
       "    .dataframe tbody tr th:only-of-type {\n",
       "        vertical-align: middle;\n",
       "    }\n",
       "\n",
       "    .dataframe tbody tr th {\n",
       "        vertical-align: top;\n",
       "    }\n",
       "\n",
       "    .dataframe thead th {\n",
       "        text-align: right;\n",
       "    }\n",
       "</style>\n",
       "<table border=\"1\" class=\"dataframe\">\n",
       "  <thead>\n",
       "    <tr style=\"text-align: right;\">\n",
       "      <th></th>\n",
       "      <th>InsuredZipCode</th>\n",
       "      <th>InsuredGender</th>\n",
       "      <th>InsuredEducationLevel</th>\n",
       "      <th>InsuredOccupation</th>\n",
       "      <th>InsuredHobbies</th>\n",
       "      <th>CapitalGains</th>\n",
       "      <th>CapitalLoss</th>\n",
       "      <th>Country</th>\n",
       "      <th>ReportedFraud</th>\n",
       "      <th>InsurancePolicyNumber</th>\n",
       "      <th>CustomerLoyaltyPeriod</th>\n",
       "      <th>DateOfPolicyCoverage</th>\n",
       "      <th>InsurancePolicyState</th>\n",
       "      <th>Policy_CombinedSingleLimit</th>\n",
       "      <th>Policy_Deductible</th>\n",
       "      <th>PolicyAnnualPremium</th>\n",
       "      <th>UmbrellaLimit</th>\n",
       "      <th>InsuredRelationship</th>\n",
       "      <th>VehicleAttribute</th>\n",
       "      <th>VehicleAttributeDetails</th>\n",
       "    </tr>\n",
       "  </thead>\n",
       "  <tbody>\n",
       "    <tr>\n",
       "      <th>0</th>\n",
       "      <td>454776</td>\n",
       "      <td>MALE</td>\n",
       "      <td>JD</td>\n",
       "      <td>armed-forces</td>\n",
       "      <td>movies</td>\n",
       "      <td>56700</td>\n",
       "      <td>-48500</td>\n",
       "      <td>India</td>\n",
       "      <td>N</td>\n",
       "      <td>119121</td>\n",
       "      <td>49</td>\n",
       "      <td>1998-10-25</td>\n",
       "      <td>State1</td>\n",
       "      <td>100/300</td>\n",
       "      <td>1000</td>\n",
       "      <td>1632.73</td>\n",
       "      <td>0</td>\n",
       "      <td>not-in-family</td>\n",
       "      <td>VehicleID</td>\n",
       "      <td>Vehicle26917</td>\n",
       "    </tr>\n",
       "    <tr>\n",
       "      <th>1</th>\n",
       "      <td>454776</td>\n",
       "      <td>MALE</td>\n",
       "      <td>JD</td>\n",
       "      <td>armed-forces</td>\n",
       "      <td>movies</td>\n",
       "      <td>56700</td>\n",
       "      <td>-48500</td>\n",
       "      <td>India</td>\n",
       "      <td>N</td>\n",
       "      <td>119121</td>\n",
       "      <td>49</td>\n",
       "      <td>1998-10-25</td>\n",
       "      <td>State1</td>\n",
       "      <td>100/300</td>\n",
       "      <td>1000</td>\n",
       "      <td>1632.73</td>\n",
       "      <td>0</td>\n",
       "      <td>not-in-family</td>\n",
       "      <td>VehicleModel</td>\n",
       "      <td>A5</td>\n",
       "    </tr>\n",
       "    <tr>\n",
       "      <th>2</th>\n",
       "      <td>454776</td>\n",
       "      <td>MALE</td>\n",
       "      <td>JD</td>\n",
       "      <td>armed-forces</td>\n",
       "      <td>movies</td>\n",
       "      <td>56700</td>\n",
       "      <td>-48500</td>\n",
       "      <td>India</td>\n",
       "      <td>N</td>\n",
       "      <td>119121</td>\n",
       "      <td>49</td>\n",
       "      <td>1998-10-25</td>\n",
       "      <td>State1</td>\n",
       "      <td>100/300</td>\n",
       "      <td>1000</td>\n",
       "      <td>1632.73</td>\n",
       "      <td>0</td>\n",
       "      <td>not-in-family</td>\n",
       "      <td>VehicleYOM</td>\n",
       "      <td>2008</td>\n",
       "    </tr>\n",
       "    <tr>\n",
       "      <th>3</th>\n",
       "      <td>454776</td>\n",
       "      <td>MALE</td>\n",
       "      <td>JD</td>\n",
       "      <td>armed-forces</td>\n",
       "      <td>movies</td>\n",
       "      <td>56700</td>\n",
       "      <td>-48500</td>\n",
       "      <td>India</td>\n",
       "      <td>N</td>\n",
       "      <td>119121</td>\n",
       "      <td>49</td>\n",
       "      <td>1998-10-25</td>\n",
       "      <td>State1</td>\n",
       "      <td>100/300</td>\n",
       "      <td>1000</td>\n",
       "      <td>1632.73</td>\n",
       "      <td>0</td>\n",
       "      <td>not-in-family</td>\n",
       "      <td>VehicleMake</td>\n",
       "      <td>Audi</td>\n",
       "    </tr>\n",
       "    <tr>\n",
       "      <th>4</th>\n",
       "      <td>454776</td>\n",
       "      <td>MALE</td>\n",
       "      <td>JD</td>\n",
       "      <td>tech-support</td>\n",
       "      <td>cross-fit</td>\n",
       "      <td>70600</td>\n",
       "      <td>-48500</td>\n",
       "      <td>India</td>\n",
       "      <td>N</td>\n",
       "      <td>119122</td>\n",
       "      <td>114</td>\n",
       "      <td>2000-11-15</td>\n",
       "      <td>State1</td>\n",
       "      <td>100/300</td>\n",
       "      <td>1000</td>\n",
       "      <td>1255.19</td>\n",
       "      <td>0</td>\n",
       "      <td>not-in-family</td>\n",
       "      <td>VehicleYOM</td>\n",
       "      <td>2006</td>\n",
       "    </tr>\n",
       "  </tbody>\n",
       "</table>\n",
       "</div>"
      ],
      "text/plain": [
       "   InsuredZipCode InsuredGender InsuredEducationLevel InsuredOccupation  \\\n",
       "0          454776          MALE                    JD      armed-forces   \n",
       "1          454776          MALE                    JD      armed-forces   \n",
       "2          454776          MALE                    JD      armed-forces   \n",
       "3          454776          MALE                    JD      armed-forces   \n",
       "4          454776          MALE                    JD      tech-support   \n",
       "\n",
       "  InsuredHobbies  CapitalGains  CapitalLoss Country ReportedFraud  \\\n",
       "0         movies         56700       -48500   India             N   \n",
       "1         movies         56700       -48500   India             N   \n",
       "2         movies         56700       -48500   India             N   \n",
       "3         movies         56700       -48500   India             N   \n",
       "4      cross-fit         70600       -48500   India             N   \n",
       "\n",
       "   InsurancePolicyNumber  CustomerLoyaltyPeriod DateOfPolicyCoverage  \\\n",
       "0                 119121                     49           1998-10-25   \n",
       "1                 119121                     49           1998-10-25   \n",
       "2                 119121                     49           1998-10-25   \n",
       "3                 119121                     49           1998-10-25   \n",
       "4                 119122                    114           2000-11-15   \n",
       "\n",
       "  InsurancePolicyState Policy_CombinedSingleLimit  Policy_Deductible  \\\n",
       "0               State1                    100/300               1000   \n",
       "1               State1                    100/300               1000   \n",
       "2               State1                    100/300               1000   \n",
       "3               State1                    100/300               1000   \n",
       "4               State1                    100/300               1000   \n",
       "\n",
       "   PolicyAnnualPremium  UmbrellaLimit InsuredRelationship VehicleAttribute  \\\n",
       "0              1632.73              0       not-in-family        VehicleID   \n",
       "1              1632.73              0       not-in-family     VehicleModel   \n",
       "2              1632.73              0       not-in-family       VehicleYOM   \n",
       "3              1632.73              0       not-in-family      VehicleMake   \n",
       "4              1255.19              0       not-in-family       VehicleYOM   \n",
       "\n",
       "  VehicleAttributeDetails  \n",
       "0            Vehicle26917  \n",
       "1                      A5  \n",
       "2                    2008  \n",
       "3                    Audi  \n",
       "4                    2006  "
      ]
     },
     "execution_count": 14,
     "metadata": {},
     "output_type": "execute_result"
    }
   ],
   "source": [
    "data_09.iloc[:,20:].head()"
   ]
  },
  {
   "cell_type": "code",
   "execution_count": 15,
   "metadata": {},
   "outputs": [
    {
     "data": {
      "text/plain": [
       "InsuredGender    120\n",
       "Country            8\n",
       "dtype: int64"
      ]
     },
     "execution_count": 15,
     "metadata": {},
     "output_type": "execute_result"
    }
   ],
   "source": [
    "data_09.isnull().sum()[data_09.isnull().sum()>0]"
   ]
  },
  {
   "cell_type": "code",
   "execution_count": 16,
   "metadata": {},
   "outputs": [
    {
     "data": {
      "text/plain": [
       "FEMALE    62576\n",
       "MALE      52648\n",
       "Name: InsuredGender, dtype: int64"
      ]
     },
     "execution_count": 16,
     "metadata": {},
     "output_type": "execute_result"
    }
   ],
   "source": [
    "# Category of InsuredGender\n",
    "data_09['InsuredGender'].value_counts()"
   ]
  },
  {
   "cell_type": "code",
   "execution_count": 17,
   "metadata": {},
   "outputs": [
    {
     "data": {
      "text/plain": [
       "FEMALE    62644\n",
       "MALE      52700\n",
       "Name: InsuredGender, dtype: int64"
      ]
     },
     "execution_count": 17,
     "metadata": {},
     "output_type": "execute_result"
    }
   ],
   "source": [
    "# Forward fill of InsuredGender\n",
    "data_09['InsuredGender'].fillna(method='ffill', inplace=True)\n",
    "\n",
    "# Category of InsuredGender\n",
    "data_09['InsuredGender'].value_counts()"
   ]
  },
  {
   "cell_type": "code",
   "execution_count": 18,
   "metadata": {},
   "outputs": [
    {
     "data": {
      "text/plain": [
       "0    62644\n",
       "1    52700\n",
       "Name: InsuredGender, dtype: int64"
      ]
     },
     "execution_count": 18,
     "metadata": {},
     "output_type": "execute_result"
    }
   ],
   "source": [
    "# Label encoding of InsuredGender  \n",
    "from sklearn.preprocessing import LabelEncoder\n",
    "le = LabelEncoder()\n",
    "data_09['InsuredGender'] = le.fit_transform(data_09['InsuredGender'])\n",
    "data_09['InsuredGender'].value_counts()"
   ]
  },
  {
   "cell_type": "code",
   "execution_count": 19,
   "metadata": {},
   "outputs": [
    {
     "data": {
      "text/plain": [
       "India    115336\n",
       "Name: Country, dtype: int64"
      ]
     },
     "execution_count": 19,
     "metadata": {},
     "output_type": "execute_result"
    }
   ],
   "source": [
    "data_09['Country'].value_counts()"
   ]
  },
  {
   "cell_type": "code",
   "execution_count": 20,
   "metadata": {},
   "outputs": [],
   "source": [
    "# Dropping country column and storte the data in a new dataframe called data_10\n",
    "data_10=data_09.drop('Country',axis=1)"
   ]
  },
  {
   "cell_type": "code",
   "execution_count": 21,
   "metadata": {},
   "outputs": [
    {
     "name": "stdout",
     "output_type": "stream",
     "text": [
      "<class 'pandas.core.frame.DataFrame'>\n",
      "Int64Index: 115344 entries, 0 to 115343\n",
      "Data columns (total 20 columns):\n",
      " #   Column                 Non-Null Count   Dtype \n",
      "---  ------                 --------------   ----- \n",
      " 0   CustomerID             115344 non-null  object\n",
      " 1   DateOfIncident         115344 non-null  object\n",
      " 2   TypeOfIncident         115344 non-null  object\n",
      " 3   TypeOfCollission       115344 non-null  object\n",
      " 4   SeverityOfIncident     115344 non-null  object\n",
      " 5   AuthoritiesContacted   115344 non-null  object\n",
      " 6   IncidentState          115344 non-null  object\n",
      " 7   IncidentCity           115344 non-null  object\n",
      " 8   IncidentAddress        115344 non-null  object\n",
      " 9   IncidentTime           115344 non-null  int64 \n",
      " 10  NumberOfVehicles       115344 non-null  int64 \n",
      " 11  PropertyDamage         115344 non-null  object\n",
      " 12  BodilyInjuries         115344 non-null  int64 \n",
      " 13  Witnesses              115344 non-null  object\n",
      " 14  PoliceReport           115344 non-null  object\n",
      " 15  AmountOfTotalClaim     115344 non-null  object\n",
      " 16  AmountOfInjuryClaim    115344 non-null  int64 \n",
      " 17  AmountOfPropertyClaim  115344 non-null  int64 \n",
      " 18  AmountOfVehicleDamage  115344 non-null  int64 \n",
      " 19  InsuredAge             115344 non-null  int64 \n",
      "dtypes: int64(7), object(13)\n",
      "memory usage: 18.5+ MB\n"
     ]
    }
   ],
   "source": [
    "data_10.iloc[:,0:20].info()"
   ]
  },
  {
   "cell_type": "code",
   "execution_count": 22,
   "metadata": {},
   "outputs": [
    {
     "data": {
      "text/plain": [
       "(115344, 39)"
      ]
     },
     "execution_count": 22,
     "metadata": {},
     "output_type": "execute_result"
    }
   ],
   "source": [
    "data_10.shape"
   ]
  },
  {
   "cell_type": "code",
   "execution_count": 23,
   "metadata": {},
   "outputs": [
    {
     "name": "stdout",
     "output_type": "stream",
     "text": [
      "<class 'pandas.core.frame.DataFrame'>\n",
      "Int64Index: 115344 entries, 0 to 115343\n",
      "Data columns (total 19 columns):\n",
      " #   Column                      Non-Null Count   Dtype  \n",
      "---  ------                      --------------   -----  \n",
      " 0   InsuredZipCode              115344 non-null  int64  \n",
      " 1   InsuredGender               115344 non-null  int32  \n",
      " 2   InsuredEducationLevel       115344 non-null  object \n",
      " 3   InsuredOccupation           115344 non-null  object \n",
      " 4   InsuredHobbies              115344 non-null  object \n",
      " 5   CapitalGains                115344 non-null  int64  \n",
      " 6   CapitalLoss                 115344 non-null  int64  \n",
      " 7   ReportedFraud               115344 non-null  object \n",
      " 8   InsurancePolicyNumber       115344 non-null  int64  \n",
      " 9   CustomerLoyaltyPeriod       115344 non-null  int64  \n",
      " 10  DateOfPolicyCoverage        115344 non-null  object \n",
      " 11  InsurancePolicyState        115344 non-null  object \n",
      " 12  Policy_CombinedSingleLimit  115344 non-null  object \n",
      " 13  Policy_Deductible           115344 non-null  int64  \n",
      " 14  PolicyAnnualPremium         115344 non-null  float64\n",
      " 15  UmbrellaLimit               115344 non-null  int64  \n",
      " 16  InsuredRelationship         115344 non-null  object \n",
      " 17  VehicleAttribute            115344 non-null  object \n",
      " 18  VehicleAttributeDetails     115344 non-null  object \n",
      "dtypes: float64(1), int32(1), int64(7), object(10)\n",
      "memory usage: 17.2+ MB\n"
     ]
    }
   ],
   "source": [
    "data_10.iloc[:,20:].info()"
   ]
  },
  {
   "cell_type": "code",
   "execution_count": 24,
   "metadata": {},
   "outputs": [
    {
     "data": {
      "text/plain": [
       "VehicleID       28836\n",
       "VehicleModel    28836\n",
       "VehicleYOM      28836\n",
       "VehicleMake     28836\n",
       "Name: VehicleAttribute, dtype: int64"
      ]
     },
     "execution_count": 24,
     "metadata": {},
     "output_type": "execute_result"
    }
   ],
   "source": [
    "data_10['VehicleAttribute'].value_counts()"
   ]
  },
  {
   "cell_type": "code",
   "execution_count": 25,
   "metadata": {},
   "outputs": [],
   "source": [
    "# Dropping \"vehicleID\" from \"VehicleAttribute\n",
    "data_11=data_10[data_10.VehicleAttribute != 'VehicleID']"
   ]
  },
  {
   "cell_type": "code",
   "execution_count": 26,
   "metadata": {},
   "outputs": [
    {
     "data": {
      "text/plain": [
       "(86508, 39)"
      ]
     },
     "execution_count": 26,
     "metadata": {},
     "output_type": "execute_result"
    }
   ],
   "source": [
    "data_11.shape"
   ]
  },
  {
   "cell_type": "code",
   "execution_count": 27,
   "metadata": {},
   "outputs": [],
   "source": [
    "# Dropping \"vehicleModel\" from \"VehicleAttribute\n",
    "data_12=data_11[data_11.VehicleAttribute != 'VehicleModel']"
   ]
  },
  {
   "cell_type": "code",
   "execution_count": 28,
   "metadata": {},
   "outputs": [
    {
     "data": {
      "text/plain": [
       "(57672, 39)"
      ]
     },
     "execution_count": 28,
     "metadata": {},
     "output_type": "execute_result"
    }
   ],
   "source": [
    "data_12.shape"
   ]
  },
  {
   "cell_type": "code",
   "execution_count": 29,
   "metadata": {},
   "outputs": [
    {
     "data": {
      "text/html": [
       "<div>\n",
       "<style scoped>\n",
       "    .dataframe tbody tr th:only-of-type {\n",
       "        vertical-align: middle;\n",
       "    }\n",
       "\n",
       "    .dataframe tbody tr th {\n",
       "        vertical-align: top;\n",
       "    }\n",
       "\n",
       "    .dataframe thead th {\n",
       "        text-align: right;\n",
       "    }\n",
       "</style>\n",
       "<table border=\"1\" class=\"dataframe\">\n",
       "  <thead>\n",
       "    <tr style=\"text-align: right;\">\n",
       "      <th></th>\n",
       "      <th>CustomerID</th>\n",
       "      <th>DateOfIncident</th>\n",
       "      <th>TypeOfIncident</th>\n",
       "      <th>TypeOfCollission</th>\n",
       "      <th>SeverityOfIncident</th>\n",
       "      <th>AuthoritiesContacted</th>\n",
       "      <th>IncidentState</th>\n",
       "      <th>IncidentCity</th>\n",
       "      <th>IncidentAddress</th>\n",
       "      <th>IncidentTime</th>\n",
       "      <th>...</th>\n",
       "      <th>CustomerLoyaltyPeriod</th>\n",
       "      <th>DateOfPolicyCoverage</th>\n",
       "      <th>InsurancePolicyState</th>\n",
       "      <th>Policy_CombinedSingleLimit</th>\n",
       "      <th>Policy_Deductible</th>\n",
       "      <th>PolicyAnnualPremium</th>\n",
       "      <th>UmbrellaLimit</th>\n",
       "      <th>InsuredRelationship</th>\n",
       "      <th>VehicleAttribute</th>\n",
       "      <th>VehicleAttributeDetails</th>\n",
       "    </tr>\n",
       "  </thead>\n",
       "  <tbody>\n",
       "    <tr>\n",
       "      <th>2</th>\n",
       "      <td>Cust10000</td>\n",
       "      <td>2015-02-03</td>\n",
       "      <td>Multi-vehicle Collision</td>\n",
       "      <td>Side Collision</td>\n",
       "      <td>Total Loss</td>\n",
       "      <td>Police</td>\n",
       "      <td>State7</td>\n",
       "      <td>City1</td>\n",
       "      <td>Location 1311</td>\n",
       "      <td>17</td>\n",
       "      <td>...</td>\n",
       "      <td>49</td>\n",
       "      <td>1998-10-25</td>\n",
       "      <td>State1</td>\n",
       "      <td>100/300</td>\n",
       "      <td>1000</td>\n",
       "      <td>1632.73</td>\n",
       "      <td>0</td>\n",
       "      <td>not-in-family</td>\n",
       "      <td>VehicleYOM</td>\n",
       "      <td>2008</td>\n",
       "    </tr>\n",
       "    <tr>\n",
       "      <th>3</th>\n",
       "      <td>Cust10000</td>\n",
       "      <td>2015-02-03</td>\n",
       "      <td>Multi-vehicle Collision</td>\n",
       "      <td>Side Collision</td>\n",
       "      <td>Total Loss</td>\n",
       "      <td>Police</td>\n",
       "      <td>State7</td>\n",
       "      <td>City1</td>\n",
       "      <td>Location 1311</td>\n",
       "      <td>17</td>\n",
       "      <td>...</td>\n",
       "      <td>49</td>\n",
       "      <td>1998-10-25</td>\n",
       "      <td>State1</td>\n",
       "      <td>100/300</td>\n",
       "      <td>1000</td>\n",
       "      <td>1632.73</td>\n",
       "      <td>0</td>\n",
       "      <td>not-in-family</td>\n",
       "      <td>VehicleMake</td>\n",
       "      <td>Audi</td>\n",
       "    </tr>\n",
       "    <tr>\n",
       "      <th>4</th>\n",
       "      <td>Cust10001</td>\n",
       "      <td>2015-02-02</td>\n",
       "      <td>Multi-vehicle Collision</td>\n",
       "      <td>Side Collision</td>\n",
       "      <td>Total Loss</td>\n",
       "      <td>Police</td>\n",
       "      <td>State7</td>\n",
       "      <td>City5</td>\n",
       "      <td>Location 1311</td>\n",
       "      <td>10</td>\n",
       "      <td>...</td>\n",
       "      <td>114</td>\n",
       "      <td>2000-11-15</td>\n",
       "      <td>State1</td>\n",
       "      <td>100/300</td>\n",
       "      <td>1000</td>\n",
       "      <td>1255.19</td>\n",
       "      <td>0</td>\n",
       "      <td>not-in-family</td>\n",
       "      <td>VehicleYOM</td>\n",
       "      <td>2006</td>\n",
       "    </tr>\n",
       "    <tr>\n",
       "      <th>7</th>\n",
       "      <td>Cust10001</td>\n",
       "      <td>2015-02-02</td>\n",
       "      <td>Multi-vehicle Collision</td>\n",
       "      <td>Side Collision</td>\n",
       "      <td>Total Loss</td>\n",
       "      <td>Police</td>\n",
       "      <td>State7</td>\n",
       "      <td>City5</td>\n",
       "      <td>Location 1311</td>\n",
       "      <td>10</td>\n",
       "      <td>...</td>\n",
       "      <td>114</td>\n",
       "      <td>2000-11-15</td>\n",
       "      <td>State1</td>\n",
       "      <td>100/300</td>\n",
       "      <td>1000</td>\n",
       "      <td>1255.19</td>\n",
       "      <td>0</td>\n",
       "      <td>not-in-family</td>\n",
       "      <td>VehicleMake</td>\n",
       "      <td>Audi</td>\n",
       "    </tr>\n",
       "    <tr>\n",
       "      <th>10</th>\n",
       "      <td>Cust10002</td>\n",
       "      <td>2015-01-15</td>\n",
       "      <td>Single Vehicle Collision</td>\n",
       "      <td>Side Collision</td>\n",
       "      <td>Minor Damage</td>\n",
       "      <td>Other</td>\n",
       "      <td>State8</td>\n",
       "      <td>City6</td>\n",
       "      <td>Location 2081</td>\n",
       "      <td>22</td>\n",
       "      <td>...</td>\n",
       "      <td>167</td>\n",
       "      <td>2001-02-12</td>\n",
       "      <td>State3</td>\n",
       "      <td>500/1000</td>\n",
       "      <td>617</td>\n",
       "      <td>1373.38</td>\n",
       "      <td>0</td>\n",
       "      <td>wife</td>\n",
       "      <td>VehicleYOM</td>\n",
       "      <td>1999</td>\n",
       "    </tr>\n",
       "  </tbody>\n",
       "</table>\n",
       "<p>5 rows × 39 columns</p>\n",
       "</div>"
      ],
      "text/plain": [
       "   CustomerID DateOfIncident            TypeOfIncident TypeOfCollission  \\\n",
       "2   Cust10000     2015-02-03   Multi-vehicle Collision   Side Collision   \n",
       "3   Cust10000     2015-02-03   Multi-vehicle Collision   Side Collision   \n",
       "4   Cust10001     2015-02-02   Multi-vehicle Collision   Side Collision   \n",
       "7   Cust10001     2015-02-02   Multi-vehicle Collision   Side Collision   \n",
       "10  Cust10002     2015-01-15  Single Vehicle Collision   Side Collision   \n",
       "\n",
       "   SeverityOfIncident AuthoritiesContacted IncidentState IncidentCity  \\\n",
       "2          Total Loss               Police        State7        City1   \n",
       "3          Total Loss               Police        State7        City1   \n",
       "4          Total Loss               Police        State7        City5   \n",
       "7          Total Loss               Police        State7        City5   \n",
       "10       Minor Damage                Other        State8        City6   \n",
       "\n",
       "   IncidentAddress  IncidentTime  ...  CustomerLoyaltyPeriod  \\\n",
       "2    Location 1311            17  ...                     49   \n",
       "3    Location 1311            17  ...                     49   \n",
       "4    Location 1311            10  ...                    114   \n",
       "7    Location 1311            10  ...                    114   \n",
       "10   Location 2081            22  ...                    167   \n",
       "\n",
       "   DateOfPolicyCoverage  InsurancePolicyState Policy_CombinedSingleLimit  \\\n",
       "2            1998-10-25                State1                    100/300   \n",
       "3            1998-10-25                State1                    100/300   \n",
       "4            2000-11-15                State1                    100/300   \n",
       "7            2000-11-15                State1                    100/300   \n",
       "10           2001-02-12                State3                   500/1000   \n",
       "\n",
       "   Policy_Deductible PolicyAnnualPremium  UmbrellaLimit  InsuredRelationship  \\\n",
       "2               1000             1632.73              0        not-in-family   \n",
       "3               1000             1632.73              0        not-in-family   \n",
       "4               1000             1255.19              0        not-in-family   \n",
       "7               1000             1255.19              0        not-in-family   \n",
       "10               617             1373.38              0                 wife   \n",
       "\n",
       "    VehicleAttribute  VehicleAttributeDetails  \n",
       "2         VehicleYOM                     2008  \n",
       "3        VehicleMake                     Audi  \n",
       "4         VehicleYOM                     2006  \n",
       "7        VehicleMake                     Audi  \n",
       "10        VehicleYOM                     1999  \n",
       "\n",
       "[5 rows x 39 columns]"
      ]
     },
     "execution_count": 29,
     "metadata": {},
     "output_type": "execute_result"
    }
   ],
   "source": [
    "data_12.head()"
   ]
  },
  {
   "cell_type": "code",
   "execution_count": 30,
   "metadata": {},
   "outputs": [],
   "source": [
    "# Pivot table \n",
    "data_13=data_12.pivot(index='CustomerID', columns='VehicleAttribute', values='VehicleAttributeDetails')"
   ]
  },
  {
   "cell_type": "code",
   "execution_count": 31,
   "metadata": {},
   "outputs": [
    {
     "data": {
      "text/html": [
       "<div>\n",
       "<style scoped>\n",
       "    .dataframe tbody tr th:only-of-type {\n",
       "        vertical-align: middle;\n",
       "    }\n",
       "\n",
       "    .dataframe tbody tr th {\n",
       "        vertical-align: top;\n",
       "    }\n",
       "\n",
       "    .dataframe thead th {\n",
       "        text-align: right;\n",
       "    }\n",
       "</style>\n",
       "<table border=\"1\" class=\"dataframe\">\n",
       "  <thead>\n",
       "    <tr style=\"text-align: right;\">\n",
       "      <th>VehicleAttribute</th>\n",
       "      <th>VehicleMake</th>\n",
       "      <th>VehicleYOM</th>\n",
       "    </tr>\n",
       "    <tr>\n",
       "      <th>CustomerID</th>\n",
       "      <th></th>\n",
       "      <th></th>\n",
       "    </tr>\n",
       "  </thead>\n",
       "  <tbody>\n",
       "    <tr>\n",
       "      <th>Cust10000</th>\n",
       "      <td>Audi</td>\n",
       "      <td>2008</td>\n",
       "    </tr>\n",
       "    <tr>\n",
       "      <th>Cust10001</th>\n",
       "      <td>Audi</td>\n",
       "      <td>2006</td>\n",
       "    </tr>\n",
       "    <tr>\n",
       "      <th>Cust10002</th>\n",
       "      <td>Volkswagen</td>\n",
       "      <td>1999</td>\n",
       "    </tr>\n",
       "    <tr>\n",
       "      <th>Cust10003</th>\n",
       "      <td>Volkswagen</td>\n",
       "      <td>2003</td>\n",
       "    </tr>\n",
       "    <tr>\n",
       "      <th>Cust10004</th>\n",
       "      <td>Toyota</td>\n",
       "      <td>2010</td>\n",
       "    </tr>\n",
       "  </tbody>\n",
       "</table>\n",
       "</div>"
      ],
      "text/plain": [
       "VehicleAttribute VehicleMake VehicleYOM\n",
       "CustomerID                             \n",
       "Cust10000               Audi       2008\n",
       "Cust10001               Audi       2006\n",
       "Cust10002         Volkswagen       1999\n",
       "Cust10003         Volkswagen       2003\n",
       "Cust10004             Toyota       2010"
      ]
     },
     "execution_count": 31,
     "metadata": {},
     "output_type": "execute_result"
    }
   ],
   "source": [
    "data_13.head()"
   ]
  },
  {
   "cell_type": "code",
   "execution_count": 32,
   "metadata": {},
   "outputs": [],
   "source": [
    "# Crating dataframe from data_13\n",
    "data_14=data_13.reset_index()"
   ]
  },
  {
   "cell_type": "code",
   "execution_count": 33,
   "metadata": {},
   "outputs": [
    {
     "data": {
      "text/html": [
       "<div>\n",
       "<style scoped>\n",
       "    .dataframe tbody tr th:only-of-type {\n",
       "        vertical-align: middle;\n",
       "    }\n",
       "\n",
       "    .dataframe tbody tr th {\n",
       "        vertical-align: top;\n",
       "    }\n",
       "\n",
       "    .dataframe thead th {\n",
       "        text-align: right;\n",
       "    }\n",
       "</style>\n",
       "<table border=\"1\" class=\"dataframe\">\n",
       "  <thead>\n",
       "    <tr style=\"text-align: right;\">\n",
       "      <th>VehicleAttribute</th>\n",
       "      <th>CustomerID</th>\n",
       "      <th>VehicleMake</th>\n",
       "      <th>VehicleYOM</th>\n",
       "    </tr>\n",
       "  </thead>\n",
       "  <tbody>\n",
       "    <tr>\n",
       "      <th>0</th>\n",
       "      <td>Cust10000</td>\n",
       "      <td>Audi</td>\n",
       "      <td>2008</td>\n",
       "    </tr>\n",
       "    <tr>\n",
       "      <th>1</th>\n",
       "      <td>Cust10001</td>\n",
       "      <td>Audi</td>\n",
       "      <td>2006</td>\n",
       "    </tr>\n",
       "    <tr>\n",
       "      <th>2</th>\n",
       "      <td>Cust10002</td>\n",
       "      <td>Volkswagen</td>\n",
       "      <td>1999</td>\n",
       "    </tr>\n",
       "    <tr>\n",
       "      <th>3</th>\n",
       "      <td>Cust10003</td>\n",
       "      <td>Volkswagen</td>\n",
       "      <td>2003</td>\n",
       "    </tr>\n",
       "    <tr>\n",
       "      <th>4</th>\n",
       "      <td>Cust10004</td>\n",
       "      <td>Toyota</td>\n",
       "      <td>2010</td>\n",
       "    </tr>\n",
       "  </tbody>\n",
       "</table>\n",
       "</div>"
      ],
      "text/plain": [
       "VehicleAttribute CustomerID VehicleMake VehicleYOM\n",
       "0                 Cust10000        Audi       2008\n",
       "1                 Cust10001        Audi       2006\n",
       "2                 Cust10002  Volkswagen       1999\n",
       "3                 Cust10003  Volkswagen       2003\n",
       "4                 Cust10004      Toyota       2010"
      ]
     },
     "execution_count": 33,
     "metadata": {},
     "output_type": "execute_result"
    }
   ],
   "source": [
    "data_14.head()"
   ]
  },
  {
   "cell_type": "code",
   "execution_count": 34,
   "metadata": {},
   "outputs": [],
   "source": [
    "# Dropping \"VehicleAttribute\" column and \"VehicleAttributeDetails\" column from data_12\n",
    "data_15=data_12.drop(['VehicleAttribute','VehicleAttributeDetails'],axis=1)"
   ]
  },
  {
   "cell_type": "code",
   "execution_count": 35,
   "metadata": {},
   "outputs": [
    {
     "data": {
      "text/html": [
       "<div>\n",
       "<style scoped>\n",
       "    .dataframe tbody tr th:only-of-type {\n",
       "        vertical-align: middle;\n",
       "    }\n",
       "\n",
       "    .dataframe tbody tr th {\n",
       "        vertical-align: top;\n",
       "    }\n",
       "\n",
       "    .dataframe thead th {\n",
       "        text-align: right;\n",
       "    }\n",
       "</style>\n",
       "<table border=\"1\" class=\"dataframe\">\n",
       "  <thead>\n",
       "    <tr style=\"text-align: right;\">\n",
       "      <th></th>\n",
       "      <th>CustomerID</th>\n",
       "      <th>DateOfIncident</th>\n",
       "      <th>TypeOfIncident</th>\n",
       "      <th>TypeOfCollission</th>\n",
       "      <th>SeverityOfIncident</th>\n",
       "      <th>AuthoritiesContacted</th>\n",
       "      <th>IncidentState</th>\n",
       "      <th>IncidentCity</th>\n",
       "      <th>IncidentAddress</th>\n",
       "      <th>IncidentTime</th>\n",
       "      <th>...</th>\n",
       "      <th>ReportedFraud</th>\n",
       "      <th>InsurancePolicyNumber</th>\n",
       "      <th>CustomerLoyaltyPeriod</th>\n",
       "      <th>DateOfPolicyCoverage</th>\n",
       "      <th>InsurancePolicyState</th>\n",
       "      <th>Policy_CombinedSingleLimit</th>\n",
       "      <th>Policy_Deductible</th>\n",
       "      <th>PolicyAnnualPremium</th>\n",
       "      <th>UmbrellaLimit</th>\n",
       "      <th>InsuredRelationship</th>\n",
       "    </tr>\n",
       "  </thead>\n",
       "  <tbody>\n",
       "    <tr>\n",
       "      <th>2</th>\n",
       "      <td>Cust10000</td>\n",
       "      <td>2015-02-03</td>\n",
       "      <td>Multi-vehicle Collision</td>\n",
       "      <td>Side Collision</td>\n",
       "      <td>Total Loss</td>\n",
       "      <td>Police</td>\n",
       "      <td>State7</td>\n",
       "      <td>City1</td>\n",
       "      <td>Location 1311</td>\n",
       "      <td>17</td>\n",
       "      <td>...</td>\n",
       "      <td>N</td>\n",
       "      <td>119121</td>\n",
       "      <td>49</td>\n",
       "      <td>1998-10-25</td>\n",
       "      <td>State1</td>\n",
       "      <td>100/300</td>\n",
       "      <td>1000</td>\n",
       "      <td>1632.73</td>\n",
       "      <td>0</td>\n",
       "      <td>not-in-family</td>\n",
       "    </tr>\n",
       "    <tr>\n",
       "      <th>3</th>\n",
       "      <td>Cust10000</td>\n",
       "      <td>2015-02-03</td>\n",
       "      <td>Multi-vehicle Collision</td>\n",
       "      <td>Side Collision</td>\n",
       "      <td>Total Loss</td>\n",
       "      <td>Police</td>\n",
       "      <td>State7</td>\n",
       "      <td>City1</td>\n",
       "      <td>Location 1311</td>\n",
       "      <td>17</td>\n",
       "      <td>...</td>\n",
       "      <td>N</td>\n",
       "      <td>119121</td>\n",
       "      <td>49</td>\n",
       "      <td>1998-10-25</td>\n",
       "      <td>State1</td>\n",
       "      <td>100/300</td>\n",
       "      <td>1000</td>\n",
       "      <td>1632.73</td>\n",
       "      <td>0</td>\n",
       "      <td>not-in-family</td>\n",
       "    </tr>\n",
       "    <tr>\n",
       "      <th>4</th>\n",
       "      <td>Cust10001</td>\n",
       "      <td>2015-02-02</td>\n",
       "      <td>Multi-vehicle Collision</td>\n",
       "      <td>Side Collision</td>\n",
       "      <td>Total Loss</td>\n",
       "      <td>Police</td>\n",
       "      <td>State7</td>\n",
       "      <td>City5</td>\n",
       "      <td>Location 1311</td>\n",
       "      <td>10</td>\n",
       "      <td>...</td>\n",
       "      <td>N</td>\n",
       "      <td>119122</td>\n",
       "      <td>114</td>\n",
       "      <td>2000-11-15</td>\n",
       "      <td>State1</td>\n",
       "      <td>100/300</td>\n",
       "      <td>1000</td>\n",
       "      <td>1255.19</td>\n",
       "      <td>0</td>\n",
       "      <td>not-in-family</td>\n",
       "    </tr>\n",
       "    <tr>\n",
       "      <th>7</th>\n",
       "      <td>Cust10001</td>\n",
       "      <td>2015-02-02</td>\n",
       "      <td>Multi-vehicle Collision</td>\n",
       "      <td>Side Collision</td>\n",
       "      <td>Total Loss</td>\n",
       "      <td>Police</td>\n",
       "      <td>State7</td>\n",
       "      <td>City5</td>\n",
       "      <td>Location 1311</td>\n",
       "      <td>10</td>\n",
       "      <td>...</td>\n",
       "      <td>N</td>\n",
       "      <td>119122</td>\n",
       "      <td>114</td>\n",
       "      <td>2000-11-15</td>\n",
       "      <td>State1</td>\n",
       "      <td>100/300</td>\n",
       "      <td>1000</td>\n",
       "      <td>1255.19</td>\n",
       "      <td>0</td>\n",
       "      <td>not-in-family</td>\n",
       "    </tr>\n",
       "    <tr>\n",
       "      <th>10</th>\n",
       "      <td>Cust10002</td>\n",
       "      <td>2015-01-15</td>\n",
       "      <td>Single Vehicle Collision</td>\n",
       "      <td>Side Collision</td>\n",
       "      <td>Minor Damage</td>\n",
       "      <td>Other</td>\n",
       "      <td>State8</td>\n",
       "      <td>City6</td>\n",
       "      <td>Location 2081</td>\n",
       "      <td>22</td>\n",
       "      <td>...</td>\n",
       "      <td>N</td>\n",
       "      <td>119123</td>\n",
       "      <td>167</td>\n",
       "      <td>2001-02-12</td>\n",
       "      <td>State3</td>\n",
       "      <td>500/1000</td>\n",
       "      <td>617</td>\n",
       "      <td>1373.38</td>\n",
       "      <td>0</td>\n",
       "      <td>wife</td>\n",
       "    </tr>\n",
       "  </tbody>\n",
       "</table>\n",
       "<p>5 rows × 37 columns</p>\n",
       "</div>"
      ],
      "text/plain": [
       "   CustomerID DateOfIncident            TypeOfIncident TypeOfCollission  \\\n",
       "2   Cust10000     2015-02-03   Multi-vehicle Collision   Side Collision   \n",
       "3   Cust10000     2015-02-03   Multi-vehicle Collision   Side Collision   \n",
       "4   Cust10001     2015-02-02   Multi-vehicle Collision   Side Collision   \n",
       "7   Cust10001     2015-02-02   Multi-vehicle Collision   Side Collision   \n",
       "10  Cust10002     2015-01-15  Single Vehicle Collision   Side Collision   \n",
       "\n",
       "   SeverityOfIncident AuthoritiesContacted IncidentState IncidentCity  \\\n",
       "2          Total Loss               Police        State7        City1   \n",
       "3          Total Loss               Police        State7        City1   \n",
       "4          Total Loss               Police        State7        City5   \n",
       "7          Total Loss               Police        State7        City5   \n",
       "10       Minor Damage                Other        State8        City6   \n",
       "\n",
       "   IncidentAddress  IncidentTime  ...  ReportedFraud InsurancePolicyNumber  \\\n",
       "2    Location 1311            17  ...              N                119121   \n",
       "3    Location 1311            17  ...              N                119121   \n",
       "4    Location 1311            10  ...              N                119122   \n",
       "7    Location 1311            10  ...              N                119122   \n",
       "10   Location 2081            22  ...              N                119123   \n",
       "\n",
       "    CustomerLoyaltyPeriod DateOfPolicyCoverage InsurancePolicyState  \\\n",
       "2                      49           1998-10-25               State1   \n",
       "3                      49           1998-10-25               State1   \n",
       "4                     114           2000-11-15               State1   \n",
       "7                     114           2000-11-15               State1   \n",
       "10                    167           2001-02-12               State3   \n",
       "\n",
       "   Policy_CombinedSingleLimit  Policy_Deductible  PolicyAnnualPremium  \\\n",
       "2                     100/300               1000              1632.73   \n",
       "3                     100/300               1000              1632.73   \n",
       "4                     100/300               1000              1255.19   \n",
       "7                     100/300               1000              1255.19   \n",
       "10                   500/1000                617              1373.38   \n",
       "\n",
       "    UmbrellaLimit  InsuredRelationship  \n",
       "2               0        not-in-family  \n",
       "3               0        not-in-family  \n",
       "4               0        not-in-family  \n",
       "7               0        not-in-family  \n",
       "10              0                 wife  \n",
       "\n",
       "[5 rows x 37 columns]"
      ]
     },
     "execution_count": 35,
     "metadata": {},
     "output_type": "execute_result"
    }
   ],
   "source": [
    "data_15.head()"
   ]
  },
  {
   "cell_type": "code",
   "execution_count": 36,
   "metadata": {},
   "outputs": [],
   "source": [
    "# Dropping duplicate rows in data_15\n",
    "data_16=data_15.drop_duplicates()"
   ]
  },
  {
   "cell_type": "code",
   "execution_count": 37,
   "metadata": {},
   "outputs": [
    {
     "data": {
      "text/html": [
       "<div>\n",
       "<style scoped>\n",
       "    .dataframe tbody tr th:only-of-type {\n",
       "        vertical-align: middle;\n",
       "    }\n",
       "\n",
       "    .dataframe tbody tr th {\n",
       "        vertical-align: top;\n",
       "    }\n",
       "\n",
       "    .dataframe thead th {\n",
       "        text-align: right;\n",
       "    }\n",
       "</style>\n",
       "<table border=\"1\" class=\"dataframe\">\n",
       "  <thead>\n",
       "    <tr style=\"text-align: right;\">\n",
       "      <th></th>\n",
       "      <th>CustomerID</th>\n",
       "      <th>DateOfIncident</th>\n",
       "      <th>TypeOfIncident</th>\n",
       "      <th>TypeOfCollission</th>\n",
       "      <th>SeverityOfIncident</th>\n",
       "      <th>AuthoritiesContacted</th>\n",
       "      <th>IncidentState</th>\n",
       "      <th>IncidentCity</th>\n",
       "      <th>IncidentAddress</th>\n",
       "      <th>IncidentTime</th>\n",
       "      <th>...</th>\n",
       "      <th>ReportedFraud</th>\n",
       "      <th>InsurancePolicyNumber</th>\n",
       "      <th>CustomerLoyaltyPeriod</th>\n",
       "      <th>DateOfPolicyCoverage</th>\n",
       "      <th>InsurancePolicyState</th>\n",
       "      <th>Policy_CombinedSingleLimit</th>\n",
       "      <th>Policy_Deductible</th>\n",
       "      <th>PolicyAnnualPremium</th>\n",
       "      <th>UmbrellaLimit</th>\n",
       "      <th>InsuredRelationship</th>\n",
       "    </tr>\n",
       "  </thead>\n",
       "  <tbody>\n",
       "    <tr>\n",
       "      <th>2</th>\n",
       "      <td>Cust10000</td>\n",
       "      <td>2015-02-03</td>\n",
       "      <td>Multi-vehicle Collision</td>\n",
       "      <td>Side Collision</td>\n",
       "      <td>Total Loss</td>\n",
       "      <td>Police</td>\n",
       "      <td>State7</td>\n",
       "      <td>City1</td>\n",
       "      <td>Location 1311</td>\n",
       "      <td>17</td>\n",
       "      <td>...</td>\n",
       "      <td>N</td>\n",
       "      <td>119121</td>\n",
       "      <td>49</td>\n",
       "      <td>1998-10-25</td>\n",
       "      <td>State1</td>\n",
       "      <td>100/300</td>\n",
       "      <td>1000</td>\n",
       "      <td>1632.73</td>\n",
       "      <td>0</td>\n",
       "      <td>not-in-family</td>\n",
       "    </tr>\n",
       "    <tr>\n",
       "      <th>4</th>\n",
       "      <td>Cust10001</td>\n",
       "      <td>2015-02-02</td>\n",
       "      <td>Multi-vehicle Collision</td>\n",
       "      <td>Side Collision</td>\n",
       "      <td>Total Loss</td>\n",
       "      <td>Police</td>\n",
       "      <td>State7</td>\n",
       "      <td>City5</td>\n",
       "      <td>Location 1311</td>\n",
       "      <td>10</td>\n",
       "      <td>...</td>\n",
       "      <td>N</td>\n",
       "      <td>119122</td>\n",
       "      <td>114</td>\n",
       "      <td>2000-11-15</td>\n",
       "      <td>State1</td>\n",
       "      <td>100/300</td>\n",
       "      <td>1000</td>\n",
       "      <td>1255.19</td>\n",
       "      <td>0</td>\n",
       "      <td>not-in-family</td>\n",
       "    </tr>\n",
       "    <tr>\n",
       "      <th>10</th>\n",
       "      <td>Cust10002</td>\n",
       "      <td>2015-01-15</td>\n",
       "      <td>Single Vehicle Collision</td>\n",
       "      <td>Side Collision</td>\n",
       "      <td>Minor Damage</td>\n",
       "      <td>Other</td>\n",
       "      <td>State8</td>\n",
       "      <td>City6</td>\n",
       "      <td>Location 2081</td>\n",
       "      <td>22</td>\n",
       "      <td>...</td>\n",
       "      <td>N</td>\n",
       "      <td>119123</td>\n",
       "      <td>167</td>\n",
       "      <td>2001-02-12</td>\n",
       "      <td>State3</td>\n",
       "      <td>500/1000</td>\n",
       "      <td>617</td>\n",
       "      <td>1373.38</td>\n",
       "      <td>0</td>\n",
       "      <td>wife</td>\n",
       "    </tr>\n",
       "    <tr>\n",
       "      <th>13</th>\n",
       "      <td>Cust10003</td>\n",
       "      <td>2015-01-19</td>\n",
       "      <td>Single Vehicle Collision</td>\n",
       "      <td>Side Collision</td>\n",
       "      <td>Minor Damage</td>\n",
       "      <td>Other</td>\n",
       "      <td>State9</td>\n",
       "      <td>City6</td>\n",
       "      <td>Location 2081</td>\n",
       "      <td>22</td>\n",
       "      <td>...</td>\n",
       "      <td>N</td>\n",
       "      <td>119124</td>\n",
       "      <td>190</td>\n",
       "      <td>2005-04-11</td>\n",
       "      <td>State2</td>\n",
       "      <td>500/1000</td>\n",
       "      <td>722</td>\n",
       "      <td>1337.60</td>\n",
       "      <td>0</td>\n",
       "      <td>own-child</td>\n",
       "    </tr>\n",
       "    <tr>\n",
       "      <th>17</th>\n",
       "      <td>Cust10004</td>\n",
       "      <td>2015-01-09</td>\n",
       "      <td>Single Vehicle Collision</td>\n",
       "      <td>Rear Collision</td>\n",
       "      <td>Minor Damage</td>\n",
       "      <td>Fire</td>\n",
       "      <td>State8</td>\n",
       "      <td>City6</td>\n",
       "      <td>Location 1695</td>\n",
       "      <td>10</td>\n",
       "      <td>...</td>\n",
       "      <td>N</td>\n",
       "      <td>119125</td>\n",
       "      <td>115</td>\n",
       "      <td>1996-10-25</td>\n",
       "      <td>State2</td>\n",
       "      <td>100/300</td>\n",
       "      <td>500</td>\n",
       "      <td>1353.73</td>\n",
       "      <td>4279863</td>\n",
       "      <td>unmarried</td>\n",
       "    </tr>\n",
       "  </tbody>\n",
       "</table>\n",
       "<p>5 rows × 37 columns</p>\n",
       "</div>"
      ],
      "text/plain": [
       "   CustomerID DateOfIncident            TypeOfIncident TypeOfCollission  \\\n",
       "2   Cust10000     2015-02-03   Multi-vehicle Collision   Side Collision   \n",
       "4   Cust10001     2015-02-02   Multi-vehicle Collision   Side Collision   \n",
       "10  Cust10002     2015-01-15  Single Vehicle Collision   Side Collision   \n",
       "13  Cust10003     2015-01-19  Single Vehicle Collision   Side Collision   \n",
       "17  Cust10004     2015-01-09  Single Vehicle Collision   Rear Collision   \n",
       "\n",
       "   SeverityOfIncident AuthoritiesContacted IncidentState IncidentCity  \\\n",
       "2          Total Loss               Police        State7        City1   \n",
       "4          Total Loss               Police        State7        City5   \n",
       "10       Minor Damage                Other        State8        City6   \n",
       "13       Minor Damage                Other        State9        City6   \n",
       "17       Minor Damage                 Fire        State8        City6   \n",
       "\n",
       "   IncidentAddress  IncidentTime  ...  ReportedFraud InsurancePolicyNumber  \\\n",
       "2    Location 1311            17  ...              N                119121   \n",
       "4    Location 1311            10  ...              N                119122   \n",
       "10   Location 2081            22  ...              N                119123   \n",
       "13   Location 2081            22  ...              N                119124   \n",
       "17   Location 1695            10  ...              N                119125   \n",
       "\n",
       "    CustomerLoyaltyPeriod DateOfPolicyCoverage InsurancePolicyState  \\\n",
       "2                      49           1998-10-25               State1   \n",
       "4                     114           2000-11-15               State1   \n",
       "10                    167           2001-02-12               State3   \n",
       "13                    190           2005-04-11               State2   \n",
       "17                    115           1996-10-25               State2   \n",
       "\n",
       "   Policy_CombinedSingleLimit  Policy_Deductible  PolicyAnnualPremium  \\\n",
       "2                     100/300               1000              1632.73   \n",
       "4                     100/300               1000              1255.19   \n",
       "10                   500/1000                617              1373.38   \n",
       "13                   500/1000                722              1337.60   \n",
       "17                    100/300                500              1353.73   \n",
       "\n",
       "    UmbrellaLimit  InsuredRelationship  \n",
       "2               0        not-in-family  \n",
       "4               0        not-in-family  \n",
       "10              0                 wife  \n",
       "13              0            own-child  \n",
       "17        4279863            unmarried  \n",
       "\n",
       "[5 rows x 37 columns]"
      ]
     },
     "execution_count": 37,
     "metadata": {},
     "output_type": "execute_result"
    }
   ],
   "source": [
    "data_16.head()"
   ]
  },
  {
   "cell_type": "code",
   "execution_count": 38,
   "metadata": {},
   "outputs": [
    {
     "data": {
      "text/plain": [
       "(28836, 37)"
      ]
     },
     "execution_count": 38,
     "metadata": {},
     "output_type": "execute_result"
    }
   ],
   "source": [
    "data_16.shape"
   ]
  },
  {
   "cell_type": "code",
   "execution_count": 39,
   "metadata": {},
   "outputs": [
    {
     "data": {
      "text/plain": [
       "(28836, 3)"
      ]
     },
     "execution_count": 39,
     "metadata": {},
     "output_type": "execute_result"
    }
   ],
   "source": [
    "data_14.shape"
   ]
  },
  {
   "cell_type": "code",
   "execution_count": 40,
   "metadata": {},
   "outputs": [],
   "source": [
    "# Joining data_16 and data_14\n",
    "data_17 = pd.merge(data_16, data_14, on='CustomerID', how='outer')"
   ]
  },
  {
   "cell_type": "code",
   "execution_count": 41,
   "metadata": {},
   "outputs": [
    {
     "data": {
      "text/html": [
       "<div>\n",
       "<style scoped>\n",
       "    .dataframe tbody tr th:only-of-type {\n",
       "        vertical-align: middle;\n",
       "    }\n",
       "\n",
       "    .dataframe tbody tr th {\n",
       "        vertical-align: top;\n",
       "    }\n",
       "\n",
       "    .dataframe thead th {\n",
       "        text-align: right;\n",
       "    }\n",
       "</style>\n",
       "<table border=\"1\" class=\"dataframe\">\n",
       "  <thead>\n",
       "    <tr style=\"text-align: right;\">\n",
       "      <th></th>\n",
       "      <th>CustomerID</th>\n",
       "      <th>DateOfIncident</th>\n",
       "      <th>TypeOfIncident</th>\n",
       "      <th>TypeOfCollission</th>\n",
       "      <th>SeverityOfIncident</th>\n",
       "      <th>AuthoritiesContacted</th>\n",
       "      <th>IncidentState</th>\n",
       "      <th>IncidentCity</th>\n",
       "      <th>IncidentAddress</th>\n",
       "      <th>IncidentTime</th>\n",
       "      <th>...</th>\n",
       "      <th>CustomerLoyaltyPeriod</th>\n",
       "      <th>DateOfPolicyCoverage</th>\n",
       "      <th>InsurancePolicyState</th>\n",
       "      <th>Policy_CombinedSingleLimit</th>\n",
       "      <th>Policy_Deductible</th>\n",
       "      <th>PolicyAnnualPremium</th>\n",
       "      <th>UmbrellaLimit</th>\n",
       "      <th>InsuredRelationship</th>\n",
       "      <th>VehicleMake</th>\n",
       "      <th>VehicleYOM</th>\n",
       "    </tr>\n",
       "  </thead>\n",
       "  <tbody>\n",
       "    <tr>\n",
       "      <th>0</th>\n",
       "      <td>Cust10000</td>\n",
       "      <td>2015-02-03</td>\n",
       "      <td>Multi-vehicle Collision</td>\n",
       "      <td>Side Collision</td>\n",
       "      <td>Total Loss</td>\n",
       "      <td>Police</td>\n",
       "      <td>State7</td>\n",
       "      <td>City1</td>\n",
       "      <td>Location 1311</td>\n",
       "      <td>17</td>\n",
       "      <td>...</td>\n",
       "      <td>49</td>\n",
       "      <td>1998-10-25</td>\n",
       "      <td>State1</td>\n",
       "      <td>100/300</td>\n",
       "      <td>1000</td>\n",
       "      <td>1632.73</td>\n",
       "      <td>0</td>\n",
       "      <td>not-in-family</td>\n",
       "      <td>Audi</td>\n",
       "      <td>2008</td>\n",
       "    </tr>\n",
       "    <tr>\n",
       "      <th>1</th>\n",
       "      <td>Cust10001</td>\n",
       "      <td>2015-02-02</td>\n",
       "      <td>Multi-vehicle Collision</td>\n",
       "      <td>Side Collision</td>\n",
       "      <td>Total Loss</td>\n",
       "      <td>Police</td>\n",
       "      <td>State7</td>\n",
       "      <td>City5</td>\n",
       "      <td>Location 1311</td>\n",
       "      <td>10</td>\n",
       "      <td>...</td>\n",
       "      <td>114</td>\n",
       "      <td>2000-11-15</td>\n",
       "      <td>State1</td>\n",
       "      <td>100/300</td>\n",
       "      <td>1000</td>\n",
       "      <td>1255.19</td>\n",
       "      <td>0</td>\n",
       "      <td>not-in-family</td>\n",
       "      <td>Audi</td>\n",
       "      <td>2006</td>\n",
       "    </tr>\n",
       "    <tr>\n",
       "      <th>2</th>\n",
       "      <td>Cust10002</td>\n",
       "      <td>2015-01-15</td>\n",
       "      <td>Single Vehicle Collision</td>\n",
       "      <td>Side Collision</td>\n",
       "      <td>Minor Damage</td>\n",
       "      <td>Other</td>\n",
       "      <td>State8</td>\n",
       "      <td>City6</td>\n",
       "      <td>Location 2081</td>\n",
       "      <td>22</td>\n",
       "      <td>...</td>\n",
       "      <td>167</td>\n",
       "      <td>2001-02-12</td>\n",
       "      <td>State3</td>\n",
       "      <td>500/1000</td>\n",
       "      <td>617</td>\n",
       "      <td>1373.38</td>\n",
       "      <td>0</td>\n",
       "      <td>wife</td>\n",
       "      <td>Volkswagen</td>\n",
       "      <td>1999</td>\n",
       "    </tr>\n",
       "    <tr>\n",
       "      <th>3</th>\n",
       "      <td>Cust10003</td>\n",
       "      <td>2015-01-19</td>\n",
       "      <td>Single Vehicle Collision</td>\n",
       "      <td>Side Collision</td>\n",
       "      <td>Minor Damage</td>\n",
       "      <td>Other</td>\n",
       "      <td>State9</td>\n",
       "      <td>City6</td>\n",
       "      <td>Location 2081</td>\n",
       "      <td>22</td>\n",
       "      <td>...</td>\n",
       "      <td>190</td>\n",
       "      <td>2005-04-11</td>\n",
       "      <td>State2</td>\n",
       "      <td>500/1000</td>\n",
       "      <td>722</td>\n",
       "      <td>1337.60</td>\n",
       "      <td>0</td>\n",
       "      <td>own-child</td>\n",
       "      <td>Volkswagen</td>\n",
       "      <td>2003</td>\n",
       "    </tr>\n",
       "    <tr>\n",
       "      <th>4</th>\n",
       "      <td>Cust10004</td>\n",
       "      <td>2015-01-09</td>\n",
       "      <td>Single Vehicle Collision</td>\n",
       "      <td>Rear Collision</td>\n",
       "      <td>Minor Damage</td>\n",
       "      <td>Fire</td>\n",
       "      <td>State8</td>\n",
       "      <td>City6</td>\n",
       "      <td>Location 1695</td>\n",
       "      <td>10</td>\n",
       "      <td>...</td>\n",
       "      <td>115</td>\n",
       "      <td>1996-10-25</td>\n",
       "      <td>State2</td>\n",
       "      <td>100/300</td>\n",
       "      <td>500</td>\n",
       "      <td>1353.73</td>\n",
       "      <td>4279863</td>\n",
       "      <td>unmarried</td>\n",
       "      <td>Toyota</td>\n",
       "      <td>2010</td>\n",
       "    </tr>\n",
       "  </tbody>\n",
       "</table>\n",
       "<p>5 rows × 39 columns</p>\n",
       "</div>"
      ],
      "text/plain": [
       "  CustomerID DateOfIncident            TypeOfIncident TypeOfCollission  \\\n",
       "0  Cust10000     2015-02-03   Multi-vehicle Collision   Side Collision   \n",
       "1  Cust10001     2015-02-02   Multi-vehicle Collision   Side Collision   \n",
       "2  Cust10002     2015-01-15  Single Vehicle Collision   Side Collision   \n",
       "3  Cust10003     2015-01-19  Single Vehicle Collision   Side Collision   \n",
       "4  Cust10004     2015-01-09  Single Vehicle Collision   Rear Collision   \n",
       "\n",
       "  SeverityOfIncident AuthoritiesContacted IncidentState IncidentCity  \\\n",
       "0         Total Loss               Police        State7        City1   \n",
       "1         Total Loss               Police        State7        City5   \n",
       "2       Minor Damage                Other        State8        City6   \n",
       "3       Minor Damage                Other        State9        City6   \n",
       "4       Minor Damage                 Fire        State8        City6   \n",
       "\n",
       "  IncidentAddress  IncidentTime  ...  CustomerLoyaltyPeriod  \\\n",
       "0   Location 1311            17  ...                     49   \n",
       "1   Location 1311            10  ...                    114   \n",
       "2   Location 2081            22  ...                    167   \n",
       "3   Location 2081            22  ...                    190   \n",
       "4   Location 1695            10  ...                    115   \n",
       "\n",
       "  DateOfPolicyCoverage  InsurancePolicyState Policy_CombinedSingleLimit  \\\n",
       "0           1998-10-25                State1                    100/300   \n",
       "1           2000-11-15                State1                    100/300   \n",
       "2           2001-02-12                State3                   500/1000   \n",
       "3           2005-04-11                State2                   500/1000   \n",
       "4           1996-10-25                State2                    100/300   \n",
       "\n",
       "  Policy_Deductible PolicyAnnualPremium  UmbrellaLimit  InsuredRelationship  \\\n",
       "0              1000             1632.73              0        not-in-family   \n",
       "1              1000             1255.19              0        not-in-family   \n",
       "2               617             1373.38              0                 wife   \n",
       "3               722             1337.60              0            own-child   \n",
       "4               500             1353.73        4279863            unmarried   \n",
       "\n",
       "   VehicleMake  VehicleYOM  \n",
       "0         Audi        2008  \n",
       "1         Audi        2006  \n",
       "2   Volkswagen        1999  \n",
       "3   Volkswagen        2003  \n",
       "4       Toyota        2010  \n",
       "\n",
       "[5 rows x 39 columns]"
      ]
     },
     "execution_count": 41,
     "metadata": {},
     "output_type": "execute_result"
    }
   ],
   "source": [
    "data_17.head()"
   ]
  },
  {
   "cell_type": "code",
   "execution_count": 42,
   "metadata": {},
   "outputs": [
    {
     "data": {
      "text/plain": [
       "0"
      ]
     },
     "execution_count": 42,
     "metadata": {},
     "output_type": "execute_result"
    }
   ],
   "source": [
    "# Checking any duplicate columns in data_17\n",
    "data_17.columns.duplicated().sum()"
   ]
  },
  {
   "cell_type": "code",
   "execution_count": 43,
   "metadata": {},
   "outputs": [
    {
     "data": {
      "text/plain": [
       "(28836, 39)"
      ]
     },
     "execution_count": 43,
     "metadata": {},
     "output_type": "execute_result"
    }
   ],
   "source": [
    "data_17.shape"
   ]
  },
  {
   "cell_type": "code",
   "execution_count": 44,
   "metadata": {},
   "outputs": [
    {
     "data": {
      "text/plain": [
       "Saab          2415\n",
       "Suburu        2313\n",
       "Nissan        2300\n",
       "Dodge         2263\n",
       "Chevrolet     2174\n",
       "Ford          2158\n",
       "Accura        2099\n",
       "BMW           2073\n",
       "Toyota        1981\n",
       "Volkswagen    1960\n",
       "Audi          1952\n",
       "Jeep          1946\n",
       "Mercedes      1659\n",
       "Honda         1493\n",
       "???             50\n",
       "Name: VehicleMake, dtype: int64"
      ]
     },
     "execution_count": 44,
     "metadata": {},
     "output_type": "execute_result"
    }
   ],
   "source": [
    "data_17['VehicleMake'].value_counts()"
   ]
  },
  {
   "cell_type": "code",
   "execution_count": 45,
   "metadata": {},
   "outputs": [
    {
     "data": {
      "text/plain": [
       "Series([], dtype: int64)"
      ]
     },
     "execution_count": 45,
     "metadata": {},
     "output_type": "execute_result"
    }
   ],
   "source": [
    "# Checking missing values in \"data_17\" dataframe \n",
    "data_17.isnull().sum()[data_17.isnull().sum()>0]"
   ]
  },
  {
   "cell_type": "code",
   "execution_count": 46,
   "metadata": {},
   "outputs": [
    {
     "data": {
      "text/plain": [
       "(28836, 39)"
      ]
     },
     "execution_count": 46,
     "metadata": {},
     "output_type": "execute_result"
    }
   ],
   "source": [
    "# Replacing \"???\" with forward fill in \"VehicleMake\" column \n",
    "data_17['VehicleMake'].replace('???', np.nan, inplace=True)\n",
    "data_17['VehicleMake'].fillna(method='ffill', inplace=True)\n",
    "\n",
    "# Shape of data_17\n",
    "data_17.shape"
   ]
  },
  {
   "cell_type": "code",
   "execution_count": 47,
   "metadata": {},
   "outputs": [
    {
     "data": {
      "text/plain": [
       "Saab          2416\n",
       "Suburu        2316\n",
       "Nissan        2301\n",
       "Dodge         2266\n",
       "Chevrolet     2179\n",
       "Ford          2161\n",
       "Accura        2102\n",
       "BMW           2077\n",
       "Toyota        1990\n",
       "Volkswagen    1964\n",
       "Audi          1956\n",
       "Jeep          1949\n",
       "Mercedes      1661\n",
       "Honda         1498\n",
       "Name: VehicleMake, dtype: int64"
      ]
     },
     "execution_count": 47,
     "metadata": {},
     "output_type": "execute_result"
    }
   ],
   "source": [
    "data_17['VehicleMake'].value_counts()"
   ]
  },
  {
   "cell_type": "code",
   "execution_count": 48,
   "metadata": {},
   "outputs": [
    {
     "data": {
      "text/html": [
       "<div>\n",
       "<style scoped>\n",
       "    .dataframe tbody tr th:only-of-type {\n",
       "        vertical-align: middle;\n",
       "    }\n",
       "\n",
       "    .dataframe tbody tr th {\n",
       "        vertical-align: top;\n",
       "    }\n",
       "\n",
       "    .dataframe thead th {\n",
       "        text-align: right;\n",
       "    }\n",
       "</style>\n",
       "<table border=\"1\" class=\"dataframe\">\n",
       "  <thead>\n",
       "    <tr style=\"text-align: right;\">\n",
       "      <th></th>\n",
       "      <th>CustomerID</th>\n",
       "      <th>DateOfIncident</th>\n",
       "      <th>TypeOfIncident</th>\n",
       "      <th>TypeOfCollission</th>\n",
       "      <th>SeverityOfIncident</th>\n",
       "      <th>AuthoritiesContacted</th>\n",
       "      <th>IncidentState</th>\n",
       "      <th>IncidentCity</th>\n",
       "      <th>IncidentAddress</th>\n",
       "      <th>IncidentTime</th>\n",
       "      <th>...</th>\n",
       "      <th>CustomerLoyaltyPeriod</th>\n",
       "      <th>DateOfPolicyCoverage</th>\n",
       "      <th>InsurancePolicyState</th>\n",
       "      <th>Policy_CombinedSingleLimit</th>\n",
       "      <th>Policy_Deductible</th>\n",
       "      <th>PolicyAnnualPremium</th>\n",
       "      <th>UmbrellaLimit</th>\n",
       "      <th>InsuredRelationship</th>\n",
       "      <th>VehicleMake</th>\n",
       "      <th>VehicleYOM</th>\n",
       "    </tr>\n",
       "  </thead>\n",
       "  <tbody>\n",
       "    <tr>\n",
       "      <th>0</th>\n",
       "      <td>Cust10000</td>\n",
       "      <td>2015-02-03</td>\n",
       "      <td>Multi-vehicle Collision</td>\n",
       "      <td>Side Collision</td>\n",
       "      <td>Total Loss</td>\n",
       "      <td>Police</td>\n",
       "      <td>State7</td>\n",
       "      <td>City1</td>\n",
       "      <td>Location 1311</td>\n",
       "      <td>17</td>\n",
       "      <td>...</td>\n",
       "      <td>49</td>\n",
       "      <td>1998-10-25</td>\n",
       "      <td>State1</td>\n",
       "      <td>100/300</td>\n",
       "      <td>1000</td>\n",
       "      <td>1632.73</td>\n",
       "      <td>0</td>\n",
       "      <td>not-in-family</td>\n",
       "      <td>1</td>\n",
       "      <td>2008</td>\n",
       "    </tr>\n",
       "    <tr>\n",
       "      <th>1</th>\n",
       "      <td>Cust10001</td>\n",
       "      <td>2015-02-02</td>\n",
       "      <td>Multi-vehicle Collision</td>\n",
       "      <td>Side Collision</td>\n",
       "      <td>Total Loss</td>\n",
       "      <td>Police</td>\n",
       "      <td>State7</td>\n",
       "      <td>City5</td>\n",
       "      <td>Location 1311</td>\n",
       "      <td>10</td>\n",
       "      <td>...</td>\n",
       "      <td>114</td>\n",
       "      <td>2000-11-15</td>\n",
       "      <td>State1</td>\n",
       "      <td>100/300</td>\n",
       "      <td>1000</td>\n",
       "      <td>1255.19</td>\n",
       "      <td>0</td>\n",
       "      <td>not-in-family</td>\n",
       "      <td>1</td>\n",
       "      <td>2006</td>\n",
       "    </tr>\n",
       "    <tr>\n",
       "      <th>2</th>\n",
       "      <td>Cust10002</td>\n",
       "      <td>2015-01-15</td>\n",
       "      <td>Single Vehicle Collision</td>\n",
       "      <td>Side Collision</td>\n",
       "      <td>Minor Damage</td>\n",
       "      <td>Other</td>\n",
       "      <td>State8</td>\n",
       "      <td>City6</td>\n",
       "      <td>Location 2081</td>\n",
       "      <td>22</td>\n",
       "      <td>...</td>\n",
       "      <td>167</td>\n",
       "      <td>2001-02-12</td>\n",
       "      <td>State3</td>\n",
       "      <td>500/1000</td>\n",
       "      <td>617</td>\n",
       "      <td>1373.38</td>\n",
       "      <td>0</td>\n",
       "      <td>wife</td>\n",
       "      <td>13</td>\n",
       "      <td>1999</td>\n",
       "    </tr>\n",
       "    <tr>\n",
       "      <th>3</th>\n",
       "      <td>Cust10003</td>\n",
       "      <td>2015-01-19</td>\n",
       "      <td>Single Vehicle Collision</td>\n",
       "      <td>Side Collision</td>\n",
       "      <td>Minor Damage</td>\n",
       "      <td>Other</td>\n",
       "      <td>State9</td>\n",
       "      <td>City6</td>\n",
       "      <td>Location 2081</td>\n",
       "      <td>22</td>\n",
       "      <td>...</td>\n",
       "      <td>190</td>\n",
       "      <td>2005-04-11</td>\n",
       "      <td>State2</td>\n",
       "      <td>500/1000</td>\n",
       "      <td>722</td>\n",
       "      <td>1337.60</td>\n",
       "      <td>0</td>\n",
       "      <td>own-child</td>\n",
       "      <td>13</td>\n",
       "      <td>2003</td>\n",
       "    </tr>\n",
       "    <tr>\n",
       "      <th>4</th>\n",
       "      <td>Cust10004</td>\n",
       "      <td>2015-01-09</td>\n",
       "      <td>Single Vehicle Collision</td>\n",
       "      <td>Rear Collision</td>\n",
       "      <td>Minor Damage</td>\n",
       "      <td>Fire</td>\n",
       "      <td>State8</td>\n",
       "      <td>City6</td>\n",
       "      <td>Location 1695</td>\n",
       "      <td>10</td>\n",
       "      <td>...</td>\n",
       "      <td>115</td>\n",
       "      <td>1996-10-25</td>\n",
       "      <td>State2</td>\n",
       "      <td>100/300</td>\n",
       "      <td>500</td>\n",
       "      <td>1353.73</td>\n",
       "      <td>4279863</td>\n",
       "      <td>unmarried</td>\n",
       "      <td>12</td>\n",
       "      <td>2010</td>\n",
       "    </tr>\n",
       "  </tbody>\n",
       "</table>\n",
       "<p>5 rows × 39 columns</p>\n",
       "</div>"
      ],
      "text/plain": [
       "  CustomerID DateOfIncident            TypeOfIncident TypeOfCollission  \\\n",
       "0  Cust10000     2015-02-03   Multi-vehicle Collision   Side Collision   \n",
       "1  Cust10001     2015-02-02   Multi-vehicle Collision   Side Collision   \n",
       "2  Cust10002     2015-01-15  Single Vehicle Collision   Side Collision   \n",
       "3  Cust10003     2015-01-19  Single Vehicle Collision   Side Collision   \n",
       "4  Cust10004     2015-01-09  Single Vehicle Collision   Rear Collision   \n",
       "\n",
       "  SeverityOfIncident AuthoritiesContacted IncidentState IncidentCity  \\\n",
       "0         Total Loss               Police        State7        City1   \n",
       "1         Total Loss               Police        State7        City5   \n",
       "2       Minor Damage                Other        State8        City6   \n",
       "3       Minor Damage                Other        State9        City6   \n",
       "4       Minor Damage                 Fire        State8        City6   \n",
       "\n",
       "  IncidentAddress  IncidentTime  ...  CustomerLoyaltyPeriod  \\\n",
       "0   Location 1311            17  ...                     49   \n",
       "1   Location 1311            10  ...                    114   \n",
       "2   Location 2081            22  ...                    167   \n",
       "3   Location 2081            22  ...                    190   \n",
       "4   Location 1695            10  ...                    115   \n",
       "\n",
       "  DateOfPolicyCoverage  InsurancePolicyState Policy_CombinedSingleLimit  \\\n",
       "0           1998-10-25                State1                    100/300   \n",
       "1           2000-11-15                State1                    100/300   \n",
       "2           2001-02-12                State3                   500/1000   \n",
       "3           2005-04-11                State2                   500/1000   \n",
       "4           1996-10-25                State2                    100/300   \n",
       "\n",
       "  Policy_Deductible PolicyAnnualPremium  UmbrellaLimit  InsuredRelationship  \\\n",
       "0              1000             1632.73              0        not-in-family   \n",
       "1              1000             1255.19              0        not-in-family   \n",
       "2               617             1373.38              0                 wife   \n",
       "3               722             1337.60              0            own-child   \n",
       "4               500             1353.73        4279863            unmarried   \n",
       "\n",
       "   VehicleMake  VehicleYOM  \n",
       "0            1        2008  \n",
       "1            1        2006  \n",
       "2           13        1999  \n",
       "3           13        2003  \n",
       "4           12        2010  \n",
       "\n",
       "[5 rows x 39 columns]"
      ]
     },
     "execution_count": 48,
     "metadata": {},
     "output_type": "execute_result"
    }
   ],
   "source": [
    "# Label encoding of 'VehicleMake' column in data_17\n",
    "data_17['VehicleMake']= le.fit_transform(data_17['VehicleMake']) \n",
    "data_17.head()"
   ]
  },
  {
   "cell_type": "code",
   "execution_count": 49,
   "metadata": {},
   "outputs": [
    {
     "data": {
      "text/plain": [
       "-0.0201640891070668"
      ]
     },
     "execution_count": 49,
     "metadata": {},
     "output_type": "execute_result"
    }
   ],
   "source": [
    "# Skewness of \"VehicleMake\" column\n",
    "data_17['VehicleMake'].skew()"
   ]
  },
  {
   "cell_type": "code",
   "execution_count": 50,
   "metadata": {},
   "outputs": [
    {
     "data": {
      "text/plain": [
       "2007    1730\n",
       "2004    1691\n",
       "2010    1686\n",
       "2006    1680\n",
       "2008    1655\n",
       "2009    1655\n",
       "2005    1653\n",
       "2003    1606\n",
       "2011    1581\n",
       "2002    1551\n",
       "2000    1548\n",
       "1999    1521\n",
       "2001    1458\n",
       "2012    1357\n",
       "1998    1319\n",
       "2013    1271\n",
       "1997    1151\n",
       "2014     889\n",
       "1996     851\n",
       "1995     555\n",
       "2015     428\n",
       "Name: VehicleYOM, dtype: int64"
      ]
     },
     "execution_count": 50,
     "metadata": {},
     "output_type": "execute_result"
    }
   ],
   "source": [
    "data_17['VehicleYOM'].value_counts()"
   ]
  },
  {
   "cell_type": "code",
   "execution_count": 51,
   "metadata": {},
   "outputs": [
    {
     "data": {
      "text/plain": [
       "0        2008\n",
       "1        2006\n",
       "2        1999\n",
       "3        2003\n",
       "4        2010\n",
       "         ... \n",
       "28831    2007\n",
       "28832    2003\n",
       "28833    2004\n",
       "28834    2004\n",
       "28835    2007\n",
       "Name: VehicleYOM, Length: 28836, dtype: object"
      ]
     },
     "execution_count": 51,
     "metadata": {},
     "output_type": "execute_result"
    }
   ],
   "source": [
    "data_17['VehicleYOM']"
   ]
  },
  {
   "cell_type": "code",
   "execution_count": 52,
   "metadata": {},
   "outputs": [
    {
     "data": {
      "text/plain": [
       "0        13\n",
       "1        11\n",
       "2         4\n",
       "3         8\n",
       "4        15\n",
       "         ..\n",
       "28831    12\n",
       "28832     8\n",
       "28833     9\n",
       "28834     9\n",
       "28835    12\n",
       "Name: VehicleYOM, Length: 28836, dtype: int32"
      ]
     },
     "execution_count": 52,
     "metadata": {},
     "output_type": "execute_result"
    }
   ],
   "source": [
    "# Label encoding of 'VehicleYOM' column in data_17\n",
    "data_17['VehicleYOM']= le.fit_transform(data_17['VehicleYOM'])\n",
    "data_17['VehicleYOM']"
   ]
  },
  {
   "cell_type": "code",
   "execution_count": 53,
   "metadata": {},
   "outputs": [
    {
     "data": {
      "text/plain": [
       "-0.04756947605484407"
      ]
     },
     "execution_count": 53,
     "metadata": {},
     "output_type": "execute_result"
    }
   ],
   "source": [
    "# Skewness of \"VehicleYOM\" column\n",
    "data_17['VehicleYOM'].skew()"
   ]
  },
  {
   "cell_type": "code",
   "execution_count": 54,
   "metadata": {},
   "outputs": [
    {
     "data": {
      "text/plain": [
       "Cust10000    1\n",
       "Cust33397    1\n",
       "Cust33356    1\n",
       "Cust33354    1\n",
       "Cust33353    1\n",
       "            ..\n",
       "Cust21600    1\n",
       "Cust2160     1\n",
       "Cust21599    1\n",
       "Cust21598    1\n",
       "Cust9999     1\n",
       "Name: CustomerID, Length: 28836, dtype: int64"
      ]
     },
     "execution_count": 54,
     "metadata": {},
     "output_type": "execute_result"
    }
   ],
   "source": [
    "data_17['CustomerID'].value_counts()"
   ]
  },
  {
   "cell_type": "code",
   "execution_count": 55,
   "metadata": {},
   "outputs": [
    {
     "data": {
      "text/plain": [
       "28836"
      ]
     },
     "execution_count": 55,
     "metadata": {},
     "output_type": "execute_result"
    }
   ],
   "source": [
    "# Checking unique values in \"CustomerID\" column\n",
    "data_17['CustomerID'].nunique()"
   ]
  },
  {
   "cell_type": "code",
   "execution_count": 56,
   "metadata": {},
   "outputs": [],
   "source": [
    "# Dropping \"CustomerID\" column\n",
    "data_17=data_17.drop('CustomerID',axis=1)"
   ]
  },
  {
   "cell_type": "code",
   "execution_count": 57,
   "metadata": {},
   "outputs": [
    {
     "data": {
      "text/plain": [
       "2015-01-10    661\n",
       "2015-01-18    657\n",
       "2015-02-17    648\n",
       "2015-01-17    647\n",
       "2015-01-09    646\n",
       "             ... \n",
       "2015-03-08      2\n",
       "2015-03-07      1\n",
       "2015-03-12      1\n",
       "2015-03-10      1\n",
       "2015-03-14      1\n",
       "Name: DateOfIncident, Length: 72, dtype: int64"
      ]
     },
     "execution_count": 57,
     "metadata": {},
     "output_type": "execute_result"
    }
   ],
   "source": [
    "data_17['DateOfIncident'].value_counts()"
   ]
  },
  {
   "cell_type": "code",
   "execution_count": 58,
   "metadata": {},
   "outputs": [
    {
     "data": {
      "text/plain": [
       "72"
      ]
     },
     "execution_count": 58,
     "metadata": {},
     "output_type": "execute_result"
    }
   ],
   "source": [
    "data_17['DateOfIncident'].nunique()"
   ]
  },
  {
   "cell_type": "code",
   "execution_count": 59,
   "metadata": {},
   "outputs": [],
   "source": [
    "# Converting \"DateOfIncident\" column to datetime format\n",
    "data_17['DateOfIncident']=pd.to_datetime(data_17['DateOfIncident'])"
   ]
  },
  {
   "cell_type": "code",
   "execution_count": 60,
   "metadata": {},
   "outputs": [],
   "source": [
    "data_17['year_of_incident']=data_17['DateOfIncident'].dt.year"
   ]
  },
  {
   "cell_type": "code",
   "execution_count": 61,
   "metadata": {},
   "outputs": [],
   "source": [
    "data_17['month_of_incident']=data_17['DateOfIncident'].dt.month"
   ]
  },
  {
   "cell_type": "code",
   "execution_count": 62,
   "metadata": {},
   "outputs": [],
   "source": [
    "data_17['day_of_incident']=data_17['DateOfIncident'].dt.day"
   ]
  },
  {
   "cell_type": "code",
   "execution_count": 63,
   "metadata": {},
   "outputs": [
    {
     "data": {
      "text/plain": [
       "(28836, 41)"
      ]
     },
     "execution_count": 63,
     "metadata": {},
     "output_type": "execute_result"
    }
   ],
   "source": [
    "data_17.shape"
   ]
  },
  {
   "cell_type": "code",
   "execution_count": 64,
   "metadata": {},
   "outputs": [
    {
     "data": {
      "text/html": [
       "<div>\n",
       "<style scoped>\n",
       "    .dataframe tbody tr th:only-of-type {\n",
       "        vertical-align: middle;\n",
       "    }\n",
       "\n",
       "    .dataframe tbody tr th {\n",
       "        vertical-align: top;\n",
       "    }\n",
       "\n",
       "    .dataframe thead th {\n",
       "        text-align: right;\n",
       "    }\n",
       "</style>\n",
       "<table border=\"1\" class=\"dataframe\">\n",
       "  <thead>\n",
       "    <tr style=\"text-align: right;\">\n",
       "      <th></th>\n",
       "      <th>DateOfIncident</th>\n",
       "      <th>TypeOfIncident</th>\n",
       "      <th>TypeOfCollission</th>\n",
       "      <th>SeverityOfIncident</th>\n",
       "      <th>AuthoritiesContacted</th>\n",
       "      <th>IncidentState</th>\n",
       "      <th>IncidentCity</th>\n",
       "      <th>IncidentAddress</th>\n",
       "      <th>IncidentTime</th>\n",
       "      <th>NumberOfVehicles</th>\n",
       "      <th>...</th>\n",
       "      <th>Policy_CombinedSingleLimit</th>\n",
       "      <th>Policy_Deductible</th>\n",
       "      <th>PolicyAnnualPremium</th>\n",
       "      <th>UmbrellaLimit</th>\n",
       "      <th>InsuredRelationship</th>\n",
       "      <th>VehicleMake</th>\n",
       "      <th>VehicleYOM</th>\n",
       "      <th>year_of_incident</th>\n",
       "      <th>month_of_incident</th>\n",
       "      <th>day_of_incident</th>\n",
       "    </tr>\n",
       "  </thead>\n",
       "  <tbody>\n",
       "    <tr>\n",
       "      <th>0</th>\n",
       "      <td>2015-02-03</td>\n",
       "      <td>Multi-vehicle Collision</td>\n",
       "      <td>Side Collision</td>\n",
       "      <td>Total Loss</td>\n",
       "      <td>Police</td>\n",
       "      <td>State7</td>\n",
       "      <td>City1</td>\n",
       "      <td>Location 1311</td>\n",
       "      <td>17</td>\n",
       "      <td>3</td>\n",
       "      <td>...</td>\n",
       "      <td>100/300</td>\n",
       "      <td>1000</td>\n",
       "      <td>1632.73</td>\n",
       "      <td>0</td>\n",
       "      <td>not-in-family</td>\n",
       "      <td>1</td>\n",
       "      <td>13</td>\n",
       "      <td>2015</td>\n",
       "      <td>2</td>\n",
       "      <td>3</td>\n",
       "    </tr>\n",
       "    <tr>\n",
       "      <th>1</th>\n",
       "      <td>2015-02-02</td>\n",
       "      <td>Multi-vehicle Collision</td>\n",
       "      <td>Side Collision</td>\n",
       "      <td>Total Loss</td>\n",
       "      <td>Police</td>\n",
       "      <td>State7</td>\n",
       "      <td>City5</td>\n",
       "      <td>Location 1311</td>\n",
       "      <td>10</td>\n",
       "      <td>3</td>\n",
       "      <td>...</td>\n",
       "      <td>100/300</td>\n",
       "      <td>1000</td>\n",
       "      <td>1255.19</td>\n",
       "      <td>0</td>\n",
       "      <td>not-in-family</td>\n",
       "      <td>1</td>\n",
       "      <td>11</td>\n",
       "      <td>2015</td>\n",
       "      <td>2</td>\n",
       "      <td>2</td>\n",
       "    </tr>\n",
       "    <tr>\n",
       "      <th>2</th>\n",
       "      <td>2015-01-15</td>\n",
       "      <td>Single Vehicle Collision</td>\n",
       "      <td>Side Collision</td>\n",
       "      <td>Minor Damage</td>\n",
       "      <td>Other</td>\n",
       "      <td>State8</td>\n",
       "      <td>City6</td>\n",
       "      <td>Location 2081</td>\n",
       "      <td>22</td>\n",
       "      <td>1</td>\n",
       "      <td>...</td>\n",
       "      <td>500/1000</td>\n",
       "      <td>617</td>\n",
       "      <td>1373.38</td>\n",
       "      <td>0</td>\n",
       "      <td>wife</td>\n",
       "      <td>13</td>\n",
       "      <td>4</td>\n",
       "      <td>2015</td>\n",
       "      <td>1</td>\n",
       "      <td>15</td>\n",
       "    </tr>\n",
       "    <tr>\n",
       "      <th>3</th>\n",
       "      <td>2015-01-19</td>\n",
       "      <td>Single Vehicle Collision</td>\n",
       "      <td>Side Collision</td>\n",
       "      <td>Minor Damage</td>\n",
       "      <td>Other</td>\n",
       "      <td>State9</td>\n",
       "      <td>City6</td>\n",
       "      <td>Location 2081</td>\n",
       "      <td>22</td>\n",
       "      <td>1</td>\n",
       "      <td>...</td>\n",
       "      <td>500/1000</td>\n",
       "      <td>722</td>\n",
       "      <td>1337.60</td>\n",
       "      <td>0</td>\n",
       "      <td>own-child</td>\n",
       "      <td>13</td>\n",
       "      <td>8</td>\n",
       "      <td>2015</td>\n",
       "      <td>1</td>\n",
       "      <td>19</td>\n",
       "    </tr>\n",
       "    <tr>\n",
       "      <th>4</th>\n",
       "      <td>2015-01-09</td>\n",
       "      <td>Single Vehicle Collision</td>\n",
       "      <td>Rear Collision</td>\n",
       "      <td>Minor Damage</td>\n",
       "      <td>Fire</td>\n",
       "      <td>State8</td>\n",
       "      <td>City6</td>\n",
       "      <td>Location 1695</td>\n",
       "      <td>10</td>\n",
       "      <td>1</td>\n",
       "      <td>...</td>\n",
       "      <td>100/300</td>\n",
       "      <td>500</td>\n",
       "      <td>1353.73</td>\n",
       "      <td>4279863</td>\n",
       "      <td>unmarried</td>\n",
       "      <td>12</td>\n",
       "      <td>15</td>\n",
       "      <td>2015</td>\n",
       "      <td>1</td>\n",
       "      <td>9</td>\n",
       "    </tr>\n",
       "  </tbody>\n",
       "</table>\n",
       "<p>5 rows × 41 columns</p>\n",
       "</div>"
      ],
      "text/plain": [
       "  DateOfIncident            TypeOfIncident TypeOfCollission  \\\n",
       "0     2015-02-03   Multi-vehicle Collision   Side Collision   \n",
       "1     2015-02-02   Multi-vehicle Collision   Side Collision   \n",
       "2     2015-01-15  Single Vehicle Collision   Side Collision   \n",
       "3     2015-01-19  Single Vehicle Collision   Side Collision   \n",
       "4     2015-01-09  Single Vehicle Collision   Rear Collision   \n",
       "\n",
       "  SeverityOfIncident AuthoritiesContacted IncidentState IncidentCity  \\\n",
       "0         Total Loss               Police        State7        City1   \n",
       "1         Total Loss               Police        State7        City5   \n",
       "2       Minor Damage                Other        State8        City6   \n",
       "3       Minor Damage                Other        State9        City6   \n",
       "4       Minor Damage                 Fire        State8        City6   \n",
       "\n",
       "  IncidentAddress  IncidentTime  NumberOfVehicles  ...  \\\n",
       "0   Location 1311            17                 3  ...   \n",
       "1   Location 1311            10                 3  ...   \n",
       "2   Location 2081            22                 1  ...   \n",
       "3   Location 2081            22                 1  ...   \n",
       "4   Location 1695            10                 1  ...   \n",
       "\n",
       "  Policy_CombinedSingleLimit  Policy_Deductible PolicyAnnualPremium  \\\n",
       "0                    100/300               1000             1632.73   \n",
       "1                    100/300               1000             1255.19   \n",
       "2                   500/1000                617             1373.38   \n",
       "3                   500/1000                722             1337.60   \n",
       "4                    100/300                500             1353.73   \n",
       "\n",
       "  UmbrellaLimit InsuredRelationship  VehicleMake  VehicleYOM  \\\n",
       "0             0       not-in-family            1          13   \n",
       "1             0       not-in-family            1          11   \n",
       "2             0                wife           13           4   \n",
       "3             0           own-child           13           8   \n",
       "4       4279863           unmarried           12          15   \n",
       "\n",
       "   year_of_incident  month_of_incident  day_of_incident  \n",
       "0              2015                  2                3  \n",
       "1              2015                  2                2  \n",
       "2              2015                  1               15  \n",
       "3              2015                  1               19  \n",
       "4              2015                  1                9  \n",
       "\n",
       "[5 rows x 41 columns]"
      ]
     },
     "execution_count": 64,
     "metadata": {},
     "output_type": "execute_result"
    }
   ],
   "source": [
    "data_17.head()"
   ]
  },
  {
   "cell_type": "code",
   "execution_count": 65,
   "metadata": {},
   "outputs": [],
   "source": [
    "# Extraction of day of week from \"DateOfIncident\" column\n",
    "data_17['day_of_week_of_incident']=data_17['DateOfIncident'].dt.dayofweek"
   ]
  },
  {
   "cell_type": "code",
   "execution_count": 66,
   "metadata": {},
   "outputs": [
    {
     "data": {
      "text/html": [
       "<div>\n",
       "<style scoped>\n",
       "    .dataframe tbody tr th:only-of-type {\n",
       "        vertical-align: middle;\n",
       "    }\n",
       "\n",
       "    .dataframe tbody tr th {\n",
       "        vertical-align: top;\n",
       "    }\n",
       "\n",
       "    .dataframe thead th {\n",
       "        text-align: right;\n",
       "    }\n",
       "</style>\n",
       "<table border=\"1\" class=\"dataframe\">\n",
       "  <thead>\n",
       "    <tr style=\"text-align: right;\">\n",
       "      <th></th>\n",
       "      <th>DateOfIncident</th>\n",
       "      <th>TypeOfIncident</th>\n",
       "      <th>TypeOfCollission</th>\n",
       "      <th>SeverityOfIncident</th>\n",
       "      <th>AuthoritiesContacted</th>\n",
       "      <th>IncidentState</th>\n",
       "      <th>IncidentCity</th>\n",
       "      <th>IncidentAddress</th>\n",
       "      <th>IncidentTime</th>\n",
       "      <th>NumberOfVehicles</th>\n",
       "      <th>...</th>\n",
       "      <th>PolicyAnnualPremium</th>\n",
       "      <th>UmbrellaLimit</th>\n",
       "      <th>InsuredRelationship</th>\n",
       "      <th>VehicleMake</th>\n",
       "      <th>VehicleYOM</th>\n",
       "      <th>year_of_incident</th>\n",
       "      <th>month_of_incident</th>\n",
       "      <th>day_of_incident</th>\n",
       "      <th>day_of_week_of_incident</th>\n",
       "      <th>weekend_of_incident</th>\n",
       "    </tr>\n",
       "  </thead>\n",
       "  <tbody>\n",
       "    <tr>\n",
       "      <th>0</th>\n",
       "      <td>2015-02-03</td>\n",
       "      <td>Multi-vehicle Collision</td>\n",
       "      <td>Side Collision</td>\n",
       "      <td>Total Loss</td>\n",
       "      <td>Police</td>\n",
       "      <td>State7</td>\n",
       "      <td>City1</td>\n",
       "      <td>Location 1311</td>\n",
       "      <td>17</td>\n",
       "      <td>3</td>\n",
       "      <td>...</td>\n",
       "      <td>1632.73</td>\n",
       "      <td>0</td>\n",
       "      <td>not-in-family</td>\n",
       "      <td>1</td>\n",
       "      <td>13</td>\n",
       "      <td>2015</td>\n",
       "      <td>2</td>\n",
       "      <td>3</td>\n",
       "      <td>1</td>\n",
       "      <td>0</td>\n",
       "    </tr>\n",
       "    <tr>\n",
       "      <th>1</th>\n",
       "      <td>2015-02-02</td>\n",
       "      <td>Multi-vehicle Collision</td>\n",
       "      <td>Side Collision</td>\n",
       "      <td>Total Loss</td>\n",
       "      <td>Police</td>\n",
       "      <td>State7</td>\n",
       "      <td>City5</td>\n",
       "      <td>Location 1311</td>\n",
       "      <td>10</td>\n",
       "      <td>3</td>\n",
       "      <td>...</td>\n",
       "      <td>1255.19</td>\n",
       "      <td>0</td>\n",
       "      <td>not-in-family</td>\n",
       "      <td>1</td>\n",
       "      <td>11</td>\n",
       "      <td>2015</td>\n",
       "      <td>2</td>\n",
       "      <td>2</td>\n",
       "      <td>0</td>\n",
       "      <td>0</td>\n",
       "    </tr>\n",
       "    <tr>\n",
       "      <th>2</th>\n",
       "      <td>2015-01-15</td>\n",
       "      <td>Single Vehicle Collision</td>\n",
       "      <td>Side Collision</td>\n",
       "      <td>Minor Damage</td>\n",
       "      <td>Other</td>\n",
       "      <td>State8</td>\n",
       "      <td>City6</td>\n",
       "      <td>Location 2081</td>\n",
       "      <td>22</td>\n",
       "      <td>1</td>\n",
       "      <td>...</td>\n",
       "      <td>1373.38</td>\n",
       "      <td>0</td>\n",
       "      <td>wife</td>\n",
       "      <td>13</td>\n",
       "      <td>4</td>\n",
       "      <td>2015</td>\n",
       "      <td>1</td>\n",
       "      <td>15</td>\n",
       "      <td>3</td>\n",
       "      <td>0</td>\n",
       "    </tr>\n",
       "    <tr>\n",
       "      <th>3</th>\n",
       "      <td>2015-01-19</td>\n",
       "      <td>Single Vehicle Collision</td>\n",
       "      <td>Side Collision</td>\n",
       "      <td>Minor Damage</td>\n",
       "      <td>Other</td>\n",
       "      <td>State9</td>\n",
       "      <td>City6</td>\n",
       "      <td>Location 2081</td>\n",
       "      <td>22</td>\n",
       "      <td>1</td>\n",
       "      <td>...</td>\n",
       "      <td>1337.60</td>\n",
       "      <td>0</td>\n",
       "      <td>own-child</td>\n",
       "      <td>13</td>\n",
       "      <td>8</td>\n",
       "      <td>2015</td>\n",
       "      <td>1</td>\n",
       "      <td>19</td>\n",
       "      <td>0</td>\n",
       "      <td>0</td>\n",
       "    </tr>\n",
       "    <tr>\n",
       "      <th>4</th>\n",
       "      <td>2015-01-09</td>\n",
       "      <td>Single Vehicle Collision</td>\n",
       "      <td>Rear Collision</td>\n",
       "      <td>Minor Damage</td>\n",
       "      <td>Fire</td>\n",
       "      <td>State8</td>\n",
       "      <td>City6</td>\n",
       "      <td>Location 1695</td>\n",
       "      <td>10</td>\n",
       "      <td>1</td>\n",
       "      <td>...</td>\n",
       "      <td>1353.73</td>\n",
       "      <td>4279863</td>\n",
       "      <td>unmarried</td>\n",
       "      <td>12</td>\n",
       "      <td>15</td>\n",
       "      <td>2015</td>\n",
       "      <td>1</td>\n",
       "      <td>9</td>\n",
       "      <td>4</td>\n",
       "      <td>0</td>\n",
       "    </tr>\n",
       "  </tbody>\n",
       "</table>\n",
       "<p>5 rows × 43 columns</p>\n",
       "</div>"
      ],
      "text/plain": [
       "  DateOfIncident            TypeOfIncident TypeOfCollission  \\\n",
       "0     2015-02-03   Multi-vehicle Collision   Side Collision   \n",
       "1     2015-02-02   Multi-vehicle Collision   Side Collision   \n",
       "2     2015-01-15  Single Vehicle Collision   Side Collision   \n",
       "3     2015-01-19  Single Vehicle Collision   Side Collision   \n",
       "4     2015-01-09  Single Vehicle Collision   Rear Collision   \n",
       "\n",
       "  SeverityOfIncident AuthoritiesContacted IncidentState IncidentCity  \\\n",
       "0         Total Loss               Police        State7        City1   \n",
       "1         Total Loss               Police        State7        City5   \n",
       "2       Minor Damage                Other        State8        City6   \n",
       "3       Minor Damage                Other        State9        City6   \n",
       "4       Minor Damage                 Fire        State8        City6   \n",
       "\n",
       "  IncidentAddress  IncidentTime  NumberOfVehicles  ... PolicyAnnualPremium  \\\n",
       "0   Location 1311            17                 3  ...             1632.73   \n",
       "1   Location 1311            10                 3  ...             1255.19   \n",
       "2   Location 2081            22                 1  ...             1373.38   \n",
       "3   Location 2081            22                 1  ...             1337.60   \n",
       "4   Location 1695            10                 1  ...             1353.73   \n",
       "\n",
       "   UmbrellaLimit InsuredRelationship VehicleMake VehicleYOM  year_of_incident  \\\n",
       "0              0       not-in-family           1         13              2015   \n",
       "1              0       not-in-family           1         11              2015   \n",
       "2              0                wife          13          4              2015   \n",
       "3              0           own-child          13          8              2015   \n",
       "4        4279863           unmarried          12         15              2015   \n",
       "\n",
       "   month_of_incident  day_of_incident  day_of_week_of_incident  \\\n",
       "0                  2                3                        1   \n",
       "1                  2                2                        0   \n",
       "2                  1               15                        3   \n",
       "3                  1               19                        0   \n",
       "4                  1                9                        4   \n",
       "\n",
       "   weekend_of_incident  \n",
       "0                    0  \n",
       "1                    0  \n",
       "2                    0  \n",
       "3                    0  \n",
       "4                    0  \n",
       "\n",
       "[5 rows x 43 columns]"
      ]
     },
     "execution_count": 66,
     "metadata": {},
     "output_type": "execute_result"
    }
   ],
   "source": [
    "# Checking whether the day is weekend or not and store the result in a new column called \"weekend\" and create a new dataframe called data_18\n",
    "\n",
    "data_17['weekend_of_incident']=data_17['day_of_week_of_incident'].apply(lambda x: 1 if x>4 else 0)\n",
    "\n",
    "data_18=data_17\n",
    "\n",
    "data_18.head()\n"
   ]
  },
  {
   "cell_type": "code",
   "execution_count": 67,
   "metadata": {},
   "outputs": [
    {
     "data": {
      "text/plain": [
       "2015    28836\n",
       "Name: year_of_incident, dtype: int64"
      ]
     },
     "execution_count": 67,
     "metadata": {},
     "output_type": "execute_result"
    }
   ],
   "source": [
    "data_18['year_of_incident'].value_counts()"
   ]
  },
  {
   "cell_type": "code",
   "execution_count": 68,
   "metadata": {},
   "outputs": [],
   "source": [
    "# Dropping \"DateOfIncident\" column\n",
    "data_18=data_18.drop('DateOfIncident',axis=1)"
   ]
  },
  {
   "cell_type": "code",
   "execution_count": 69,
   "metadata": {},
   "outputs": [],
   "source": [
    "# Dropping \"year_of_incident\" column\n",
    "data_18=data_18.drop('year_of_incident',axis=1)"
   ]
  },
  {
   "cell_type": "code",
   "execution_count": 70,
   "metadata": {},
   "outputs": [
    {
     "data": {
      "text/plain": [
       "Multi-vehicle Collision     11966\n",
       "Single Vehicle Collision    11677\n",
       "Vehicle Theft                2685\n",
       "Parked Car                   2508\n",
       "Name: TypeOfIncident, dtype: int64"
      ]
     },
     "execution_count": 70,
     "metadata": {},
     "output_type": "execute_result"
    }
   ],
   "source": [
    "data_18['TypeOfIncident'].value_counts()"
   ]
  },
  {
   "cell_type": "code",
   "execution_count": 71,
   "metadata": {},
   "outputs": [
    {
     "data": {
      "text/html": [
       "<div>\n",
       "<style scoped>\n",
       "    .dataframe tbody tr th:only-of-type {\n",
       "        vertical-align: middle;\n",
       "    }\n",
       "\n",
       "    .dataframe tbody tr th {\n",
       "        vertical-align: top;\n",
       "    }\n",
       "\n",
       "    .dataframe thead th {\n",
       "        text-align: right;\n",
       "    }\n",
       "</style>\n",
       "<table border=\"1\" class=\"dataframe\">\n",
       "  <thead>\n",
       "    <tr style=\"text-align: right;\">\n",
       "      <th></th>\n",
       "      <th>TypeOfCollission</th>\n",
       "      <th>SeverityOfIncident</th>\n",
       "      <th>AuthoritiesContacted</th>\n",
       "      <th>IncidentState</th>\n",
       "      <th>IncidentCity</th>\n",
       "      <th>IncidentAddress</th>\n",
       "      <th>IncidentTime</th>\n",
       "      <th>NumberOfVehicles</th>\n",
       "      <th>PropertyDamage</th>\n",
       "      <th>BodilyInjuries</th>\n",
       "      <th>...</th>\n",
       "      <th>InsuredRelationship</th>\n",
       "      <th>VehicleMake</th>\n",
       "      <th>VehicleYOM</th>\n",
       "      <th>month_of_incident</th>\n",
       "      <th>day_of_incident</th>\n",
       "      <th>day_of_week_of_incident</th>\n",
       "      <th>weekend_of_incident</th>\n",
       "      <th>TypeOfIncident_Parked Car</th>\n",
       "      <th>TypeOfIncident_Single Vehicle Collision</th>\n",
       "      <th>TypeOfIncident_Vehicle Theft</th>\n",
       "    </tr>\n",
       "  </thead>\n",
       "  <tbody>\n",
       "    <tr>\n",
       "      <th>0</th>\n",
       "      <td>Side Collision</td>\n",
       "      <td>Total Loss</td>\n",
       "      <td>Police</td>\n",
       "      <td>State7</td>\n",
       "      <td>City1</td>\n",
       "      <td>Location 1311</td>\n",
       "      <td>17</td>\n",
       "      <td>3</td>\n",
       "      <td>?</td>\n",
       "      <td>1</td>\n",
       "      <td>...</td>\n",
       "      <td>not-in-family</td>\n",
       "      <td>1</td>\n",
       "      <td>13</td>\n",
       "      <td>2</td>\n",
       "      <td>3</td>\n",
       "      <td>1</td>\n",
       "      <td>0</td>\n",
       "      <td>0</td>\n",
       "      <td>0</td>\n",
       "      <td>0</td>\n",
       "    </tr>\n",
       "    <tr>\n",
       "      <th>1</th>\n",
       "      <td>Side Collision</td>\n",
       "      <td>Total Loss</td>\n",
       "      <td>Police</td>\n",
       "      <td>State7</td>\n",
       "      <td>City5</td>\n",
       "      <td>Location 1311</td>\n",
       "      <td>10</td>\n",
       "      <td>3</td>\n",
       "      <td>YES</td>\n",
       "      <td>2</td>\n",
       "      <td>...</td>\n",
       "      <td>not-in-family</td>\n",
       "      <td>1</td>\n",
       "      <td>11</td>\n",
       "      <td>2</td>\n",
       "      <td>2</td>\n",
       "      <td>0</td>\n",
       "      <td>0</td>\n",
       "      <td>0</td>\n",
       "      <td>0</td>\n",
       "      <td>0</td>\n",
       "    </tr>\n",
       "    <tr>\n",
       "      <th>2</th>\n",
       "      <td>Side Collision</td>\n",
       "      <td>Minor Damage</td>\n",
       "      <td>Other</td>\n",
       "      <td>State8</td>\n",
       "      <td>City6</td>\n",
       "      <td>Location 2081</td>\n",
       "      <td>22</td>\n",
       "      <td>1</td>\n",
       "      <td>YES</td>\n",
       "      <td>2</td>\n",
       "      <td>...</td>\n",
       "      <td>wife</td>\n",
       "      <td>13</td>\n",
       "      <td>4</td>\n",
       "      <td>1</td>\n",
       "      <td>15</td>\n",
       "      <td>3</td>\n",
       "      <td>0</td>\n",
       "      <td>0</td>\n",
       "      <td>1</td>\n",
       "      <td>0</td>\n",
       "    </tr>\n",
       "    <tr>\n",
       "      <th>3</th>\n",
       "      <td>Side Collision</td>\n",
       "      <td>Minor Damage</td>\n",
       "      <td>Other</td>\n",
       "      <td>State9</td>\n",
       "      <td>City6</td>\n",
       "      <td>Location 2081</td>\n",
       "      <td>22</td>\n",
       "      <td>1</td>\n",
       "      <td>YES</td>\n",
       "      <td>2</td>\n",
       "      <td>...</td>\n",
       "      <td>own-child</td>\n",
       "      <td>13</td>\n",
       "      <td>8</td>\n",
       "      <td>1</td>\n",
       "      <td>19</td>\n",
       "      <td>0</td>\n",
       "      <td>0</td>\n",
       "      <td>0</td>\n",
       "      <td>1</td>\n",
       "      <td>0</td>\n",
       "    </tr>\n",
       "    <tr>\n",
       "      <th>4</th>\n",
       "      <td>Rear Collision</td>\n",
       "      <td>Minor Damage</td>\n",
       "      <td>Fire</td>\n",
       "      <td>State8</td>\n",
       "      <td>City6</td>\n",
       "      <td>Location 1695</td>\n",
       "      <td>10</td>\n",
       "      <td>1</td>\n",
       "      <td>NO</td>\n",
       "      <td>2</td>\n",
       "      <td>...</td>\n",
       "      <td>unmarried</td>\n",
       "      <td>12</td>\n",
       "      <td>15</td>\n",
       "      <td>1</td>\n",
       "      <td>9</td>\n",
       "      <td>4</td>\n",
       "      <td>0</td>\n",
       "      <td>0</td>\n",
       "      <td>1</td>\n",
       "      <td>0</td>\n",
       "    </tr>\n",
       "  </tbody>\n",
       "</table>\n",
       "<p>5 rows × 43 columns</p>\n",
       "</div>"
      ],
      "text/plain": [
       "  TypeOfCollission SeverityOfIncident AuthoritiesContacted IncidentState  \\\n",
       "0   Side Collision         Total Loss               Police        State7   \n",
       "1   Side Collision         Total Loss               Police        State7   \n",
       "2   Side Collision       Minor Damage                Other        State8   \n",
       "3   Side Collision       Minor Damage                Other        State9   \n",
       "4   Rear Collision       Minor Damage                 Fire        State8   \n",
       "\n",
       "  IncidentCity IncidentAddress  IncidentTime  NumberOfVehicles PropertyDamage  \\\n",
       "0        City1   Location 1311            17                 3              ?   \n",
       "1        City5   Location 1311            10                 3            YES   \n",
       "2        City6   Location 2081            22                 1            YES   \n",
       "3        City6   Location 2081            22                 1            YES   \n",
       "4        City6   Location 1695            10                 1             NO   \n",
       "\n",
       "   BodilyInjuries  ... InsuredRelationship VehicleMake VehicleYOM  \\\n",
       "0               1  ...       not-in-family           1         13   \n",
       "1               2  ...       not-in-family           1         11   \n",
       "2               2  ...                wife          13          4   \n",
       "3               2  ...           own-child          13          8   \n",
       "4               2  ...           unmarried          12         15   \n",
       "\n",
       "   month_of_incident  day_of_incident  day_of_week_of_incident  \\\n",
       "0                  2                3                        1   \n",
       "1                  2                2                        0   \n",
       "2                  1               15                        3   \n",
       "3                  1               19                        0   \n",
       "4                  1                9                        4   \n",
       "\n",
       "   weekend_of_incident  TypeOfIncident_Parked Car  \\\n",
       "0                    0                          0   \n",
       "1                    0                          0   \n",
       "2                    0                          0   \n",
       "3                    0                          0   \n",
       "4                    0                          0   \n",
       "\n",
       "   TypeOfIncident_Single Vehicle Collision TypeOfIncident_Vehicle Theft  \n",
       "0                                        0                            0  \n",
       "1                                        0                            0  \n",
       "2                                        1                            0  \n",
       "3                                        1                            0  \n",
       "4                                        1                            0  \n",
       "\n",
       "[5 rows x 43 columns]"
      ]
     },
     "execution_count": 71,
     "metadata": {},
     "output_type": "execute_result"
    }
   ],
   "source": [
    "# one hot encoding of \"TypeOfIncident\" column with \"drop_first=True\"\n",
    "data_19=pd.get_dummies(data_18,columns=['TypeOfIncident'],drop_first=True)\n",
    "data_19.head()"
   ]
  },
  {
   "cell_type": "code",
   "execution_count": 72,
   "metadata": {},
   "outputs": [
    {
     "data": {
      "text/plain": [
       "Rear Collision     8561\n",
       "Side Collision     7867\n",
       "Front Collision    7246\n",
       "?                  5162\n",
       "Name: TypeOfCollission, dtype: int64"
      ]
     },
     "execution_count": 72,
     "metadata": {},
     "output_type": "execute_result"
    }
   ],
   "source": [
    "data_19['TypeOfCollission'].value_counts()"
   ]
  },
  {
   "cell_type": "code",
   "execution_count": 73,
   "metadata": {},
   "outputs": [],
   "source": [
    "# Filling \"?\" values with null values in \"TypeOfCollission\" column\n",
    "data_19['TypeOfCollission']=data_19['TypeOfCollission'].replace('?',np.nan)"
   ]
  },
  {
   "cell_type": "code",
   "execution_count": 74,
   "metadata": {},
   "outputs": [
    {
     "data": {
      "text/plain": [
       "Rear Collision     8561\n",
       "Side Collision     7867\n",
       "Front Collision    7246\n",
       "Name: TypeOfCollission, dtype: int64"
      ]
     },
     "execution_count": 74,
     "metadata": {},
     "output_type": "execute_result"
    }
   ],
   "source": [
    "data_19['TypeOfCollission'].value_counts()"
   ]
  },
  {
   "cell_type": "code",
   "execution_count": 75,
   "metadata": {},
   "outputs": [],
   "source": [
    "# Forward fill null values in \"TypeOfCollission\" column\n",
    "data_19 = data_19.fillna(method=\"ffill\")"
   ]
  },
  {
   "cell_type": "code",
   "execution_count": 76,
   "metadata": {},
   "outputs": [
    {
     "data": {
      "text/plain": [
       "Rear Collision     10400\n",
       "Side Collision      9640\n",
       "Front Collision     8796\n",
       "Name: TypeOfCollission, dtype: int64"
      ]
     },
     "execution_count": 76,
     "metadata": {},
     "output_type": "execute_result"
    }
   ],
   "source": [
    "data_19['TypeOfCollission'].value_counts()"
   ]
  },
  {
   "cell_type": "code",
   "execution_count": 77,
   "metadata": {},
   "outputs": [],
   "source": [
    "# One hot encoding of \"TypeOfCollission\" column with \"drop_first=True\"\n",
    "data_19=pd.get_dummies(data_19,columns=['TypeOfCollission'],drop_first=True)"
   ]
  },
  {
   "cell_type": "code",
   "execution_count": 78,
   "metadata": {},
   "outputs": [
    {
     "data": {
      "text/html": [
       "<div>\n",
       "<style scoped>\n",
       "    .dataframe tbody tr th:only-of-type {\n",
       "        vertical-align: middle;\n",
       "    }\n",
       "\n",
       "    .dataframe tbody tr th {\n",
       "        vertical-align: top;\n",
       "    }\n",
       "\n",
       "    .dataframe thead th {\n",
       "        text-align: right;\n",
       "    }\n",
       "</style>\n",
       "<table border=\"1\" class=\"dataframe\">\n",
       "  <thead>\n",
       "    <tr style=\"text-align: right;\">\n",
       "      <th></th>\n",
       "      <th>SeverityOfIncident</th>\n",
       "      <th>AuthoritiesContacted</th>\n",
       "      <th>IncidentState</th>\n",
       "      <th>IncidentCity</th>\n",
       "      <th>IncidentAddress</th>\n",
       "      <th>IncidentTime</th>\n",
       "      <th>NumberOfVehicles</th>\n",
       "      <th>PropertyDamage</th>\n",
       "      <th>BodilyInjuries</th>\n",
       "      <th>Witnesses</th>\n",
       "      <th>...</th>\n",
       "      <th>VehicleYOM</th>\n",
       "      <th>month_of_incident</th>\n",
       "      <th>day_of_incident</th>\n",
       "      <th>day_of_week_of_incident</th>\n",
       "      <th>weekend_of_incident</th>\n",
       "      <th>TypeOfIncident_Parked Car</th>\n",
       "      <th>TypeOfIncident_Single Vehicle Collision</th>\n",
       "      <th>TypeOfIncident_Vehicle Theft</th>\n",
       "      <th>TypeOfCollission_Rear Collision</th>\n",
       "      <th>TypeOfCollission_Side Collision</th>\n",
       "    </tr>\n",
       "  </thead>\n",
       "  <tbody>\n",
       "    <tr>\n",
       "      <th>0</th>\n",
       "      <td>Total Loss</td>\n",
       "      <td>Police</td>\n",
       "      <td>State7</td>\n",
       "      <td>City1</td>\n",
       "      <td>Location 1311</td>\n",
       "      <td>17</td>\n",
       "      <td>3</td>\n",
       "      <td>?</td>\n",
       "      <td>1</td>\n",
       "      <td>0</td>\n",
       "      <td>...</td>\n",
       "      <td>13</td>\n",
       "      <td>2</td>\n",
       "      <td>3</td>\n",
       "      <td>1</td>\n",
       "      <td>0</td>\n",
       "      <td>0</td>\n",
       "      <td>0</td>\n",
       "      <td>0</td>\n",
       "      <td>0</td>\n",
       "      <td>1</td>\n",
       "    </tr>\n",
       "    <tr>\n",
       "      <th>1</th>\n",
       "      <td>Total Loss</td>\n",
       "      <td>Police</td>\n",
       "      <td>State7</td>\n",
       "      <td>City5</td>\n",
       "      <td>Location 1311</td>\n",
       "      <td>10</td>\n",
       "      <td>3</td>\n",
       "      <td>YES</td>\n",
       "      <td>2</td>\n",
       "      <td>1</td>\n",
       "      <td>...</td>\n",
       "      <td>11</td>\n",
       "      <td>2</td>\n",
       "      <td>2</td>\n",
       "      <td>0</td>\n",
       "      <td>0</td>\n",
       "      <td>0</td>\n",
       "      <td>0</td>\n",
       "      <td>0</td>\n",
       "      <td>0</td>\n",
       "      <td>1</td>\n",
       "    </tr>\n",
       "    <tr>\n",
       "      <th>2</th>\n",
       "      <td>Minor Damage</td>\n",
       "      <td>Other</td>\n",
       "      <td>State8</td>\n",
       "      <td>City6</td>\n",
       "      <td>Location 2081</td>\n",
       "      <td>22</td>\n",
       "      <td>1</td>\n",
       "      <td>YES</td>\n",
       "      <td>2</td>\n",
       "      <td>3</td>\n",
       "      <td>...</td>\n",
       "      <td>4</td>\n",
       "      <td>1</td>\n",
       "      <td>15</td>\n",
       "      <td>3</td>\n",
       "      <td>0</td>\n",
       "      <td>0</td>\n",
       "      <td>1</td>\n",
       "      <td>0</td>\n",
       "      <td>0</td>\n",
       "      <td>1</td>\n",
       "    </tr>\n",
       "    <tr>\n",
       "      <th>3</th>\n",
       "      <td>Minor Damage</td>\n",
       "      <td>Other</td>\n",
       "      <td>State9</td>\n",
       "      <td>City6</td>\n",
       "      <td>Location 2081</td>\n",
       "      <td>22</td>\n",
       "      <td>1</td>\n",
       "      <td>YES</td>\n",
       "      <td>2</td>\n",
       "      <td>3</td>\n",
       "      <td>...</td>\n",
       "      <td>8</td>\n",
       "      <td>1</td>\n",
       "      <td>19</td>\n",
       "      <td>0</td>\n",
       "      <td>0</td>\n",
       "      <td>0</td>\n",
       "      <td>1</td>\n",
       "      <td>0</td>\n",
       "      <td>0</td>\n",
       "      <td>1</td>\n",
       "    </tr>\n",
       "    <tr>\n",
       "      <th>4</th>\n",
       "      <td>Minor Damage</td>\n",
       "      <td>Fire</td>\n",
       "      <td>State8</td>\n",
       "      <td>City6</td>\n",
       "      <td>Location 1695</td>\n",
       "      <td>10</td>\n",
       "      <td>1</td>\n",
       "      <td>NO</td>\n",
       "      <td>2</td>\n",
       "      <td>1</td>\n",
       "      <td>...</td>\n",
       "      <td>15</td>\n",
       "      <td>1</td>\n",
       "      <td>9</td>\n",
       "      <td>4</td>\n",
       "      <td>0</td>\n",
       "      <td>0</td>\n",
       "      <td>1</td>\n",
       "      <td>0</td>\n",
       "      <td>1</td>\n",
       "      <td>0</td>\n",
       "    </tr>\n",
       "  </tbody>\n",
       "</table>\n",
       "<p>5 rows × 44 columns</p>\n",
       "</div>"
      ],
      "text/plain": [
       "  SeverityOfIncident AuthoritiesContacted IncidentState IncidentCity  \\\n",
       "0         Total Loss               Police        State7        City1   \n",
       "1         Total Loss               Police        State7        City5   \n",
       "2       Minor Damage                Other        State8        City6   \n",
       "3       Minor Damage                Other        State9        City6   \n",
       "4       Minor Damage                 Fire        State8        City6   \n",
       "\n",
       "  IncidentAddress  IncidentTime  NumberOfVehicles PropertyDamage  \\\n",
       "0   Location 1311            17                 3              ?   \n",
       "1   Location 1311            10                 3            YES   \n",
       "2   Location 2081            22                 1            YES   \n",
       "3   Location 2081            22                 1            YES   \n",
       "4   Location 1695            10                 1             NO   \n",
       "\n",
       "   BodilyInjuries Witnesses  ... VehicleYOM month_of_incident  \\\n",
       "0               1         0  ...         13                 2   \n",
       "1               2         1  ...         11                 2   \n",
       "2               2         3  ...          4                 1   \n",
       "3               2         3  ...          8                 1   \n",
       "4               2         1  ...         15                 1   \n",
       "\n",
       "   day_of_incident  day_of_week_of_incident  weekend_of_incident  \\\n",
       "0                3                        1                    0   \n",
       "1                2                        0                    0   \n",
       "2               15                        3                    0   \n",
       "3               19                        0                    0   \n",
       "4                9                        4                    0   \n",
       "\n",
       "   TypeOfIncident_Parked Car  TypeOfIncident_Single Vehicle Collision  \\\n",
       "0                          0                                        0   \n",
       "1                          0                                        0   \n",
       "2                          0                                        1   \n",
       "3                          0                                        1   \n",
       "4                          0                                        1   \n",
       "\n",
       "   TypeOfIncident_Vehicle Theft TypeOfCollission_Rear Collision  \\\n",
       "0                             0                               0   \n",
       "1                             0                               0   \n",
       "2                             0                               0   \n",
       "3                             0                               0   \n",
       "4                             0                               1   \n",
       "\n",
       "  TypeOfCollission_Side Collision  \n",
       "0                               1  \n",
       "1                               1  \n",
       "2                               1  \n",
       "3                               1  \n",
       "4                               0  \n",
       "\n",
       "[5 rows x 44 columns]"
      ]
     },
     "execution_count": 78,
     "metadata": {},
     "output_type": "execute_result"
    }
   ],
   "source": [
    "data_19.head()"
   ]
  },
  {
   "cell_type": "code",
   "execution_count": 79,
   "metadata": {},
   "outputs": [
    {
     "data": {
      "text/plain": [
       "Minor Damage      10400\n",
       "Total Loss         8218\n",
       "Major Damage       7671\n",
       "Trivial Damage     2547\n",
       "Name: SeverityOfIncident, dtype: int64"
      ]
     },
     "execution_count": 79,
     "metadata": {},
     "output_type": "execute_result"
    }
   ],
   "source": [
    "data_19['SeverityOfIncident'].value_counts()"
   ]
  },
  {
   "cell_type": "code",
   "execution_count": 80,
   "metadata": {},
   "outputs": [],
   "source": [
    "# One hot encoding of \"SeverityOfIncident\" column\n",
    "data_20=pd.get_dummies(data_19,columns=['SeverityOfIncident'],drop_first=True)"
   ]
  },
  {
   "cell_type": "code",
   "execution_count": 81,
   "metadata": {},
   "outputs": [
    {
     "data": {
      "text/html": [
       "<div>\n",
       "<style scoped>\n",
       "    .dataframe tbody tr th:only-of-type {\n",
       "        vertical-align: middle;\n",
       "    }\n",
       "\n",
       "    .dataframe tbody tr th {\n",
       "        vertical-align: top;\n",
       "    }\n",
       "\n",
       "    .dataframe thead th {\n",
       "        text-align: right;\n",
       "    }\n",
       "</style>\n",
       "<table border=\"1\" class=\"dataframe\">\n",
       "  <thead>\n",
       "    <tr style=\"text-align: right;\">\n",
       "      <th></th>\n",
       "      <th>AuthoritiesContacted</th>\n",
       "      <th>IncidentState</th>\n",
       "      <th>IncidentCity</th>\n",
       "      <th>IncidentAddress</th>\n",
       "      <th>IncidentTime</th>\n",
       "      <th>NumberOfVehicles</th>\n",
       "      <th>PropertyDamage</th>\n",
       "      <th>BodilyInjuries</th>\n",
       "      <th>Witnesses</th>\n",
       "      <th>PoliceReport</th>\n",
       "      <th>...</th>\n",
       "      <th>day_of_week_of_incident</th>\n",
       "      <th>weekend_of_incident</th>\n",
       "      <th>TypeOfIncident_Parked Car</th>\n",
       "      <th>TypeOfIncident_Single Vehicle Collision</th>\n",
       "      <th>TypeOfIncident_Vehicle Theft</th>\n",
       "      <th>TypeOfCollission_Rear Collision</th>\n",
       "      <th>TypeOfCollission_Side Collision</th>\n",
       "      <th>SeverityOfIncident_Minor Damage</th>\n",
       "      <th>SeverityOfIncident_Total Loss</th>\n",
       "      <th>SeverityOfIncident_Trivial Damage</th>\n",
       "    </tr>\n",
       "  </thead>\n",
       "  <tbody>\n",
       "    <tr>\n",
       "      <th>0</th>\n",
       "      <td>Police</td>\n",
       "      <td>State7</td>\n",
       "      <td>City1</td>\n",
       "      <td>Location 1311</td>\n",
       "      <td>17</td>\n",
       "      <td>3</td>\n",
       "      <td>?</td>\n",
       "      <td>1</td>\n",
       "      <td>0</td>\n",
       "      <td>?</td>\n",
       "      <td>...</td>\n",
       "      <td>1</td>\n",
       "      <td>0</td>\n",
       "      <td>0</td>\n",
       "      <td>0</td>\n",
       "      <td>0</td>\n",
       "      <td>0</td>\n",
       "      <td>1</td>\n",
       "      <td>0</td>\n",
       "      <td>1</td>\n",
       "      <td>0</td>\n",
       "    </tr>\n",
       "    <tr>\n",
       "      <th>1</th>\n",
       "      <td>Police</td>\n",
       "      <td>State7</td>\n",
       "      <td>City5</td>\n",
       "      <td>Location 1311</td>\n",
       "      <td>10</td>\n",
       "      <td>3</td>\n",
       "      <td>YES</td>\n",
       "      <td>2</td>\n",
       "      <td>1</td>\n",
       "      <td>YES</td>\n",
       "      <td>...</td>\n",
       "      <td>0</td>\n",
       "      <td>0</td>\n",
       "      <td>0</td>\n",
       "      <td>0</td>\n",
       "      <td>0</td>\n",
       "      <td>0</td>\n",
       "      <td>1</td>\n",
       "      <td>0</td>\n",
       "      <td>1</td>\n",
       "      <td>0</td>\n",
       "    </tr>\n",
       "    <tr>\n",
       "      <th>2</th>\n",
       "      <td>Other</td>\n",
       "      <td>State8</td>\n",
       "      <td>City6</td>\n",
       "      <td>Location 2081</td>\n",
       "      <td>22</td>\n",
       "      <td>1</td>\n",
       "      <td>YES</td>\n",
       "      <td>2</td>\n",
       "      <td>3</td>\n",
       "      <td>NO</td>\n",
       "      <td>...</td>\n",
       "      <td>3</td>\n",
       "      <td>0</td>\n",
       "      <td>0</td>\n",
       "      <td>1</td>\n",
       "      <td>0</td>\n",
       "      <td>0</td>\n",
       "      <td>1</td>\n",
       "      <td>1</td>\n",
       "      <td>0</td>\n",
       "      <td>0</td>\n",
       "    </tr>\n",
       "    <tr>\n",
       "      <th>3</th>\n",
       "      <td>Other</td>\n",
       "      <td>State9</td>\n",
       "      <td>City6</td>\n",
       "      <td>Location 2081</td>\n",
       "      <td>22</td>\n",
       "      <td>1</td>\n",
       "      <td>YES</td>\n",
       "      <td>2</td>\n",
       "      <td>3</td>\n",
       "      <td>NO</td>\n",
       "      <td>...</td>\n",
       "      <td>0</td>\n",
       "      <td>0</td>\n",
       "      <td>0</td>\n",
       "      <td>1</td>\n",
       "      <td>0</td>\n",
       "      <td>0</td>\n",
       "      <td>1</td>\n",
       "      <td>1</td>\n",
       "      <td>0</td>\n",
       "      <td>0</td>\n",
       "    </tr>\n",
       "    <tr>\n",
       "      <th>4</th>\n",
       "      <td>Fire</td>\n",
       "      <td>State8</td>\n",
       "      <td>City6</td>\n",
       "      <td>Location 1695</td>\n",
       "      <td>10</td>\n",
       "      <td>1</td>\n",
       "      <td>NO</td>\n",
       "      <td>2</td>\n",
       "      <td>1</td>\n",
       "      <td>YES</td>\n",
       "      <td>...</td>\n",
       "      <td>4</td>\n",
       "      <td>0</td>\n",
       "      <td>0</td>\n",
       "      <td>1</td>\n",
       "      <td>0</td>\n",
       "      <td>1</td>\n",
       "      <td>0</td>\n",
       "      <td>1</td>\n",
       "      <td>0</td>\n",
       "      <td>0</td>\n",
       "    </tr>\n",
       "  </tbody>\n",
       "</table>\n",
       "<p>5 rows × 46 columns</p>\n",
       "</div>"
      ],
      "text/plain": [
       "  AuthoritiesContacted IncidentState IncidentCity IncidentAddress  \\\n",
       "0               Police        State7        City1   Location 1311   \n",
       "1               Police        State7        City5   Location 1311   \n",
       "2                Other        State8        City6   Location 2081   \n",
       "3                Other        State9        City6   Location 2081   \n",
       "4                 Fire        State8        City6   Location 1695   \n",
       "\n",
       "   IncidentTime  NumberOfVehicles PropertyDamage  BodilyInjuries Witnesses  \\\n",
       "0            17                 3              ?               1         0   \n",
       "1            10                 3            YES               2         1   \n",
       "2            22                 1            YES               2         3   \n",
       "3            22                 1            YES               2         3   \n",
       "4            10                 1             NO               2         1   \n",
       "\n",
       "  PoliceReport  ... day_of_week_of_incident  weekend_of_incident  \\\n",
       "0            ?  ...                       1                    0   \n",
       "1          YES  ...                       0                    0   \n",
       "2           NO  ...                       3                    0   \n",
       "3           NO  ...                       0                    0   \n",
       "4          YES  ...                       4                    0   \n",
       "\n",
       "   TypeOfIncident_Parked Car  TypeOfIncident_Single Vehicle Collision  \\\n",
       "0                          0                                        0   \n",
       "1                          0                                        0   \n",
       "2                          0                                        1   \n",
       "3                          0                                        1   \n",
       "4                          0                                        1   \n",
       "\n",
       "   TypeOfIncident_Vehicle Theft  TypeOfCollission_Rear Collision  \\\n",
       "0                             0                                0   \n",
       "1                             0                                0   \n",
       "2                             0                                0   \n",
       "3                             0                                0   \n",
       "4                             0                                1   \n",
       "\n",
       "   TypeOfCollission_Side Collision SeverityOfIncident_Minor Damage  \\\n",
       "0                                1                               0   \n",
       "1                                1                               0   \n",
       "2                                1                               1   \n",
       "3                                1                               1   \n",
       "4                                0                               1   \n",
       "\n",
       "  SeverityOfIncident_Total Loss SeverityOfIncident_Trivial Damage  \n",
       "0                             1                                 0  \n",
       "1                             1                                 0  \n",
       "2                             0                                 0  \n",
       "3                             0                                 0  \n",
       "4                             0                                 0  \n",
       "\n",
       "[5 rows x 46 columns]"
      ]
     },
     "execution_count": 81,
     "metadata": {},
     "output_type": "execute_result"
    }
   ],
   "source": [
    "data_20.head()"
   ]
  },
  {
   "cell_type": "code",
   "execution_count": 82,
   "metadata": {},
   "outputs": [
    {
     "data": {
      "text/plain": [
       "Police       8324\n",
       "Fire         6518\n",
       "Ambulance    5732\n",
       "Other        5570\n",
       "None         2692\n",
       "Name: AuthoritiesContacted, dtype: int64"
      ]
     },
     "execution_count": 82,
     "metadata": {},
     "output_type": "execute_result"
    }
   ],
   "source": [
    "data_20['AuthoritiesContacted'].value_counts()"
   ]
  },
  {
   "cell_type": "code",
   "execution_count": 83,
   "metadata": {},
   "outputs": [],
   "source": [
    "# Label encoding of \"AuthoritiesContacted\" column\n",
    "data_20['AuthoritiesContacted']= le.fit_transform(data_20['AuthoritiesContacted']) "
   ]
  },
  {
   "cell_type": "code",
   "execution_count": 84,
   "metadata": {},
   "outputs": [
    {
     "data": {
      "text/html": [
       "<div>\n",
       "<style scoped>\n",
       "    .dataframe tbody tr th:only-of-type {\n",
       "        vertical-align: middle;\n",
       "    }\n",
       "\n",
       "    .dataframe tbody tr th {\n",
       "        vertical-align: top;\n",
       "    }\n",
       "\n",
       "    .dataframe thead th {\n",
       "        text-align: right;\n",
       "    }\n",
       "</style>\n",
       "<table border=\"1\" class=\"dataframe\">\n",
       "  <thead>\n",
       "    <tr style=\"text-align: right;\">\n",
       "      <th></th>\n",
       "      <th>AuthoritiesContacted</th>\n",
       "      <th>IncidentState</th>\n",
       "      <th>IncidentCity</th>\n",
       "      <th>IncidentAddress</th>\n",
       "      <th>IncidentTime</th>\n",
       "      <th>NumberOfVehicles</th>\n",
       "      <th>PropertyDamage</th>\n",
       "      <th>BodilyInjuries</th>\n",
       "      <th>Witnesses</th>\n",
       "      <th>PoliceReport</th>\n",
       "      <th>...</th>\n",
       "      <th>day_of_week_of_incident</th>\n",
       "      <th>weekend_of_incident</th>\n",
       "      <th>TypeOfIncident_Parked Car</th>\n",
       "      <th>TypeOfIncident_Single Vehicle Collision</th>\n",
       "      <th>TypeOfIncident_Vehicle Theft</th>\n",
       "      <th>TypeOfCollission_Rear Collision</th>\n",
       "      <th>TypeOfCollission_Side Collision</th>\n",
       "      <th>SeverityOfIncident_Minor Damage</th>\n",
       "      <th>SeverityOfIncident_Total Loss</th>\n",
       "      <th>SeverityOfIncident_Trivial Damage</th>\n",
       "    </tr>\n",
       "  </thead>\n",
       "  <tbody>\n",
       "    <tr>\n",
       "      <th>0</th>\n",
       "      <td>4</td>\n",
       "      <td>State7</td>\n",
       "      <td>City1</td>\n",
       "      <td>Location 1311</td>\n",
       "      <td>17</td>\n",
       "      <td>3</td>\n",
       "      <td>?</td>\n",
       "      <td>1</td>\n",
       "      <td>0</td>\n",
       "      <td>?</td>\n",
       "      <td>...</td>\n",
       "      <td>1</td>\n",
       "      <td>0</td>\n",
       "      <td>0</td>\n",
       "      <td>0</td>\n",
       "      <td>0</td>\n",
       "      <td>0</td>\n",
       "      <td>1</td>\n",
       "      <td>0</td>\n",
       "      <td>1</td>\n",
       "      <td>0</td>\n",
       "    </tr>\n",
       "    <tr>\n",
       "      <th>1</th>\n",
       "      <td>4</td>\n",
       "      <td>State7</td>\n",
       "      <td>City5</td>\n",
       "      <td>Location 1311</td>\n",
       "      <td>10</td>\n",
       "      <td>3</td>\n",
       "      <td>YES</td>\n",
       "      <td>2</td>\n",
       "      <td>1</td>\n",
       "      <td>YES</td>\n",
       "      <td>...</td>\n",
       "      <td>0</td>\n",
       "      <td>0</td>\n",
       "      <td>0</td>\n",
       "      <td>0</td>\n",
       "      <td>0</td>\n",
       "      <td>0</td>\n",
       "      <td>1</td>\n",
       "      <td>0</td>\n",
       "      <td>1</td>\n",
       "      <td>0</td>\n",
       "    </tr>\n",
       "    <tr>\n",
       "      <th>2</th>\n",
       "      <td>3</td>\n",
       "      <td>State8</td>\n",
       "      <td>City6</td>\n",
       "      <td>Location 2081</td>\n",
       "      <td>22</td>\n",
       "      <td>1</td>\n",
       "      <td>YES</td>\n",
       "      <td>2</td>\n",
       "      <td>3</td>\n",
       "      <td>NO</td>\n",
       "      <td>...</td>\n",
       "      <td>3</td>\n",
       "      <td>0</td>\n",
       "      <td>0</td>\n",
       "      <td>1</td>\n",
       "      <td>0</td>\n",
       "      <td>0</td>\n",
       "      <td>1</td>\n",
       "      <td>1</td>\n",
       "      <td>0</td>\n",
       "      <td>0</td>\n",
       "    </tr>\n",
       "    <tr>\n",
       "      <th>3</th>\n",
       "      <td>3</td>\n",
       "      <td>State9</td>\n",
       "      <td>City6</td>\n",
       "      <td>Location 2081</td>\n",
       "      <td>22</td>\n",
       "      <td>1</td>\n",
       "      <td>YES</td>\n",
       "      <td>2</td>\n",
       "      <td>3</td>\n",
       "      <td>NO</td>\n",
       "      <td>...</td>\n",
       "      <td>0</td>\n",
       "      <td>0</td>\n",
       "      <td>0</td>\n",
       "      <td>1</td>\n",
       "      <td>0</td>\n",
       "      <td>0</td>\n",
       "      <td>1</td>\n",
       "      <td>1</td>\n",
       "      <td>0</td>\n",
       "      <td>0</td>\n",
       "    </tr>\n",
       "    <tr>\n",
       "      <th>4</th>\n",
       "      <td>1</td>\n",
       "      <td>State8</td>\n",
       "      <td>City6</td>\n",
       "      <td>Location 1695</td>\n",
       "      <td>10</td>\n",
       "      <td>1</td>\n",
       "      <td>NO</td>\n",
       "      <td>2</td>\n",
       "      <td>1</td>\n",
       "      <td>YES</td>\n",
       "      <td>...</td>\n",
       "      <td>4</td>\n",
       "      <td>0</td>\n",
       "      <td>0</td>\n",
       "      <td>1</td>\n",
       "      <td>0</td>\n",
       "      <td>1</td>\n",
       "      <td>0</td>\n",
       "      <td>1</td>\n",
       "      <td>0</td>\n",
       "      <td>0</td>\n",
       "    </tr>\n",
       "  </tbody>\n",
       "</table>\n",
       "<p>5 rows × 46 columns</p>\n",
       "</div>"
      ],
      "text/plain": [
       "   AuthoritiesContacted IncidentState IncidentCity IncidentAddress  \\\n",
       "0                     4        State7        City1   Location 1311   \n",
       "1                     4        State7        City5   Location 1311   \n",
       "2                     3        State8        City6   Location 2081   \n",
       "3                     3        State9        City6   Location 2081   \n",
       "4                     1        State8        City6   Location 1695   \n",
       "\n",
       "   IncidentTime  NumberOfVehicles PropertyDamage  BodilyInjuries Witnesses  \\\n",
       "0            17                 3              ?               1         0   \n",
       "1            10                 3            YES               2         1   \n",
       "2            22                 1            YES               2         3   \n",
       "3            22                 1            YES               2         3   \n",
       "4            10                 1             NO               2         1   \n",
       "\n",
       "  PoliceReport  ... day_of_week_of_incident  weekend_of_incident  \\\n",
       "0            ?  ...                       1                    0   \n",
       "1          YES  ...                       0                    0   \n",
       "2           NO  ...                       3                    0   \n",
       "3           NO  ...                       0                    0   \n",
       "4          YES  ...                       4                    0   \n",
       "\n",
       "   TypeOfIncident_Parked Car  TypeOfIncident_Single Vehicle Collision  \\\n",
       "0                          0                                        0   \n",
       "1                          0                                        0   \n",
       "2                          0                                        1   \n",
       "3                          0                                        1   \n",
       "4                          0                                        1   \n",
       "\n",
       "   TypeOfIncident_Vehicle Theft  TypeOfCollission_Rear Collision  \\\n",
       "0                             0                                0   \n",
       "1                             0                                0   \n",
       "2                             0                                0   \n",
       "3                             0                                0   \n",
       "4                             0                                1   \n",
       "\n",
       "   TypeOfCollission_Side Collision SeverityOfIncident_Minor Damage  \\\n",
       "0                                1                               0   \n",
       "1                                1                               0   \n",
       "2                                1                               1   \n",
       "3                                1                               1   \n",
       "4                                0                               1   \n",
       "\n",
       "  SeverityOfIncident_Total Loss SeverityOfIncident_Trivial Damage  \n",
       "0                             1                                 0  \n",
       "1                             1                                 0  \n",
       "2                             0                                 0  \n",
       "3                             0                                 0  \n",
       "4                             0                                 0  \n",
       "\n",
       "[5 rows x 46 columns]"
      ]
     },
     "execution_count": 84,
     "metadata": {},
     "output_type": "execute_result"
    }
   ],
   "source": [
    "data_21=data_20\n",
    "data_21.head()"
   ]
  },
  {
   "cell_type": "code",
   "execution_count": 85,
   "metadata": {},
   "outputs": [
    {
     "data": {
      "text/plain": [
       "State5    7886\n",
       "State7    7168\n",
       "State9    6161\n",
       "State8    3181\n",
       "State4    3029\n",
       "State6     810\n",
       "State3     601\n",
       "Name: IncidentState, dtype: int64"
      ]
     },
     "execution_count": 85,
     "metadata": {},
     "output_type": "execute_result"
    }
   ],
   "source": [
    "data_21['IncidentState'].value_counts()"
   ]
  },
  {
   "cell_type": "code",
   "execution_count": 86,
   "metadata": {},
   "outputs": [],
   "source": [
    "# Label encoding of \"IncidentState\" column\n",
    "data_21['IncidentState']= le.fit_transform(data_21['IncidentState']) \n",
    "data_22=data_21"
   ]
  },
  {
   "cell_type": "code",
   "execution_count": 87,
   "metadata": {},
   "outputs": [
    {
     "data": {
      "text/plain": [
       "0        4\n",
       "1        4\n",
       "2        5\n",
       "3        6\n",
       "4        5\n",
       "        ..\n",
       "28831    6\n",
       "28832    5\n",
       "28833    6\n",
       "28834    6\n",
       "28835    5\n",
       "Name: IncidentState, Length: 28836, dtype: int32"
      ]
     },
     "execution_count": 87,
     "metadata": {},
     "output_type": "execute_result"
    }
   ],
   "source": [
    "data_22['IncidentState']"
   ]
  },
  {
   "cell_type": "code",
   "execution_count": 88,
   "metadata": {},
   "outputs": [
    {
     "data": {
      "text/html": [
       "<div>\n",
       "<style scoped>\n",
       "    .dataframe tbody tr th:only-of-type {\n",
       "        vertical-align: middle;\n",
       "    }\n",
       "\n",
       "    .dataframe tbody tr th {\n",
       "        vertical-align: top;\n",
       "    }\n",
       "\n",
       "    .dataframe thead th {\n",
       "        text-align: right;\n",
       "    }\n",
       "</style>\n",
       "<table border=\"1\" class=\"dataframe\">\n",
       "  <thead>\n",
       "    <tr style=\"text-align: right;\">\n",
       "      <th></th>\n",
       "      <th>AuthoritiesContacted</th>\n",
       "      <th>IncidentState</th>\n",
       "      <th>IncidentCity</th>\n",
       "      <th>IncidentAddress</th>\n",
       "      <th>IncidentTime</th>\n",
       "      <th>NumberOfVehicles</th>\n",
       "      <th>PropertyDamage</th>\n",
       "      <th>BodilyInjuries</th>\n",
       "      <th>Witnesses</th>\n",
       "      <th>PoliceReport</th>\n",
       "      <th>...</th>\n",
       "      <th>day_of_week_of_incident</th>\n",
       "      <th>weekend_of_incident</th>\n",
       "      <th>TypeOfIncident_Parked Car</th>\n",
       "      <th>TypeOfIncident_Single Vehicle Collision</th>\n",
       "      <th>TypeOfIncident_Vehicle Theft</th>\n",
       "      <th>TypeOfCollission_Rear Collision</th>\n",
       "      <th>TypeOfCollission_Side Collision</th>\n",
       "      <th>SeverityOfIncident_Minor Damage</th>\n",
       "      <th>SeverityOfIncident_Total Loss</th>\n",
       "      <th>SeverityOfIncident_Trivial Damage</th>\n",
       "    </tr>\n",
       "  </thead>\n",
       "  <tbody>\n",
       "    <tr>\n",
       "      <th>0</th>\n",
       "      <td>4</td>\n",
       "      <td>4</td>\n",
       "      <td>City1</td>\n",
       "      <td>Location 1311</td>\n",
       "      <td>17</td>\n",
       "      <td>3</td>\n",
       "      <td>?</td>\n",
       "      <td>1</td>\n",
       "      <td>0</td>\n",
       "      <td>?</td>\n",
       "      <td>...</td>\n",
       "      <td>1</td>\n",
       "      <td>0</td>\n",
       "      <td>0</td>\n",
       "      <td>0</td>\n",
       "      <td>0</td>\n",
       "      <td>0</td>\n",
       "      <td>1</td>\n",
       "      <td>0</td>\n",
       "      <td>1</td>\n",
       "      <td>0</td>\n",
       "    </tr>\n",
       "    <tr>\n",
       "      <th>1</th>\n",
       "      <td>4</td>\n",
       "      <td>4</td>\n",
       "      <td>City5</td>\n",
       "      <td>Location 1311</td>\n",
       "      <td>10</td>\n",
       "      <td>3</td>\n",
       "      <td>YES</td>\n",
       "      <td>2</td>\n",
       "      <td>1</td>\n",
       "      <td>YES</td>\n",
       "      <td>...</td>\n",
       "      <td>0</td>\n",
       "      <td>0</td>\n",
       "      <td>0</td>\n",
       "      <td>0</td>\n",
       "      <td>0</td>\n",
       "      <td>0</td>\n",
       "      <td>1</td>\n",
       "      <td>0</td>\n",
       "      <td>1</td>\n",
       "      <td>0</td>\n",
       "    </tr>\n",
       "    <tr>\n",
       "      <th>2</th>\n",
       "      <td>3</td>\n",
       "      <td>5</td>\n",
       "      <td>City6</td>\n",
       "      <td>Location 2081</td>\n",
       "      <td>22</td>\n",
       "      <td>1</td>\n",
       "      <td>YES</td>\n",
       "      <td>2</td>\n",
       "      <td>3</td>\n",
       "      <td>NO</td>\n",
       "      <td>...</td>\n",
       "      <td>3</td>\n",
       "      <td>0</td>\n",
       "      <td>0</td>\n",
       "      <td>1</td>\n",
       "      <td>0</td>\n",
       "      <td>0</td>\n",
       "      <td>1</td>\n",
       "      <td>1</td>\n",
       "      <td>0</td>\n",
       "      <td>0</td>\n",
       "    </tr>\n",
       "    <tr>\n",
       "      <th>3</th>\n",
       "      <td>3</td>\n",
       "      <td>6</td>\n",
       "      <td>City6</td>\n",
       "      <td>Location 2081</td>\n",
       "      <td>22</td>\n",
       "      <td>1</td>\n",
       "      <td>YES</td>\n",
       "      <td>2</td>\n",
       "      <td>3</td>\n",
       "      <td>NO</td>\n",
       "      <td>...</td>\n",
       "      <td>0</td>\n",
       "      <td>0</td>\n",
       "      <td>0</td>\n",
       "      <td>1</td>\n",
       "      <td>0</td>\n",
       "      <td>0</td>\n",
       "      <td>1</td>\n",
       "      <td>1</td>\n",
       "      <td>0</td>\n",
       "      <td>0</td>\n",
       "    </tr>\n",
       "    <tr>\n",
       "      <th>4</th>\n",
       "      <td>1</td>\n",
       "      <td>5</td>\n",
       "      <td>City6</td>\n",
       "      <td>Location 1695</td>\n",
       "      <td>10</td>\n",
       "      <td>1</td>\n",
       "      <td>NO</td>\n",
       "      <td>2</td>\n",
       "      <td>1</td>\n",
       "      <td>YES</td>\n",
       "      <td>...</td>\n",
       "      <td>4</td>\n",
       "      <td>0</td>\n",
       "      <td>0</td>\n",
       "      <td>1</td>\n",
       "      <td>0</td>\n",
       "      <td>1</td>\n",
       "      <td>0</td>\n",
       "      <td>1</td>\n",
       "      <td>0</td>\n",
       "      <td>0</td>\n",
       "    </tr>\n",
       "  </tbody>\n",
       "</table>\n",
       "<p>5 rows × 46 columns</p>\n",
       "</div>"
      ],
      "text/plain": [
       "   AuthoritiesContacted  IncidentState IncidentCity IncidentAddress  \\\n",
       "0                     4              4        City1   Location 1311   \n",
       "1                     4              4        City5   Location 1311   \n",
       "2                     3              5        City6   Location 2081   \n",
       "3                     3              6        City6   Location 2081   \n",
       "4                     1              5        City6   Location 1695   \n",
       "\n",
       "   IncidentTime  NumberOfVehicles PropertyDamage  BodilyInjuries Witnesses  \\\n",
       "0            17                 3              ?               1         0   \n",
       "1            10                 3            YES               2         1   \n",
       "2            22                 1            YES               2         3   \n",
       "3            22                 1            YES               2         3   \n",
       "4            10                 1             NO               2         1   \n",
       "\n",
       "  PoliceReport  ... day_of_week_of_incident  weekend_of_incident  \\\n",
       "0            ?  ...                       1                    0   \n",
       "1          YES  ...                       0                    0   \n",
       "2           NO  ...                       3                    0   \n",
       "3           NO  ...                       0                    0   \n",
       "4          YES  ...                       4                    0   \n",
       "\n",
       "   TypeOfIncident_Parked Car  TypeOfIncident_Single Vehicle Collision  \\\n",
       "0                          0                                        0   \n",
       "1                          0                                        0   \n",
       "2                          0                                        1   \n",
       "3                          0                                        1   \n",
       "4                          0                                        1   \n",
       "\n",
       "   TypeOfIncident_Vehicle Theft  TypeOfCollission_Rear Collision  \\\n",
       "0                             0                                0   \n",
       "1                             0                                0   \n",
       "2                             0                                0   \n",
       "3                             0                                0   \n",
       "4                             0                                1   \n",
       "\n",
       "   TypeOfCollission_Side Collision SeverityOfIncident_Minor Damage  \\\n",
       "0                                1                               0   \n",
       "1                                1                               0   \n",
       "2                                1                               1   \n",
       "3                                1                               1   \n",
       "4                                0                               1   \n",
       "\n",
       "  SeverityOfIncident_Total Loss SeverityOfIncident_Trivial Damage  \n",
       "0                             1                                 0  \n",
       "1                             1                                 0  \n",
       "2                             0                                 0  \n",
       "3                             0                                 0  \n",
       "4                             0                                 0  \n",
       "\n",
       "[5 rows x 46 columns]"
      ]
     },
     "execution_count": 88,
     "metadata": {},
     "output_type": "execute_result"
    }
   ],
   "source": [
    "data_22.head()"
   ]
  },
  {
   "cell_type": "code",
   "execution_count": 89,
   "metadata": {},
   "outputs": [
    {
     "data": {
      "text/plain": [
       "City2    4486\n",
       "City1    4374\n",
       "City4    4311\n",
       "City7    4216\n",
       "City3    4073\n",
       "City5    3698\n",
       "City6    3678\n",
       "Name: IncidentCity, dtype: int64"
      ]
     },
     "execution_count": 89,
     "metadata": {},
     "output_type": "execute_result"
    }
   ],
   "source": [
    "data_22['IncidentCity'].value_counts()"
   ]
  },
  {
   "cell_type": "code",
   "execution_count": 90,
   "metadata": {},
   "outputs": [],
   "source": [
    "# Label encoding of \"IncidentCity\" column\n",
    "data_22['IncidentCity']= le.fit_transform(data_22['IncidentCity']) \n",
    "data_23=data_22"
   ]
  },
  {
   "cell_type": "code",
   "execution_count": 91,
   "metadata": {},
   "outputs": [
    {
     "data": {
      "text/plain": [
       "(28836, 46)"
      ]
     },
     "execution_count": 91,
     "metadata": {},
     "output_type": "execute_result"
    }
   ],
   "source": [
    "data_23.shape"
   ]
  },
  {
   "cell_type": "code",
   "execution_count": 92,
   "metadata": {},
   "outputs": [
    {
     "data": {
      "text/plain": [
       "Location 1341    73\n",
       "Location 1254    72\n",
       "Location 1227    71\n",
       "Location 2006    70\n",
       "Location 1136    68\n",
       "                 ..\n",
       "Location 1359    10\n",
       "Location 1464    10\n",
       "Location 2072     9\n",
       "Location 1043     9\n",
       "Location 1555     9\n",
       "Name: IncidentAddress, Length: 1000, dtype: int64"
      ]
     },
     "execution_count": 92,
     "metadata": {},
     "output_type": "execute_result"
    }
   ],
   "source": [
    "data_23['IncidentAddress'].value_counts()"
   ]
  },
  {
   "cell_type": "code",
   "execution_count": 93,
   "metadata": {},
   "outputs": [],
   "source": [
    "#Dropping \"IncidentAddress\" column\n",
    "data_23=data_23.drop('IncidentAddress',axis=1)"
   ]
  },
  {
   "cell_type": "code",
   "execution_count": 94,
   "metadata": {},
   "outputs": [
    {
     "data": {
      "text/html": [
       "<div>\n",
       "<style scoped>\n",
       "    .dataframe tbody tr th:only-of-type {\n",
       "        vertical-align: middle;\n",
       "    }\n",
       "\n",
       "    .dataframe tbody tr th {\n",
       "        vertical-align: top;\n",
       "    }\n",
       "\n",
       "    .dataframe thead th {\n",
       "        text-align: right;\n",
       "    }\n",
       "</style>\n",
       "<table border=\"1\" class=\"dataframe\">\n",
       "  <thead>\n",
       "    <tr style=\"text-align: right;\">\n",
       "      <th></th>\n",
       "      <th>AuthoritiesContacted</th>\n",
       "      <th>IncidentState</th>\n",
       "      <th>IncidentCity</th>\n",
       "      <th>IncidentTime</th>\n",
       "      <th>NumberOfVehicles</th>\n",
       "      <th>PropertyDamage</th>\n",
       "      <th>BodilyInjuries</th>\n",
       "      <th>Witnesses</th>\n",
       "      <th>PoliceReport</th>\n",
       "      <th>AmountOfTotalClaim</th>\n",
       "      <th>...</th>\n",
       "      <th>day_of_week_of_incident</th>\n",
       "      <th>weekend_of_incident</th>\n",
       "      <th>TypeOfIncident_Parked Car</th>\n",
       "      <th>TypeOfIncident_Single Vehicle Collision</th>\n",
       "      <th>TypeOfIncident_Vehicle Theft</th>\n",
       "      <th>TypeOfCollission_Rear Collision</th>\n",
       "      <th>TypeOfCollission_Side Collision</th>\n",
       "      <th>SeverityOfIncident_Minor Damage</th>\n",
       "      <th>SeverityOfIncident_Total Loss</th>\n",
       "      <th>SeverityOfIncident_Trivial Damage</th>\n",
       "    </tr>\n",
       "  </thead>\n",
       "  <tbody>\n",
       "    <tr>\n",
       "      <th>0</th>\n",
       "      <td>4</td>\n",
       "      <td>4</td>\n",
       "      <td>0</td>\n",
       "      <td>17</td>\n",
       "      <td>3</td>\n",
       "      <td>?</td>\n",
       "      <td>1</td>\n",
       "      <td>0</td>\n",
       "      <td>?</td>\n",
       "      <td>65501</td>\n",
       "      <td>...</td>\n",
       "      <td>1</td>\n",
       "      <td>0</td>\n",
       "      <td>0</td>\n",
       "      <td>0</td>\n",
       "      <td>0</td>\n",
       "      <td>0</td>\n",
       "      <td>1</td>\n",
       "      <td>0</td>\n",
       "      <td>1</td>\n",
       "      <td>0</td>\n",
       "    </tr>\n",
       "    <tr>\n",
       "      <th>1</th>\n",
       "      <td>4</td>\n",
       "      <td>4</td>\n",
       "      <td>4</td>\n",
       "      <td>10</td>\n",
       "      <td>3</td>\n",
       "      <td>YES</td>\n",
       "      <td>2</td>\n",
       "      <td>1</td>\n",
       "      <td>YES</td>\n",
       "      <td>61382</td>\n",
       "      <td>...</td>\n",
       "      <td>0</td>\n",
       "      <td>0</td>\n",
       "      <td>0</td>\n",
       "      <td>0</td>\n",
       "      <td>0</td>\n",
       "      <td>0</td>\n",
       "      <td>1</td>\n",
       "      <td>0</td>\n",
       "      <td>1</td>\n",
       "      <td>0</td>\n",
       "    </tr>\n",
       "    <tr>\n",
       "      <th>2</th>\n",
       "      <td>3</td>\n",
       "      <td>5</td>\n",
       "      <td>5</td>\n",
       "      <td>22</td>\n",
       "      <td>1</td>\n",
       "      <td>YES</td>\n",
       "      <td>2</td>\n",
       "      <td>3</td>\n",
       "      <td>NO</td>\n",
       "      <td>66755</td>\n",
       "      <td>...</td>\n",
       "      <td>3</td>\n",
       "      <td>0</td>\n",
       "      <td>0</td>\n",
       "      <td>1</td>\n",
       "      <td>0</td>\n",
       "      <td>0</td>\n",
       "      <td>1</td>\n",
       "      <td>1</td>\n",
       "      <td>0</td>\n",
       "      <td>0</td>\n",
       "    </tr>\n",
       "    <tr>\n",
       "      <th>3</th>\n",
       "      <td>3</td>\n",
       "      <td>6</td>\n",
       "      <td>5</td>\n",
       "      <td>22</td>\n",
       "      <td>1</td>\n",
       "      <td>YES</td>\n",
       "      <td>2</td>\n",
       "      <td>3</td>\n",
       "      <td>NO</td>\n",
       "      <td>66243</td>\n",
       "      <td>...</td>\n",
       "      <td>0</td>\n",
       "      <td>0</td>\n",
       "      <td>0</td>\n",
       "      <td>1</td>\n",
       "      <td>0</td>\n",
       "      <td>0</td>\n",
       "      <td>1</td>\n",
       "      <td>1</td>\n",
       "      <td>0</td>\n",
       "      <td>0</td>\n",
       "    </tr>\n",
       "    <tr>\n",
       "      <th>4</th>\n",
       "      <td>1</td>\n",
       "      <td>5</td>\n",
       "      <td>5</td>\n",
       "      <td>10</td>\n",
       "      <td>1</td>\n",
       "      <td>NO</td>\n",
       "      <td>2</td>\n",
       "      <td>1</td>\n",
       "      <td>YES</td>\n",
       "      <td>53544</td>\n",
       "      <td>...</td>\n",
       "      <td>4</td>\n",
       "      <td>0</td>\n",
       "      <td>0</td>\n",
       "      <td>1</td>\n",
       "      <td>0</td>\n",
       "      <td>1</td>\n",
       "      <td>0</td>\n",
       "      <td>1</td>\n",
       "      <td>0</td>\n",
       "      <td>0</td>\n",
       "    </tr>\n",
       "  </tbody>\n",
       "</table>\n",
       "<p>5 rows × 45 columns</p>\n",
       "</div>"
      ],
      "text/plain": [
       "   AuthoritiesContacted  IncidentState  IncidentCity  IncidentTime  \\\n",
       "0                     4              4             0            17   \n",
       "1                     4              4             4            10   \n",
       "2                     3              5             5            22   \n",
       "3                     3              6             5            22   \n",
       "4                     1              5             5            10   \n",
       "\n",
       "   NumberOfVehicles PropertyDamage  BodilyInjuries Witnesses PoliceReport  \\\n",
       "0                 3              ?               1         0            ?   \n",
       "1                 3            YES               2         1          YES   \n",
       "2                 1            YES               2         3           NO   \n",
       "3                 1            YES               2         3           NO   \n",
       "4                 1             NO               2         1          YES   \n",
       "\n",
       "  AmountOfTotalClaim  ...  day_of_week_of_incident  weekend_of_incident  \\\n",
       "0              65501  ...                        1                    0   \n",
       "1              61382  ...                        0                    0   \n",
       "2              66755  ...                        3                    0   \n",
       "3              66243  ...                        0                    0   \n",
       "4              53544  ...                        4                    0   \n",
       "\n",
       "   TypeOfIncident_Parked Car  TypeOfIncident_Single Vehicle Collision  \\\n",
       "0                          0                                        0   \n",
       "1                          0                                        0   \n",
       "2                          0                                        1   \n",
       "3                          0                                        1   \n",
       "4                          0                                        1   \n",
       "\n",
       "   TypeOfIncident_Vehicle Theft  TypeOfCollission_Rear Collision  \\\n",
       "0                             0                                0   \n",
       "1                             0                                0   \n",
       "2                             0                                0   \n",
       "3                             0                                0   \n",
       "4                             0                                1   \n",
       "\n",
       "  TypeOfCollission_Side Collision SeverityOfIncident_Minor Damage  \\\n",
       "0                               1                               0   \n",
       "1                               1                               0   \n",
       "2                               1                               1   \n",
       "3                               1                               1   \n",
       "4                               0                               1   \n",
       "\n",
       "  SeverityOfIncident_Total Loss  SeverityOfIncident_Trivial Damage  \n",
       "0                             1                                  0  \n",
       "1                             1                                  0  \n",
       "2                             0                                  0  \n",
       "3                             0                                  0  \n",
       "4                             0                                  0  \n",
       "\n",
       "[5 rows x 45 columns]"
      ]
     },
     "execution_count": 94,
     "metadata": {},
     "output_type": "execute_result"
    }
   ],
   "source": [
    "data_23.head()"
   ]
  },
  {
   "cell_type": "code",
   "execution_count": 95,
   "metadata": {},
   "outputs": [
    {
     "data": {
      "text/plain": [
       " 16    1616\n",
       " 17    1615\n",
       " 6     1564\n",
       " 15    1541\n",
       " 14    1461\n",
       " 5     1434\n",
       " 13    1420\n",
       " 18    1419\n",
       " 4     1406\n",
       " 12    1363\n",
       " 7     1331\n",
       " 11    1286\n",
       " 19    1280\n",
       " 8     1251\n",
       " 3     1232\n",
       " 9     1210\n",
       " 10    1165\n",
       " 20    1153\n",
       " 21     971\n",
       " 22     809\n",
       " 2      713\n",
       " 1      648\n",
       " 23     526\n",
       " 0      391\n",
       "-5       31\n",
       "Name: IncidentTime, dtype: int64"
      ]
     },
     "execution_count": 95,
     "metadata": {},
     "output_type": "execute_result"
    }
   ],
   "source": [
    "data_23['IncidentTime'].value_counts()"
   ]
  },
  {
   "cell_type": "code",
   "execution_count": 96,
   "metadata": {},
   "outputs": [],
   "source": [
    "# Dropping \"-5\" values in \"IncidentTime\" column\n",
    "data_23=data_23[data_23['IncidentTime']!=-5]"
   ]
  },
  {
   "cell_type": "code",
   "execution_count": 97,
   "metadata": {},
   "outputs": [
    {
     "data": {
      "text/html": [
       "<div>\n",
       "<style scoped>\n",
       "    .dataframe tbody tr th:only-of-type {\n",
       "        vertical-align: middle;\n",
       "    }\n",
       "\n",
       "    .dataframe tbody tr th {\n",
       "        vertical-align: top;\n",
       "    }\n",
       "\n",
       "    .dataframe thead th {\n",
       "        text-align: right;\n",
       "    }\n",
       "</style>\n",
       "<table border=\"1\" class=\"dataframe\">\n",
       "  <thead>\n",
       "    <tr style=\"text-align: right;\">\n",
       "      <th></th>\n",
       "      <th>AuthoritiesContacted</th>\n",
       "      <th>IncidentState</th>\n",
       "      <th>IncidentCity</th>\n",
       "      <th>IncidentTime</th>\n",
       "      <th>NumberOfVehicles</th>\n",
       "      <th>PropertyDamage</th>\n",
       "      <th>BodilyInjuries</th>\n",
       "      <th>Witnesses</th>\n",
       "      <th>PoliceReport</th>\n",
       "      <th>AmountOfTotalClaim</th>\n",
       "      <th>...</th>\n",
       "      <th>day_of_week_of_incident</th>\n",
       "      <th>weekend_of_incident</th>\n",
       "      <th>TypeOfIncident_Parked Car</th>\n",
       "      <th>TypeOfIncident_Single Vehicle Collision</th>\n",
       "      <th>TypeOfIncident_Vehicle Theft</th>\n",
       "      <th>TypeOfCollission_Rear Collision</th>\n",
       "      <th>TypeOfCollission_Side Collision</th>\n",
       "      <th>SeverityOfIncident_Minor Damage</th>\n",
       "      <th>SeverityOfIncident_Total Loss</th>\n",
       "      <th>SeverityOfIncident_Trivial Damage</th>\n",
       "    </tr>\n",
       "  </thead>\n",
       "  <tbody>\n",
       "  </tbody>\n",
       "</table>\n",
       "<p>0 rows × 45 columns</p>\n",
       "</div>"
      ],
      "text/plain": [
       "Empty DataFrame\n",
       "Columns: [AuthoritiesContacted, IncidentState, IncidentCity, IncidentTime, NumberOfVehicles, PropertyDamage, BodilyInjuries, Witnesses, PoliceReport, AmountOfTotalClaim, AmountOfInjuryClaim, AmountOfPropertyClaim, AmountOfVehicleDamage, InsuredAge, InsuredZipCode, InsuredGender, InsuredEducationLevel, InsuredOccupation, InsuredHobbies, CapitalGains, CapitalLoss, ReportedFraud, InsurancePolicyNumber, CustomerLoyaltyPeriod, DateOfPolicyCoverage, InsurancePolicyState, Policy_CombinedSingleLimit, Policy_Deductible, PolicyAnnualPremium, UmbrellaLimit, InsuredRelationship, VehicleMake, VehicleYOM, month_of_incident, day_of_incident, day_of_week_of_incident, weekend_of_incident, TypeOfIncident_Parked Car, TypeOfIncident_Single Vehicle Collision, TypeOfIncident_Vehicle Theft, TypeOfCollission_Rear Collision, TypeOfCollission_Side Collision, SeverityOfIncident_Minor Damage, SeverityOfIncident_Total Loss, SeverityOfIncident_Trivial Damage]\n",
       "Index: []\n",
       "\n",
       "[0 rows x 45 columns]"
      ]
     },
     "execution_count": 97,
     "metadata": {},
     "output_type": "execute_result"
    }
   ],
   "source": [
    "# Checking if there is any negative value in \"IncidentTime\" column\n",
    "data_23[data_23['IncidentTime']<0]"
   ]
  },
  {
   "cell_type": "code",
   "execution_count": 98,
   "metadata": {},
   "outputs": [
    {
     "data": {
      "text/plain": [
       "0        17\n",
       "1        10\n",
       "2        22\n",
       "3        22\n",
       "4        10\n",
       "         ..\n",
       "28831     3\n",
       "28832    17\n",
       "28833     1\n",
       "28834     1\n",
       "28835     9\n",
       "Name: IncidentTime, Length: 28805, dtype: int64"
      ]
     },
     "execution_count": 98,
     "metadata": {},
     "output_type": "execute_result"
    }
   ],
   "source": [
    "data_23['IncidentTime']"
   ]
  },
  {
   "cell_type": "code",
   "execution_count": 99,
   "metadata": {},
   "outputs": [
    {
     "data": {
      "text/plain": [
       "-0.04547340444705748"
      ]
     },
     "execution_count": 99,
     "metadata": {},
     "output_type": "execute_result"
    }
   ],
   "source": [
    "# Skewness of \"IncidentTime\" column\n",
    "data_23['IncidentTime'].skew()"
   ]
  },
  {
   "cell_type": "code",
   "execution_count": 100,
   "metadata": {},
   "outputs": [
    {
     "data": {
      "text/plain": [
       "(28805, 45)"
      ]
     },
     "execution_count": 100,
     "metadata": {},
     "output_type": "execute_result"
    }
   ],
   "source": [
    "# data 23 shape\n",
    "data_23.shape"
   ]
  },
  {
   "cell_type": "code",
   "execution_count": 101,
   "metadata": {},
   "outputs": [],
   "source": [
    "# data 24 shape\n",
    "data_24=data_23"
   ]
  },
  {
   "cell_type": "code",
   "execution_count": 102,
   "metadata": {},
   "outputs": [
    {
     "data": {
      "text/html": [
       "<div>\n",
       "<style scoped>\n",
       "    .dataframe tbody tr th:only-of-type {\n",
       "        vertical-align: middle;\n",
       "    }\n",
       "\n",
       "    .dataframe tbody tr th {\n",
       "        vertical-align: top;\n",
       "    }\n",
       "\n",
       "    .dataframe thead th {\n",
       "        text-align: right;\n",
       "    }\n",
       "</style>\n",
       "<table border=\"1\" class=\"dataframe\">\n",
       "  <thead>\n",
       "    <tr style=\"text-align: right;\">\n",
       "      <th></th>\n",
       "      <th>AuthoritiesContacted</th>\n",
       "      <th>IncidentState</th>\n",
       "      <th>IncidentCity</th>\n",
       "      <th>IncidentTime</th>\n",
       "      <th>NumberOfVehicles</th>\n",
       "      <th>PropertyDamage</th>\n",
       "      <th>BodilyInjuries</th>\n",
       "      <th>Witnesses</th>\n",
       "      <th>PoliceReport</th>\n",
       "      <th>AmountOfTotalClaim</th>\n",
       "      <th>...</th>\n",
       "      <th>day_of_week_of_incident</th>\n",
       "      <th>weekend_of_incident</th>\n",
       "      <th>TypeOfIncident_Parked Car</th>\n",
       "      <th>TypeOfIncident_Single Vehicle Collision</th>\n",
       "      <th>TypeOfIncident_Vehicle Theft</th>\n",
       "      <th>TypeOfCollission_Rear Collision</th>\n",
       "      <th>TypeOfCollission_Side Collision</th>\n",
       "      <th>SeverityOfIncident_Minor Damage</th>\n",
       "      <th>SeverityOfIncident_Total Loss</th>\n",
       "      <th>SeverityOfIncident_Trivial Damage</th>\n",
       "    </tr>\n",
       "  </thead>\n",
       "  <tbody>\n",
       "    <tr>\n",
       "      <th>0</th>\n",
       "      <td>4</td>\n",
       "      <td>4</td>\n",
       "      <td>0</td>\n",
       "      <td>17</td>\n",
       "      <td>3</td>\n",
       "      <td>?</td>\n",
       "      <td>1</td>\n",
       "      <td>0</td>\n",
       "      <td>?</td>\n",
       "      <td>65501</td>\n",
       "      <td>...</td>\n",
       "      <td>1</td>\n",
       "      <td>0</td>\n",
       "      <td>0</td>\n",
       "      <td>0</td>\n",
       "      <td>0</td>\n",
       "      <td>0</td>\n",
       "      <td>1</td>\n",
       "      <td>0</td>\n",
       "      <td>1</td>\n",
       "      <td>0</td>\n",
       "    </tr>\n",
       "    <tr>\n",
       "      <th>1</th>\n",
       "      <td>4</td>\n",
       "      <td>4</td>\n",
       "      <td>4</td>\n",
       "      <td>10</td>\n",
       "      <td>3</td>\n",
       "      <td>YES</td>\n",
       "      <td>2</td>\n",
       "      <td>1</td>\n",
       "      <td>YES</td>\n",
       "      <td>61382</td>\n",
       "      <td>...</td>\n",
       "      <td>0</td>\n",
       "      <td>0</td>\n",
       "      <td>0</td>\n",
       "      <td>0</td>\n",
       "      <td>0</td>\n",
       "      <td>0</td>\n",
       "      <td>1</td>\n",
       "      <td>0</td>\n",
       "      <td>1</td>\n",
       "      <td>0</td>\n",
       "    </tr>\n",
       "    <tr>\n",
       "      <th>2</th>\n",
       "      <td>3</td>\n",
       "      <td>5</td>\n",
       "      <td>5</td>\n",
       "      <td>22</td>\n",
       "      <td>1</td>\n",
       "      <td>YES</td>\n",
       "      <td>2</td>\n",
       "      <td>3</td>\n",
       "      <td>NO</td>\n",
       "      <td>66755</td>\n",
       "      <td>...</td>\n",
       "      <td>3</td>\n",
       "      <td>0</td>\n",
       "      <td>0</td>\n",
       "      <td>1</td>\n",
       "      <td>0</td>\n",
       "      <td>0</td>\n",
       "      <td>1</td>\n",
       "      <td>1</td>\n",
       "      <td>0</td>\n",
       "      <td>0</td>\n",
       "    </tr>\n",
       "    <tr>\n",
       "      <th>3</th>\n",
       "      <td>3</td>\n",
       "      <td>6</td>\n",
       "      <td>5</td>\n",
       "      <td>22</td>\n",
       "      <td>1</td>\n",
       "      <td>YES</td>\n",
       "      <td>2</td>\n",
       "      <td>3</td>\n",
       "      <td>NO</td>\n",
       "      <td>66243</td>\n",
       "      <td>...</td>\n",
       "      <td>0</td>\n",
       "      <td>0</td>\n",
       "      <td>0</td>\n",
       "      <td>1</td>\n",
       "      <td>0</td>\n",
       "      <td>0</td>\n",
       "      <td>1</td>\n",
       "      <td>1</td>\n",
       "      <td>0</td>\n",
       "      <td>0</td>\n",
       "    </tr>\n",
       "    <tr>\n",
       "      <th>4</th>\n",
       "      <td>1</td>\n",
       "      <td>5</td>\n",
       "      <td>5</td>\n",
       "      <td>10</td>\n",
       "      <td>1</td>\n",
       "      <td>NO</td>\n",
       "      <td>2</td>\n",
       "      <td>1</td>\n",
       "      <td>YES</td>\n",
       "      <td>53544</td>\n",
       "      <td>...</td>\n",
       "      <td>4</td>\n",
       "      <td>0</td>\n",
       "      <td>0</td>\n",
       "      <td>1</td>\n",
       "      <td>0</td>\n",
       "      <td>1</td>\n",
       "      <td>0</td>\n",
       "      <td>1</td>\n",
       "      <td>0</td>\n",
       "      <td>0</td>\n",
       "    </tr>\n",
       "  </tbody>\n",
       "</table>\n",
       "<p>5 rows × 45 columns</p>\n",
       "</div>"
      ],
      "text/plain": [
       "   AuthoritiesContacted  IncidentState  IncidentCity  IncidentTime  \\\n",
       "0                     4              4             0            17   \n",
       "1                     4              4             4            10   \n",
       "2                     3              5             5            22   \n",
       "3                     3              6             5            22   \n",
       "4                     1              5             5            10   \n",
       "\n",
       "   NumberOfVehicles PropertyDamage  BodilyInjuries Witnesses PoliceReport  \\\n",
       "0                 3              ?               1         0            ?   \n",
       "1                 3            YES               2         1          YES   \n",
       "2                 1            YES               2         3           NO   \n",
       "3                 1            YES               2         3           NO   \n",
       "4                 1             NO               2         1          YES   \n",
       "\n",
       "  AmountOfTotalClaim  ...  day_of_week_of_incident  weekend_of_incident  \\\n",
       "0              65501  ...                        1                    0   \n",
       "1              61382  ...                        0                    0   \n",
       "2              66755  ...                        3                    0   \n",
       "3              66243  ...                        0                    0   \n",
       "4              53544  ...                        4                    0   \n",
       "\n",
       "   TypeOfIncident_Parked Car  TypeOfIncident_Single Vehicle Collision  \\\n",
       "0                          0                                        0   \n",
       "1                          0                                        0   \n",
       "2                          0                                        1   \n",
       "3                          0                                        1   \n",
       "4                          0                                        1   \n",
       "\n",
       "   TypeOfIncident_Vehicle Theft  TypeOfCollission_Rear Collision  \\\n",
       "0                             0                                0   \n",
       "1                             0                                0   \n",
       "2                             0                                0   \n",
       "3                             0                                0   \n",
       "4                             0                                1   \n",
       "\n",
       "  TypeOfCollission_Side Collision SeverityOfIncident_Minor Damage  \\\n",
       "0                               1                               0   \n",
       "1                               1                               0   \n",
       "2                               1                               1   \n",
       "3                               1                               1   \n",
       "4                               0                               1   \n",
       "\n",
       "  SeverityOfIncident_Total Loss  SeverityOfIncident_Trivial Damage  \n",
       "0                             1                                  0  \n",
       "1                             1                                  0  \n",
       "2                             0                                  0  \n",
       "3                             0                                  0  \n",
       "4                             0                                  0  \n",
       "\n",
       "[5 rows x 45 columns]"
      ]
     },
     "execution_count": 102,
     "metadata": {},
     "output_type": "execute_result"
    }
   ],
   "source": [
    "data_24.head()"
   ]
  },
  {
   "cell_type": "code",
   "execution_count": 103,
   "metadata": {},
   "outputs": [
    {
     "data": {
      "text/plain": [
       "1    16149\n",
       "3     9702\n",
       "2     2275\n",
       "4      679\n",
       "Name: NumberOfVehicles, dtype: int64"
      ]
     },
     "execution_count": 103,
     "metadata": {},
     "output_type": "execute_result"
    }
   ],
   "source": [
    "data_24['NumberOfVehicles'].value_counts()"
   ]
  },
  {
   "cell_type": "code",
   "execution_count": 104,
   "metadata": {},
   "outputs": [
    {
     "data": {
      "text/plain": [
       "0.5092464786703402"
      ]
     },
     "execution_count": 104,
     "metadata": {},
     "output_type": "execute_result"
    }
   ],
   "source": [
    "# Skewness of \"NumberOfVehicles\" column\n",
    "data_24['NumberOfVehicles'].skew()"
   ]
  },
  {
   "cell_type": "code",
   "execution_count": 105,
   "metadata": {},
   "outputs": [
    {
     "data": {
      "text/html": [
       "<div>\n",
       "<style scoped>\n",
       "    .dataframe tbody tr th:only-of-type {\n",
       "        vertical-align: middle;\n",
       "    }\n",
       "\n",
       "    .dataframe tbody tr th {\n",
       "        vertical-align: top;\n",
       "    }\n",
       "\n",
       "    .dataframe thead th {\n",
       "        text-align: right;\n",
       "    }\n",
       "</style>\n",
       "<table border=\"1\" class=\"dataframe\">\n",
       "  <thead>\n",
       "    <tr style=\"text-align: right;\">\n",
       "      <th></th>\n",
       "      <th>AuthoritiesContacted</th>\n",
       "      <th>IncidentState</th>\n",
       "      <th>IncidentCity</th>\n",
       "      <th>IncidentTime</th>\n",
       "      <th>NumberOfVehicles</th>\n",
       "      <th>PropertyDamage</th>\n",
       "      <th>BodilyInjuries</th>\n",
       "      <th>Witnesses</th>\n",
       "      <th>PoliceReport</th>\n",
       "      <th>AmountOfTotalClaim</th>\n",
       "      <th>...</th>\n",
       "      <th>day_of_week_of_incident</th>\n",
       "      <th>weekend_of_incident</th>\n",
       "      <th>TypeOfIncident_Parked Car</th>\n",
       "      <th>TypeOfIncident_Single Vehicle Collision</th>\n",
       "      <th>TypeOfIncident_Vehicle Theft</th>\n",
       "      <th>TypeOfCollission_Rear Collision</th>\n",
       "      <th>TypeOfCollission_Side Collision</th>\n",
       "      <th>SeverityOfIncident_Minor Damage</th>\n",
       "      <th>SeverityOfIncident_Total Loss</th>\n",
       "      <th>SeverityOfIncident_Trivial Damage</th>\n",
       "    </tr>\n",
       "  </thead>\n",
       "  <tbody>\n",
       "    <tr>\n",
       "      <th>0</th>\n",
       "      <td>4</td>\n",
       "      <td>4</td>\n",
       "      <td>0</td>\n",
       "      <td>17</td>\n",
       "      <td>3</td>\n",
       "      <td>?</td>\n",
       "      <td>1</td>\n",
       "      <td>0</td>\n",
       "      <td>?</td>\n",
       "      <td>65501</td>\n",
       "      <td>...</td>\n",
       "      <td>1</td>\n",
       "      <td>0</td>\n",
       "      <td>0</td>\n",
       "      <td>0</td>\n",
       "      <td>0</td>\n",
       "      <td>0</td>\n",
       "      <td>1</td>\n",
       "      <td>0</td>\n",
       "      <td>1</td>\n",
       "      <td>0</td>\n",
       "    </tr>\n",
       "    <tr>\n",
       "      <th>1</th>\n",
       "      <td>4</td>\n",
       "      <td>4</td>\n",
       "      <td>4</td>\n",
       "      <td>10</td>\n",
       "      <td>3</td>\n",
       "      <td>YES</td>\n",
       "      <td>2</td>\n",
       "      <td>1</td>\n",
       "      <td>YES</td>\n",
       "      <td>61382</td>\n",
       "      <td>...</td>\n",
       "      <td>0</td>\n",
       "      <td>0</td>\n",
       "      <td>0</td>\n",
       "      <td>0</td>\n",
       "      <td>0</td>\n",
       "      <td>0</td>\n",
       "      <td>1</td>\n",
       "      <td>0</td>\n",
       "      <td>1</td>\n",
       "      <td>0</td>\n",
       "    </tr>\n",
       "    <tr>\n",
       "      <th>2</th>\n",
       "      <td>3</td>\n",
       "      <td>5</td>\n",
       "      <td>5</td>\n",
       "      <td>22</td>\n",
       "      <td>1</td>\n",
       "      <td>YES</td>\n",
       "      <td>2</td>\n",
       "      <td>3</td>\n",
       "      <td>NO</td>\n",
       "      <td>66755</td>\n",
       "      <td>...</td>\n",
       "      <td>3</td>\n",
       "      <td>0</td>\n",
       "      <td>0</td>\n",
       "      <td>1</td>\n",
       "      <td>0</td>\n",
       "      <td>0</td>\n",
       "      <td>1</td>\n",
       "      <td>1</td>\n",
       "      <td>0</td>\n",
       "      <td>0</td>\n",
       "    </tr>\n",
       "    <tr>\n",
       "      <th>3</th>\n",
       "      <td>3</td>\n",
       "      <td>6</td>\n",
       "      <td>5</td>\n",
       "      <td>22</td>\n",
       "      <td>1</td>\n",
       "      <td>YES</td>\n",
       "      <td>2</td>\n",
       "      <td>3</td>\n",
       "      <td>NO</td>\n",
       "      <td>66243</td>\n",
       "      <td>...</td>\n",
       "      <td>0</td>\n",
       "      <td>0</td>\n",
       "      <td>0</td>\n",
       "      <td>1</td>\n",
       "      <td>0</td>\n",
       "      <td>0</td>\n",
       "      <td>1</td>\n",
       "      <td>1</td>\n",
       "      <td>0</td>\n",
       "      <td>0</td>\n",
       "    </tr>\n",
       "    <tr>\n",
       "      <th>4</th>\n",
       "      <td>1</td>\n",
       "      <td>5</td>\n",
       "      <td>5</td>\n",
       "      <td>10</td>\n",
       "      <td>1</td>\n",
       "      <td>NO</td>\n",
       "      <td>2</td>\n",
       "      <td>1</td>\n",
       "      <td>YES</td>\n",
       "      <td>53544</td>\n",
       "      <td>...</td>\n",
       "      <td>4</td>\n",
       "      <td>0</td>\n",
       "      <td>0</td>\n",
       "      <td>1</td>\n",
       "      <td>0</td>\n",
       "      <td>1</td>\n",
       "      <td>0</td>\n",
       "      <td>1</td>\n",
       "      <td>0</td>\n",
       "      <td>0</td>\n",
       "    </tr>\n",
       "  </tbody>\n",
       "</table>\n",
       "<p>5 rows × 45 columns</p>\n",
       "</div>"
      ],
      "text/plain": [
       "   AuthoritiesContacted  IncidentState  IncidentCity  IncidentTime  \\\n",
       "0                     4              4             0            17   \n",
       "1                     4              4             4            10   \n",
       "2                     3              5             5            22   \n",
       "3                     3              6             5            22   \n",
       "4                     1              5             5            10   \n",
       "\n",
       "   NumberOfVehicles PropertyDamage  BodilyInjuries Witnesses PoliceReport  \\\n",
       "0                 3              ?               1         0            ?   \n",
       "1                 3            YES               2         1          YES   \n",
       "2                 1            YES               2         3           NO   \n",
       "3                 1            YES               2         3           NO   \n",
       "4                 1             NO               2         1          YES   \n",
       "\n",
       "  AmountOfTotalClaim  ...  day_of_week_of_incident  weekend_of_incident  \\\n",
       "0              65501  ...                        1                    0   \n",
       "1              61382  ...                        0                    0   \n",
       "2              66755  ...                        3                    0   \n",
       "3              66243  ...                        0                    0   \n",
       "4              53544  ...                        4                    0   \n",
       "\n",
       "   TypeOfIncident_Parked Car  TypeOfIncident_Single Vehicle Collision  \\\n",
       "0                          0                                        0   \n",
       "1                          0                                        0   \n",
       "2                          0                                        1   \n",
       "3                          0                                        1   \n",
       "4                          0                                        1   \n",
       "\n",
       "   TypeOfIncident_Vehicle Theft  TypeOfCollission_Rear Collision  \\\n",
       "0                             0                                0   \n",
       "1                             0                                0   \n",
       "2                             0                                0   \n",
       "3                             0                                0   \n",
       "4                             0                                1   \n",
       "\n",
       "  TypeOfCollission_Side Collision SeverityOfIncident_Minor Damage  \\\n",
       "0                               1                               0   \n",
       "1                               1                               0   \n",
       "2                               1                               1   \n",
       "3                               1                               1   \n",
       "4                               0                               1   \n",
       "\n",
       "  SeverityOfIncident_Total Loss  SeverityOfIncident_Trivial Damage  \n",
       "0                             1                                  0  \n",
       "1                             1                                  0  \n",
       "2                             0                                  0  \n",
       "3                             0                                  0  \n",
       "4                             0                                  0  \n",
       "\n",
       "[5 rows x 45 columns]"
      ]
     },
     "execution_count": 105,
     "metadata": {},
     "output_type": "execute_result"
    }
   ],
   "source": [
    "data_24.head()"
   ]
  },
  {
   "cell_type": "code",
   "execution_count": 106,
   "metadata": {},
   "outputs": [
    {
     "data": {
      "text/plain": [
       "?      10450\n",
       "NO      9674\n",
       "YES     8681\n",
       "Name: PropertyDamage, dtype: int64"
      ]
     },
     "execution_count": 106,
     "metadata": {},
     "output_type": "execute_result"
    }
   ],
   "source": [
    "data_24['PropertyDamage'].value_counts()"
   ]
  },
  {
   "cell_type": "code",
   "execution_count": 107,
   "metadata": {},
   "outputs": [],
   "source": [
    "data_24['PropertyDamage']=data_24['PropertyDamage'].replace('?',np.nan)"
   ]
  },
  {
   "cell_type": "code",
   "execution_count": 108,
   "metadata": {},
   "outputs": [
    {
     "data": {
      "text/plain": [
       "NO     9674\n",
       "YES    8681\n",
       "Name: PropertyDamage, dtype: int64"
      ]
     },
     "execution_count": 108,
     "metadata": {},
     "output_type": "execute_result"
    }
   ],
   "source": [
    "data_24['PropertyDamage'].value_counts()"
   ]
  },
  {
   "cell_type": "code",
   "execution_count": 109,
   "metadata": {},
   "outputs": [],
   "source": [
    "# Backward fill in \"PropertyDamage\" column\n",
    "data_24 = data_24.fillna(method=\"bfill\")"
   ]
  },
  {
   "cell_type": "code",
   "execution_count": 110,
   "metadata": {},
   "outputs": [
    {
     "data": {
      "text/plain": [
       "NO     15053\n",
       "YES    13752\n",
       "Name: PropertyDamage, dtype: int64"
      ]
     },
     "execution_count": 110,
     "metadata": {},
     "output_type": "execute_result"
    }
   ],
   "source": [
    "data_24['PropertyDamage'].value_counts()"
   ]
  },
  {
   "cell_type": "code",
   "execution_count": 111,
   "metadata": {},
   "outputs": [],
   "source": [
    "# One hot encoding of \"PropertyDamage\" column with \"drop_first=True\"\n",
    "data_24=pd.get_dummies(data_24,columns=['PropertyDamage'],drop_first=True)"
   ]
  },
  {
   "cell_type": "code",
   "execution_count": 112,
   "metadata": {},
   "outputs": [
    {
     "data": {
      "text/html": [
       "<div>\n",
       "<style scoped>\n",
       "    .dataframe tbody tr th:only-of-type {\n",
       "        vertical-align: middle;\n",
       "    }\n",
       "\n",
       "    .dataframe tbody tr th {\n",
       "        vertical-align: top;\n",
       "    }\n",
       "\n",
       "    .dataframe thead th {\n",
       "        text-align: right;\n",
       "    }\n",
       "</style>\n",
       "<table border=\"1\" class=\"dataframe\">\n",
       "  <thead>\n",
       "    <tr style=\"text-align: right;\">\n",
       "      <th></th>\n",
       "      <th>AuthoritiesContacted</th>\n",
       "      <th>IncidentState</th>\n",
       "      <th>IncidentCity</th>\n",
       "      <th>IncidentTime</th>\n",
       "      <th>NumberOfVehicles</th>\n",
       "      <th>BodilyInjuries</th>\n",
       "      <th>Witnesses</th>\n",
       "      <th>PoliceReport</th>\n",
       "      <th>AmountOfTotalClaim</th>\n",
       "      <th>AmountOfInjuryClaim</th>\n",
       "      <th>...</th>\n",
       "      <th>weekend_of_incident</th>\n",
       "      <th>TypeOfIncident_Parked Car</th>\n",
       "      <th>TypeOfIncident_Single Vehicle Collision</th>\n",
       "      <th>TypeOfIncident_Vehicle Theft</th>\n",
       "      <th>TypeOfCollission_Rear Collision</th>\n",
       "      <th>TypeOfCollission_Side Collision</th>\n",
       "      <th>SeverityOfIncident_Minor Damage</th>\n",
       "      <th>SeverityOfIncident_Total Loss</th>\n",
       "      <th>SeverityOfIncident_Trivial Damage</th>\n",
       "      <th>PropertyDamage_YES</th>\n",
       "    </tr>\n",
       "  </thead>\n",
       "  <tbody>\n",
       "    <tr>\n",
       "      <th>0</th>\n",
       "      <td>4</td>\n",
       "      <td>4</td>\n",
       "      <td>0</td>\n",
       "      <td>17</td>\n",
       "      <td>3</td>\n",
       "      <td>1</td>\n",
       "      <td>0</td>\n",
       "      <td>?</td>\n",
       "      <td>65501</td>\n",
       "      <td>13417</td>\n",
       "      <td>...</td>\n",
       "      <td>0</td>\n",
       "      <td>0</td>\n",
       "      <td>0</td>\n",
       "      <td>0</td>\n",
       "      <td>0</td>\n",
       "      <td>1</td>\n",
       "      <td>0</td>\n",
       "      <td>1</td>\n",
       "      <td>0</td>\n",
       "      <td>1</td>\n",
       "    </tr>\n",
       "    <tr>\n",
       "      <th>1</th>\n",
       "      <td>4</td>\n",
       "      <td>4</td>\n",
       "      <td>4</td>\n",
       "      <td>10</td>\n",
       "      <td>3</td>\n",
       "      <td>2</td>\n",
       "      <td>1</td>\n",
       "      <td>YES</td>\n",
       "      <td>61382</td>\n",
       "      <td>15560</td>\n",
       "      <td>...</td>\n",
       "      <td>0</td>\n",
       "      <td>0</td>\n",
       "      <td>0</td>\n",
       "      <td>0</td>\n",
       "      <td>0</td>\n",
       "      <td>1</td>\n",
       "      <td>0</td>\n",
       "      <td>1</td>\n",
       "      <td>0</td>\n",
       "      <td>1</td>\n",
       "    </tr>\n",
       "    <tr>\n",
       "      <th>2</th>\n",
       "      <td>3</td>\n",
       "      <td>5</td>\n",
       "      <td>5</td>\n",
       "      <td>22</td>\n",
       "      <td>1</td>\n",
       "      <td>2</td>\n",
       "      <td>3</td>\n",
       "      <td>NO</td>\n",
       "      <td>66755</td>\n",
       "      <td>11630</td>\n",
       "      <td>...</td>\n",
       "      <td>0</td>\n",
       "      <td>0</td>\n",
       "      <td>1</td>\n",
       "      <td>0</td>\n",
       "      <td>0</td>\n",
       "      <td>1</td>\n",
       "      <td>1</td>\n",
       "      <td>0</td>\n",
       "      <td>0</td>\n",
       "      <td>1</td>\n",
       "    </tr>\n",
       "    <tr>\n",
       "      <th>3</th>\n",
       "      <td>3</td>\n",
       "      <td>6</td>\n",
       "      <td>5</td>\n",
       "      <td>22</td>\n",
       "      <td>1</td>\n",
       "      <td>2</td>\n",
       "      <td>3</td>\n",
       "      <td>NO</td>\n",
       "      <td>66243</td>\n",
       "      <td>12003</td>\n",
       "      <td>...</td>\n",
       "      <td>0</td>\n",
       "      <td>0</td>\n",
       "      <td>1</td>\n",
       "      <td>0</td>\n",
       "      <td>0</td>\n",
       "      <td>1</td>\n",
       "      <td>1</td>\n",
       "      <td>0</td>\n",
       "      <td>0</td>\n",
       "      <td>1</td>\n",
       "    </tr>\n",
       "    <tr>\n",
       "      <th>4</th>\n",
       "      <td>1</td>\n",
       "      <td>5</td>\n",
       "      <td>5</td>\n",
       "      <td>10</td>\n",
       "      <td>1</td>\n",
       "      <td>2</td>\n",
       "      <td>1</td>\n",
       "      <td>YES</td>\n",
       "      <td>53544</td>\n",
       "      <td>8829</td>\n",
       "      <td>...</td>\n",
       "      <td>0</td>\n",
       "      <td>0</td>\n",
       "      <td>1</td>\n",
       "      <td>0</td>\n",
       "      <td>1</td>\n",
       "      <td>0</td>\n",
       "      <td>1</td>\n",
       "      <td>0</td>\n",
       "      <td>0</td>\n",
       "      <td>0</td>\n",
       "    </tr>\n",
       "  </tbody>\n",
       "</table>\n",
       "<p>5 rows × 45 columns</p>\n",
       "</div>"
      ],
      "text/plain": [
       "   AuthoritiesContacted  IncidentState  IncidentCity  IncidentTime  \\\n",
       "0                     4              4             0            17   \n",
       "1                     4              4             4            10   \n",
       "2                     3              5             5            22   \n",
       "3                     3              6             5            22   \n",
       "4                     1              5             5            10   \n",
       "\n",
       "   NumberOfVehicles  BodilyInjuries Witnesses PoliceReport AmountOfTotalClaim  \\\n",
       "0                 3               1         0            ?              65501   \n",
       "1                 3               2         1          YES              61382   \n",
       "2                 1               2         3           NO              66755   \n",
       "3                 1               2         3           NO              66243   \n",
       "4                 1               2         1          YES              53544   \n",
       "\n",
       "   AmountOfInjuryClaim  ...  weekend_of_incident  TypeOfIncident_Parked Car  \\\n",
       "0                13417  ...                    0                          0   \n",
       "1                15560  ...                    0                          0   \n",
       "2                11630  ...                    0                          0   \n",
       "3                12003  ...                    0                          0   \n",
       "4                 8829  ...                    0                          0   \n",
       "\n",
       "   TypeOfIncident_Single Vehicle Collision  TypeOfIncident_Vehicle Theft  \\\n",
       "0                                        0                             0   \n",
       "1                                        0                             0   \n",
       "2                                        1                             0   \n",
       "3                                        1                             0   \n",
       "4                                        1                             0   \n",
       "\n",
       "   TypeOfCollission_Rear Collision TypeOfCollission_Side Collision  \\\n",
       "0                                0                               1   \n",
       "1                                0                               1   \n",
       "2                                0                               1   \n",
       "3                                0                               1   \n",
       "4                                1                               0   \n",
       "\n",
       "  SeverityOfIncident_Minor Damage SeverityOfIncident_Total Loss  \\\n",
       "0                               0                             1   \n",
       "1                               0                             1   \n",
       "2                               1                             0   \n",
       "3                               1                             0   \n",
       "4                               1                             0   \n",
       "\n",
       "   SeverityOfIncident_Trivial Damage  PropertyDamage_YES  \n",
       "0                                  0                   1  \n",
       "1                                  0                   1  \n",
       "2                                  0                   1  \n",
       "3                                  0                   1  \n",
       "4                                  0                   0  \n",
       "\n",
       "[5 rows x 45 columns]"
      ]
     },
     "execution_count": 112,
     "metadata": {},
     "output_type": "execute_result"
    }
   ],
   "source": [
    "data_24.head()"
   ]
  },
  {
   "cell_type": "code",
   "execution_count": 113,
   "metadata": {},
   "outputs": [
    {
     "data": {
      "text/plain": [
       "1    11058\n",
       "0     9076\n",
       "2     8671\n",
       "Name: BodilyInjuries, dtype: int64"
      ]
     },
     "execution_count": 113,
     "metadata": {},
     "output_type": "execute_result"
    }
   ],
   "source": [
    "data_24['BodilyInjuries'].value_counts()"
   ]
  },
  {
   "cell_type": "code",
   "execution_count": 114,
   "metadata": {},
   "outputs": [
    {
     "data": {
      "text/plain": [
       "2               8438\n",
       "1               8338\n",
       "0               6119\n",
       "3               5864\n",
       "MISSINGVALUE      46\n",
       "Name: Witnesses, dtype: int64"
      ]
     },
     "execution_count": 114,
     "metadata": {},
     "output_type": "execute_result"
    }
   ],
   "source": [
    "data_24['Witnesses'].value_counts()"
   ]
  },
  {
   "cell_type": "code",
   "execution_count": 115,
   "metadata": {},
   "outputs": [
    {
     "data": {
      "text/plain": [
       "2    8456\n",
       "1    8349\n",
       "0    6125\n",
       "3    5875\n",
       "Name: Witnesses, dtype: int64"
      ]
     },
     "execution_count": 115,
     "metadata": {},
     "output_type": "execute_result"
    }
   ],
   "source": [
    "# Replacing \"MISSINGVALUE\" values with null values in \"Witnesses\" column\n",
    "data_24['Witnesses']=data_24['Witnesses'].replace('MISSINGVALUE',np.nan)\n",
    "\n",
    "# Forward fill null values in \"Witnesses\" column\n",
    "data_24 = data_24.fillna(method=\"ffill\")\n",
    "\n",
    "data_24['Witnesses'].value_counts()"
   ]
  },
  {
   "cell_type": "code",
   "execution_count": 116,
   "metadata": {},
   "outputs": [],
   "source": [
    "data_25=data_24"
   ]
  },
  {
   "cell_type": "code",
   "execution_count": 117,
   "metadata": {},
   "outputs": [
    {
     "data": {
      "text/plain": [
       "0        0\n",
       "1        1\n",
       "2        3\n",
       "3        3\n",
       "4        1\n",
       "        ..\n",
       "28831    3\n",
       "28832    2\n",
       "28833    0\n",
       "28834    0\n",
       "28835    3\n",
       "Name: Witnesses, Length: 28805, dtype: object"
      ]
     },
     "execution_count": 117,
     "metadata": {},
     "output_type": "execute_result"
    }
   ],
   "source": [
    "data_25['Witnesses']"
   ]
  },
  {
   "cell_type": "code",
   "execution_count": 118,
   "metadata": {},
   "outputs": [],
   "source": [
    "# Convert \"Witnesses\" column to int\n",
    "data_25['Witnesses']=data_25['Witnesses'].astype(int)"
   ]
  },
  {
   "cell_type": "code",
   "execution_count": 119,
   "metadata": {},
   "outputs": [
    {
     "data": {
      "text/plain": [
       "dtype('int32')"
      ]
     },
     "execution_count": 119,
     "metadata": {},
     "output_type": "execute_result"
    }
   ],
   "source": [
    "data_25['Witnesses'].dtype"
   ]
  },
  {
   "cell_type": "code",
   "execution_count": 120,
   "metadata": {},
   "outputs": [
    {
     "data": {
      "text/plain": [
       "NO     9882\n",
       "?      9796\n",
       "YES    9127\n",
       "Name: PoliceReport, dtype: int64"
      ]
     },
     "execution_count": 120,
     "metadata": {},
     "output_type": "execute_result"
    }
   ],
   "source": [
    "data_25['PoliceReport'].value_counts()"
   ]
  },
  {
   "cell_type": "code",
   "execution_count": 121,
   "metadata": {},
   "outputs": [],
   "source": [
    "data_25['PoliceReport']=data_25['PoliceReport'].replace('?',np.nan)"
   ]
  },
  {
   "cell_type": "code",
   "execution_count": 122,
   "metadata": {},
   "outputs": [],
   "source": [
    "# Backward fill in \"PoliceReport\" column\n",
    "data_25 = data_25.fillna(method=\"bfill\")"
   ]
  },
  {
   "cell_type": "code",
   "execution_count": 123,
   "metadata": {},
   "outputs": [
    {
     "data": {
      "text/plain": [
       "NO     15084\n",
       "YES    13721\n",
       "Name: PoliceReport, dtype: int64"
      ]
     },
     "execution_count": 123,
     "metadata": {},
     "output_type": "execute_result"
    }
   ],
   "source": [
    "data_25['PoliceReport'].value_counts()"
   ]
  },
  {
   "cell_type": "code",
   "execution_count": 124,
   "metadata": {},
   "outputs": [],
   "source": [
    "# One hot encoding of \"PoliceReport\" column with \"drop_first=True\"\n",
    "data_25=pd.get_dummies(data_25,columns=['PoliceReport'],drop_first=True)"
   ]
  },
  {
   "cell_type": "code",
   "execution_count": 125,
   "metadata": {},
   "outputs": [
    {
     "data": {
      "text/plain": [
       "MISSEDDATA    19\n",
       "6820          12\n",
       "5400           8\n",
       "60600          8\n",
       "55000          7\n",
       "              ..\n",
       "37863          1\n",
       "33412          1\n",
       "62879          1\n",
       "54465          1\n",
       "55830          1\n",
       "Name: AmountOfTotalClaim, Length: 21976, dtype: int64"
      ]
     },
     "execution_count": 125,
     "metadata": {},
     "output_type": "execute_result"
    }
   ],
   "source": [
    "data_25['AmountOfTotalClaim'].value_counts()"
   ]
  },
  {
   "cell_type": "code",
   "execution_count": 126,
   "metadata": {},
   "outputs": [
    {
     "data": {
      "text/plain": [
       "0        65501\n",
       "1        61382\n",
       "2        66755\n",
       "3        66243\n",
       "4        53544\n",
       "         ...  \n",
       "28831     6590\n",
       "28832    74547\n",
       "28833    55305\n",
       "28834    55830\n",
       "28835    68969\n",
       "Name: AmountOfTotalClaim, Length: 28805, dtype: object"
      ]
     },
     "execution_count": 126,
     "metadata": {},
     "output_type": "execute_result"
    }
   ],
   "source": [
    "data_25['AmountOfTotalClaim']"
   ]
  },
  {
   "cell_type": "code",
   "execution_count": 127,
   "metadata": {},
   "outputs": [
    {
     "data": {
      "text/plain": [
       "0        65501\n",
       "1        61382\n",
       "2        66755\n",
       "3        66243\n",
       "4        53544\n",
       "         ...  \n",
       "28831     6590\n",
       "28832    74547\n",
       "28833    55305\n",
       "28834    55830\n",
       "28835    68969\n",
       "Name: AmountOfTotalClaim, Length: 28805, dtype: object"
      ]
     },
     "execution_count": 127,
     "metadata": {},
     "output_type": "execute_result"
    }
   ],
   "source": [
    "# Replacing \"MISSEDDATA\" values in \"AmountOfTotalClaim\" column with null values\n",
    "data_25['AmountOfTotalClaim']=data_25['AmountOfTotalClaim'].replace('MISSEDDATA',np.nan)\n",
    "\n",
    "# Forward fill null values in \"AmountOfTotalClaim\" column\n",
    "data_25 = data_25.fillna(method=\"ffill\")\n",
    "\n",
    "data_25['AmountOfTotalClaim']"
   ]
  },
  {
   "cell_type": "code",
   "execution_count": 128,
   "metadata": {},
   "outputs": [],
   "source": [
    "data_26=data_25"
   ]
  },
  {
   "cell_type": "code",
   "execution_count": 129,
   "metadata": {},
   "outputs": [],
   "source": [
    "# Converting \"AmountOfTotalClaim\" column to int type\n",
    "data_26['AmountOfTotalClaim']=data_26['AmountOfTotalClaim'].astype(int)"
   ]
  },
  {
   "cell_type": "code",
   "execution_count": 130,
   "metadata": {},
   "outputs": [
    {
     "name": "stdout",
     "output_type": "stream",
     "text": [
      "150\n",
      "114920\n",
      "52304.830897413645\n",
      "58359.0\n",
      "0    6820\n",
      "Name: AmountOfTotalClaim, dtype: int32\n",
      "-0.7825028613726829\n"
     ]
    },
    {
     "name": "stderr",
     "output_type": "stream",
     "text": [
      "c:\\Users\\user\\anaconda3\\lib\\site-packages\\seaborn\\distributions.py:2619: FutureWarning: `distplot` is a deprecated function and will be removed in a future version. Please adapt your code to use either `displot` (a figure-level function with similar flexibility) or `histplot` (an axes-level function for histograms).\n",
      "  warnings.warn(msg, FutureWarning)\n"
     ]
    },
    {
     "data": {
      "text/plain": [
       "<AxesSubplot:xlabel='AmountOfTotalClaim', ylabel='Density'>"
      ]
     },
     "execution_count": 130,
     "metadata": {},
     "output_type": "execute_result"
    },
    {
     "data": {
      "image/png": "[encoded data removed]",
      "text/plain": [
       "<Figure size 640x480 with 1 Axes>"
      ]
     },
     "metadata": {},
     "output_type": "display_data"
    }
   ],
   "source": [
    "# Lowest value of \"AmountOfTotalClaim\" column\n",
    "print(data_26['AmountOfTotalClaim'].min())\n",
    "\n",
    "# Highest value of \"AmountOfTotalClaim\" column\n",
    "print(data_26['AmountOfTotalClaim'].max())\n",
    "\n",
    "# Mean value of \"AmountOfTotalClaim\" column\n",
    "print(data_26['AmountOfTotalClaim'].mean())\n",
    "\n",
    "# Median value of \"AmountOfTotalClaim\" column\n",
    "print(data_26['AmountOfTotalClaim'].median())\n",
    "\n",
    "# Mode value of \"AmountOfTotalClaim\" column\n",
    "print(data_26['AmountOfTotalClaim'].mode())\n",
    "\n",
    "# Skewness of \"AmountOfTotalClaim\" column\n",
    "print(data_26['AmountOfTotalClaim'].skew())\n",
    "\n",
    "# Distribution of \"AmountOfTotalClaim\" column\n",
    "sns.distplot(data_26['AmountOfTotalClaim'])"
   ]
  },
  {
   "cell_type": "code",
   "execution_count": 131,
   "metadata": {},
   "outputs": [
    {
     "name": "stdout",
     "output_type": "stream",
     "text": [
      "-0.4698590288394506\n"
     ]
    }
   ],
   "source": [
    "# Treatment of outlier in AmountOfTotalClaim column \n",
    "upper_limit = data_26['AmountOfTotalClaim'].mean() + 1*data_26['AmountOfTotalClaim'].std()\n",
    "lower_limit = data_26['AmountOfTotalClaim'].mean() - 1*data_26['AmountOfTotalClaim'].std()\n",
    "\n",
    "data_26['AmountOfTotalClaim'] = np.where(\n",
    "    data_26['AmountOfTotalClaim']>upper_limit,\n",
    "    upper_limit,\n",
    "    np.where(\n",
    "        data_26['AmountOfTotalClaim']<lower_limit,\n",
    "        lower_limit,\n",
    "        data_26['AmountOfTotalClaim']\n",
    "    )\n",
    ")\n",
    "\n",
    "# skewness \n",
    "print(data_26['AmountOfTotalClaim'].skew())"
   ]
  },
  {
   "cell_type": "code",
   "execution_count": 132,
   "metadata": {},
   "outputs": [
    {
     "name": "stderr",
     "output_type": "stream",
     "text": [
      "c:\\Users\\user\\anaconda3\\lib\\site-packages\\seaborn\\distributions.py:2619: FutureWarning: `distplot` is a deprecated function and will be removed in a future version. Please adapt your code to use either `displot` (a figure-level function with similar flexibility) or `histplot` (an axes-level function for histograms).\n",
      "  warnings.warn(msg, FutureWarning)\n"
     ]
    },
    {
     "data": {
      "text/plain": [
       "<AxesSubplot:xlabel='AmountOfTotalClaim', ylabel='Density'>"
      ]
     },
     "execution_count": 132,
     "metadata": {},
     "output_type": "execute_result"
    },
    {
     "data": {
      "image/png": "[encoded data removed]",
      "text/plain": [
       "<Figure size 640x480 with 1 Axes>"
      ]
     },
     "metadata": {},
     "output_type": "display_data"
    }
   ],
   "source": [
    "# Distribution of \"AmountOfTotalClaim\" column\n",
    "sns.distplot(data_26['AmountOfTotalClaim'])"
   ]
  },
  {
   "cell_type": "code",
   "execution_count": 133,
   "metadata": {},
   "outputs": [
    {
     "name": "stdout",
     "output_type": "stream",
     "text": [
      "55309.638343712984\n",
      "58359.0\n",
      "0    27204.150929\n",
      "Name: AmountOfTotalClaim, dtype: float64\n"
     ]
    }
   ],
   "source": [
    "# Mean value of \"AmountOfTotalClaim\" column\n",
    "print(data_26['AmountOfTotalClaim'].mean())\n",
    "\n",
    "# Median value of \"AmountOfTotalClaim\" column\n",
    "print(data_26['AmountOfTotalClaim'].median())\n",
    "\n",
    "# Mode value of \"AmountOfTotalClaim\" column\n",
    "print(data_26['AmountOfTotalClaim'].mode())"
   ]
  },
  {
   "cell_type": "code",
   "execution_count": 134,
   "metadata": {},
   "outputs": [
    {
     "data": {
      "text/html": [
       "<div>\n",
       "<style scoped>\n",
       "    .dataframe tbody tr th:only-of-type {\n",
       "        vertical-align: middle;\n",
       "    }\n",
       "\n",
       "    .dataframe tbody tr th {\n",
       "        vertical-align: top;\n",
       "    }\n",
       "\n",
       "    .dataframe thead th {\n",
       "        text-align: right;\n",
       "    }\n",
       "</style>\n",
       "<table border=\"1\" class=\"dataframe\">\n",
       "  <thead>\n",
       "    <tr style=\"text-align: right;\">\n",
       "      <th></th>\n",
       "      <th>AuthoritiesContacted</th>\n",
       "      <th>IncidentState</th>\n",
       "      <th>IncidentCity</th>\n",
       "      <th>IncidentTime</th>\n",
       "      <th>NumberOfVehicles</th>\n",
       "      <th>BodilyInjuries</th>\n",
       "      <th>Witnesses</th>\n",
       "      <th>AmountOfTotalClaim</th>\n",
       "      <th>AmountOfInjuryClaim</th>\n",
       "      <th>AmountOfPropertyClaim</th>\n",
       "      <th>...</th>\n",
       "      <th>TypeOfIncident_Parked Car</th>\n",
       "      <th>TypeOfIncident_Single Vehicle Collision</th>\n",
       "      <th>TypeOfIncident_Vehicle Theft</th>\n",
       "      <th>TypeOfCollission_Rear Collision</th>\n",
       "      <th>TypeOfCollission_Side Collision</th>\n",
       "      <th>SeverityOfIncident_Minor Damage</th>\n",
       "      <th>SeverityOfIncident_Total Loss</th>\n",
       "      <th>SeverityOfIncident_Trivial Damage</th>\n",
       "      <th>PropertyDamage_YES</th>\n",
       "      <th>PoliceReport_YES</th>\n",
       "    </tr>\n",
       "  </thead>\n",
       "  <tbody>\n",
       "    <tr>\n",
       "      <th>0</th>\n",
       "      <td>4</td>\n",
       "      <td>4</td>\n",
       "      <td>0</td>\n",
       "      <td>17</td>\n",
       "      <td>3</td>\n",
       "      <td>1</td>\n",
       "      <td>0</td>\n",
       "      <td>65501.0</td>\n",
       "      <td>13417</td>\n",
       "      <td>6071</td>\n",
       "      <td>...</td>\n",
       "      <td>0</td>\n",
       "      <td>0</td>\n",
       "      <td>0</td>\n",
       "      <td>0</td>\n",
       "      <td>1</td>\n",
       "      <td>0</td>\n",
       "      <td>1</td>\n",
       "      <td>0</td>\n",
       "      <td>1</td>\n",
       "      <td>1</td>\n",
       "    </tr>\n",
       "    <tr>\n",
       "      <th>1</th>\n",
       "      <td>4</td>\n",
       "      <td>4</td>\n",
       "      <td>4</td>\n",
       "      <td>10</td>\n",
       "      <td>3</td>\n",
       "      <td>2</td>\n",
       "      <td>1</td>\n",
       "      <td>61382.0</td>\n",
       "      <td>15560</td>\n",
       "      <td>5919</td>\n",
       "      <td>...</td>\n",
       "      <td>0</td>\n",
       "      <td>0</td>\n",
       "      <td>0</td>\n",
       "      <td>0</td>\n",
       "      <td>1</td>\n",
       "      <td>0</td>\n",
       "      <td>1</td>\n",
       "      <td>0</td>\n",
       "      <td>1</td>\n",
       "      <td>1</td>\n",
       "    </tr>\n",
       "    <tr>\n",
       "      <th>2</th>\n",
       "      <td>3</td>\n",
       "      <td>5</td>\n",
       "      <td>5</td>\n",
       "      <td>22</td>\n",
       "      <td>1</td>\n",
       "      <td>2</td>\n",
       "      <td>3</td>\n",
       "      <td>66755.0</td>\n",
       "      <td>11630</td>\n",
       "      <td>11630</td>\n",
       "      <td>...</td>\n",
       "      <td>0</td>\n",
       "      <td>1</td>\n",
       "      <td>0</td>\n",
       "      <td>0</td>\n",
       "      <td>1</td>\n",
       "      <td>1</td>\n",
       "      <td>0</td>\n",
       "      <td>0</td>\n",
       "      <td>1</td>\n",
       "      <td>0</td>\n",
       "    </tr>\n",
       "    <tr>\n",
       "      <th>3</th>\n",
       "      <td>3</td>\n",
       "      <td>6</td>\n",
       "      <td>5</td>\n",
       "      <td>22</td>\n",
       "      <td>1</td>\n",
       "      <td>2</td>\n",
       "      <td>3</td>\n",
       "      <td>66243.0</td>\n",
       "      <td>12003</td>\n",
       "      <td>12003</td>\n",
       "      <td>...</td>\n",
       "      <td>0</td>\n",
       "      <td>1</td>\n",
       "      <td>0</td>\n",
       "      <td>0</td>\n",
       "      <td>1</td>\n",
       "      <td>1</td>\n",
       "      <td>0</td>\n",
       "      <td>0</td>\n",
       "      <td>1</td>\n",
       "      <td>0</td>\n",
       "    </tr>\n",
       "    <tr>\n",
       "      <th>4</th>\n",
       "      <td>1</td>\n",
       "      <td>5</td>\n",
       "      <td>5</td>\n",
       "      <td>10</td>\n",
       "      <td>1</td>\n",
       "      <td>2</td>\n",
       "      <td>1</td>\n",
       "      <td>53544.0</td>\n",
       "      <td>8829</td>\n",
       "      <td>7234</td>\n",
       "      <td>...</td>\n",
       "      <td>0</td>\n",
       "      <td>1</td>\n",
       "      <td>0</td>\n",
       "      <td>1</td>\n",
       "      <td>0</td>\n",
       "      <td>1</td>\n",
       "      <td>0</td>\n",
       "      <td>0</td>\n",
       "      <td>0</td>\n",
       "      <td>1</td>\n",
       "    </tr>\n",
       "  </tbody>\n",
       "</table>\n",
       "<p>5 rows × 45 columns</p>\n",
       "</div>"
      ],
      "text/plain": [
       "   AuthoritiesContacted  IncidentState  IncidentCity  IncidentTime  \\\n",
       "0                     4              4             0            17   \n",
       "1                     4              4             4            10   \n",
       "2                     3              5             5            22   \n",
       "3                     3              6             5            22   \n",
       "4                     1              5             5            10   \n",
       "\n",
       "   NumberOfVehicles  BodilyInjuries  Witnesses  AmountOfTotalClaim  \\\n",
       "0                 3               1          0             65501.0   \n",
       "1                 3               2          1             61382.0   \n",
       "2                 1               2          3             66755.0   \n",
       "3                 1               2          3             66243.0   \n",
       "4                 1               2          1             53544.0   \n",
       "\n",
       "   AmountOfInjuryClaim  AmountOfPropertyClaim  ...  TypeOfIncident_Parked Car  \\\n",
       "0                13417                   6071  ...                          0   \n",
       "1                15560                   5919  ...                          0   \n",
       "2                11630                  11630  ...                          0   \n",
       "3                12003                  12003  ...                          0   \n",
       "4                 8829                   7234  ...                          0   \n",
       "\n",
       "   TypeOfIncident_Single Vehicle Collision  TypeOfIncident_Vehicle Theft  \\\n",
       "0                                        0                             0   \n",
       "1                                        0                             0   \n",
       "2                                        1                             0   \n",
       "3                                        1                             0   \n",
       "4                                        1                             0   \n",
       "\n",
       "   TypeOfCollission_Rear Collision TypeOfCollission_Side Collision  \\\n",
       "0                                0                               1   \n",
       "1                                0                               1   \n",
       "2                                0                               1   \n",
       "3                                0                               1   \n",
       "4                                1                               0   \n",
       "\n",
       "  SeverityOfIncident_Minor Damage SeverityOfIncident_Total Loss  \\\n",
       "0                               0                             1   \n",
       "1                               0                             1   \n",
       "2                               1                             0   \n",
       "3                               1                             0   \n",
       "4                               1                             0   \n",
       "\n",
       "   SeverityOfIncident_Trivial Damage  PropertyDamage_YES PoliceReport_YES  \n",
       "0                                  0                   1                1  \n",
       "1                                  0                   1                1  \n",
       "2                                  0                   1                0  \n",
       "3                                  0                   1                0  \n",
       "4                                  0                   0                1  \n",
       "\n",
       "[5 rows x 45 columns]"
      ]
     },
     "execution_count": 134,
     "metadata": {},
     "output_type": "execute_result"
    }
   ],
   "source": [
    "data_26.head()"
   ]
  },
  {
   "cell_type": "code",
   "execution_count": 135,
   "metadata": {},
   "outputs": [
    {
     "data": {
      "text/plain": [
       "0        68\n",
       "480      51\n",
       "640      34\n",
       "580      19\n",
       "740      17\n",
       "         ..\n",
       "14521     1\n",
       "17649     1\n",
       "14398     1\n",
       "5925      1\n",
       "14699     1\n",
       "Name: AmountOfInjuryClaim, Length: 11955, dtype: int64"
      ]
     },
     "execution_count": 135,
     "metadata": {},
     "output_type": "execute_result"
    }
   ],
   "source": [
    "data_26['AmountOfInjuryClaim'].value_counts()"
   ]
  },
  {
   "cell_type": "code",
   "execution_count": 136,
   "metadata": {},
   "outputs": [
    {
     "data": {
      "text/plain": [
       "0        13417\n",
       "1        15560\n",
       "2        11630\n",
       "3        12003\n",
       "4         8829\n",
       "         ...  \n",
       "28831      870\n",
       "28832    14699\n",
       "28833     7043\n",
       "28834     7059\n",
       "28835    12075\n",
       "Name: AmountOfInjuryClaim, Length: 28805, dtype: int64"
      ]
     },
     "execution_count": 136,
     "metadata": {},
     "output_type": "execute_result"
    }
   ],
   "source": [
    "data_26['AmountOfInjuryClaim']"
   ]
  },
  {
   "cell_type": "code",
   "execution_count": 137,
   "metadata": {},
   "outputs": [
    {
     "data": {
      "text/plain": [
       "0"
      ]
     },
     "execution_count": 137,
     "metadata": {},
     "output_type": "execute_result"
    }
   ],
   "source": [
    "# Lowest value of \"AmountOfInjuryClaim\" column\n",
    "data_26['AmountOfInjuryClaim'].min()"
   ]
  },
  {
   "cell_type": "code",
   "execution_count": 138,
   "metadata": {},
   "outputs": [
    {
     "data": {
      "text/plain": [
       "21450"
      ]
     },
     "execution_count": 138,
     "metadata": {},
     "output_type": "execute_result"
    }
   ],
   "source": [
    "# Highest value of \"AmountOfInjuryClaim\" column\n",
    "data_26['AmountOfInjuryClaim'].max()"
   ]
  },
  {
   "cell_type": "code",
   "execution_count": 139,
   "metadata": {},
   "outputs": [],
   "source": [
    "# Adding 1 to each value of \"AmountOfInjuryClaim\" column\n",
    "data_26['AmountOfInjuryClaim']=data_26['AmountOfInjuryClaim']+1"
   ]
  },
  {
   "cell_type": "code",
   "execution_count": 140,
   "metadata": {},
   "outputs": [
    {
     "data": {
      "text/plain": [
       "0        13418\n",
       "1        15561\n",
       "2        11631\n",
       "3        12004\n",
       "4         8830\n",
       "         ...  \n",
       "28831      871\n",
       "28832    14700\n",
       "28833     7044\n",
       "28834     7060\n",
       "28835    12076\n",
       "Name: AmountOfInjuryClaim, Length: 28805, dtype: int64"
      ]
     },
     "execution_count": 140,
     "metadata": {},
     "output_type": "execute_result"
    }
   ],
   "source": [
    "data_26['AmountOfInjuryClaim']"
   ]
  },
  {
   "cell_type": "code",
   "execution_count": 141,
   "metadata": {},
   "outputs": [
    {
     "data": {
      "text/plain": [
       "1        68\n",
       "481      51\n",
       "641      34\n",
       "581      19\n",
       "741      17\n",
       "         ..\n",
       "14522     1\n",
       "17650     1\n",
       "14399     1\n",
       "5926      1\n",
       "14700     1\n",
       "Name: AmountOfInjuryClaim, Length: 11955, dtype: int64"
      ]
     },
     "execution_count": 141,
     "metadata": {},
     "output_type": "execute_result"
    }
   ],
   "source": [
    "data_26['AmountOfInjuryClaim'].value_counts()"
   ]
  },
  {
   "cell_type": "code",
   "execution_count": 142,
   "metadata": {},
   "outputs": [],
   "source": [
    "# Log transformation  of \"AmountOfInjuryClaim\" column of data_26 \n",
    "data_26['AmountOfInjuryClaim']=np.log(data_26['AmountOfInjuryClaim'])"
   ]
  },
  {
   "cell_type": "code",
   "execution_count": 143,
   "metadata": {},
   "outputs": [
    {
     "data": {
      "text/plain": [
       "0.0"
      ]
     },
     "execution_count": 143,
     "metadata": {},
     "output_type": "execute_result"
    }
   ],
   "source": [
    "# Lowest value of \"AmountOfInjuryClaim\" column\n",
    "data_26['AmountOfInjuryClaim'].min()"
   ]
  },
  {
   "cell_type": "code",
   "execution_count": 144,
   "metadata": {},
   "outputs": [
    {
     "data": {
      "text/plain": [
       "9.973526543316103"
      ]
     },
     "execution_count": 144,
     "metadata": {},
     "output_type": "execute_result"
    }
   ],
   "source": [
    "# Highest value of \"AmountOfInjuryClaim\" column\n",
    "data_26['AmountOfInjuryClaim'].max()"
   ]
  },
  {
   "cell_type": "code",
   "execution_count": 145,
   "metadata": {},
   "outputs": [
    {
     "data": {
      "text/plain": [
       "0        9.504352\n",
       "1        9.652523\n",
       "2        9.361429\n",
       "3        9.392995\n",
       "4        9.085910\n",
       "           ...   \n",
       "28831    6.769642\n",
       "28832    9.595603\n",
       "28833    8.859931\n",
       "28834    8.862200\n",
       "28835    9.398975\n",
       "Name: AmountOfInjuryClaim, Length: 28805, dtype: float64"
      ]
     },
     "execution_count": 145,
     "metadata": {},
     "output_type": "execute_result"
    }
   ],
   "source": [
    "data_26['AmountOfInjuryClaim']"
   ]
  },
  {
   "cell_type": "code",
   "execution_count": 146,
   "metadata": {},
   "outputs": [
    {
     "data": {
      "text/plain": [
       "-2.080503942198823"
      ]
     },
     "execution_count": 146,
     "metadata": {},
     "output_type": "execute_result"
    }
   ],
   "source": [
    "# Skewness of \"AmountOfInjuryClaim\" column\n",
    "data_26['AmountOfInjuryClaim'].skew()"
   ]
  },
  {
   "cell_type": "code",
   "execution_count": 147,
   "metadata": {},
   "outputs": [
    {
     "name": "stdout",
     "output_type": "stream",
     "text": [
      "-0.7902755414602742\n"
     ]
    }
   ],
   "source": [
    "# Treatment of outlier in AmountOfInjuryClaim column \n",
    "upper_limit = data_26['AmountOfInjuryClaim'].mean() + 1*data_26['AmountOfInjuryClaim'].std()\n",
    "lower_limit = data_26['AmountOfInjuryClaim'].mean() - 1*data_26['AmountOfInjuryClaim'].std()\n",
    "\n",
    "data_26['AmountOfInjuryClaim'] = np.where(\n",
    "    data_26['AmountOfInjuryClaim']>upper_limit,\n",
    "    upper_limit,\n",
    "    np.where(\n",
    "        data_26['AmountOfInjuryClaim']<lower_limit,\n",
    "        lower_limit,\n",
    "        data_26['AmountOfInjuryClaim']\n",
    "    )\n",
    ")\n",
    "\n",
    "# skewness \n",
    "print(data_26['AmountOfInjuryClaim'].skew())"
   ]
  },
  {
   "cell_type": "code",
   "execution_count": 148,
   "metadata": {},
   "outputs": [
    {
     "name": "stdout",
     "output_type": "stream",
     "text": [
      "-0.4409194388173015\n"
     ]
    }
   ],
   "source": [
    "# Treatment of outlier in AmountOfInjuryClaim column \n",
    "upper_limit = data_26['AmountOfInjuryClaim'].mean() + 1*data_26['AmountOfInjuryClaim'].std()\n",
    "lower_limit = data_26['AmountOfInjuryClaim'].mean() - 1*data_26['AmountOfInjuryClaim'].std()\n",
    "\n",
    "data_26['AmountOfInjuryClaim'] = np.where(\n",
    "    data_26['AmountOfInjuryClaim']>upper_limit,\n",
    "    upper_limit,\n",
    "    np.where(\n",
    "        data_26['AmountOfInjuryClaim']<lower_limit,\n",
    "        lower_limit,\n",
    "        data_26['AmountOfInjuryClaim']\n",
    "    )\n",
    ")\n",
    "\n",
    "# skewness \n",
    "print(data_26['AmountOfInjuryClaim'].skew())"
   ]
  },
  {
   "cell_type": "code",
   "execution_count": 149,
   "metadata": {},
   "outputs": [
    {
     "name": "stderr",
     "output_type": "stream",
     "text": [
      "c:\\Users\\user\\anaconda3\\lib\\site-packages\\seaborn\\distributions.py:2619: FutureWarning: `distplot` is a deprecated function and will be removed in a future version. Please adapt your code to use either `displot` (a figure-level function with similar flexibility) or `histplot` (an axes-level function for histograms).\n",
      "  warnings.warn(msg, FutureWarning)\n"
     ]
    },
    {
     "data": {
      "text/plain": [
       "<AxesSubplot:xlabel='AmountOfInjuryClaim', ylabel='Density'>"
      ]
     },
     "execution_count": 149,
     "metadata": {},
     "output_type": "execute_result"
    },
    {
     "data": {
      "image/png": "[encoded data removed]",
      "text/plain": [
       "<Figure size 640x480 with 1 Axes>"
      ]
     },
     "metadata": {},
     "output_type": "display_data"
    }
   ],
   "source": [
    "# Distribution of \"AmountOfInjuryClaim\" column\n",
    "sns.distplot(data_26['AmountOfInjuryClaim'])"
   ]
  },
  {
   "cell_type": "code",
   "execution_count": 150,
   "metadata": {},
   "outputs": [
    {
     "data": {
      "text/plain": [
       "0         6071\n",
       "1         5919\n",
       "2        11630\n",
       "3        12003\n",
       "4         7234\n",
       "         ...  \n",
       "28831     1078\n",
       "28832     7875\n",
       "28833     7043\n",
       "28834     7059\n",
       "28835     6038\n",
       "Name: AmountOfPropertyClaim, Length: 28805, dtype: int64"
      ]
     },
     "execution_count": 150,
     "metadata": {},
     "output_type": "execute_result"
    }
   ],
   "source": [
    "data_26['AmountOfPropertyClaim']"
   ]
  },
  {
   "cell_type": "code",
   "execution_count": 151,
   "metadata": {},
   "outputs": [
    {
     "data": {
      "text/plain": [
       "0"
      ]
     },
     "execution_count": 151,
     "metadata": {},
     "output_type": "execute_result"
    }
   ],
   "source": [
    "# Lowest value of \"AmountOfPropertyClaim\" column\n",
    "data_26['AmountOfPropertyClaim'].min()"
   ]
  },
  {
   "cell_type": "code",
   "execution_count": 152,
   "metadata": {},
   "outputs": [
    {
     "data": {
      "text/plain": [
       "23670"
      ]
     },
     "execution_count": 152,
     "metadata": {},
     "output_type": "execute_result"
    }
   ],
   "source": [
    "# Highest value of \"AmountOfPropertyClaim\" column\n",
    "data_26['AmountOfPropertyClaim'].max()"
   ]
  },
  {
   "cell_type": "code",
   "execution_count": 153,
   "metadata": {},
   "outputs": [
    {
     "name": "stderr",
     "output_type": "stream",
     "text": [
      "c:\\Users\\user\\anaconda3\\lib\\site-packages\\seaborn\\distributions.py:2619: FutureWarning: `distplot` is a deprecated function and will be removed in a future version. Please adapt your code to use either `displot` (a figure-level function with similar flexibility) or `histplot` (an axes-level function for histograms).\n",
      "  warnings.warn(msg, FutureWarning)\n"
     ]
    },
    {
     "data": {
      "text/plain": [
       "<AxesSubplot:xlabel='AmountOfPropertyClaim', ylabel='Density'>"
      ]
     },
     "execution_count": 153,
     "metadata": {},
     "output_type": "execute_result"
    },
    {
     "data": {
      "image/png": "[encoded data removed]",
      "text/plain": [
       "<Figure size 640x480 with 1 Axes>"
      ]
     },
     "metadata": {},
     "output_type": "display_data"
    }
   ],
   "source": [
    "# Distribution of \"AmountOfPropertyClaim\" column\n",
    "sns.distplot(data_26['AmountOfPropertyClaim'])"
   ]
  },
  {
   "cell_type": "code",
   "execution_count": 154,
   "metadata": {},
   "outputs": [],
   "source": [
    "# Adding 1 to each value of \"AmountOfPropertyClaim\" column\n",
    "data_26['AmountOfPropertyClaim']=data_26['AmountOfPropertyClaim']+1"
   ]
  },
  {
   "cell_type": "code",
   "execution_count": 155,
   "metadata": {},
   "outputs": [
    {
     "data": {
      "text/plain": [
       "1        35\n",
       "581      17\n",
       "607      16\n",
       "579      16\n",
       "507      15\n",
       "         ..\n",
       "10945     1\n",
       "7118      1\n",
       "4954      1\n",
       "14663     1\n",
       "13132     1\n",
       "Name: AmountOfPropertyClaim, Length: 11781, dtype: int64"
      ]
     },
     "execution_count": 155,
     "metadata": {},
     "output_type": "execute_result"
    }
   ],
   "source": [
    "# Value counts of \"AmountOfPropertyClaim\" column\n",
    "data_26['AmountOfPropertyClaim'].value_counts()"
   ]
  },
  {
   "cell_type": "code",
   "execution_count": 156,
   "metadata": {},
   "outputs": [],
   "source": [
    "# Log transformation  of \"AmountOfPropertyClaim\" column of data_26\n",
    "data_26['AmountOfPropertyClaim']=np.log(data_26['AmountOfPropertyClaim'])"
   ]
  },
  {
   "cell_type": "code",
   "execution_count": 157,
   "metadata": {},
   "outputs": [
    {
     "name": "stderr",
     "output_type": "stream",
     "text": [
      "c:\\Users\\user\\anaconda3\\lib\\site-packages\\seaborn\\distributions.py:2619: FutureWarning: `distplot` is a deprecated function and will be removed in a future version. Please adapt your code to use either `displot` (a figure-level function with similar flexibility) or `histplot` (an axes-level function for histograms).\n",
      "  warnings.warn(msg, FutureWarning)\n"
     ]
    },
    {
     "data": {
      "text/plain": [
       "<AxesSubplot:xlabel='AmountOfPropertyClaim', ylabel='Density'>"
      ]
     },
     "execution_count": 157,
     "metadata": {},
     "output_type": "execute_result"
    },
    {
     "data": {
      "image/png": "[encoded data removed]",
      "text/plain": [
       "<Figure size 640x480 with 1 Axes>"
      ]
     },
     "metadata": {},
     "output_type": "display_data"
    }
   ],
   "source": [
    "# Distribution of \"AmountOfPropertyClaim\" column\n",
    "sns.distplot(data_26['AmountOfPropertyClaim'])"
   ]
  },
  {
   "cell_type": "code",
   "execution_count": 158,
   "metadata": {},
   "outputs": [
    {
     "data": {
      "text/plain": [
       "0.0"
      ]
     },
     "execution_count": 158,
     "metadata": {},
     "output_type": "execute_result"
    }
   ],
   "source": [
    "# Lowest value of \"AmountOfPropertyClaim\" column\n",
    "data_26['AmountOfPropertyClaim'].min()"
   ]
  },
  {
   "cell_type": "code",
   "execution_count": 159,
   "metadata": {},
   "outputs": [
    {
     "data": {
      "text/plain": [
       "10.07200594918639"
      ]
     },
     "execution_count": 159,
     "metadata": {},
     "output_type": "execute_result"
    }
   ],
   "source": [
    "# Highest value of \"AmountOfPropertyClaim\" column\n",
    "data_26['AmountOfPropertyClaim'].max()"
   ]
  },
  {
   "cell_type": "code",
   "execution_count": 160,
   "metadata": {},
   "outputs": [
    {
     "data": {
      "text/plain": [
       "-1.8161924363206554"
      ]
     },
     "execution_count": 160,
     "metadata": {},
     "output_type": "execute_result"
    }
   ],
   "source": [
    "# Skewness of \"AmountOfPropertyClaim\" column\n",
    "data_26['AmountOfPropertyClaim'].skew()"
   ]
  },
  {
   "cell_type": "code",
   "execution_count": 161,
   "metadata": {},
   "outputs": [
    {
     "name": "stdout",
     "output_type": "stream",
     "text": [
      "-1.2066064617143082\n"
     ]
    }
   ],
   "source": [
    "upper_limit = data_26['AmountOfPropertyClaim'].mean() + 2*data_26['AmountOfPropertyClaim'].std()\n",
    "lower_limit = data_26['AmountOfPropertyClaim'].mean() - 2*data_26['AmountOfPropertyClaim'].std()\n",
    "\n",
    "data_26['AmountOfPropertyClaim'] = np.where(\n",
    "    data_26['AmountOfPropertyClaim']>upper_limit,\n",
    "    upper_limit,\n",
    "    np.where(\n",
    "        data_26['AmountOfPropertyClaim']<lower_limit,\n",
    "        lower_limit,\n",
    "        data_26['AmountOfPropertyClaim']\n",
    "    )\n",
    ")\n",
    "\n",
    "# skewwness\n",
    "print(data_26['AmountOfPropertyClaim'].skew())"
   ]
  },
  {
   "cell_type": "code",
   "execution_count": 162,
   "metadata": {},
   "outputs": [
    {
     "name": "stdout",
     "output_type": "stream",
     "text": [
      "-1.149683858774989\n"
     ]
    }
   ],
   "source": [
    "upper_limit = data_26['AmountOfPropertyClaim'].mean() + 2*data_26['AmountOfPropertyClaim'].std()\n",
    "lower_limit = data_26['AmountOfPropertyClaim'].mean() - 2*data_26['AmountOfPropertyClaim'].std()\n",
    "\n",
    "data_26['AmountOfPropertyClaim'] = np.where(\n",
    "    data_26['AmountOfPropertyClaim']>upper_limit,\n",
    "    upper_limit,\n",
    "    np.where(\n",
    "        data_26['AmountOfPropertyClaim']<lower_limit,\n",
    "        lower_limit,\n",
    "        data_26['AmountOfPropertyClaim']\n",
    "    )\n",
    ")\n",
    "\n",
    "# skewwness\n",
    "print(data_26['AmountOfPropertyClaim'].skew())"
   ]
  },
  {
   "cell_type": "code",
   "execution_count": 163,
   "metadata": {},
   "outputs": [
    {
     "name": "stdout",
     "output_type": "stream",
     "text": [
      "-0.9324127921157834\n"
     ]
    }
   ],
   "source": [
    "upper_limit = data_26['AmountOfPropertyClaim'].mean() + 1.5*data_26['AmountOfPropertyClaim'].std()\n",
    "lower_limit = data_26['AmountOfPropertyClaim'].mean() - 1.5*data_26['AmountOfPropertyClaim'].std()\n",
    "\n",
    "data_26['AmountOfPropertyClaim'] = np.where(\n",
    "    data_26['AmountOfPropertyClaim']>upper_limit,\n",
    "    upper_limit,\n",
    "    np.where(\n",
    "        data_26['AmountOfPropertyClaim']<lower_limit,\n",
    "        lower_limit,\n",
    "        data_26['AmountOfPropertyClaim']\n",
    "    )\n",
    ")\n",
    "\n",
    "# skewwness\n",
    "print(data_26['AmountOfPropertyClaim'].skew())"
   ]
  },
  {
   "cell_type": "code",
   "execution_count": 164,
   "metadata": {},
   "outputs": [
    {
     "name": "stdout",
     "output_type": "stream",
     "text": [
      "-0.5368390177572072\n"
     ]
    }
   ],
   "source": [
    "upper_limit = data_26['AmountOfPropertyClaim'].mean() + 1*data_26['AmountOfPropertyClaim'].std()\n",
    "lower_limit = data_26['AmountOfPropertyClaim'].mean() - 1*data_26['AmountOfPropertyClaim'].std()\n",
    "\n",
    "data_26['AmountOfPropertyClaim'] = np.where(\n",
    "    data_26['AmountOfPropertyClaim']>upper_limit,\n",
    "    upper_limit,\n",
    "    np.where(\n",
    "        data_26['AmountOfPropertyClaim']<lower_limit,\n",
    "        lower_limit,\n",
    "        data_26['AmountOfPropertyClaim']\n",
    "    )\n",
    ")\n",
    "\n",
    "# skewwness\n",
    "print(data_26['AmountOfPropertyClaim'].skew())"
   ]
  },
  {
   "cell_type": "code",
   "execution_count": 165,
   "metadata": {},
   "outputs": [
    {
     "name": "stderr",
     "output_type": "stream",
     "text": [
      "c:\\Users\\user\\anaconda3\\lib\\site-packages\\seaborn\\distributions.py:2619: FutureWarning: `distplot` is a deprecated function and will be removed in a future version. Please adapt your code to use either `displot` (a figure-level function with similar flexibility) or `histplot` (an axes-level function for histograms).\n",
      "  warnings.warn(msg, FutureWarning)\n"
     ]
    },
    {
     "data": {
      "text/plain": [
       "<AxesSubplot:xlabel='AmountOfPropertyClaim', ylabel='Density'>"
      ]
     },
     "execution_count": 165,
     "metadata": {},
     "output_type": "execute_result"
    },
    {
     "data": {
      "image/png": "[encoded data removed]",
      "text/plain": [
       "<Figure size 640x480 with 1 Axes>"
      ]
     },
     "metadata": {},
     "output_type": "display_data"
    }
   ],
   "source": [
    "# Distribution of \"AmountOfPropertyClaim\" column\n",
    "sns.distplot(data_26['AmountOfPropertyClaim'])"
   ]
  },
  {
   "cell_type": "code",
   "execution_count": 166,
   "metadata": {},
   "outputs": [
    {
     "data": {
      "text/plain": [
       "2560     19\n",
       "5040     12\n",
       "28000    11\n",
       "3933      8\n",
       "3600      8\n",
       "         ..\n",
       "30921     1\n",
       "46074     1\n",
       "44081     1\n",
       "35027     1\n",
       "41183     1\n",
       "Name: AmountOfVehicleDamage, Length: 20027, dtype: int64"
      ]
     },
     "execution_count": 166,
     "metadata": {},
     "output_type": "execute_result"
    }
   ],
   "source": [
    "data_26['AmountOfVehicleDamage'].value_counts()"
   ]
  },
  {
   "cell_type": "code",
   "execution_count": 167,
   "metadata": {},
   "outputs": [
    {
     "data": {
      "text/plain": [
       "0        46013\n",
       "1        39903\n",
       "2        43495\n",
       "3        42237\n",
       "4        37481\n",
       "         ...  \n",
       "28831     4642\n",
       "28832    51973\n",
       "28833    41219\n",
       "28834    41712\n",
       "28835    50856\n",
       "Name: AmountOfVehicleDamage, Length: 28805, dtype: int64"
      ]
     },
     "execution_count": 167,
     "metadata": {},
     "output_type": "execute_result"
    }
   ],
   "source": [
    "data_26['AmountOfVehicleDamage']"
   ]
  },
  {
   "cell_type": "code",
   "execution_count": 168,
   "metadata": {},
   "outputs": [
    {
     "data": {
      "text/plain": [
       "79560"
      ]
     },
     "execution_count": 168,
     "metadata": {},
     "output_type": "execute_result"
    }
   ],
   "source": [
    "# Highest value of \"AmountOfVehicleDamage\" column\n",
    "data_26['AmountOfVehicleDamage'].max()"
   ]
  },
  {
   "cell_type": "code",
   "execution_count": 169,
   "metadata": {},
   "outputs": [
    {
     "data": {
      "text/plain": [
       "109"
      ]
     },
     "execution_count": 169,
     "metadata": {},
     "output_type": "execute_result"
    }
   ],
   "source": [
    "# Lowest value of \"AmountOfVehicleDamage\" column\n",
    "data_26['AmountOfVehicleDamage'].min()"
   ]
  },
  {
   "cell_type": "code",
   "execution_count": 170,
   "metadata": {},
   "outputs": [
    {
     "data": {
      "text/plain": [
       "-0.8199427853372846"
      ]
     },
     "execution_count": 170,
     "metadata": {},
     "output_type": "execute_result"
    }
   ],
   "source": [
    "# Skewness of \"AmountOfVehicleDamage\" column\n",
    "data_26['AmountOfVehicleDamage'].skew()"
   ]
  },
  {
   "cell_type": "code",
   "execution_count": 171,
   "metadata": {},
   "outputs": [
    {
     "name": "stderr",
     "output_type": "stream",
     "text": [
      "c:\\Users\\user\\anaconda3\\lib\\site-packages\\seaborn\\distributions.py:2619: FutureWarning: `distplot` is a deprecated function and will be removed in a future version. Please adapt your code to use either `displot` (a figure-level function with similar flexibility) or `histplot` (an axes-level function for histograms).\n",
      "  warnings.warn(msg, FutureWarning)\n"
     ]
    },
    {
     "data": {
      "text/plain": [
       "<AxesSubplot:xlabel='AmountOfVehicleDamage', ylabel='Density'>"
      ]
     },
     "execution_count": 171,
     "metadata": {},
     "output_type": "execute_result"
    },
    {
     "data": {
      "image/png": "[encoded data removed]",
      "text/plain": [
       "<Figure size 640x480 with 1 Axes>"
      ]
     },
     "metadata": {},
     "output_type": "display_data"
    }
   ],
   "source": [
    "# Distribution of \"AmountOfVehicleDamage\" column\n",
    "sns.distplot(data_26['AmountOfVehicleDamage'])"
   ]
  },
  {
   "cell_type": "code",
   "execution_count": 172,
   "metadata": {},
   "outputs": [
    {
     "name": "stdout",
     "output_type": "stream",
     "text": [
      "-0.8199427853372846\n"
     ]
    }
   ],
   "source": [
    "upper_limit = data_26['AmountOfVehicleDamage'].mean() + 3*data_26['AmountOfVehicleDamage'].std()\n",
    "lower_limit = data_26['AmountOfVehicleDamage'].mean() - 3*data_26['AmountOfVehicleDamage'].std()\n",
    "\n",
    "data_26['AmountOfVehicleDamage'] = np.where(\n",
    "    data_26['AmountOfVehicleDamage']>upper_limit,\n",
    "    upper_limit,\n",
    "    np.where(\n",
    "        data_26['AmountOfVehicleDamage']<lower_limit,\n",
    "        lower_limit,\n",
    "        data_26['AmountOfVehicleDamage']\n",
    "    )\n",
    ")\n",
    "\n",
    "# skewwness\n",
    "print(data_26['AmountOfVehicleDamage'].skew())"
   ]
  },
  {
   "cell_type": "code",
   "execution_count": 173,
   "metadata": {},
   "outputs": [
    {
     "name": "stdout",
     "output_type": "stream",
     "text": [
      "-0.8255696154342592\n"
     ]
    }
   ],
   "source": [
    "upper_limit = data_26['AmountOfVehicleDamage'].mean() + 2*data_26['AmountOfVehicleDamage'].std()\n",
    "lower_limit = data_26['AmountOfVehicleDamage'].mean() - 2*data_26['AmountOfVehicleDamage'].std()\n",
    "\n",
    "data_26['AmountOfVehicleDamage'] = np.where(\n",
    "    data_26['AmountOfVehicleDamage']>upper_limit,\n",
    "    upper_limit,\n",
    "    np.where(\n",
    "        data_26['AmountOfVehicleDamage']<lower_limit,\n",
    "        lower_limit,\n",
    "        data_26['AmountOfVehicleDamage']\n",
    "    )\n",
    ")\n",
    "\n",
    "# skewwness\n",
    "print(data_26['AmountOfVehicleDamage'].skew())"
   ]
  },
  {
   "cell_type": "code",
   "execution_count": 174,
   "metadata": {},
   "outputs": [
    {
     "name": "stdout",
     "output_type": "stream",
     "text": [
      "-0.49411533017156195\n"
     ]
    }
   ],
   "source": [
    "upper_limit = data_26['AmountOfVehicleDamage'].mean() + 1*data_26['AmountOfVehicleDamage'].std()\n",
    "lower_limit = data_26['AmountOfVehicleDamage'].mean() - 1*data_26['AmountOfVehicleDamage'].std()\n",
    "\n",
    "data_26['AmountOfVehicleDamage'] = np.where(\n",
    "    data_26['AmountOfVehicleDamage']>upper_limit,\n",
    "    upper_limit,\n",
    "    np.where(\n",
    "        data_26['AmountOfVehicleDamage']<lower_limit,\n",
    "        lower_limit,\n",
    "        data_26['AmountOfVehicleDamage']\n",
    "    )\n",
    ")\n",
    "\n",
    "# skewwness\n",
    "print(data_26['AmountOfVehicleDamage'].skew())"
   ]
  },
  {
   "cell_type": "code",
   "execution_count": 175,
   "metadata": {},
   "outputs": [
    {
     "name": "stderr",
     "output_type": "stream",
     "text": [
      "c:\\Users\\user\\anaconda3\\lib\\site-packages\\seaborn\\distributions.py:2619: FutureWarning: `distplot` is a deprecated function and will be removed in a future version. Please adapt your code to use either `displot` (a figure-level function with similar flexibility) or `histplot` (an axes-level function for histograms).\n",
      "  warnings.warn(msg, FutureWarning)\n"
     ]
    },
    {
     "data": {
      "text/plain": [
       "<AxesSubplot:xlabel='AmountOfVehicleDamage', ylabel='Density'>"
      ]
     },
     "execution_count": 175,
     "metadata": {},
     "output_type": "execute_result"
    },
    {
     "data": {
      "image/png": "[encoded data removed]",
      "text/plain": [
       "<Figure size 640x480 with 1 Axes>"
      ]
     },
     "metadata": {},
     "output_type": "display_data"
    }
   ],
   "source": [
    "# distribution of \"AmountOfVehicleDamage\" column\n",
    "sns.distplot(data_26['AmountOfVehicleDamage'])"
   ]
  },
  {
   "cell_type": "code",
   "execution_count": 176,
   "metadata": {},
   "outputs": [
    {
     "data": {
      "text/plain": [
       "34    1467\n",
       "38    1417\n",
       "37    1398\n",
       "39    1365\n",
       "36    1311\n",
       "40    1303\n",
       "35    1299\n",
       "33    1292\n",
       "32    1261\n",
       "41    1243\n",
       "43    1195\n",
       "31    1191\n",
       "42    1181\n",
       "30    1060\n",
       "44    1049\n",
       "45     952\n",
       "46     908\n",
       "29     907\n",
       "28     802\n",
       "47     647\n",
       "48     619\n",
       "27     601\n",
       "49     434\n",
       "26     421\n",
       "50     380\n",
       "51     319\n",
       "53     307\n",
       "52     289\n",
       "55     260\n",
       "54     249\n",
       "25     248\n",
       "56     242\n",
       "58     197\n",
       "57     190\n",
       "59     164\n",
       "24     149\n",
       "60     148\n",
       "61     118\n",
       "23      78\n",
       "22      40\n",
       "62      35\n",
       "21      33\n",
       "63      13\n",
       "20      12\n",
       "64      10\n",
       "19       1\n",
       "Name: InsuredAge, dtype: int64"
      ]
     },
     "execution_count": 176,
     "metadata": {},
     "output_type": "execute_result"
    }
   ],
   "source": [
    "data_26['InsuredAge'].value_counts()"
   ]
  },
  {
   "cell_type": "code",
   "execution_count": 177,
   "metadata": {},
   "outputs": [
    {
     "data": {
      "text/plain": [
       "0        35\n",
       "1        36\n",
       "2        33\n",
       "3        36\n",
       "4        29\n",
       "         ..\n",
       "28831    46\n",
       "28832    44\n",
       "28833    53\n",
       "28834    53\n",
       "28835    36\n",
       "Name: InsuredAge, Length: 28805, dtype: int64"
      ]
     },
     "execution_count": 177,
     "metadata": {},
     "output_type": "execute_result"
    }
   ],
   "source": [
    "data_26['InsuredAge']"
   ]
  },
  {
   "cell_type": "code",
   "execution_count": 178,
   "metadata": {},
   "outputs": [
    {
     "name": "stderr",
     "output_type": "stream",
     "text": [
      "c:\\Users\\user\\anaconda3\\lib\\site-packages\\seaborn\\distributions.py:2619: FutureWarning: `distplot` is a deprecated function and will be removed in a future version. Please adapt your code to use either `displot` (a figure-level function with similar flexibility) or `histplot` (an axes-level function for histograms).\n",
      "  warnings.warn(msg, FutureWarning)\n"
     ]
    },
    {
     "data": {
      "text/plain": [
       "<AxesSubplot:xlabel='InsuredAge', ylabel='Density'>"
      ]
     },
     "execution_count": 178,
     "metadata": {},
     "output_type": "execute_result"
    },
    {
     "data": {
      "image/png": "[encoded data removed]",
      "text/plain": [
       "<Figure size 640x480 with 1 Axes>"
      ]
     },
     "metadata": {},
     "output_type": "display_data"
    }
   ],
   "source": [
    "# Distribution of \"InsuredAge\" column\n",
    "sns.distplot(data_26['InsuredAge'])"
   ]
  },
  {
   "cell_type": "code",
   "execution_count": 179,
   "metadata": {},
   "outputs": [
    {
     "data": {
      "text/plain": [
       "446895    100\n",
       "612904     72\n",
       "476198     71\n",
       "440961     70\n",
       "608331     70\n",
       "         ... \n",
       "611322     11\n",
       "459504     11\n",
       "475483     11\n",
       "441714     11\n",
       "448984      8\n",
       "Name: InsuredZipCode, Length: 995, dtype: int64"
      ]
     },
     "execution_count": 179,
     "metadata": {},
     "output_type": "execute_result"
    }
   ],
   "source": [
    "data_26['InsuredZipCode'].value_counts()"
   ]
  },
  {
   "cell_type": "code",
   "execution_count": 180,
   "metadata": {},
   "outputs": [],
   "source": [
    "# Dropping \"InsuredZipCode\" column\n",
    "data_26=data_26.drop('InsuredZipCode',axis=1)"
   ]
  },
  {
   "cell_type": "code",
   "execution_count": 181,
   "metadata": {},
   "outputs": [
    {
     "data": {
      "text/plain": [
       "JD             4806\n",
       "High School    4575\n",
       "MD             4157\n",
       "Masters        4137\n",
       "Associate      4119\n",
       "PhD            3553\n",
       "College        3458\n",
       "Name: InsuredEducationLevel, dtype: int64"
      ]
     },
     "execution_count": 181,
     "metadata": {},
     "output_type": "execute_result"
    }
   ],
   "source": [
    "data_26['InsuredEducationLevel'].value_counts()"
   ]
  },
  {
   "cell_type": "code",
   "execution_count": 182,
   "metadata": {},
   "outputs": [],
   "source": [
    "# Label encoding of \"InsuredEducationLevel\" column\n",
    "data_26['InsuredEducationLevel']= le.fit_transform(data_26['InsuredEducationLevel'])"
   ]
  },
  {
   "cell_type": "code",
   "execution_count": 183,
   "metadata": {},
   "outputs": [
    {
     "data": {
      "text/html": [
       "<div>\n",
       "<style scoped>\n",
       "    .dataframe tbody tr th:only-of-type {\n",
       "        vertical-align: middle;\n",
       "    }\n",
       "\n",
       "    .dataframe tbody tr th {\n",
       "        vertical-align: top;\n",
       "    }\n",
       "\n",
       "    .dataframe thead th {\n",
       "        text-align: right;\n",
       "    }\n",
       "</style>\n",
       "<table border=\"1\" class=\"dataframe\">\n",
       "  <thead>\n",
       "    <tr style=\"text-align: right;\">\n",
       "      <th></th>\n",
       "      <th>AuthoritiesContacted</th>\n",
       "      <th>IncidentState</th>\n",
       "      <th>IncidentCity</th>\n",
       "      <th>IncidentTime</th>\n",
       "      <th>NumberOfVehicles</th>\n",
       "      <th>BodilyInjuries</th>\n",
       "      <th>Witnesses</th>\n",
       "      <th>AmountOfTotalClaim</th>\n",
       "      <th>AmountOfInjuryClaim</th>\n",
       "      <th>AmountOfPropertyClaim</th>\n",
       "      <th>...</th>\n",
       "      <th>TypeOfIncident_Parked Car</th>\n",
       "      <th>TypeOfIncident_Single Vehicle Collision</th>\n",
       "      <th>TypeOfIncident_Vehicle Theft</th>\n",
       "      <th>TypeOfCollission_Rear Collision</th>\n",
       "      <th>TypeOfCollission_Side Collision</th>\n",
       "      <th>SeverityOfIncident_Minor Damage</th>\n",
       "      <th>SeverityOfIncident_Total Loss</th>\n",
       "      <th>SeverityOfIncident_Trivial Damage</th>\n",
       "      <th>PropertyDamage_YES</th>\n",
       "      <th>PoliceReport_YES</th>\n",
       "    </tr>\n",
       "  </thead>\n",
       "  <tbody>\n",
       "    <tr>\n",
       "      <th>0</th>\n",
       "      <td>4</td>\n",
       "      <td>4</td>\n",
       "      <td>0</td>\n",
       "      <td>17</td>\n",
       "      <td>3</td>\n",
       "      <td>1</td>\n",
       "      <td>0</td>\n",
       "      <td>65501.0</td>\n",
       "      <td>9.435368</td>\n",
       "      <td>8.711443</td>\n",
       "      <td>...</td>\n",
       "      <td>0</td>\n",
       "      <td>0</td>\n",
       "      <td>0</td>\n",
       "      <td>0</td>\n",
       "      <td>1</td>\n",
       "      <td>0</td>\n",
       "      <td>1</td>\n",
       "      <td>0</td>\n",
       "      <td>1</td>\n",
       "      <td>1</td>\n",
       "    </tr>\n",
       "    <tr>\n",
       "      <th>1</th>\n",
       "      <td>4</td>\n",
       "      <td>4</td>\n",
       "      <td>4</td>\n",
       "      <td>10</td>\n",
       "      <td>3</td>\n",
       "      <td>2</td>\n",
       "      <td>1</td>\n",
       "      <td>61382.0</td>\n",
       "      <td>9.435368</td>\n",
       "      <td>8.686092</td>\n",
       "      <td>...</td>\n",
       "      <td>0</td>\n",
       "      <td>0</td>\n",
       "      <td>0</td>\n",
       "      <td>0</td>\n",
       "      <td>1</td>\n",
       "      <td>0</td>\n",
       "      <td>1</td>\n",
       "      <td>0</td>\n",
       "      <td>1</td>\n",
       "      <td>1</td>\n",
       "    </tr>\n",
       "    <tr>\n",
       "      <th>2</th>\n",
       "      <td>3</td>\n",
       "      <td>5</td>\n",
       "      <td>5</td>\n",
       "      <td>22</td>\n",
       "      <td>1</td>\n",
       "      <td>2</td>\n",
       "      <td>3</td>\n",
       "      <td>66755.0</td>\n",
       "      <td>9.361429</td>\n",
       "      <td>9.361429</td>\n",
       "      <td>...</td>\n",
       "      <td>0</td>\n",
       "      <td>1</td>\n",
       "      <td>0</td>\n",
       "      <td>0</td>\n",
       "      <td>1</td>\n",
       "      <td>1</td>\n",
       "      <td>0</td>\n",
       "      <td>0</td>\n",
       "      <td>1</td>\n",
       "      <td>0</td>\n",
       "    </tr>\n",
       "    <tr>\n",
       "      <th>3</th>\n",
       "      <td>3</td>\n",
       "      <td>6</td>\n",
       "      <td>5</td>\n",
       "      <td>22</td>\n",
       "      <td>1</td>\n",
       "      <td>2</td>\n",
       "      <td>3</td>\n",
       "      <td>66243.0</td>\n",
       "      <td>9.392995</td>\n",
       "      <td>9.392995</td>\n",
       "      <td>...</td>\n",
       "      <td>0</td>\n",
       "      <td>1</td>\n",
       "      <td>0</td>\n",
       "      <td>0</td>\n",
       "      <td>1</td>\n",
       "      <td>1</td>\n",
       "      <td>0</td>\n",
       "      <td>0</td>\n",
       "      <td>1</td>\n",
       "      <td>0</td>\n",
       "    </tr>\n",
       "    <tr>\n",
       "      <th>4</th>\n",
       "      <td>1</td>\n",
       "      <td>5</td>\n",
       "      <td>5</td>\n",
       "      <td>10</td>\n",
       "      <td>1</td>\n",
       "      <td>2</td>\n",
       "      <td>1</td>\n",
       "      <td>53544.0</td>\n",
       "      <td>9.085910</td>\n",
       "      <td>8.886686</td>\n",
       "      <td>...</td>\n",
       "      <td>0</td>\n",
       "      <td>1</td>\n",
       "      <td>0</td>\n",
       "      <td>1</td>\n",
       "      <td>0</td>\n",
       "      <td>1</td>\n",
       "      <td>0</td>\n",
       "      <td>0</td>\n",
       "      <td>0</td>\n",
       "      <td>1</td>\n",
       "    </tr>\n",
       "  </tbody>\n",
       "</table>\n",
       "<p>5 rows × 44 columns</p>\n",
       "</div>"
      ],
      "text/plain": [
       "   AuthoritiesContacted  IncidentState  IncidentCity  IncidentTime  \\\n",
       "0                     4              4             0            17   \n",
       "1                     4              4             4            10   \n",
       "2                     3              5             5            22   \n",
       "3                     3              6             5            22   \n",
       "4                     1              5             5            10   \n",
       "\n",
       "   NumberOfVehicles  BodilyInjuries  Witnesses  AmountOfTotalClaim  \\\n",
       "0                 3               1          0             65501.0   \n",
       "1                 3               2          1             61382.0   \n",
       "2                 1               2          3             66755.0   \n",
       "3                 1               2          3             66243.0   \n",
       "4                 1               2          1             53544.0   \n",
       "\n",
       "   AmountOfInjuryClaim  AmountOfPropertyClaim  ...  TypeOfIncident_Parked Car  \\\n",
       "0             9.435368               8.711443  ...                          0   \n",
       "1             9.435368               8.686092  ...                          0   \n",
       "2             9.361429               9.361429  ...                          0   \n",
       "3             9.392995               9.392995  ...                          0   \n",
       "4             9.085910               8.886686  ...                          0   \n",
       "\n",
       "   TypeOfIncident_Single Vehicle Collision  TypeOfIncident_Vehicle Theft  \\\n",
       "0                                        0                             0   \n",
       "1                                        0                             0   \n",
       "2                                        1                             0   \n",
       "3                                        1                             0   \n",
       "4                                        1                             0   \n",
       "\n",
       "   TypeOfCollission_Rear Collision TypeOfCollission_Side Collision  \\\n",
       "0                                0                               1   \n",
       "1                                0                               1   \n",
       "2                                0                               1   \n",
       "3                                0                               1   \n",
       "4                                1                               0   \n",
       "\n",
       "  SeverityOfIncident_Minor Damage  SeverityOfIncident_Total Loss  \\\n",
       "0                               0                              1   \n",
       "1                               0                              1   \n",
       "2                               1                              0   \n",
       "3                               1                              0   \n",
       "4                               1                              0   \n",
       "\n",
       "   SeverityOfIncident_Trivial Damage PropertyDamage_YES  PoliceReport_YES  \n",
       "0                                  0                  1                 1  \n",
       "1                                  0                  1                 1  \n",
       "2                                  0                  1                 0  \n",
       "3                                  0                  1                 0  \n",
       "4                                  0                  0                 1  \n",
       "\n",
       "[5 rows x 44 columns]"
      ]
     },
     "execution_count": 183,
     "metadata": {},
     "output_type": "execute_result"
    }
   ],
   "source": [
    "data_27=data_26\n",
    "data_27.head()"
   ]
  },
  {
   "cell_type": "code",
   "execution_count": 184,
   "metadata": {},
   "outputs": [
    {
     "data": {
      "text/plain": [
       "machine-op-inspct    2793\n",
       "prof-specialty       2361\n",
       "tech-support         2268\n",
       "priv-house-serv      2173\n",
       "exec-managerial      2145\n",
       "craft-repair         2129\n",
       "sales                2127\n",
       "transport-moving     2079\n",
       "armed-forces         2032\n",
       "other-service        1963\n",
       "adm-clerical         1921\n",
       "protective-serv      1709\n",
       "farming-fishing      1632\n",
       "handlers-cleaners    1473\n",
       "Name: InsuredOccupation, dtype: int64"
      ]
     },
     "execution_count": 184,
     "metadata": {},
     "output_type": "execute_result"
    }
   ],
   "source": [
    "data_27['InsuredOccupation'].value_counts()"
   ]
  },
  {
   "cell_type": "code",
   "execution_count": 185,
   "metadata": {},
   "outputs": [],
   "source": [
    "# Label encoding of \"InsuredOccupation\" column\n",
    "data_27['InsuredOccupation']= le.fit_transform(data_27['InsuredOccupation'])"
   ]
  },
  {
   "cell_type": "code",
   "execution_count": 186,
   "metadata": {},
   "outputs": [],
   "source": [
    "data_28=data_27"
   ]
  },
  {
   "cell_type": "code",
   "execution_count": 187,
   "metadata": {},
   "outputs": [
    {
     "data": {
      "text/plain": [
       "bungie-jumping    1749\n",
       "paintball         1687\n",
       "camping           1679\n",
       "kayaking          1609\n",
       "exercise          1589\n",
       "reading           1583\n",
       "movies            1527\n",
       "yachting          1486\n",
       "hiking            1482\n",
       "golf              1468\n",
       "base-jumping      1466\n",
       "video-games       1418\n",
       "board-games       1395\n",
       "skydiving         1395\n",
       "polo              1378\n",
       "cross-fit         1248\n",
       "sleeping          1219\n",
       "dancing           1218\n",
       "chess             1207\n",
       "basketball        1002\n",
       "Name: InsuredHobbies, dtype: int64"
      ]
     },
     "execution_count": 187,
     "metadata": {},
     "output_type": "execute_result"
    }
   ],
   "source": [
    "data_28['InsuredHobbies'].value_counts()"
   ]
  },
  {
   "cell_type": "code",
   "execution_count": 188,
   "metadata": {},
   "outputs": [],
   "source": [
    "# Label encoding of \"InsuredHobbies\" column\n",
    "data_28['InsuredHobbies']= le.fit_transform(data_28['InsuredHobbies'])"
   ]
  },
  {
   "cell_type": "code",
   "execution_count": 189,
   "metadata": {},
   "outputs": [],
   "source": [
    "data_29=data_28"
   ]
  },
  {
   "cell_type": "code",
   "execution_count": 190,
   "metadata": {},
   "outputs": [
    {
     "data": {
      "text/plain": [
       "0        15803\n",
       "44000      141\n",
       "51500      130\n",
       "55600      124\n",
       "75800      121\n",
       "         ...  \n",
       "44200       11\n",
       "37500       11\n",
       "43900       10\n",
       "53400        9\n",
       "25900        9\n",
       "Name: CapitalGains, Length: 338, dtype: int64"
      ]
     },
     "execution_count": 190,
     "metadata": {},
     "output_type": "execute_result"
    }
   ],
   "source": [
    "data_29['CapitalGains'].value_counts()"
   ]
  },
  {
   "cell_type": "code",
   "execution_count": 191,
   "metadata": {},
   "outputs": [
    {
     "data": {
      "text/plain": [
       "0        56700\n",
       "1        70600\n",
       "2        66400\n",
       "3        47900\n",
       "4            0\n",
       "         ...  \n",
       "28831        0\n",
       "28832        0\n",
       "28833    63100\n",
       "28834    67400\n",
       "28835    46400\n",
       "Name: CapitalGains, Length: 28805, dtype: int64"
      ]
     },
     "execution_count": 191,
     "metadata": {},
     "output_type": "execute_result"
    }
   ],
   "source": [
    "data_29['CapitalGains']"
   ]
  },
  {
   "cell_type": "code",
   "execution_count": 192,
   "metadata": {},
   "outputs": [
    {
     "data": {
      "text/plain": [
       "100500"
      ]
     },
     "execution_count": 192,
     "metadata": {},
     "output_type": "execute_result"
    }
   ],
   "source": [
    "# max value of \"CapitalGains\" column\n",
    "data_29['CapitalGains'].max()"
   ]
  },
  {
   "cell_type": "code",
   "execution_count": 193,
   "metadata": {},
   "outputs": [
    {
     "data": {
      "text/plain": [
       "0"
      ]
     },
     "execution_count": 193,
     "metadata": {},
     "output_type": "execute_result"
    }
   ],
   "source": [
    "# min value of \"CapitalGains\" column\n",
    "data_29['CapitalGains'].min()"
   ]
  },
  {
   "cell_type": "code",
   "execution_count": 194,
   "metadata": {},
   "outputs": [],
   "source": [
    "# adding 1 to each value of \"CapitalGains\" column\n",
    "data_29['CapitalGains']=data_29['CapitalGains']+1"
   ]
  },
  {
   "cell_type": "code",
   "execution_count": 195,
   "metadata": {},
   "outputs": [],
   "source": [
    "# log transformation  of \"CapitalGains\" column of data_29\n",
    "data_29['CapitalGains']=np.log(data_29['CapitalGains'])"
   ]
  },
  {
   "cell_type": "code",
   "execution_count": 196,
   "metadata": {},
   "outputs": [
    {
     "data": {
      "text/plain": [
       "11.51792295668052"
      ]
     },
     "execution_count": 196,
     "metadata": {},
     "output_type": "execute_result"
    }
   ],
   "source": [
    "# max value of \"CapitalGains\" column\n",
    "data_29['CapitalGains'].max()"
   ]
  },
  {
   "cell_type": "code",
   "execution_count": 197,
   "metadata": {},
   "outputs": [
    {
     "data": {
      "text/plain": [
       "0.0"
      ]
     },
     "execution_count": 197,
     "metadata": {},
     "output_type": "execute_result"
    }
   ],
   "source": [
    "# min value of \"CapitalGains\" column\n",
    "data_29['CapitalGains'].min()"
   ]
  },
  {
   "cell_type": "code",
   "execution_count": 198,
   "metadata": {},
   "outputs": [
    {
     "data": {
      "text/plain": [
       "0.20289636577496697"
      ]
     },
     "execution_count": 198,
     "metadata": {},
     "output_type": "execute_result"
    }
   ],
   "source": [
    "# skewness of \"CapitalGains\" column\n",
    "data_29['CapitalGains'].skew()"
   ]
  },
  {
   "cell_type": "code",
   "execution_count": 199,
   "metadata": {},
   "outputs": [
    {
     "name": "stderr",
     "output_type": "stream",
     "text": [
      "c:\\Users\\user\\anaconda3\\lib\\site-packages\\seaborn\\distributions.py:2619: FutureWarning: `distplot` is a deprecated function and will be removed in a future version. Please adapt your code to use either `displot` (a figure-level function with similar flexibility) or `histplot` (an axes-level function for histograms).\n",
      "  warnings.warn(msg, FutureWarning)\n"
     ]
    },
    {
     "data": {
      "text/plain": [
       "<AxesSubplot:xlabel='CapitalGains', ylabel='Density'>"
      ]
     },
     "execution_count": 199,
     "metadata": {},
     "output_type": "execute_result"
    },
    {
     "data": {
      "image/png": "[encoded data removed]",
      "text/plain": [
       "<Figure size 640x480 with 1 Axes>"
      ]
     },
     "metadata": {},
     "output_type": "display_data"
    }
   ],
   "source": [
    "# distribution of \"CapitalGains\" column\n",
    "sns.distplot(data_29['CapitalGains'])"
   ]
  },
  {
   "cell_type": "code",
   "execution_count": 200,
   "metadata": {},
   "outputs": [
    {
     "data": {
      "text/plain": [
       "0"
      ]
     },
     "execution_count": 200,
     "metadata": {},
     "output_type": "execute_result"
    }
   ],
   "source": [
    "# max value of \"CapitalLoss\" column\n",
    "data_29['CapitalLoss'].max()"
   ]
  },
  {
   "cell_type": "code",
   "execution_count": 201,
   "metadata": {},
   "outputs": [
    {
     "data": {
      "text/plain": [
       "-111100"
      ]
     },
     "execution_count": 201,
     "metadata": {},
     "output_type": "execute_result"
    }
   ],
   "source": [
    "# min value of \"CapitalLoss\" column\n",
    "data_29['CapitalLoss'].min()"
   ]
  },
  {
   "cell_type": "code",
   "execution_count": 202,
   "metadata": {},
   "outputs": [
    {
     "data": {
      "text/plain": [
       "0       -48500\n",
       "1       -48500\n",
       "2       -63700\n",
       "3       -73400\n",
       "4       -41500\n",
       "         ...  \n",
       "28831        0\n",
       "28832   -28800\n",
       "28833   -43800\n",
       "28834   -43800\n",
       "28835   -74300\n",
       "Name: CapitalLoss, Length: 28805, dtype: int64"
      ]
     },
     "execution_count": 202,
     "metadata": {},
     "output_type": "execute_result"
    }
   ],
   "source": [
    "data_29['CapitalLoss']"
   ]
  },
  {
   "cell_type": "code",
   "execution_count": 203,
   "metadata": {},
   "outputs": [
    {
     "data": {
      "text/plain": [
       " 0        14737\n",
       "-53800      165\n",
       "-31700      147\n",
       "-61400      145\n",
       "-53700      138\n",
       "          ...  \n",
       "-64900       13\n",
       "-31900       13\n",
       "-52900       12\n",
       "-50500       12\n",
       "-70200       11\n",
       "Name: CapitalLoss, Length: 354, dtype: int64"
      ]
     },
     "execution_count": 203,
     "metadata": {},
     "output_type": "execute_result"
    }
   ],
   "source": [
    "data_29['CapitalLoss'].value_counts()"
   ]
  },
  {
   "cell_type": "code",
   "execution_count": 204,
   "metadata": {},
   "outputs": [
    {
     "name": "stdout",
     "output_type": "stream",
     "text": [
      "11.618194976487304\n",
      "0.0\n"
     ]
    }
   ],
   "source": [
    "# converting all values in \"CapitalLoss\" column to positive\n",
    "data_29['CapitalLoss']=data_29['CapitalLoss'].abs()\n",
    "\n",
    "# adding 1 to each value of \"CapitalLoss\" column\n",
    "data_29['CapitalLoss']=data_29['CapitalLoss']+1\n",
    "\n",
    "# log transformation  of \"CapitalLoss\" column of data_29\n",
    "data_29['CapitalLoss']=np.log(data_29['CapitalLoss'])\n",
    "\n",
    "# max value of \"CapitalLoss\" column\n",
    "print(data_29['CapitalLoss'].max())\n",
    "\n",
    "# min value of \"CapitalLoss\" column\n",
    "print(data_29['CapitalLoss'].min())"
   ]
  },
  {
   "cell_type": "code",
   "execution_count": 205,
   "metadata": {},
   "outputs": [
    {
     "data": {
      "text/plain": [
       "0.000000     14737\n",
       "10.893047      165\n",
       "10.364104      147\n",
       "11.025181      145\n",
       "10.891187      138\n",
       "             ...  \n",
       "11.080618       13\n",
       "10.370393       13\n",
       "10.876178       12\n",
       "10.829748       12\n",
       "11.159118       11\n",
       "Name: CapitalLoss, Length: 354, dtype: int64"
      ]
     },
     "execution_count": 205,
     "metadata": {},
     "output_type": "execute_result"
    }
   ],
   "source": [
    "# value counts of \"CapitalLoss\" column\n",
    "data_29['CapitalLoss'].value_counts()"
   ]
  },
  {
   "cell_type": "code",
   "execution_count": 206,
   "metadata": {},
   "outputs": [
    {
     "data": {
      "text/plain": [
       "0.05337837613630065"
      ]
     },
     "execution_count": 206,
     "metadata": {},
     "output_type": "execute_result"
    }
   ],
   "source": [
    "# skewness of \"CapitalLoss\" column\n",
    "data_29['CapitalLoss'].skew()"
   ]
  },
  {
   "cell_type": "code",
   "execution_count": 207,
   "metadata": {},
   "outputs": [
    {
     "name": "stderr",
     "output_type": "stream",
     "text": [
      "c:\\Users\\user\\anaconda3\\lib\\site-packages\\seaborn\\distributions.py:2619: FutureWarning: `distplot` is a deprecated function and will be removed in a future version. Please adapt your code to use either `displot` (a figure-level function with similar flexibility) or `histplot` (an axes-level function for histograms).\n",
      "  warnings.warn(msg, FutureWarning)\n"
     ]
    },
    {
     "data": {
      "text/plain": [
       "<AxesSubplot:xlabel='CapitalLoss', ylabel='Density'>"
      ]
     },
     "execution_count": 207,
     "metadata": {},
     "output_type": "execute_result"
    },
    {
     "data": {
      "image/png": "[encoded data removed]",
      "text/plain": [
       "<Figure size 640x480 with 1 Axes>"
      ]
     },
     "metadata": {},
     "output_type": "display_data"
    }
   ],
   "source": [
    "# distribution of \"CapitalLoss\" column\n",
    "sns.distplot(data_29['CapitalLoss'])"
   ]
  },
  {
   "cell_type": "code",
   "execution_count": 208,
   "metadata": {},
   "outputs": [],
   "source": [
    "data_30=data_29"
   ]
  },
  {
   "cell_type": "code",
   "execution_count": 209,
   "metadata": {},
   "outputs": [
    {
     "data": {
      "text/plain": [
       "(28805, 44)"
      ]
     },
     "execution_count": 209,
     "metadata": {},
     "output_type": "execute_result"
    }
   ],
   "source": [
    "data_30.shape"
   ]
  },
  {
   "cell_type": "code",
   "execution_count": 210,
   "metadata": {},
   "outputs": [
    {
     "data": {
      "text/plain": [
       "N    21028\n",
       "Y     7777\n",
       "Name: ReportedFraud, dtype: int64"
      ]
     },
     "execution_count": 210,
     "metadata": {},
     "output_type": "execute_result"
    }
   ],
   "source": [
    "data_30['ReportedFraud'].value_counts()"
   ]
  },
  {
   "cell_type": "code",
   "execution_count": 211,
   "metadata": {},
   "outputs": [
    {
     "data": {
      "text/html": [
       "<div>\n",
       "<style scoped>\n",
       "    .dataframe tbody tr th:only-of-type {\n",
       "        vertical-align: middle;\n",
       "    }\n",
       "\n",
       "    .dataframe tbody tr th {\n",
       "        vertical-align: top;\n",
       "    }\n",
       "\n",
       "    .dataframe thead th {\n",
       "        text-align: right;\n",
       "    }\n",
       "</style>\n",
       "<table border=\"1\" class=\"dataframe\">\n",
       "  <thead>\n",
       "    <tr style=\"text-align: right;\">\n",
       "      <th></th>\n",
       "      <th>AuthoritiesContacted</th>\n",
       "      <th>IncidentState</th>\n",
       "      <th>IncidentCity</th>\n",
       "      <th>IncidentTime</th>\n",
       "      <th>NumberOfVehicles</th>\n",
       "      <th>BodilyInjuries</th>\n",
       "      <th>Witnesses</th>\n",
       "      <th>AmountOfTotalClaim</th>\n",
       "      <th>AmountOfInjuryClaim</th>\n",
       "      <th>AmountOfPropertyClaim</th>\n",
       "      <th>...</th>\n",
       "      <th>TypeOfIncident_Parked Car</th>\n",
       "      <th>TypeOfIncident_Single Vehicle Collision</th>\n",
       "      <th>TypeOfIncident_Vehicle Theft</th>\n",
       "      <th>TypeOfCollission_Rear Collision</th>\n",
       "      <th>TypeOfCollission_Side Collision</th>\n",
       "      <th>SeverityOfIncident_Minor Damage</th>\n",
       "      <th>SeverityOfIncident_Total Loss</th>\n",
       "      <th>SeverityOfIncident_Trivial Damage</th>\n",
       "      <th>PropertyDamage_YES</th>\n",
       "      <th>PoliceReport_YES</th>\n",
       "    </tr>\n",
       "  </thead>\n",
       "  <tbody>\n",
       "    <tr>\n",
       "      <th>0</th>\n",
       "      <td>4</td>\n",
       "      <td>4</td>\n",
       "      <td>0</td>\n",
       "      <td>17</td>\n",
       "      <td>3</td>\n",
       "      <td>1</td>\n",
       "      <td>0</td>\n",
       "      <td>65501.0</td>\n",
       "      <td>9.435368</td>\n",
       "      <td>8.711443</td>\n",
       "      <td>...</td>\n",
       "      <td>0</td>\n",
       "      <td>0</td>\n",
       "      <td>0</td>\n",
       "      <td>0</td>\n",
       "      <td>1</td>\n",
       "      <td>0</td>\n",
       "      <td>1</td>\n",
       "      <td>0</td>\n",
       "      <td>1</td>\n",
       "      <td>1</td>\n",
       "    </tr>\n",
       "    <tr>\n",
       "      <th>1</th>\n",
       "      <td>4</td>\n",
       "      <td>4</td>\n",
       "      <td>4</td>\n",
       "      <td>10</td>\n",
       "      <td>3</td>\n",
       "      <td>2</td>\n",
       "      <td>1</td>\n",
       "      <td>61382.0</td>\n",
       "      <td>9.435368</td>\n",
       "      <td>8.686092</td>\n",
       "      <td>...</td>\n",
       "      <td>0</td>\n",
       "      <td>0</td>\n",
       "      <td>0</td>\n",
       "      <td>0</td>\n",
       "      <td>1</td>\n",
       "      <td>0</td>\n",
       "      <td>1</td>\n",
       "      <td>0</td>\n",
       "      <td>1</td>\n",
       "      <td>1</td>\n",
       "    </tr>\n",
       "    <tr>\n",
       "      <th>2</th>\n",
       "      <td>3</td>\n",
       "      <td>5</td>\n",
       "      <td>5</td>\n",
       "      <td>22</td>\n",
       "      <td>1</td>\n",
       "      <td>2</td>\n",
       "      <td>3</td>\n",
       "      <td>66755.0</td>\n",
       "      <td>9.361429</td>\n",
       "      <td>9.361429</td>\n",
       "      <td>...</td>\n",
       "      <td>0</td>\n",
       "      <td>1</td>\n",
       "      <td>0</td>\n",
       "      <td>0</td>\n",
       "      <td>1</td>\n",
       "      <td>1</td>\n",
       "      <td>0</td>\n",
       "      <td>0</td>\n",
       "      <td>1</td>\n",
       "      <td>0</td>\n",
       "    </tr>\n",
       "    <tr>\n",
       "      <th>3</th>\n",
       "      <td>3</td>\n",
       "      <td>6</td>\n",
       "      <td>5</td>\n",
       "      <td>22</td>\n",
       "      <td>1</td>\n",
       "      <td>2</td>\n",
       "      <td>3</td>\n",
       "      <td>66243.0</td>\n",
       "      <td>9.392995</td>\n",
       "      <td>9.392995</td>\n",
       "      <td>...</td>\n",
       "      <td>0</td>\n",
       "      <td>1</td>\n",
       "      <td>0</td>\n",
       "      <td>0</td>\n",
       "      <td>1</td>\n",
       "      <td>1</td>\n",
       "      <td>0</td>\n",
       "      <td>0</td>\n",
       "      <td>1</td>\n",
       "      <td>0</td>\n",
       "    </tr>\n",
       "    <tr>\n",
       "      <th>4</th>\n",
       "      <td>1</td>\n",
       "      <td>5</td>\n",
       "      <td>5</td>\n",
       "      <td>10</td>\n",
       "      <td>1</td>\n",
       "      <td>2</td>\n",
       "      <td>1</td>\n",
       "      <td>53544.0</td>\n",
       "      <td>9.085910</td>\n",
       "      <td>8.886686</td>\n",
       "      <td>...</td>\n",
       "      <td>0</td>\n",
       "      <td>1</td>\n",
       "      <td>0</td>\n",
       "      <td>1</td>\n",
       "      <td>0</td>\n",
       "      <td>1</td>\n",
       "      <td>0</td>\n",
       "      <td>0</td>\n",
       "      <td>0</td>\n",
       "      <td>1</td>\n",
       "    </tr>\n",
       "  </tbody>\n",
       "</table>\n",
       "<p>5 rows × 44 columns</p>\n",
       "</div>"
      ],
      "text/plain": [
       "   AuthoritiesContacted  IncidentState  IncidentCity  IncidentTime  \\\n",
       "0                     4              4             0            17   \n",
       "1                     4              4             4            10   \n",
       "2                     3              5             5            22   \n",
       "3                     3              6             5            22   \n",
       "4                     1              5             5            10   \n",
       "\n",
       "   NumberOfVehicles  BodilyInjuries  Witnesses  AmountOfTotalClaim  \\\n",
       "0                 3               1          0             65501.0   \n",
       "1                 3               2          1             61382.0   \n",
       "2                 1               2          3             66755.0   \n",
       "3                 1               2          3             66243.0   \n",
       "4                 1               2          1             53544.0   \n",
       "\n",
       "   AmountOfInjuryClaim  AmountOfPropertyClaim  ...  TypeOfIncident_Parked Car  \\\n",
       "0             9.435368               8.711443  ...                          0   \n",
       "1             9.435368               8.686092  ...                          0   \n",
       "2             9.361429               9.361429  ...                          0   \n",
       "3             9.392995               9.392995  ...                          0   \n",
       "4             9.085910               8.886686  ...                          0   \n",
       "\n",
       "   TypeOfIncident_Single Vehicle Collision  TypeOfIncident_Vehicle Theft  \\\n",
       "0                                        0                             0   \n",
       "1                                        0                             0   \n",
       "2                                        1                             0   \n",
       "3                                        1                             0   \n",
       "4                                        1                             0   \n",
       "\n",
       "   TypeOfCollission_Rear Collision  TypeOfCollission_Side Collision  \\\n",
       "0                                0                                1   \n",
       "1                                0                                1   \n",
       "2                                0                                1   \n",
       "3                                0                                1   \n",
       "4                                1                                0   \n",
       "\n",
       "   SeverityOfIncident_Minor Damage  SeverityOfIncident_Total Loss  \\\n",
       "0                                0                              1   \n",
       "1                                0                              1   \n",
       "2                                1                              0   \n",
       "3                                1                              0   \n",
       "4                                1                              0   \n",
       "\n",
       "   SeverityOfIncident_Trivial Damage  PropertyDamage_YES  PoliceReport_YES  \n",
       "0                                  0                   1                 1  \n",
       "1                                  0                   1                 1  \n",
       "2                                  0                   1                 0  \n",
       "3                                  0                   1                 0  \n",
       "4                                  0                   0                 1  \n",
       "\n",
       "[5 rows x 44 columns]"
      ]
     },
     "execution_count": 211,
     "metadata": {},
     "output_type": "execute_result"
    }
   ],
   "source": [
    "# Label encoding of \"ReportedFraud\" column\n",
    "data_30['ReportedFraud']= le.fit_transform(data_30['ReportedFraud'])\n",
    "data_30.head()"
   ]
  },
  {
   "cell_type": "code",
   "execution_count": 212,
   "metadata": {},
   "outputs": [
    {
     "data": {
      "text/plain": [
       "0        0\n",
       "1        0\n",
       "2        0\n",
       "3        0\n",
       "4        0\n",
       "        ..\n",
       "28831    0\n",
       "28832    0\n",
       "28833    0\n",
       "28834    0\n",
       "28835    0\n",
       "Name: ReportedFraud, Length: 28805, dtype: int32"
      ]
     },
     "execution_count": 212,
     "metadata": {},
     "output_type": "execute_result"
    }
   ],
   "source": [
    "data_30['ReportedFraud']"
   ]
  },
  {
   "cell_type": "code",
   "execution_count": 213,
   "metadata": {},
   "outputs": [
    {
     "data": {
      "text/plain": [
       "0    21028\n",
       "1     7777\n",
       "Name: ReportedFraud, dtype: int64"
      ]
     },
     "execution_count": 213,
     "metadata": {},
     "output_type": "execute_result"
    }
   ],
   "source": [
    "data_30['ReportedFraud'].value_counts()"
   ]
  },
  {
   "cell_type": "code",
   "execution_count": 214,
   "metadata": {},
   "outputs": [
    {
     "data": {
      "text/plain": [
       "119121    1\n",
       "142520    1\n",
       "142478    1\n",
       "142477    1\n",
       "142475    1\n",
       "         ..\n",
       "130719    1\n",
       "130718    1\n",
       "130717    1\n",
       "130716    1\n",
       "119120    1\n",
       "Name: InsurancePolicyNumber, Length: 28805, dtype: int64"
      ]
     },
     "execution_count": 214,
     "metadata": {},
     "output_type": "execute_result"
    }
   ],
   "source": [
    "data_30['InsurancePolicyNumber'].value_counts()"
   ]
  },
  {
   "cell_type": "code",
   "execution_count": 215,
   "metadata": {},
   "outputs": [
    {
     "data": {
      "text/plain": [
       "0        119121\n",
       "1        119122\n",
       "2        119123\n",
       "3        119124\n",
       "4        119125\n",
       "          ...  \n",
       "28831    119114\n",
       "28832    119115\n",
       "28833    119117\n",
       "28834    119118\n",
       "28835    119120\n",
       "Name: InsurancePolicyNumber, Length: 28805, dtype: int64"
      ]
     },
     "execution_count": 215,
     "metadata": {},
     "output_type": "execute_result"
    }
   ],
   "source": [
    "data_30['InsurancePolicyNumber']"
   ]
  },
  {
   "cell_type": "code",
   "execution_count": 216,
   "metadata": {},
   "outputs": [
    {
     "data": {
      "text/plain": [
       "0"
      ]
     },
     "execution_count": 216,
     "metadata": {},
     "output_type": "execute_result"
    }
   ],
   "source": [
    "# Checking any duplicate values in \"InsurancePolicyNumber\" column\n",
    "data_30['InsurancePolicyNumber'].duplicated().sum()"
   ]
  },
  {
   "cell_type": "code",
   "execution_count": 217,
   "metadata": {},
   "outputs": [],
   "source": [
    "# Dropping \"InsurancePolicyNumber\" column\n",
    "data_31=data_30.drop(['InsurancePolicyNumber'],axis=1)"
   ]
  },
  {
   "cell_type": "code",
   "execution_count": 218,
   "metadata": {},
   "outputs": [
    {
     "data": {
      "text/plain": [
       "255    146\n",
       "254    145\n",
       "212    136\n",
       "154    134\n",
       "239    131\n",
       "      ... \n",
       "4        5\n",
       "1        5\n",
       "3        4\n",
       "477      4\n",
       "479      2\n",
       "Name: CustomerLoyaltyPeriod, Length: 479, dtype: int64"
      ]
     },
     "execution_count": 218,
     "metadata": {},
     "output_type": "execute_result"
    }
   ],
   "source": [
    "data_31['CustomerLoyaltyPeriod'].value_counts()"
   ]
  },
  {
   "cell_type": "code",
   "execution_count": 219,
   "metadata": {},
   "outputs": [
    {
     "data": {
      "text/plain": [
       "0         49\n",
       "1        114\n",
       "2        167\n",
       "3        190\n",
       "4        115\n",
       "        ... \n",
       "28831    321\n",
       "28832    237\n",
       "28833    392\n",
       "28834    391\n",
       "28835    191\n",
       "Name: CustomerLoyaltyPeriod, Length: 28805, dtype: int64"
      ]
     },
     "execution_count": 219,
     "metadata": {},
     "output_type": "execute_result"
    }
   ],
   "source": [
    "data_31['CustomerLoyaltyPeriod']"
   ]
  },
  {
   "cell_type": "code",
   "execution_count": 220,
   "metadata": {},
   "outputs": [
    {
     "name": "stderr",
     "output_type": "stream",
     "text": [
      "c:\\Users\\user\\anaconda3\\lib\\site-packages\\seaborn\\distributions.py:2619: FutureWarning: `distplot` is a deprecated function and will be removed in a future version. Please adapt your code to use either `displot` (a figure-level function with similar flexibility) or `histplot` (an axes-level function for histograms).\n",
      "  warnings.warn(msg, FutureWarning)\n"
     ]
    },
    {
     "data": {
      "text/plain": [
       "<AxesSubplot:xlabel='CustomerLoyaltyPeriod', ylabel='Density'>"
      ]
     },
     "execution_count": 220,
     "metadata": {},
     "output_type": "execute_result"
    },
    {
     "data": {
      "image/png": "[encoded data removed]",
      "text/plain": [
       "<Figure size 640x480 with 1 Axes>"
      ]
     },
     "metadata": {},
     "output_type": "display_data"
    }
   ],
   "source": [
    "# Distribution of \"CustomerLoyaltyPeriod\" column\n",
    "sns.distplot(data_31['CustomerLoyaltyPeriod'])"
   ]
  },
  {
   "cell_type": "code",
   "execution_count": 221,
   "metadata": {},
   "outputs": [
    {
     "data": {
      "text/plain": [
       "1"
      ]
     },
     "execution_count": 221,
     "metadata": {},
     "output_type": "execute_result"
    }
   ],
   "source": [
    "# Lowest value of \"CustomerLoyaltyPeriod\" column\n",
    "data_31['CustomerLoyaltyPeriod'].min()"
   ]
  },
  {
   "cell_type": "code",
   "execution_count": 222,
   "metadata": {},
   "outputs": [
    {
     "data": {
      "text/plain": [
       "479"
      ]
     },
     "execution_count": 222,
     "metadata": {},
     "output_type": "execute_result"
    }
   ],
   "source": [
    "# Highest value of \"CustomerLoyaltyPeriod\" column\n",
    "data_31['CustomerLoyaltyPeriod'].max()"
   ]
  },
  {
   "cell_type": "code",
   "execution_count": 223,
   "metadata": {},
   "outputs": [
    {
     "data": {
      "text/plain": [
       "0.39444553204186983"
      ]
     },
     "execution_count": 223,
     "metadata": {},
     "output_type": "execute_result"
    }
   ],
   "source": [
    "# Skewness of \"CustomerLoyaltyPeriod\" column\n",
    "data_31['CustomerLoyaltyPeriod'].skew()"
   ]
  },
  {
   "cell_type": "code",
   "execution_count": 224,
   "metadata": {},
   "outputs": [
    {
     "data": {
      "text/plain": [
       "1998-11-11    38\n",
       "1995-08-19    32\n",
       "1999-05-23    28\n",
       "2001-06-10    27\n",
       "2005-06-17    27\n",
       "              ..\n",
       "2011-05-07     1\n",
       "2009-03-19     1\n",
       "2008-10-05     1\n",
       "2008-11-18     1\n",
       "1998-11-03     1\n",
       "Name: DateOfPolicyCoverage, Length: 6778, dtype: int64"
      ]
     },
     "execution_count": 224,
     "metadata": {},
     "output_type": "execute_result"
    }
   ],
   "source": [
    "data_31['DateOfPolicyCoverage'].value_counts()"
   ]
  },
  {
   "cell_type": "code",
   "execution_count": 225,
   "metadata": {},
   "outputs": [],
   "source": [
    "data_31['DateOfPolicyCoverage']=pd.to_datetime(data_31['DateOfPolicyCoverage'])\n",
    "data_31['year_of_PolicyCoverage']=data_31['DateOfPolicyCoverage'].dt.year\n",
    "data_31['month_of_PolicyCoverage']=data_31['DateOfPolicyCoverage'].dt.month\n",
    "data_31['day_of_PolicyCoverage']=data_31['DateOfPolicyCoverage'].dt.day"
   ]
  },
  {
   "cell_type": "code",
   "execution_count": 226,
   "metadata": {},
   "outputs": [
    {
     "name": "stderr",
     "output_type": "stream",
     "text": [
      "C:\\Users\\user\\AppData\\Local\\Temp\\ipykernel_7440\\3356202275.py:5: FutureWarning: Series.dt.weekofyear and Series.dt.week have been deprecated. Please use Series.dt.isocalendar().week instead.\n",
      "  data_31['week_of_year_of_PolicyCoverage']=data_31['DateOfPolicyCoverage'].dt.weekofyear\n"
     ]
    },
    {
     "data": {
      "text/html": [
       "<div>\n",
       "<style scoped>\n",
       "    .dataframe tbody tr th:only-of-type {\n",
       "        vertical-align: middle;\n",
       "    }\n",
       "\n",
       "    .dataframe tbody tr th {\n",
       "        vertical-align: top;\n",
       "    }\n",
       "\n",
       "    .dataframe thead th {\n",
       "        text-align: right;\n",
       "    }\n",
       "</style>\n",
       "<table border=\"1\" class=\"dataframe\">\n",
       "  <thead>\n",
       "    <tr style=\"text-align: right;\">\n",
       "      <th></th>\n",
       "      <th>AuthoritiesContacted</th>\n",
       "      <th>IncidentState</th>\n",
       "      <th>IncidentCity</th>\n",
       "      <th>IncidentTime</th>\n",
       "      <th>NumberOfVehicles</th>\n",
       "      <th>BodilyInjuries</th>\n",
       "      <th>Witnesses</th>\n",
       "      <th>AmountOfTotalClaim</th>\n",
       "      <th>AmountOfInjuryClaim</th>\n",
       "      <th>AmountOfPropertyClaim</th>\n",
       "      <th>...</th>\n",
       "      <th>SeverityOfIncident_Trivial Damage</th>\n",
       "      <th>PropertyDamage_YES</th>\n",
       "      <th>PoliceReport_YES</th>\n",
       "      <th>year_of_PolicyCoverage</th>\n",
       "      <th>month_of_PolicyCoverage</th>\n",
       "      <th>day_of_PolicyCoverage</th>\n",
       "      <th>day_of_week_of_PolicyCoverage</th>\n",
       "      <th>week_of_year_of_PolicyCoverage</th>\n",
       "      <th>quarter_of_year_of_PolicyCoverage</th>\n",
       "      <th>weekend_of_PolicyCoverage</th>\n",
       "    </tr>\n",
       "  </thead>\n",
       "  <tbody>\n",
       "    <tr>\n",
       "      <th>0</th>\n",
       "      <td>4</td>\n",
       "      <td>4</td>\n",
       "      <td>0</td>\n",
       "      <td>17</td>\n",
       "      <td>3</td>\n",
       "      <td>1</td>\n",
       "      <td>0</td>\n",
       "      <td>65501.0</td>\n",
       "      <td>9.435368</td>\n",
       "      <td>8.711443</td>\n",
       "      <td>...</td>\n",
       "      <td>0</td>\n",
       "      <td>1</td>\n",
       "      <td>1</td>\n",
       "      <td>1998</td>\n",
       "      <td>10</td>\n",
       "      <td>25</td>\n",
       "      <td>6</td>\n",
       "      <td>43</td>\n",
       "      <td>4</td>\n",
       "      <td>1</td>\n",
       "    </tr>\n",
       "    <tr>\n",
       "      <th>1</th>\n",
       "      <td>4</td>\n",
       "      <td>4</td>\n",
       "      <td>4</td>\n",
       "      <td>10</td>\n",
       "      <td>3</td>\n",
       "      <td>2</td>\n",
       "      <td>1</td>\n",
       "      <td>61382.0</td>\n",
       "      <td>9.435368</td>\n",
       "      <td>8.686092</td>\n",
       "      <td>...</td>\n",
       "      <td>0</td>\n",
       "      <td>1</td>\n",
       "      <td>1</td>\n",
       "      <td>2000</td>\n",
       "      <td>11</td>\n",
       "      <td>15</td>\n",
       "      <td>2</td>\n",
       "      <td>46</td>\n",
       "      <td>4</td>\n",
       "      <td>0</td>\n",
       "    </tr>\n",
       "    <tr>\n",
       "      <th>2</th>\n",
       "      <td>3</td>\n",
       "      <td>5</td>\n",
       "      <td>5</td>\n",
       "      <td>22</td>\n",
       "      <td>1</td>\n",
       "      <td>2</td>\n",
       "      <td>3</td>\n",
       "      <td>66755.0</td>\n",
       "      <td>9.361429</td>\n",
       "      <td>9.361429</td>\n",
       "      <td>...</td>\n",
       "      <td>0</td>\n",
       "      <td>1</td>\n",
       "      <td>0</td>\n",
       "      <td>2001</td>\n",
       "      <td>2</td>\n",
       "      <td>12</td>\n",
       "      <td>0</td>\n",
       "      <td>7</td>\n",
       "      <td>1</td>\n",
       "      <td>0</td>\n",
       "    </tr>\n",
       "    <tr>\n",
       "      <th>3</th>\n",
       "      <td>3</td>\n",
       "      <td>6</td>\n",
       "      <td>5</td>\n",
       "      <td>22</td>\n",
       "      <td>1</td>\n",
       "      <td>2</td>\n",
       "      <td>3</td>\n",
       "      <td>66243.0</td>\n",
       "      <td>9.392995</td>\n",
       "      <td>9.392995</td>\n",
       "      <td>...</td>\n",
       "      <td>0</td>\n",
       "      <td>1</td>\n",
       "      <td>0</td>\n",
       "      <td>2005</td>\n",
       "      <td>4</td>\n",
       "      <td>11</td>\n",
       "      <td>0</td>\n",
       "      <td>15</td>\n",
       "      <td>2</td>\n",
       "      <td>0</td>\n",
       "    </tr>\n",
       "    <tr>\n",
       "      <th>4</th>\n",
       "      <td>1</td>\n",
       "      <td>5</td>\n",
       "      <td>5</td>\n",
       "      <td>10</td>\n",
       "      <td>1</td>\n",
       "      <td>2</td>\n",
       "      <td>1</td>\n",
       "      <td>53544.0</td>\n",
       "      <td>9.085910</td>\n",
       "      <td>8.886686</td>\n",
       "      <td>...</td>\n",
       "      <td>0</td>\n",
       "      <td>0</td>\n",
       "      <td>1</td>\n",
       "      <td>1996</td>\n",
       "      <td>10</td>\n",
       "      <td>25</td>\n",
       "      <td>4</td>\n",
       "      <td>43</td>\n",
       "      <td>4</td>\n",
       "      <td>0</td>\n",
       "    </tr>\n",
       "  </tbody>\n",
       "</table>\n",
       "<p>5 rows × 49 columns</p>\n",
       "</div>"
      ],
      "text/plain": [
       "   AuthoritiesContacted  IncidentState  IncidentCity  IncidentTime  \\\n",
       "0                     4              4             0            17   \n",
       "1                     4              4             4            10   \n",
       "2                     3              5             5            22   \n",
       "3                     3              6             5            22   \n",
       "4                     1              5             5            10   \n",
       "\n",
       "   NumberOfVehicles  BodilyInjuries  Witnesses  AmountOfTotalClaim  \\\n",
       "0                 3               1          0             65501.0   \n",
       "1                 3               2          1             61382.0   \n",
       "2                 1               2          3             66755.0   \n",
       "3                 1               2          3             66243.0   \n",
       "4                 1               2          1             53544.0   \n",
       "\n",
       "   AmountOfInjuryClaim  AmountOfPropertyClaim  ...  \\\n",
       "0             9.435368               8.711443  ...   \n",
       "1             9.435368               8.686092  ...   \n",
       "2             9.361429               9.361429  ...   \n",
       "3             9.392995               9.392995  ...   \n",
       "4             9.085910               8.886686  ...   \n",
       "\n",
       "   SeverityOfIncident_Trivial Damage  PropertyDamage_YES  PoliceReport_YES  \\\n",
       "0                                  0                   1                 1   \n",
       "1                                  0                   1                 1   \n",
       "2                                  0                   1                 0   \n",
       "3                                  0                   1                 0   \n",
       "4                                  0                   0                 1   \n",
       "\n",
       "   year_of_PolicyCoverage  month_of_PolicyCoverage  day_of_PolicyCoverage  \\\n",
       "0                    1998                       10                     25   \n",
       "1                    2000                       11                     15   \n",
       "2                    2001                        2                     12   \n",
       "3                    2005                        4                     11   \n",
       "4                    1996                       10                     25   \n",
       "\n",
       "   day_of_week_of_PolicyCoverage  week_of_year_of_PolicyCoverage  \\\n",
       "0                              6                              43   \n",
       "1                              2                              46   \n",
       "2                              0                               7   \n",
       "3                              0                              15   \n",
       "4                              4                              43   \n",
       "\n",
       "   quarter_of_year_of_PolicyCoverage  weekend_of_PolicyCoverage  \n",
       "0                                  4                          1  \n",
       "1                                  4                          0  \n",
       "2                                  1                          0  \n",
       "3                                  2                          0  \n",
       "4                                  4                          0  \n",
       "\n",
       "[5 rows x 49 columns]"
      ]
     },
     "execution_count": 226,
     "metadata": {},
     "output_type": "execute_result"
    }
   ],
   "source": [
    "# extract day of week from \"DateOfPolicyCoverage\" column\n",
    "data_31['day_of_week_of_PolicyCoverage']=data_31['DateOfPolicyCoverage'].dt.dayofweek\n",
    "\n",
    "# extract week of year from \"DateOfPolicyCoverage\" column\n",
    "data_31['week_of_year_of_PolicyCoverage']=data_31['DateOfPolicyCoverage'].dt.weekofyear\n",
    "\n",
    "# extract quarter of year from \"DateOfPolicyCoverage\" column\n",
    "data_31['quarter_of_year_of_PolicyCoverage']=data_31['DateOfPolicyCoverage'].dt.quarter\n",
    "\n",
    "# extract weekend or not from \"DateOfPolicyCoverage\" column\n",
    "data_31['weekend_of_PolicyCoverage']=np.where(data_31['DateOfPolicyCoverage'].dt.dayofweek<5,0,1)\n",
    "\n",
    "# drop \"DateOfPolicyCoverage\" column\n",
    "data_31=data_31.drop(['DateOfPolicyCoverage'],axis=1)\n",
    "\n",
    "data_31.head()"
   ]
  },
  {
   "cell_type": "code",
   "execution_count": 227,
   "metadata": {},
   "outputs": [],
   "source": [
    "data_32=data_31"
   ]
  },
  {
   "cell_type": "code",
   "execution_count": 228,
   "metadata": {},
   "outputs": [
    {
     "data": {
      "text/plain": [
       "State3    10131\n",
       "State1     9706\n",
       "State2     8968\n",
       "Name: InsurancePolicyState, dtype: int64"
      ]
     },
     "execution_count": 228,
     "metadata": {},
     "output_type": "execute_result"
    }
   ],
   "source": [
    "data_32['InsurancePolicyState'].value_counts()"
   ]
  },
  {
   "cell_type": "code",
   "execution_count": 229,
   "metadata": {},
   "outputs": [],
   "source": [
    "# One hot encoding of \"InsurancePolicyState\" column of data_32 with drop_first=True\n",
    "data_33=pd.get_dummies(data_32,columns=['InsurancePolicyState'],drop_first=True)"
   ]
  },
  {
   "cell_type": "code",
   "execution_count": 230,
   "metadata": {},
   "outputs": [
    {
     "data": {
      "text/plain": [
       "250/500     8252\n",
       "100/300     8041\n",
       "500/1000    6992\n",
       "250/300     1023\n",
       "100/500      960\n",
       "250/1000     952\n",
       "500/500      871\n",
       "500/300      867\n",
       "100/1000     847\n",
       "Name: Policy_CombinedSingleLimit, dtype: int64"
      ]
     },
     "execution_count": 230,
     "metadata": {},
     "output_type": "execute_result"
    }
   ],
   "source": [
    "data_33['Policy_CombinedSingleLimit'].value_counts()"
   ]
  },
  {
   "cell_type": "code",
   "execution_count": 231,
   "metadata": {},
   "outputs": [
    {
     "data": {
      "text/plain": [
       "0         100/300\n",
       "1         100/300\n",
       "2        500/1000\n",
       "3        500/1000\n",
       "4         100/300\n",
       "           ...   \n",
       "28831    500/1000\n",
       "28832     100/300\n",
       "28833     250/500\n",
       "28834     250/500\n",
       "28835    500/1000\n",
       "Name: Policy_CombinedSingleLimit, Length: 28805, dtype: object"
      ]
     },
     "execution_count": 231,
     "metadata": {},
     "output_type": "execute_result"
    }
   ],
   "source": [
    "data_33['Policy_CombinedSingleLimit']"
   ]
  },
  {
   "cell_type": "code",
   "execution_count": 232,
   "metadata": {},
   "outputs": [
    {
     "data": {
      "text/plain": [
       "9"
      ]
     },
     "execution_count": 232,
     "metadata": {},
     "output_type": "execute_result"
    }
   ],
   "source": [
    "# total unique values of \"Policy_CombinedSingleLimit\" column\n",
    "data_33['Policy_CombinedSingleLimit'].nunique()"
   ]
  },
  {
   "cell_type": "code",
   "execution_count": 233,
   "metadata": {},
   "outputs": [],
   "source": [
    "# Label encoding of \"Policy_CombinedSingleLimit\" column\n",
    "data_33['Policy_CombinedSingleLimit']= le.fit_transform(data_33['Policy_CombinedSingleLimit'])"
   ]
  },
  {
   "cell_type": "code",
   "execution_count": 234,
   "metadata": {},
   "outputs": [
    {
     "data": {
      "text/plain": [
       "500     5287\n",
       "2000    5265\n",
       "1000    5052\n",
       "647       28\n",
       "722       27\n",
       "        ... \n",
       "1988       1\n",
       "1776       1\n",
       "1493       1\n",
       "1658       1\n",
       "1711       1\n",
       "Name: Policy_Deductible, Length: 1496, dtype: int64"
      ]
     },
     "execution_count": 234,
     "metadata": {},
     "output_type": "execute_result"
    }
   ],
   "source": [
    "data_33['Policy_Deductible'].value_counts()"
   ]
  },
  {
   "cell_type": "code",
   "execution_count": 235,
   "metadata": {},
   "outputs": [
    {
     "data": {
      "text/plain": [
       "0        1000\n",
       "1        1000\n",
       "2         617\n",
       "3         722\n",
       "4         500\n",
       "         ... \n",
       "28831     655\n",
       "28832    1089\n",
       "28833     787\n",
       "28834     780\n",
       "28835    2000\n",
       "Name: Policy_Deductible, Length: 28805, dtype: int64"
      ]
     },
     "execution_count": 235,
     "metadata": {},
     "output_type": "execute_result"
    }
   ],
   "source": [
    "data_33['Policy_Deductible']"
   ]
  },
  {
   "cell_type": "code",
   "execution_count": 236,
   "metadata": {},
   "outputs": [
    {
     "name": "stderr",
     "output_type": "stream",
     "text": [
      "c:\\Users\\user\\anaconda3\\lib\\site-packages\\seaborn\\distributions.py:2619: FutureWarning: `distplot` is a deprecated function and will be removed in a future version. Please adapt your code to use either `displot` (a figure-level function with similar flexibility) or `histplot` (an axes-level function for histograms).\n",
      "  warnings.warn(msg, FutureWarning)\n"
     ]
    },
    {
     "data": {
      "text/plain": [
       "<AxesSubplot:xlabel='Policy_Deductible', ylabel='Density'>"
      ]
     },
     "execution_count": 236,
     "metadata": {},
     "output_type": "execute_result"
    },
    {
     "data": {
      "image/png": "[encoded data removed]",
      "text/plain": [
       "<Figure size 640x480 with 1 Axes>"
      ]
     },
     "metadata": {},
     "output_type": "display_data"
    }
   ],
   "source": [
    "# distribution of \"Policy_Deductible\" column\n",
    "sns.distplot(data_33['Policy_Deductible'])"
   ]
  },
  {
   "cell_type": "code",
   "execution_count": 237,
   "metadata": {},
   "outputs": [
    {
     "data": {
      "text/plain": [
       "0.5675191371781994"
      ]
     },
     "execution_count": 237,
     "metadata": {},
     "output_type": "execute_result"
    }
   ],
   "source": [
    "# skewness of \"Policy_Deductible\" column\n",
    "data_33['Policy_Deductible'].skew()"
   ]
  },
  {
   "cell_type": "code",
   "execution_count": 238,
   "metadata": {},
   "outputs": [
    {
     "data": {
      "text/plain": [
       "-1.00       141\n",
       " 1310.77      7\n",
       " 1310.78      6\n",
       " 1334.47      5\n",
       " 1315.68      5\n",
       "           ... \n",
       " 1391.22      1\n",
       " 1130.15      1\n",
       " 1116.97      1\n",
       " 1115.44      1\n",
       " 928.43       1\n",
       "Name: PolicyAnnualPremium, Length: 23827, dtype: int64"
      ]
     },
     "execution_count": 238,
     "metadata": {},
     "output_type": "execute_result"
    }
   ],
   "source": [
    "data_33['PolicyAnnualPremium'].value_counts()"
   ]
  },
  {
   "cell_type": "code",
   "execution_count": 239,
   "metadata": {},
   "outputs": [
    {
     "data": {
      "text/plain": [
       "0        1632.73\n",
       "1        1255.19\n",
       "2        1373.38\n",
       "3        1337.60\n",
       "4        1353.73\n",
       "          ...   \n",
       "28831    1276.01\n",
       "28832    1273.38\n",
       "28833    1380.92\n",
       "28834    1389.29\n",
       "28835     928.43\n",
       "Name: PolicyAnnualPremium, Length: 28805, dtype: float64"
      ]
     },
     "execution_count": 239,
     "metadata": {},
     "output_type": "execute_result"
    }
   ],
   "source": [
    "data_33['PolicyAnnualPremium']"
   ]
  },
  {
   "cell_type": "code",
   "execution_count": 240,
   "metadata": {},
   "outputs": [
    {
     "name": "stdout",
     "output_type": "stream",
     "text": [
      "2047.59\n",
      "-1.0\n",
      "1255.5455761152498\n",
      "1265.22\n",
      "0   -1.0\n",
      "Name: PolicyAnnualPremium, dtype: float64\n",
      "-0.796342363769351\n"
     ]
    },
    {
     "name": "stderr",
     "output_type": "stream",
     "text": [
      "c:\\Users\\user\\anaconda3\\lib\\site-packages\\seaborn\\distributions.py:2619: FutureWarning: `distplot` is a deprecated function and will be removed in a future version. Please adapt your code to use either `displot` (a figure-level function with similar flexibility) or `histplot` (an axes-level function for histograms).\n",
      "  warnings.warn(msg, FutureWarning)\n"
     ]
    },
    {
     "data": {
      "text/plain": [
       "<AxesSubplot:xlabel='PolicyAnnualPremium', ylabel='Density'>"
      ]
     },
     "execution_count": 240,
     "metadata": {},
     "output_type": "execute_result"
    },
    {
     "data": {
      "image/png": "[encoded data removed]",
      "text/plain": [
       "<Figure size 640x480 with 1 Axes>"
      ]
     },
     "metadata": {},
     "output_type": "display_data"
    }
   ],
   "source": [
    "# max value of \"PolicyAnnualPremium\" column\n",
    "print(data_33['PolicyAnnualPremium'].max())\n",
    "\n",
    "# min value of \"PolicyAnnualPremium\" column\n",
    "print(data_33['PolicyAnnualPremium'].min())\n",
    "\n",
    "# mean value of \"PolicyAnnualPremium\" column\n",
    "print(data_33['PolicyAnnualPremium'].mean())\n",
    "\n",
    "# median value of \"PolicyAnnualPremium\" column\n",
    "print(data_33['PolicyAnnualPremium'].median())\n",
    "\n",
    "# mode value of \"PolicyAnnualPremium\" column\n",
    "print(data_33['PolicyAnnualPremium'].mode())\n",
    "\n",
    "# skewness of \"PolicyAnnualPremium\" column\n",
    "print(data_33['PolicyAnnualPremium'].skew())\n",
    "\n",
    "# distribution of \"PolicyAnnualPremium\" column\n",
    "sns.distplot(data_33['PolicyAnnualPremium'])"
   ]
  },
  {
   "cell_type": "code",
   "execution_count": 241,
   "metadata": {},
   "outputs": [
    {
     "name": "stdout",
     "output_type": "stream",
     "text": [
      "-0.10426540655860736\n"
     ]
    }
   ],
   "source": [
    "upper_limit = data_33['PolicyAnnualPremium'].mean() + 3*data_33['PolicyAnnualPremium'].std()\n",
    "lower_limit = data_33['PolicyAnnualPremium'].mean() - 3*data_33['PolicyAnnualPremium'].std()\n",
    "\n",
    "data_33['PolicyAnnualPremium'] = np.where(\n",
    "    data_33['PolicyAnnualPremium']>upper_limit,\n",
    "    upper_limit,\n",
    "    np.where(\n",
    "        data_33['PolicyAnnualPremium']<lower_limit,\n",
    "        lower_limit,\n",
    "        data_33['PolicyAnnualPremium']\n",
    "    )\n",
    ")\n",
    "\n",
    "# skewwness\n",
    "print(data_33['PolicyAnnualPremium'].skew())"
   ]
  },
  {
   "cell_type": "code",
   "execution_count": 242,
   "metadata": {},
   "outputs": [
    {
     "name": "stderr",
     "output_type": "stream",
     "text": [
      "c:\\Users\\user\\anaconda3\\lib\\site-packages\\seaborn\\distributions.py:2619: FutureWarning: `distplot` is a deprecated function and will be removed in a future version. Please adapt your code to use either `displot` (a figure-level function with similar flexibility) or `histplot` (an axes-level function for histograms).\n",
      "  warnings.warn(msg, FutureWarning)\n"
     ]
    },
    {
     "data": {
      "text/plain": [
       "<AxesSubplot:xlabel='PolicyAnnualPremium', ylabel='Density'>"
      ]
     },
     "execution_count": 242,
     "metadata": {},
     "output_type": "execute_result"
    },
    {
     "data": {
      "image/png": "[encoded data removed]",
      "text/plain": [
       "<Figure size 640x480 with 1 Axes>"
      ]
     },
     "metadata": {},
     "output_type": "display_data"
    }
   ],
   "source": [
    "# distribution of \"PolicyAnnualPremium\" column\n",
    "sns.distplot(data_33['PolicyAnnualPremium'])"
   ]
  },
  {
   "cell_type": "code",
   "execution_count": 243,
   "metadata": {},
   "outputs": [],
   "source": [
    "data_34=data_33"
   ]
  },
  {
   "cell_type": "code",
   "execution_count": 244,
   "metadata": {},
   "outputs": [
    {
     "data": {
      "text/plain": [
       "0        1632.73\n",
       "1        1255.19\n",
       "2        1373.38\n",
       "3        1337.60\n",
       "4        1353.73\n",
       "          ...   \n",
       "28831    1276.01\n",
       "28832    1273.38\n",
       "28833    1380.92\n",
       "28834    1389.29\n",
       "28835     928.43\n",
       "Name: PolicyAnnualPremium, Length: 28805, dtype: float64"
      ]
     },
     "execution_count": 244,
     "metadata": {},
     "output_type": "execute_result"
    }
   ],
   "source": [
    "data_34['PolicyAnnualPremium']"
   ]
  },
  {
   "cell_type": "code",
   "execution_count": 245,
   "metadata": {},
   "outputs": [
    {
     "data": {
      "text/plain": [
       "0          21050\n",
       "6000000      313\n",
       "5000000      139\n",
       "7000000      115\n",
       "4000000       71\n",
       "           ...  \n",
       "3356801        1\n",
       "3238362        1\n",
       "5094033        1\n",
       "1258837        1\n",
       "2909175        1\n",
       "Name: UmbrellaLimit, Length: 7081, dtype: int64"
      ]
     },
     "execution_count": 245,
     "metadata": {},
     "output_type": "execute_result"
    }
   ],
   "source": [
    "data_34['UmbrellaLimit'].value_counts()"
   ]
  },
  {
   "cell_type": "code",
   "execution_count": 246,
   "metadata": {},
   "outputs": [
    {
     "data": {
      "text/plain": [
       "34"
      ]
     },
     "execution_count": 246,
     "metadata": {},
     "output_type": "execute_result"
    }
   ],
   "source": [
    "# checking any negative values in \"UmbrellaLimit\" column\n",
    "data_34['UmbrellaLimit'].lt(0).sum()"
   ]
  },
  {
   "cell_type": "code",
   "execution_count": 247,
   "metadata": {},
   "outputs": [],
   "source": [
    "# put the negative values in \"UmbrellaLimit\" column in a new dataframe\n",
    "af= data_34[data_34['UmbrellaLimit']<0]"
   ]
  },
  {
   "cell_type": "code",
   "execution_count": 248,
   "metadata": {},
   "outputs": [
    {
     "data": {
      "text/plain": [
       "1004     -575498\n",
       "1737     -896857\n",
       "2410    -1000000\n",
       "2699     -124178\n",
       "5803     -292456\n",
       "6445     -605542\n",
       "8063     -582952\n",
       "8064     -188081\n",
       "8065     -934826\n",
       "8066     -132525\n",
       "11436    -139072\n",
       "11437     -21422\n",
       "11438    -396801\n",
       "14708    -902278\n",
       "14709    -298077\n",
       "14710    -347594\n",
       "14712    -712263\n",
       "14713    -660200\n",
       "17206    -917296\n",
       "20261    -281076\n",
       "20263    -211695\n",
       "20264    -552043\n",
       "20265    -495724\n",
       "20267    -559181\n",
       "20268    -762000\n",
       "21061    -855720\n",
       "21064    -872859\n",
       "21067    -843740\n",
       "22868    -994831\n",
       "22871    -339789\n",
       "22872    -189126\n",
       "24191    -246568\n",
       "27605    -959396\n",
       "28770    -180016\n",
       "Name: UmbrellaLimit, dtype: int64"
      ]
     },
     "execution_count": 248,
     "metadata": {},
     "output_type": "execute_result"
    }
   ],
   "source": [
    "af['UmbrellaLimit']"
   ]
  },
  {
   "cell_type": "code",
   "execution_count": 249,
   "metadata": {},
   "outputs": [],
   "source": [
    "# converting negative values to positive values in \"UmbrellaLimit\" column\n",
    "data_34['UmbrellaLimit']=data_34['UmbrellaLimit'].abs()"
   ]
  },
  {
   "cell_type": "code",
   "execution_count": 250,
   "metadata": {},
   "outputs": [],
   "source": [
    "data_35=data_34"
   ]
  },
  {
   "cell_type": "code",
   "execution_count": 251,
   "metadata": {},
   "outputs": [
    {
     "data": {
      "text/plain": [
       "0    21050\n",
       "1     7755\n",
       "Name: UmbrellaLimit, dtype: int64"
      ]
     },
     "execution_count": 251,
     "metadata": {},
     "output_type": "execute_result"
    }
   ],
   "source": [
    "# Encoding of \"UmbrellaLimit\" column as 0 and 1. If any value is greater than 0 , encode as 1 ; otherwise encode as 0\n",
    "\n",
    "data_35['UmbrellaLimit']=data_35['UmbrellaLimit'].apply(lambda x: 1 if x>0 else 0)\n",
    "\n",
    "data_35['UmbrellaLimit'].value_counts()"
   ]
  },
  {
   "cell_type": "code",
   "execution_count": 252,
   "metadata": {},
   "outputs": [
    {
     "data": {
      "text/html": [
       "<div>\n",
       "<style scoped>\n",
       "    .dataframe tbody tr th:only-of-type {\n",
       "        vertical-align: middle;\n",
       "    }\n",
       "\n",
       "    .dataframe tbody tr th {\n",
       "        vertical-align: top;\n",
       "    }\n",
       "\n",
       "    .dataframe thead th {\n",
       "        text-align: right;\n",
       "    }\n",
       "</style>\n",
       "<table border=\"1\" class=\"dataframe\">\n",
       "  <thead>\n",
       "    <tr style=\"text-align: right;\">\n",
       "      <th></th>\n",
       "      <th>AuthoritiesContacted</th>\n",
       "      <th>IncidentState</th>\n",
       "      <th>IncidentCity</th>\n",
       "      <th>IncidentTime</th>\n",
       "      <th>NumberOfVehicles</th>\n",
       "      <th>BodilyInjuries</th>\n",
       "      <th>Witnesses</th>\n",
       "      <th>AmountOfTotalClaim</th>\n",
       "      <th>AmountOfInjuryClaim</th>\n",
       "      <th>AmountOfPropertyClaim</th>\n",
       "      <th>...</th>\n",
       "      <th>PoliceReport_YES</th>\n",
       "      <th>year_of_PolicyCoverage</th>\n",
       "      <th>month_of_PolicyCoverage</th>\n",
       "      <th>day_of_PolicyCoverage</th>\n",
       "      <th>day_of_week_of_PolicyCoverage</th>\n",
       "      <th>week_of_year_of_PolicyCoverage</th>\n",
       "      <th>quarter_of_year_of_PolicyCoverage</th>\n",
       "      <th>weekend_of_PolicyCoverage</th>\n",
       "      <th>InsurancePolicyState_State2</th>\n",
       "      <th>InsurancePolicyState_State3</th>\n",
       "    </tr>\n",
       "  </thead>\n",
       "  <tbody>\n",
       "    <tr>\n",
       "      <th>0</th>\n",
       "      <td>4</td>\n",
       "      <td>4</td>\n",
       "      <td>0</td>\n",
       "      <td>17</td>\n",
       "      <td>3</td>\n",
       "      <td>1</td>\n",
       "      <td>0</td>\n",
       "      <td>65501.0</td>\n",
       "      <td>9.435368</td>\n",
       "      <td>8.711443</td>\n",
       "      <td>...</td>\n",
       "      <td>1</td>\n",
       "      <td>1998</td>\n",
       "      <td>10</td>\n",
       "      <td>25</td>\n",
       "      <td>6</td>\n",
       "      <td>43</td>\n",
       "      <td>4</td>\n",
       "      <td>1</td>\n",
       "      <td>0</td>\n",
       "      <td>0</td>\n",
       "    </tr>\n",
       "    <tr>\n",
       "      <th>1</th>\n",
       "      <td>4</td>\n",
       "      <td>4</td>\n",
       "      <td>4</td>\n",
       "      <td>10</td>\n",
       "      <td>3</td>\n",
       "      <td>2</td>\n",
       "      <td>1</td>\n",
       "      <td>61382.0</td>\n",
       "      <td>9.435368</td>\n",
       "      <td>8.686092</td>\n",
       "      <td>...</td>\n",
       "      <td>1</td>\n",
       "      <td>2000</td>\n",
       "      <td>11</td>\n",
       "      <td>15</td>\n",
       "      <td>2</td>\n",
       "      <td>46</td>\n",
       "      <td>4</td>\n",
       "      <td>0</td>\n",
       "      <td>0</td>\n",
       "      <td>0</td>\n",
       "    </tr>\n",
       "    <tr>\n",
       "      <th>2</th>\n",
       "      <td>3</td>\n",
       "      <td>5</td>\n",
       "      <td>5</td>\n",
       "      <td>22</td>\n",
       "      <td>1</td>\n",
       "      <td>2</td>\n",
       "      <td>3</td>\n",
       "      <td>66755.0</td>\n",
       "      <td>9.361429</td>\n",
       "      <td>9.361429</td>\n",
       "      <td>...</td>\n",
       "      <td>0</td>\n",
       "      <td>2001</td>\n",
       "      <td>2</td>\n",
       "      <td>12</td>\n",
       "      <td>0</td>\n",
       "      <td>7</td>\n",
       "      <td>1</td>\n",
       "      <td>0</td>\n",
       "      <td>0</td>\n",
       "      <td>1</td>\n",
       "    </tr>\n",
       "    <tr>\n",
       "      <th>3</th>\n",
       "      <td>3</td>\n",
       "      <td>6</td>\n",
       "      <td>5</td>\n",
       "      <td>22</td>\n",
       "      <td>1</td>\n",
       "      <td>2</td>\n",
       "      <td>3</td>\n",
       "      <td>66243.0</td>\n",
       "      <td>9.392995</td>\n",
       "      <td>9.392995</td>\n",
       "      <td>...</td>\n",
       "      <td>0</td>\n",
       "      <td>2005</td>\n",
       "      <td>4</td>\n",
       "      <td>11</td>\n",
       "      <td>0</td>\n",
       "      <td>15</td>\n",
       "      <td>2</td>\n",
       "      <td>0</td>\n",
       "      <td>1</td>\n",
       "      <td>0</td>\n",
       "    </tr>\n",
       "    <tr>\n",
       "      <th>4</th>\n",
       "      <td>1</td>\n",
       "      <td>5</td>\n",
       "      <td>5</td>\n",
       "      <td>10</td>\n",
       "      <td>1</td>\n",
       "      <td>2</td>\n",
       "      <td>1</td>\n",
       "      <td>53544.0</td>\n",
       "      <td>9.085910</td>\n",
       "      <td>8.886686</td>\n",
       "      <td>...</td>\n",
       "      <td>1</td>\n",
       "      <td>1996</td>\n",
       "      <td>10</td>\n",
       "      <td>25</td>\n",
       "      <td>4</td>\n",
       "      <td>43</td>\n",
       "      <td>4</td>\n",
       "      <td>0</td>\n",
       "      <td>1</td>\n",
       "      <td>0</td>\n",
       "    </tr>\n",
       "  </tbody>\n",
       "</table>\n",
       "<p>5 rows × 50 columns</p>\n",
       "</div>"
      ],
      "text/plain": [
       "   AuthoritiesContacted  IncidentState  IncidentCity  IncidentTime  \\\n",
       "0                     4              4             0            17   \n",
       "1                     4              4             4            10   \n",
       "2                     3              5             5            22   \n",
       "3                     3              6             5            22   \n",
       "4                     1              5             5            10   \n",
       "\n",
       "   NumberOfVehicles  BodilyInjuries  Witnesses  AmountOfTotalClaim  \\\n",
       "0                 3               1          0             65501.0   \n",
       "1                 3               2          1             61382.0   \n",
       "2                 1               2          3             66755.0   \n",
       "3                 1               2          3             66243.0   \n",
       "4                 1               2          1             53544.0   \n",
       "\n",
       "   AmountOfInjuryClaim  AmountOfPropertyClaim  ...  PoliceReport_YES  \\\n",
       "0             9.435368               8.711443  ...                 1   \n",
       "1             9.435368               8.686092  ...                 1   \n",
       "2             9.361429               9.361429  ...                 0   \n",
       "3             9.392995               9.392995  ...                 0   \n",
       "4             9.085910               8.886686  ...                 1   \n",
       "\n",
       "   year_of_PolicyCoverage  month_of_PolicyCoverage  day_of_PolicyCoverage  \\\n",
       "0                    1998                       10                     25   \n",
       "1                    2000                       11                     15   \n",
       "2                    2001                        2                     12   \n",
       "3                    2005                        4                     11   \n",
       "4                    1996                       10                     25   \n",
       "\n",
       "   day_of_week_of_PolicyCoverage  week_of_year_of_PolicyCoverage  \\\n",
       "0                              6                              43   \n",
       "1                              2                              46   \n",
       "2                              0                               7   \n",
       "3                              0                              15   \n",
       "4                              4                              43   \n",
       "\n",
       "   quarter_of_year_of_PolicyCoverage  weekend_of_PolicyCoverage  \\\n",
       "0                                  4                          1   \n",
       "1                                  4                          0   \n",
       "2                                  1                          0   \n",
       "3                                  2                          0   \n",
       "4                                  4                          0   \n",
       "\n",
       "   InsurancePolicyState_State2  InsurancePolicyState_State3  \n",
       "0                            0                            0  \n",
       "1                            0                            0  \n",
       "2                            0                            1  \n",
       "3                            1                            0  \n",
       "4                            1                            0  \n",
       "\n",
       "[5 rows x 50 columns]"
      ]
     },
     "execution_count": 252,
     "metadata": {},
     "output_type": "execute_result"
    }
   ],
   "source": [
    "data_35.head()"
   ]
  },
  {
   "cell_type": "code",
   "execution_count": 253,
   "metadata": {},
   "outputs": [
    {
     "data": {
      "text/plain": [
       "own-child         5235\n",
       "not-in-family     5216\n",
       "other-relative    5149\n",
       "husband           4998\n",
       "wife              4220\n",
       "unmarried         3987\n",
       "Name: InsuredRelationship, dtype: int64"
      ]
     },
     "execution_count": 253,
     "metadata": {},
     "output_type": "execute_result"
    }
   ],
   "source": [
    "data_35['InsuredRelationship'].value_counts()"
   ]
  },
  {
   "cell_type": "code",
   "execution_count": 254,
   "metadata": {},
   "outputs": [],
   "source": [
    "# Label encoding of \"InsuredRelationship\" column\n",
    "data_35['InsuredRelationship']= le.fit_transform(data_35['InsuredRelationship'])"
   ]
  },
  {
   "cell_type": "code",
   "execution_count": 255,
   "metadata": {},
   "outputs": [],
   "source": [
    "data_36=data_35"
   ]
  },
  {
   "cell_type": "code",
   "execution_count": 256,
   "metadata": {},
   "outputs": [
    {
     "data": {
      "text/plain": [
       "(28805, 50)"
      ]
     },
     "execution_count": 256,
     "metadata": {},
     "output_type": "execute_result"
    }
   ],
   "source": [
    "data_36.shape"
   ]
  },
  {
   "cell_type": "code",
   "execution_count": 257,
   "metadata": {},
   "outputs": [
    {
     "data": {
      "text/html": [
       "<div>\n",
       "<style scoped>\n",
       "    .dataframe tbody tr th:only-of-type {\n",
       "        vertical-align: middle;\n",
       "    }\n",
       "\n",
       "    .dataframe tbody tr th {\n",
       "        vertical-align: top;\n",
       "    }\n",
       "\n",
       "    .dataframe thead th {\n",
       "        text-align: right;\n",
       "    }\n",
       "</style>\n",
       "<table border=\"1\" class=\"dataframe\">\n",
       "  <thead>\n",
       "    <tr style=\"text-align: right;\">\n",
       "      <th></th>\n",
       "      <th>AuthoritiesContacted</th>\n",
       "      <th>IncidentState</th>\n",
       "      <th>IncidentCity</th>\n",
       "      <th>IncidentTime</th>\n",
       "      <th>NumberOfVehicles</th>\n",
       "      <th>BodilyInjuries</th>\n",
       "      <th>Witnesses</th>\n",
       "      <th>AmountOfTotalClaim</th>\n",
       "      <th>AmountOfInjuryClaim</th>\n",
       "      <th>AmountOfPropertyClaim</th>\n",
       "      <th>AmountOfVehicleDamage</th>\n",
       "      <th>InsuredAge</th>\n",
       "      <th>InsuredGender</th>\n",
       "      <th>InsuredEducationLevel</th>\n",
       "      <th>InsuredOccupation</th>\n",
       "      <th>InsuredHobbies</th>\n",
       "      <th>CapitalGains</th>\n",
       "      <th>CapitalLoss</th>\n",
       "      <th>ReportedFraud</th>\n",
       "      <th>CustomerLoyaltyPeriod</th>\n",
       "    </tr>\n",
       "  </thead>\n",
       "  <tbody>\n",
       "    <tr>\n",
       "      <th>0</th>\n",
       "      <td>4</td>\n",
       "      <td>4</td>\n",
       "      <td>0</td>\n",
       "      <td>17</td>\n",
       "      <td>3</td>\n",
       "      <td>1</td>\n",
       "      <td>0</td>\n",
       "      <td>65501.0</td>\n",
       "      <td>9.435368</td>\n",
       "      <td>8.711443</td>\n",
       "      <td>46013.0</td>\n",
       "      <td>35</td>\n",
       "      <td>1</td>\n",
       "      <td>3</td>\n",
       "      <td>1</td>\n",
       "      <td>12</td>\n",
       "      <td>10.945547</td>\n",
       "      <td>10.789340</td>\n",
       "      <td>0</td>\n",
       "      <td>49</td>\n",
       "    </tr>\n",
       "    <tr>\n",
       "      <th>1</th>\n",
       "      <td>4</td>\n",
       "      <td>4</td>\n",
       "      <td>4</td>\n",
       "      <td>10</td>\n",
       "      <td>3</td>\n",
       "      <td>2</td>\n",
       "      <td>1</td>\n",
       "      <td>61382.0</td>\n",
       "      <td>9.435368</td>\n",
       "      <td>8.686092</td>\n",
       "      <td>39903.0</td>\n",
       "      <td>36</td>\n",
       "      <td>1</td>\n",
       "      <td>3</td>\n",
       "      <td>12</td>\n",
       "      <td>6</td>\n",
       "      <td>11.164800</td>\n",
       "      <td>10.789340</td>\n",
       "      <td>0</td>\n",
       "      <td>114</td>\n",
       "    </tr>\n",
       "    <tr>\n",
       "      <th>2</th>\n",
       "      <td>3</td>\n",
       "      <td>5</td>\n",
       "      <td>5</td>\n",
       "      <td>22</td>\n",
       "      <td>1</td>\n",
       "      <td>2</td>\n",
       "      <td>3</td>\n",
       "      <td>66755.0</td>\n",
       "      <td>9.361429</td>\n",
       "      <td>9.361429</td>\n",
       "      <td>43495.0</td>\n",
       "      <td>33</td>\n",
       "      <td>1</td>\n",
       "      <td>3</td>\n",
       "      <td>1</td>\n",
       "      <td>14</td>\n",
       "      <td>11.103467</td>\n",
       "      <td>11.061956</td>\n",
       "      <td>0</td>\n",
       "      <td>167</td>\n",
       "    </tr>\n",
       "    <tr>\n",
       "      <th>3</th>\n",
       "      <td>3</td>\n",
       "      <td>6</td>\n",
       "      <td>5</td>\n",
       "      <td>22</td>\n",
       "      <td>1</td>\n",
       "      <td>2</td>\n",
       "      <td>3</td>\n",
       "      <td>66243.0</td>\n",
       "      <td>9.392995</td>\n",
       "      <td>9.392995</td>\n",
       "      <td>42237.0</td>\n",
       "      <td>36</td>\n",
       "      <td>1</td>\n",
       "      <td>3</td>\n",
       "      <td>1</td>\n",
       "      <td>14</td>\n",
       "      <td>10.776892</td>\n",
       "      <td>11.203693</td>\n",
       "      <td>0</td>\n",
       "      <td>190</td>\n",
       "    </tr>\n",
       "    <tr>\n",
       "      <th>4</th>\n",
       "      <td>1</td>\n",
       "      <td>5</td>\n",
       "      <td>5</td>\n",
       "      <td>10</td>\n",
       "      <td>1</td>\n",
       "      <td>2</td>\n",
       "      <td>1</td>\n",
       "      <td>53544.0</td>\n",
       "      <td>9.085910</td>\n",
       "      <td>8.886686</td>\n",
       "      <td>37481.0</td>\n",
       "      <td>29</td>\n",
       "      <td>0</td>\n",
       "      <td>2</td>\n",
       "      <td>3</td>\n",
       "      <td>7</td>\n",
       "      <td>0.000000</td>\n",
       "      <td>10.633473</td>\n",
       "      <td>0</td>\n",
       "      <td>115</td>\n",
       "    </tr>\n",
       "  </tbody>\n",
       "</table>\n",
       "</div>"
      ],
      "text/plain": [
       "   AuthoritiesContacted  IncidentState  IncidentCity  IncidentTime  \\\n",
       "0                     4              4             0            17   \n",
       "1                     4              4             4            10   \n",
       "2                     3              5             5            22   \n",
       "3                     3              6             5            22   \n",
       "4                     1              5             5            10   \n",
       "\n",
       "   NumberOfVehicles  BodilyInjuries  Witnesses  AmountOfTotalClaim  \\\n",
       "0                 3               1          0             65501.0   \n",
       "1                 3               2          1             61382.0   \n",
       "2                 1               2          3             66755.0   \n",
       "3                 1               2          3             66243.0   \n",
       "4                 1               2          1             53544.0   \n",
       "\n",
       "   AmountOfInjuryClaim  AmountOfPropertyClaim  AmountOfVehicleDamage  \\\n",
       "0             9.435368               8.711443                46013.0   \n",
       "1             9.435368               8.686092                39903.0   \n",
       "2             9.361429               9.361429                43495.0   \n",
       "3             9.392995               9.392995                42237.0   \n",
       "4             9.085910               8.886686                37481.0   \n",
       "\n",
       "   InsuredAge  InsuredGender  InsuredEducationLevel  InsuredOccupation  \\\n",
       "0          35              1                      3                  1   \n",
       "1          36              1                      3                 12   \n",
       "2          33              1                      3                  1   \n",
       "3          36              1                      3                  1   \n",
       "4          29              0                      2                  3   \n",
       "\n",
       "   InsuredHobbies  CapitalGains  CapitalLoss  ReportedFraud  \\\n",
       "0              12     10.945547    10.789340              0   \n",
       "1               6     11.164800    10.789340              0   \n",
       "2              14     11.103467    11.061956              0   \n",
       "3              14     10.776892    11.203693              0   \n",
       "4               7      0.000000    10.633473              0   \n",
       "\n",
       "   CustomerLoyaltyPeriod  \n",
       "0                     49  \n",
       "1                    114  \n",
       "2                    167  \n",
       "3                    190  \n",
       "4                    115  "
      ]
     },
     "execution_count": 257,
     "metadata": {},
     "output_type": "execute_result"
    }
   ],
   "source": [
    "data_36.iloc[:,:20].head()"
   ]
  },
  {
   "cell_type": "code",
   "execution_count": 258,
   "metadata": {},
   "outputs": [
    {
     "data": {
      "text/html": [
       "<div>\n",
       "<style scoped>\n",
       "    .dataframe tbody tr th:only-of-type {\n",
       "        vertical-align: middle;\n",
       "    }\n",
       "\n",
       "    .dataframe tbody tr th {\n",
       "        vertical-align: top;\n",
       "    }\n",
       "\n",
       "    .dataframe thead th {\n",
       "        text-align: right;\n",
       "    }\n",
       "</style>\n",
       "<table border=\"1\" class=\"dataframe\">\n",
       "  <thead>\n",
       "    <tr style=\"text-align: right;\">\n",
       "      <th></th>\n",
       "      <th>Policy_CombinedSingleLimit</th>\n",
       "      <th>Policy_Deductible</th>\n",
       "      <th>PolicyAnnualPremium</th>\n",
       "      <th>UmbrellaLimit</th>\n",
       "      <th>InsuredRelationship</th>\n",
       "      <th>VehicleMake</th>\n",
       "      <th>VehicleYOM</th>\n",
       "      <th>month_of_incident</th>\n",
       "      <th>day_of_incident</th>\n",
       "      <th>day_of_week_of_incident</th>\n",
       "      <th>weekend_of_incident</th>\n",
       "      <th>TypeOfIncident_Parked Car</th>\n",
       "      <th>TypeOfIncident_Single Vehicle Collision</th>\n",
       "      <th>TypeOfIncident_Vehicle Theft</th>\n",
       "      <th>TypeOfCollission_Rear Collision</th>\n",
       "      <th>TypeOfCollission_Side Collision</th>\n",
       "      <th>SeverityOfIncident_Minor Damage</th>\n",
       "      <th>SeverityOfIncident_Total Loss</th>\n",
       "      <th>SeverityOfIncident_Trivial Damage</th>\n",
       "      <th>PropertyDamage_YES</th>\n",
       "    </tr>\n",
       "  </thead>\n",
       "  <tbody>\n",
       "    <tr>\n",
       "      <th>0</th>\n",
       "      <td>1</td>\n",
       "      <td>1000</td>\n",
       "      <td>1632.73</td>\n",
       "      <td>0</td>\n",
       "      <td>1</td>\n",
       "      <td>1</td>\n",
       "      <td>13</td>\n",
       "      <td>2</td>\n",
       "      <td>3</td>\n",
       "      <td>1</td>\n",
       "      <td>0</td>\n",
       "      <td>0</td>\n",
       "      <td>0</td>\n",
       "      <td>0</td>\n",
       "      <td>0</td>\n",
       "      <td>1</td>\n",
       "      <td>0</td>\n",
       "      <td>1</td>\n",
       "      <td>0</td>\n",
       "      <td>1</td>\n",
       "    </tr>\n",
       "    <tr>\n",
       "      <th>1</th>\n",
       "      <td>1</td>\n",
       "      <td>1000</td>\n",
       "      <td>1255.19</td>\n",
       "      <td>0</td>\n",
       "      <td>1</td>\n",
       "      <td>1</td>\n",
       "      <td>11</td>\n",
       "      <td>2</td>\n",
       "      <td>2</td>\n",
       "      <td>0</td>\n",
       "      <td>0</td>\n",
       "      <td>0</td>\n",
       "      <td>0</td>\n",
       "      <td>0</td>\n",
       "      <td>0</td>\n",
       "      <td>1</td>\n",
       "      <td>0</td>\n",
       "      <td>1</td>\n",
       "      <td>0</td>\n",
       "      <td>1</td>\n",
       "    </tr>\n",
       "    <tr>\n",
       "      <th>2</th>\n",
       "      <td>6</td>\n",
       "      <td>617</td>\n",
       "      <td>1373.38</td>\n",
       "      <td>0</td>\n",
       "      <td>5</td>\n",
       "      <td>13</td>\n",
       "      <td>4</td>\n",
       "      <td>1</td>\n",
       "      <td>15</td>\n",
       "      <td>3</td>\n",
       "      <td>0</td>\n",
       "      <td>0</td>\n",
       "      <td>1</td>\n",
       "      <td>0</td>\n",
       "      <td>0</td>\n",
       "      <td>1</td>\n",
       "      <td>1</td>\n",
       "      <td>0</td>\n",
       "      <td>0</td>\n",
       "      <td>1</td>\n",
       "    </tr>\n",
       "    <tr>\n",
       "      <th>3</th>\n",
       "      <td>6</td>\n",
       "      <td>722</td>\n",
       "      <td>1337.60</td>\n",
       "      <td>0</td>\n",
       "      <td>3</td>\n",
       "      <td>13</td>\n",
       "      <td>8</td>\n",
       "      <td>1</td>\n",
       "      <td>19</td>\n",
       "      <td>0</td>\n",
       "      <td>0</td>\n",
       "      <td>0</td>\n",
       "      <td>1</td>\n",
       "      <td>0</td>\n",
       "      <td>0</td>\n",
       "      <td>1</td>\n",
       "      <td>1</td>\n",
       "      <td>0</td>\n",
       "      <td>0</td>\n",
       "      <td>1</td>\n",
       "    </tr>\n",
       "    <tr>\n",
       "      <th>4</th>\n",
       "      <td>1</td>\n",
       "      <td>500</td>\n",
       "      <td>1353.73</td>\n",
       "      <td>1</td>\n",
       "      <td>4</td>\n",
       "      <td>12</td>\n",
       "      <td>15</td>\n",
       "      <td>1</td>\n",
       "      <td>9</td>\n",
       "      <td>4</td>\n",
       "      <td>0</td>\n",
       "      <td>0</td>\n",
       "      <td>1</td>\n",
       "      <td>0</td>\n",
       "      <td>1</td>\n",
       "      <td>0</td>\n",
       "      <td>1</td>\n",
       "      <td>0</td>\n",
       "      <td>0</td>\n",
       "      <td>0</td>\n",
       "    </tr>\n",
       "  </tbody>\n",
       "</table>\n",
       "</div>"
      ],
      "text/plain": [
       "   Policy_CombinedSingleLimit  Policy_Deductible  PolicyAnnualPremium  \\\n",
       "0                           1               1000              1632.73   \n",
       "1                           1               1000              1255.19   \n",
       "2                           6                617              1373.38   \n",
       "3                           6                722              1337.60   \n",
       "4                           1                500              1353.73   \n",
       "\n",
       "   UmbrellaLimit  InsuredRelationship  VehicleMake  VehicleYOM  \\\n",
       "0              0                    1            1          13   \n",
       "1              0                    1            1          11   \n",
       "2              0                    5           13           4   \n",
       "3              0                    3           13           8   \n",
       "4              1                    4           12          15   \n",
       "\n",
       "   month_of_incident  day_of_incident  day_of_week_of_incident  \\\n",
       "0                  2                3                        1   \n",
       "1                  2                2                        0   \n",
       "2                  1               15                        3   \n",
       "3                  1               19                        0   \n",
       "4                  1                9                        4   \n",
       "\n",
       "   weekend_of_incident  TypeOfIncident_Parked Car  \\\n",
       "0                    0                          0   \n",
       "1                    0                          0   \n",
       "2                    0                          0   \n",
       "3                    0                          0   \n",
       "4                    0                          0   \n",
       "\n",
       "   TypeOfIncident_Single Vehicle Collision  TypeOfIncident_Vehicle Theft  \\\n",
       "0                                        0                             0   \n",
       "1                                        0                             0   \n",
       "2                                        1                             0   \n",
       "3                                        1                             0   \n",
       "4                                        1                             0   \n",
       "\n",
       "   TypeOfCollission_Rear Collision  TypeOfCollission_Side Collision  \\\n",
       "0                                0                                1   \n",
       "1                                0                                1   \n",
       "2                                0                                1   \n",
       "3                                0                                1   \n",
       "4                                1                                0   \n",
       "\n",
       "   SeverityOfIncident_Minor Damage  SeverityOfIncident_Total Loss  \\\n",
       "0                                0                              1   \n",
       "1                                0                              1   \n",
       "2                                1                              0   \n",
       "3                                1                              0   \n",
       "4                                1                              0   \n",
       "\n",
       "   SeverityOfIncident_Trivial Damage  PropertyDamage_YES  \n",
       "0                                  0                   1  \n",
       "1                                  0                   1  \n",
       "2                                  0                   1  \n",
       "3                                  0                   1  \n",
       "4                                  0                   0  "
      ]
     },
     "execution_count": 258,
     "metadata": {},
     "output_type": "execute_result"
    }
   ],
   "source": [
    "data_36.iloc[:,20:40].head()"
   ]
  },
  {
   "cell_type": "code",
   "execution_count": 259,
   "metadata": {},
   "outputs": [
    {
     "data": {
      "text/html": [
       "<div>\n",
       "<style scoped>\n",
       "    .dataframe tbody tr th:only-of-type {\n",
       "        vertical-align: middle;\n",
       "    }\n",
       "\n",
       "    .dataframe tbody tr th {\n",
       "        vertical-align: top;\n",
       "    }\n",
       "\n",
       "    .dataframe thead th {\n",
       "        text-align: right;\n",
       "    }\n",
       "</style>\n",
       "<table border=\"1\" class=\"dataframe\">\n",
       "  <thead>\n",
       "    <tr style=\"text-align: right;\">\n",
       "      <th></th>\n",
       "      <th>PoliceReport_YES</th>\n",
       "      <th>year_of_PolicyCoverage</th>\n",
       "      <th>month_of_PolicyCoverage</th>\n",
       "      <th>day_of_PolicyCoverage</th>\n",
       "      <th>day_of_week_of_PolicyCoverage</th>\n",
       "      <th>week_of_year_of_PolicyCoverage</th>\n",
       "      <th>quarter_of_year_of_PolicyCoverage</th>\n",
       "      <th>weekend_of_PolicyCoverage</th>\n",
       "      <th>InsurancePolicyState_State2</th>\n",
       "      <th>InsurancePolicyState_State3</th>\n",
       "    </tr>\n",
       "  </thead>\n",
       "  <tbody>\n",
       "    <tr>\n",
       "      <th>0</th>\n",
       "      <td>1</td>\n",
       "      <td>1998</td>\n",
       "      <td>10</td>\n",
       "      <td>25</td>\n",
       "      <td>6</td>\n",
       "      <td>43</td>\n",
       "      <td>4</td>\n",
       "      <td>1</td>\n",
       "      <td>0</td>\n",
       "      <td>0</td>\n",
       "    </tr>\n",
       "    <tr>\n",
       "      <th>1</th>\n",
       "      <td>1</td>\n",
       "      <td>2000</td>\n",
       "      <td>11</td>\n",
       "      <td>15</td>\n",
       "      <td>2</td>\n",
       "      <td>46</td>\n",
       "      <td>4</td>\n",
       "      <td>0</td>\n",
       "      <td>0</td>\n",
       "      <td>0</td>\n",
       "    </tr>\n",
       "    <tr>\n",
       "      <th>2</th>\n",
       "      <td>0</td>\n",
       "      <td>2001</td>\n",
       "      <td>2</td>\n",
       "      <td>12</td>\n",
       "      <td>0</td>\n",
       "      <td>7</td>\n",
       "      <td>1</td>\n",
       "      <td>0</td>\n",
       "      <td>0</td>\n",
       "      <td>1</td>\n",
       "    </tr>\n",
       "    <tr>\n",
       "      <th>3</th>\n",
       "      <td>0</td>\n",
       "      <td>2005</td>\n",
       "      <td>4</td>\n",
       "      <td>11</td>\n",
       "      <td>0</td>\n",
       "      <td>15</td>\n",
       "      <td>2</td>\n",
       "      <td>0</td>\n",
       "      <td>1</td>\n",
       "      <td>0</td>\n",
       "    </tr>\n",
       "    <tr>\n",
       "      <th>4</th>\n",
       "      <td>1</td>\n",
       "      <td>1996</td>\n",
       "      <td>10</td>\n",
       "      <td>25</td>\n",
       "      <td>4</td>\n",
       "      <td>43</td>\n",
       "      <td>4</td>\n",
       "      <td>0</td>\n",
       "      <td>1</td>\n",
       "      <td>0</td>\n",
       "    </tr>\n",
       "  </tbody>\n",
       "</table>\n",
       "</div>"
      ],
      "text/plain": [
       "   PoliceReport_YES  year_of_PolicyCoverage  month_of_PolicyCoverage  \\\n",
       "0                 1                    1998                       10   \n",
       "1                 1                    2000                       11   \n",
       "2                 0                    2001                        2   \n",
       "3                 0                    2005                        4   \n",
       "4                 1                    1996                       10   \n",
       "\n",
       "   day_of_PolicyCoverage  day_of_week_of_PolicyCoverage  \\\n",
       "0                     25                              6   \n",
       "1                     15                              2   \n",
       "2                     12                              0   \n",
       "3                     11                              0   \n",
       "4                     25                              4   \n",
       "\n",
       "   week_of_year_of_PolicyCoverage  quarter_of_year_of_PolicyCoverage  \\\n",
       "0                              43                                  4   \n",
       "1                              46                                  4   \n",
       "2                               7                                  1   \n",
       "3                              15                                  2   \n",
       "4                              43                                  4   \n",
       "\n",
       "   weekend_of_PolicyCoverage  InsurancePolicyState_State2  \\\n",
       "0                          1                            0   \n",
       "1                          0                            0   \n",
       "2                          0                            0   \n",
       "3                          0                            1   \n",
       "4                          0                            1   \n",
       "\n",
       "   InsurancePolicyState_State3  \n",
       "0                            0  \n",
       "1                            0  \n",
       "2                            1  \n",
       "3                            0  \n",
       "4                            0  "
      ]
     },
     "execution_count": 259,
     "metadata": {},
     "output_type": "execute_result"
    }
   ],
   "source": [
    "data_36.iloc[:,40:60].head()"
   ]
  },
  {
   "cell_type": "code",
   "execution_count": 260,
   "metadata": {},
   "outputs": [
    {
     "name": "stdout",
     "output_type": "stream",
     "text": [
      "<class 'pandas.core.frame.DataFrame'>\n",
      "Int64Index: 28805 entries, 0 to 28835\n",
      "Data columns (total 20 columns):\n",
      " #   Column                 Non-Null Count  Dtype  \n",
      "---  ------                 --------------  -----  \n",
      " 0   AuthoritiesContacted   28805 non-null  int32  \n",
      " 1   IncidentState          28805 non-null  int32  \n",
      " 2   IncidentCity           28805 non-null  int32  \n",
      " 3   IncidentTime           28805 non-null  int64  \n",
      " 4   NumberOfVehicles       28805 non-null  int64  \n",
      " 5   BodilyInjuries         28805 non-null  int64  \n",
      " 6   Witnesses              28805 non-null  int32  \n",
      " 7   AmountOfTotalClaim     28805 non-null  float64\n",
      " 8   AmountOfInjuryClaim    28805 non-null  float64\n",
      " 9   AmountOfPropertyClaim  28805 non-null  float64\n",
      " 10  AmountOfVehicleDamage  28805 non-null  float64\n",
      " 11  InsuredAge             28805 non-null  int64  \n",
      " 12  InsuredGender          28805 non-null  int32  \n",
      " 13  InsuredEducationLevel  28805 non-null  int32  \n",
      " 14  InsuredOccupation      28805 non-null  int32  \n",
      " 15  InsuredHobbies         28805 non-null  int32  \n",
      " 16  CapitalGains           28805 non-null  float64\n",
      " 17  CapitalLoss            28805 non-null  float64\n",
      " 18  ReportedFraud          28805 non-null  int32  \n",
      " 19  CustomerLoyaltyPeriod  28805 non-null  int64  \n",
      "dtypes: float64(6), int32(9), int64(5)\n",
      "memory usage: 3.6 MB\n"
     ]
    }
   ],
   "source": [
    "data_36.iloc[:,:20].info()"
   ]
  },
  {
   "cell_type": "code",
   "execution_count": 261,
   "metadata": {},
   "outputs": [
    {
     "name": "stdout",
     "output_type": "stream",
     "text": [
      "<class 'pandas.core.frame.DataFrame'>\n",
      "Int64Index: 28805 entries, 0 to 28835\n",
      "Data columns (total 20 columns):\n",
      " #   Column                                   Non-Null Count  Dtype  \n",
      "---  ------                                   --------------  -----  \n",
      " 0   Policy_CombinedSingleLimit               28805 non-null  int32  \n",
      " 1   Policy_Deductible                        28805 non-null  int64  \n",
      " 2   PolicyAnnualPremium                      28805 non-null  float64\n",
      " 3   UmbrellaLimit                            28805 non-null  int64  \n",
      " 4   InsuredRelationship                      28805 non-null  int32  \n",
      " 5   VehicleMake                              28805 non-null  int32  \n",
      " 6   VehicleYOM                               28805 non-null  int32  \n",
      " 7   month_of_incident                        28805 non-null  int64  \n",
      " 8   day_of_incident                          28805 non-null  int64  \n",
      " 9   day_of_week_of_incident                  28805 non-null  int64  \n",
      " 10  weekend_of_incident                      28805 non-null  int64  \n",
      " 11  TypeOfIncident_Parked Car                28805 non-null  uint8  \n",
      " 12  TypeOfIncident_Single Vehicle Collision  28805 non-null  uint8  \n",
      " 13  TypeOfIncident_Vehicle Theft             28805 non-null  uint8  \n",
      " 14  TypeOfCollission_Rear Collision          28805 non-null  uint8  \n",
      " 15  TypeOfCollission_Side Collision          28805 non-null  uint8  \n",
      " 16  SeverityOfIncident_Minor Damage          28805 non-null  uint8  \n",
      " 17  SeverityOfIncident_Total Loss            28805 non-null  uint8  \n",
      " 18  SeverityOfIncident_Trivial Damage        28805 non-null  uint8  \n",
      " 19  PropertyDamage_YES                       28805 non-null  uint8  \n",
      "dtypes: float64(1), int32(4), int64(6), uint8(9)\n",
      "memory usage: 2.4 MB\n"
     ]
    }
   ],
   "source": [
    "data_36.iloc[:,20:40].info()"
   ]
  },
  {
   "cell_type": "code",
   "execution_count": 262,
   "metadata": {},
   "outputs": [
    {
     "name": "stdout",
     "output_type": "stream",
     "text": [
      "<class 'pandas.core.frame.DataFrame'>\n",
      "Int64Index: 28805 entries, 0 to 28835\n",
      "Data columns (total 10 columns):\n",
      " #   Column                             Non-Null Count  Dtype\n",
      "---  ------                             --------------  -----\n",
      " 0   PoliceReport_YES                   28805 non-null  uint8\n",
      " 1   year_of_PolicyCoverage             28805 non-null  int64\n",
      " 2   month_of_PolicyCoverage            28805 non-null  int64\n",
      " 3   day_of_PolicyCoverage              28805 non-null  int64\n",
      " 4   day_of_week_of_PolicyCoverage      28805 non-null  int64\n",
      " 5   week_of_year_of_PolicyCoverage     28805 non-null  int64\n",
      " 6   quarter_of_year_of_PolicyCoverage  28805 non-null  int64\n",
      " 7   weekend_of_PolicyCoverage          28805 non-null  int32\n",
      " 8   InsurancePolicyState_State2        28805 non-null  uint8\n",
      " 9   InsurancePolicyState_State3        28805 non-null  uint8\n",
      "dtypes: int32(1), int64(6), uint8(3)\n",
      "memory usage: 1.7 MB\n"
     ]
    }
   ],
   "source": [
    "data_36.iloc[:,40:60].info()"
   ]
  },
  {
   "cell_type": "code",
   "execution_count": 263,
   "metadata": {},
   "outputs": [],
   "source": [
    "from sklearn.preprocessing import StandardScaler"
   ]
  },
  {
   "cell_type": "code",
   "execution_count": 264,
   "metadata": {},
   "outputs": [],
   "source": [
    "# put all the columns except \"ReportedFraud\" in \"z\" variable\n",
    "z=data_36.drop(['ReportedFraud'],axis=1)\n",
    "\n",
    "# put \"ReportedFraud\" column in \"target\" variable\n",
    "target=data_36['ReportedFraud']\n",
    "\n",
    "# standardization of \"z\" variable\n",
    "z=StandardScaler().fit_transform(z)"
   ]
  },
  {
   "cell_type": "code",
   "execution_count": 265,
   "metadata": {},
   "outputs": [
    {
     "name": "stdout",
     "output_type": "stream",
     "text": [
      "[[ 1.20962717  0.24410359 -1.44383662 ...  1.56978383 -0.67237228\n",
      "  -0.7365589 ]\n",
      " [ 1.20962717  0.24410359  0.53764027 ... -0.63703038 -0.67237228\n",
      "  -0.7365589 ]\n",
      " [ 0.55697183  0.80526911  1.03300949 ... -0.63703038 -0.67237228\n",
      "   1.35766468]\n",
      " ...\n",
      " [-0.74833885  1.36643463  1.52837871 ... -0.63703038 -0.67237228\n",
      "   1.35766468]\n",
      " [-1.40099419  1.36643463 -0.45309817 ... -0.63703038 -0.67237228\n",
      "   1.35766468]\n",
      " [ 0.55697183  0.80526911 -0.45309817 ...  1.56978383  1.4872713\n",
      "  -0.7365589 ]]\n"
     ]
    }
   ],
   "source": [
    "print(z)"
   ]
  },
  {
   "cell_type": "code",
   "execution_count": 266,
   "metadata": {},
   "outputs": [],
   "source": [
    "# convert z to a dataframe\n",
    "ff=pd.DataFrame(z)"
   ]
  },
  {
   "cell_type": "code",
   "execution_count": 267,
   "metadata": {},
   "outputs": [
    {
     "data": {
      "text/html": [
       "<div>\n",
       "<style scoped>\n",
       "    .dataframe tbody tr th:only-of-type {\n",
       "        vertical-align: middle;\n",
       "    }\n",
       "\n",
       "    .dataframe tbody tr th {\n",
       "        vertical-align: top;\n",
       "    }\n",
       "\n",
       "    .dataframe thead th {\n",
       "        text-align: right;\n",
       "    }\n",
       "</style>\n",
       "<table border=\"1\" class=\"dataframe\">\n",
       "  <thead>\n",
       "    <tr style=\"text-align: right;\">\n",
       "      <th></th>\n",
       "      <th>0</th>\n",
       "      <th>1</th>\n",
       "      <th>2</th>\n",
       "      <th>3</th>\n",
       "      <th>4</th>\n",
       "      <th>5</th>\n",
       "      <th>6</th>\n",
       "      <th>7</th>\n",
       "      <th>8</th>\n",
       "      <th>9</th>\n",
       "      <th>10</th>\n",
       "      <th>11</th>\n",
       "      <th>12</th>\n",
       "      <th>13</th>\n",
       "      <th>14</th>\n",
       "      <th>15</th>\n",
       "      <th>16</th>\n",
       "      <th>17</th>\n",
       "      <th>18</th>\n",
       "      <th>19</th>\n",
       "    </tr>\n",
       "  </thead>\n",
       "  <tbody>\n",
       "    <tr>\n",
       "      <th>0</th>\n",
       "      <td>1.209627</td>\n",
       "      <td>0.244104</td>\n",
       "      <td>-1.443837</td>\n",
       "      <td>0.851542</td>\n",
       "      <td>1.200606</td>\n",
       "      <td>0.017915</td>\n",
       "      <td>-1.430608</td>\n",
       "      <td>0.602373</td>\n",
       "      <td>1.228992</td>\n",
       "      <td>-0.118499</td>\n",
       "      <td>0.504322</td>\n",
       "      <td>-0.477216</td>\n",
       "      <td>1.090640</td>\n",
       "      <td>0.013581</td>\n",
       "      <td>-1.394777</td>\n",
       "      <td>0.422859</td>\n",
       "      <td>1.132519</td>\n",
       "      <td>1.023846</td>\n",
       "      <td>-1.541783</td>\n",
       "      <td>-1.289638</td>\n",
       "    </tr>\n",
       "    <tr>\n",
       "      <th>1</th>\n",
       "      <td>1.209627</td>\n",
       "      <td>0.244104</td>\n",
       "      <td>0.537640</td>\n",
       "      <td>-0.286898</td>\n",
       "      <td>1.200606</td>\n",
       "      <td>1.292126</td>\n",
       "      <td>-0.469719</td>\n",
       "      <td>0.358915</td>\n",
       "      <td>1.228992</td>\n",
       "      <td>-0.164769</td>\n",
       "      <td>-0.000901</td>\n",
       "      <td>-0.352182</td>\n",
       "      <td>1.090640</td>\n",
       "      <td>0.013581</td>\n",
       "      <td>1.338745</td>\n",
       "      <td>-0.631422</td>\n",
       "      <td>1.173349</td>\n",
       "      <td>1.023846</td>\n",
       "      <td>-0.891407</td>\n",
       "      <td>-1.289638</td>\n",
       "    </tr>\n",
       "    <tr>\n",
       "      <th>2</th>\n",
       "      <td>0.556972</td>\n",
       "      <td>0.805269</td>\n",
       "      <td>1.033009</td>\n",
       "      <td>1.664714</td>\n",
       "      <td>-0.840077</td>\n",
       "      <td>1.292126</td>\n",
       "      <td>1.452057</td>\n",
       "      <td>0.676493</td>\n",
       "      <td>1.086051</td>\n",
       "      <td>1.067828</td>\n",
       "      <td>0.296114</td>\n",
       "      <td>-0.727283</td>\n",
       "      <td>1.090640</td>\n",
       "      <td>0.013581</td>\n",
       "      <td>-1.394777</td>\n",
       "      <td>0.774287</td>\n",
       "      <td>1.161928</td>\n",
       "      <td>1.074373</td>\n",
       "      <td>-0.361100</td>\n",
       "      <td>0.912300</td>\n",
       "    </tr>\n",
       "    <tr>\n",
       "      <th>3</th>\n",
       "      <td>0.556972</td>\n",
       "      <td>1.366435</td>\n",
       "      <td>1.033009</td>\n",
       "      <td>1.664714</td>\n",
       "      <td>-0.840077</td>\n",
       "      <td>1.292126</td>\n",
       "      <td>1.452057</td>\n",
       "      <td>0.646230</td>\n",
       "      <td>1.147076</td>\n",
       "      <td>1.125441</td>\n",
       "      <td>0.192092</td>\n",
       "      <td>-0.352182</td>\n",
       "      <td>1.090640</td>\n",
       "      <td>0.013581</td>\n",
       "      <td>-1.394777</td>\n",
       "      <td>0.774287</td>\n",
       "      <td>1.101111</td>\n",
       "      <td>1.100643</td>\n",
       "      <td>-0.130967</td>\n",
       "      <td>0.912300</td>\n",
       "    </tr>\n",
       "    <tr>\n",
       "      <th>4</th>\n",
       "      <td>-0.748339</td>\n",
       "      <td>0.805269</td>\n",
       "      <td>1.033009</td>\n",
       "      <td>-0.286898</td>\n",
       "      <td>-0.840077</td>\n",
       "      <td>1.292126</td>\n",
       "      <td>-0.469719</td>\n",
       "      <td>-0.104360</td>\n",
       "      <td>0.553410</td>\n",
       "      <td>0.201346</td>\n",
       "      <td>-0.201171</td>\n",
       "      <td>-1.227418</td>\n",
       "      <td>-0.916893</td>\n",
       "      <td>-0.502527</td>\n",
       "      <td>-0.897773</td>\n",
       "      <td>-0.455708</td>\n",
       "      <td>-0.905831</td>\n",
       "      <td>0.994957</td>\n",
       "      <td>-0.881401</td>\n",
       "      <td>-1.289638</td>\n",
       "    </tr>\n",
       "  </tbody>\n",
       "</table>\n",
       "</div>"
      ],
      "text/plain": [
       "         0         1         2         3         4         5         6   \\\n",
       "0  1.209627  0.244104 -1.443837  0.851542  1.200606  0.017915 -1.430608   \n",
       "1  1.209627  0.244104  0.537640 -0.286898  1.200606  1.292126 -0.469719   \n",
       "2  0.556972  0.805269  1.033009  1.664714 -0.840077  1.292126  1.452057   \n",
       "3  0.556972  1.366435  1.033009  1.664714 -0.840077  1.292126  1.452057   \n",
       "4 -0.748339  0.805269  1.033009 -0.286898 -0.840077  1.292126 -0.469719   \n",
       "\n",
       "         7         8         9         10        11        12        13  \\\n",
       "0  0.602373  1.228992 -0.118499  0.504322 -0.477216  1.090640  0.013581   \n",
       "1  0.358915  1.228992 -0.164769 -0.000901 -0.352182  1.090640  0.013581   \n",
       "2  0.676493  1.086051  1.067828  0.296114 -0.727283  1.090640  0.013581   \n",
       "3  0.646230  1.147076  1.125441  0.192092 -0.352182  1.090640  0.013581   \n",
       "4 -0.104360  0.553410  0.201346 -0.201171 -1.227418 -0.916893 -0.502527   \n",
       "\n",
       "         14        15        16        17        18        19  \n",
       "0 -1.394777  0.422859  1.132519  1.023846 -1.541783 -1.289638  \n",
       "1  1.338745 -0.631422  1.173349  1.023846 -0.891407 -1.289638  \n",
       "2 -1.394777  0.774287  1.161928  1.074373 -0.361100  0.912300  \n",
       "3 -1.394777  0.774287  1.101111  1.100643 -0.130967  0.912300  \n",
       "4 -0.897773 -0.455708 -0.905831  0.994957 -0.881401 -1.289638  "
      ]
     },
     "execution_count": 267,
     "metadata": {},
     "output_type": "execute_result"
    }
   ],
   "source": [
    "ff.iloc[:,:20].head()"
   ]
  },
  {
   "cell_type": "code",
   "execution_count": 268,
   "metadata": {},
   "outputs": [
    {
     "data": {
      "text/html": [
       "<div>\n",
       "<style scoped>\n",
       "    .dataframe tbody tr th:only-of-type {\n",
       "        vertical-align: middle;\n",
       "    }\n",
       "\n",
       "    .dataframe tbody tr th {\n",
       "        vertical-align: top;\n",
       "    }\n",
       "\n",
       "    .dataframe thead th {\n",
       "        text-align: right;\n",
       "    }\n",
       "</style>\n",
       "<table border=\"1\" class=\"dataframe\">\n",
       "  <thead>\n",
       "    <tr style=\"text-align: right;\">\n",
       "      <th></th>\n",
       "      <th>20</th>\n",
       "      <th>21</th>\n",
       "      <th>22</th>\n",
       "      <th>23</th>\n",
       "      <th>24</th>\n",
       "      <th>25</th>\n",
       "      <th>26</th>\n",
       "      <th>27</th>\n",
       "      <th>28</th>\n",
       "      <th>29</th>\n",
       "      <th>30</th>\n",
       "      <th>31</th>\n",
       "      <th>32</th>\n",
       "      <th>33</th>\n",
       "      <th>34</th>\n",
       "      <th>35</th>\n",
       "      <th>36</th>\n",
       "      <th>37</th>\n",
       "      <th>38</th>\n",
       "      <th>39</th>\n",
       "    </tr>\n",
       "  </thead>\n",
       "  <tbody>\n",
       "    <tr>\n",
       "      <th>0</th>\n",
       "      <td>-0.209070</td>\n",
       "      <td>1.782936</td>\n",
       "      <td>-0.606967</td>\n",
       "      <td>-0.819862</td>\n",
       "      <td>-1.362568</td>\n",
       "      <td>0.547396</td>\n",
       "      <td>0.978250</td>\n",
       "      <td>-1.579656</td>\n",
       "      <td>-1.011959</td>\n",
       "      <td>-0.624608</td>\n",
       "      <td>-0.308621</td>\n",
       "      <td>-0.824849</td>\n",
       "      <td>-0.320353</td>\n",
       "      <td>-0.750859</td>\n",
       "      <td>1.410759</td>\n",
       "      <td>-0.751085</td>\n",
       "      <td>1.584103</td>\n",
       "      <td>-0.311245</td>\n",
       "      <td>1.046233</td>\n",
       "      <td>1.048493</td>\n",
       "    </tr>\n",
       "    <tr>\n",
       "      <th>1</th>\n",
       "      <td>-0.209070</td>\n",
       "      <td>-0.015393</td>\n",
       "      <td>-0.606967</td>\n",
       "      <td>-0.819862</td>\n",
       "      <td>-1.362568</td>\n",
       "      <td>0.170808</td>\n",
       "      <td>0.978250</td>\n",
       "      <td>-1.711164</td>\n",
       "      <td>-1.516703</td>\n",
       "      <td>-0.624608</td>\n",
       "      <td>-0.308621</td>\n",
       "      <td>-0.824849</td>\n",
       "      <td>-0.320353</td>\n",
       "      <td>-0.750859</td>\n",
       "      <td>1.410759</td>\n",
       "      <td>-0.751085</td>\n",
       "      <td>1.584103</td>\n",
       "      <td>-0.311245</td>\n",
       "      <td>1.046233</td>\n",
       "      <td>1.048493</td>\n",
       "    </tr>\n",
       "    <tr>\n",
       "      <th>2</th>\n",
       "      <td>-0.909650</td>\n",
       "      <td>0.547579</td>\n",
       "      <td>-0.606967</td>\n",
       "      <td>1.573948</td>\n",
       "      <td>1.596402</td>\n",
       "      <td>-1.147250</td>\n",
       "      <td>-0.959348</td>\n",
       "      <td>-0.001566</td>\n",
       "      <td>-0.002471</td>\n",
       "      <td>-0.624608</td>\n",
       "      <td>-0.308621</td>\n",
       "      <td>1.212343</td>\n",
       "      <td>-0.320353</td>\n",
       "      <td>-0.750859</td>\n",
       "      <td>1.410759</td>\n",
       "      <td>1.331407</td>\n",
       "      <td>-0.631272</td>\n",
       "      <td>-0.311245</td>\n",
       "      <td>1.046233</td>\n",
       "      <td>-0.953750</td>\n",
       "    </tr>\n",
       "    <tr>\n",
       "      <th>3</th>\n",
       "      <td>-0.717585</td>\n",
       "      <td>0.377149</td>\n",
       "      <td>-0.606967</td>\n",
       "      <td>0.377043</td>\n",
       "      <td>1.596402</td>\n",
       "      <td>-0.394074</td>\n",
       "      <td>-0.959348</td>\n",
       "      <td>0.524464</td>\n",
       "      <td>-1.516703</td>\n",
       "      <td>-0.624608</td>\n",
       "      <td>-0.308621</td>\n",
       "      <td>1.212343</td>\n",
       "      <td>-0.320353</td>\n",
       "      <td>-0.750859</td>\n",
       "      <td>1.410759</td>\n",
       "      <td>1.331407</td>\n",
       "      <td>-0.631272</td>\n",
       "      <td>-0.311245</td>\n",
       "      <td>1.046233</td>\n",
       "      <td>-0.953750</td>\n",
       "    </tr>\n",
       "    <tr>\n",
       "      <th>4</th>\n",
       "      <td>-1.123665</td>\n",
       "      <td>0.453981</td>\n",
       "      <td>1.647537</td>\n",
       "      <td>0.975495</td>\n",
       "      <td>1.349821</td>\n",
       "      <td>0.923984</td>\n",
       "      <td>-0.959348</td>\n",
       "      <td>-0.790611</td>\n",
       "      <td>0.502273</td>\n",
       "      <td>-0.624608</td>\n",
       "      <td>-0.308621</td>\n",
       "      <td>1.212343</td>\n",
       "      <td>-0.320353</td>\n",
       "      <td>1.331808</td>\n",
       "      <td>-0.708838</td>\n",
       "      <td>1.331407</td>\n",
       "      <td>-0.631272</td>\n",
       "      <td>-0.311245</td>\n",
       "      <td>-0.955810</td>\n",
       "      <td>1.048493</td>\n",
       "    </tr>\n",
       "  </tbody>\n",
       "</table>\n",
       "</div>"
      ],
      "text/plain": [
       "         20        21        22        23        24        25        26  \\\n",
       "0 -0.209070  1.782936 -0.606967 -0.819862 -1.362568  0.547396  0.978250   \n",
       "1 -0.209070 -0.015393 -0.606967 -0.819862 -1.362568  0.170808  0.978250   \n",
       "2 -0.909650  0.547579 -0.606967  1.573948  1.596402 -1.147250 -0.959348   \n",
       "3 -0.717585  0.377149 -0.606967  0.377043  1.596402 -0.394074 -0.959348   \n",
       "4 -1.123665  0.453981  1.647537  0.975495  1.349821  0.923984 -0.959348   \n",
       "\n",
       "         27        28        29        30        31        32        33  \\\n",
       "0 -1.579656 -1.011959 -0.624608 -0.308621 -0.824849 -0.320353 -0.750859   \n",
       "1 -1.711164 -1.516703 -0.624608 -0.308621 -0.824849 -0.320353 -0.750859   \n",
       "2 -0.001566 -0.002471 -0.624608 -0.308621  1.212343 -0.320353 -0.750859   \n",
       "3  0.524464 -1.516703 -0.624608 -0.308621  1.212343 -0.320353 -0.750859   \n",
       "4 -0.790611  0.502273 -0.624608 -0.308621  1.212343 -0.320353  1.331808   \n",
       "\n",
       "         34        35        36        37        38        39  \n",
       "0  1.410759 -0.751085  1.584103 -0.311245  1.046233  1.048493  \n",
       "1  1.410759 -0.751085  1.584103 -0.311245  1.046233  1.048493  \n",
       "2  1.410759  1.331407 -0.631272 -0.311245  1.046233 -0.953750  \n",
       "3  1.410759  1.331407 -0.631272 -0.311245  1.046233 -0.953750  \n",
       "4 -0.708838  1.331407 -0.631272 -0.311245 -0.955810  1.048493  "
      ]
     },
     "execution_count": 268,
     "metadata": {},
     "output_type": "execute_result"
    }
   ],
   "source": [
    "ff.iloc[:,20:40].head()"
   ]
  },
  {
   "cell_type": "code",
   "execution_count": 269,
   "metadata": {},
   "outputs": [
    {
     "data": {
      "text/html": [
       "<div>\n",
       "<style scoped>\n",
       "    .dataframe tbody tr th:only-of-type {\n",
       "        vertical-align: middle;\n",
       "    }\n",
       "\n",
       "    .dataframe tbody tr th {\n",
       "        vertical-align: top;\n",
       "    }\n",
       "\n",
       "    .dataframe thead th {\n",
       "        text-align: right;\n",
       "    }\n",
       "</style>\n",
       "<table border=\"1\" class=\"dataframe\">\n",
       "  <thead>\n",
       "    <tr style=\"text-align: right;\">\n",
       "      <th></th>\n",
       "      <th>40</th>\n",
       "      <th>41</th>\n",
       "      <th>42</th>\n",
       "      <th>43</th>\n",
       "      <th>44</th>\n",
       "      <th>45</th>\n",
       "      <th>46</th>\n",
       "      <th>47</th>\n",
       "      <th>48</th>\n",
       "    </tr>\n",
       "  </thead>\n",
       "  <tbody>\n",
       "    <tr>\n",
       "      <th>0</th>\n",
       "      <td>-0.534377</td>\n",
       "      <td>1.097703</td>\n",
       "      <td>1.241924</td>\n",
       "      <td>1.497154</td>\n",
       "      <td>1.187173</td>\n",
       "      <td>1.406392</td>\n",
       "      <td>1.569784</td>\n",
       "      <td>-0.672372</td>\n",
       "      <td>-0.736559</td>\n",
       "    </tr>\n",
       "    <tr>\n",
       "      <th>1</th>\n",
       "      <td>-0.229679</td>\n",
       "      <td>1.416472</td>\n",
       "      <td>-0.058297</td>\n",
       "      <td>-0.495961</td>\n",
       "      <td>1.405717</td>\n",
       "      <td>1.406392</td>\n",
       "      <td>-0.637030</td>\n",
       "      <td>-0.672372</td>\n",
       "      <td>-0.736559</td>\n",
       "    </tr>\n",
       "    <tr>\n",
       "      <th>2</th>\n",
       "      <td>-0.077330</td>\n",
       "      <td>-1.452449</td>\n",
       "      <td>-0.448363</td>\n",
       "      <td>-1.492518</td>\n",
       "      <td>-1.435355</td>\n",
       "      <td>-1.440622</td>\n",
       "      <td>-0.637030</td>\n",
       "      <td>-0.672372</td>\n",
       "      <td>1.357665</td>\n",
       "    </tr>\n",
       "    <tr>\n",
       "      <th>3</th>\n",
       "      <td>0.532066</td>\n",
       "      <td>-0.814911</td>\n",
       "      <td>-0.578385</td>\n",
       "      <td>-1.492518</td>\n",
       "      <td>-0.852571</td>\n",
       "      <td>-0.491618</td>\n",
       "      <td>-0.637030</td>\n",
       "      <td>1.487271</td>\n",
       "      <td>-0.736559</td>\n",
       "    </tr>\n",
       "    <tr>\n",
       "      <th>4</th>\n",
       "      <td>-0.839075</td>\n",
       "      <td>1.097703</td>\n",
       "      <td>1.241924</td>\n",
       "      <td>0.500597</td>\n",
       "      <td>1.187173</td>\n",
       "      <td>1.406392</td>\n",
       "      <td>-0.637030</td>\n",
       "      <td>1.487271</td>\n",
       "      <td>-0.736559</td>\n",
       "    </tr>\n",
       "  </tbody>\n",
       "</table>\n",
       "</div>"
      ],
      "text/plain": [
       "         40        41        42        43        44        45        46  \\\n",
       "0 -0.534377  1.097703  1.241924  1.497154  1.187173  1.406392  1.569784   \n",
       "1 -0.229679  1.416472 -0.058297 -0.495961  1.405717  1.406392 -0.637030   \n",
       "2 -0.077330 -1.452449 -0.448363 -1.492518 -1.435355 -1.440622 -0.637030   \n",
       "3  0.532066 -0.814911 -0.578385 -1.492518 -0.852571 -0.491618 -0.637030   \n",
       "4 -0.839075  1.097703  1.241924  0.500597  1.187173  1.406392 -0.637030   \n",
       "\n",
       "         47        48  \n",
       "0 -0.672372 -0.736559  \n",
       "1 -0.672372 -0.736559  \n",
       "2 -0.672372  1.357665  \n",
       "3  1.487271 -0.736559  \n",
       "4  1.487271 -0.736559  "
      ]
     },
     "execution_count": 269,
     "metadata": {},
     "output_type": "execute_result"
    }
   ],
   "source": [
    "ff.iloc[:,40:60].head()"
   ]
  },
  {
   "cell_type": "code",
   "execution_count": 270,
   "metadata": {},
   "outputs": [
    {
     "data": {
      "text/plain": [
       "0    0\n",
       "1    0\n",
       "2    0\n",
       "3    0\n",
       "4    0\n",
       "Name: ReportedFraud, dtype: int32"
      ]
     },
     "execution_count": 270,
     "metadata": {},
     "output_type": "execute_result"
    }
   ],
   "source": [
    "target.head()"
   ]
  },
  {
   "cell_type": "code",
   "execution_count": 271,
   "metadata": {},
   "outputs": [
    {
     "data": {
      "text/plain": [
       "0    21028\n",
       "1     7777\n",
       "Name: ReportedFraud, dtype: int64"
      ]
     },
     "execution_count": 271,
     "metadata": {},
     "output_type": "execute_result"
    }
   ],
   "source": [
    "target.value_counts()"
   ]
  },
  {
   "cell_type": "code",
   "execution_count": 272,
   "metadata": {},
   "outputs": [],
   "source": [
    "predf=pd.concat([ff,target],axis=1)"
   ]
  },
  {
   "cell_type": "code",
   "execution_count": 273,
   "metadata": {},
   "outputs": [
    {
     "data": {
      "text/html": [
       "<div>\n",
       "<style scoped>\n",
       "    .dataframe tbody tr th:only-of-type {\n",
       "        vertical-align: middle;\n",
       "    }\n",
       "\n",
       "    .dataframe tbody tr th {\n",
       "        vertical-align: top;\n",
       "    }\n",
       "\n",
       "    .dataframe thead th {\n",
       "        text-align: right;\n",
       "    }\n",
       "</style>\n",
       "<table border=\"1\" class=\"dataframe\">\n",
       "  <thead>\n",
       "    <tr style=\"text-align: right;\">\n",
       "      <th></th>\n",
       "      <th>0</th>\n",
       "      <th>1</th>\n",
       "      <th>2</th>\n",
       "      <th>3</th>\n",
       "      <th>4</th>\n",
       "      <th>5</th>\n",
       "      <th>6</th>\n",
       "      <th>7</th>\n",
       "      <th>8</th>\n",
       "      <th>9</th>\n",
       "      <th>...</th>\n",
       "      <th>40</th>\n",
       "      <th>41</th>\n",
       "      <th>42</th>\n",
       "      <th>43</th>\n",
       "      <th>44</th>\n",
       "      <th>45</th>\n",
       "      <th>46</th>\n",
       "      <th>47</th>\n",
       "      <th>48</th>\n",
       "      <th>ReportedFraud</th>\n",
       "    </tr>\n",
       "  </thead>\n",
       "  <tbody>\n",
       "    <tr>\n",
       "      <th>0</th>\n",
       "      <td>1.209627</td>\n",
       "      <td>0.244104</td>\n",
       "      <td>-1.443837</td>\n",
       "      <td>0.851542</td>\n",
       "      <td>1.200606</td>\n",
       "      <td>0.017915</td>\n",
       "      <td>-1.430608</td>\n",
       "      <td>0.602373</td>\n",
       "      <td>1.228992</td>\n",
       "      <td>-0.118499</td>\n",
       "      <td>...</td>\n",
       "      <td>-0.534377</td>\n",
       "      <td>1.097703</td>\n",
       "      <td>1.241924</td>\n",
       "      <td>1.497154</td>\n",
       "      <td>1.187173</td>\n",
       "      <td>1.406392</td>\n",
       "      <td>1.569784</td>\n",
       "      <td>-0.672372</td>\n",
       "      <td>-0.736559</td>\n",
       "      <td>0.0</td>\n",
       "    </tr>\n",
       "    <tr>\n",
       "      <th>1</th>\n",
       "      <td>1.209627</td>\n",
       "      <td>0.244104</td>\n",
       "      <td>0.537640</td>\n",
       "      <td>-0.286898</td>\n",
       "      <td>1.200606</td>\n",
       "      <td>1.292126</td>\n",
       "      <td>-0.469719</td>\n",
       "      <td>0.358915</td>\n",
       "      <td>1.228992</td>\n",
       "      <td>-0.164769</td>\n",
       "      <td>...</td>\n",
       "      <td>-0.229679</td>\n",
       "      <td>1.416472</td>\n",
       "      <td>-0.058297</td>\n",
       "      <td>-0.495961</td>\n",
       "      <td>1.405717</td>\n",
       "      <td>1.406392</td>\n",
       "      <td>-0.637030</td>\n",
       "      <td>-0.672372</td>\n",
       "      <td>-0.736559</td>\n",
       "      <td>0.0</td>\n",
       "    </tr>\n",
       "    <tr>\n",
       "      <th>2</th>\n",
       "      <td>0.556972</td>\n",
       "      <td>0.805269</td>\n",
       "      <td>1.033009</td>\n",
       "      <td>1.664714</td>\n",
       "      <td>-0.840077</td>\n",
       "      <td>1.292126</td>\n",
       "      <td>1.452057</td>\n",
       "      <td>0.676493</td>\n",
       "      <td>1.086051</td>\n",
       "      <td>1.067828</td>\n",
       "      <td>...</td>\n",
       "      <td>-0.077330</td>\n",
       "      <td>-1.452449</td>\n",
       "      <td>-0.448363</td>\n",
       "      <td>-1.492518</td>\n",
       "      <td>-1.435355</td>\n",
       "      <td>-1.440622</td>\n",
       "      <td>-0.637030</td>\n",
       "      <td>-0.672372</td>\n",
       "      <td>1.357665</td>\n",
       "      <td>0.0</td>\n",
       "    </tr>\n",
       "    <tr>\n",
       "      <th>3</th>\n",
       "      <td>0.556972</td>\n",
       "      <td>1.366435</td>\n",
       "      <td>1.033009</td>\n",
       "      <td>1.664714</td>\n",
       "      <td>-0.840077</td>\n",
       "      <td>1.292126</td>\n",
       "      <td>1.452057</td>\n",
       "      <td>0.646230</td>\n",
       "      <td>1.147076</td>\n",
       "      <td>1.125441</td>\n",
       "      <td>...</td>\n",
       "      <td>0.532066</td>\n",
       "      <td>-0.814911</td>\n",
       "      <td>-0.578385</td>\n",
       "      <td>-1.492518</td>\n",
       "      <td>-0.852571</td>\n",
       "      <td>-0.491618</td>\n",
       "      <td>-0.637030</td>\n",
       "      <td>1.487271</td>\n",
       "      <td>-0.736559</td>\n",
       "      <td>0.0</td>\n",
       "    </tr>\n",
       "    <tr>\n",
       "      <th>4</th>\n",
       "      <td>-0.748339</td>\n",
       "      <td>0.805269</td>\n",
       "      <td>1.033009</td>\n",
       "      <td>-0.286898</td>\n",
       "      <td>-0.840077</td>\n",
       "      <td>1.292126</td>\n",
       "      <td>-0.469719</td>\n",
       "      <td>-0.104360</td>\n",
       "      <td>0.553410</td>\n",
       "      <td>0.201346</td>\n",
       "      <td>...</td>\n",
       "      <td>-0.839075</td>\n",
       "      <td>1.097703</td>\n",
       "      <td>1.241924</td>\n",
       "      <td>0.500597</td>\n",
       "      <td>1.187173</td>\n",
       "      <td>1.406392</td>\n",
       "      <td>-0.637030</td>\n",
       "      <td>1.487271</td>\n",
       "      <td>-0.736559</td>\n",
       "      <td>0.0</td>\n",
       "    </tr>\n",
       "  </tbody>\n",
       "</table>\n",
       "<p>5 rows × 50 columns</p>\n",
       "</div>"
      ],
      "text/plain": [
       "          0         1         2         3         4         5         6  \\\n",
       "0  1.209627  0.244104 -1.443837  0.851542  1.200606  0.017915 -1.430608   \n",
       "1  1.209627  0.244104  0.537640 -0.286898  1.200606  1.292126 -0.469719   \n",
       "2  0.556972  0.805269  1.033009  1.664714 -0.840077  1.292126  1.452057   \n",
       "3  0.556972  1.366435  1.033009  1.664714 -0.840077  1.292126  1.452057   \n",
       "4 -0.748339  0.805269  1.033009 -0.286898 -0.840077  1.292126 -0.469719   \n",
       "\n",
       "          7         8         9  ...        40        41        42        43  \\\n",
       "0  0.602373  1.228992 -0.118499  ... -0.534377  1.097703  1.241924  1.497154   \n",
       "1  0.358915  1.228992 -0.164769  ... -0.229679  1.416472 -0.058297 -0.495961   \n",
       "2  0.676493  1.086051  1.067828  ... -0.077330 -1.452449 -0.448363 -1.492518   \n",
       "3  0.646230  1.147076  1.125441  ...  0.532066 -0.814911 -0.578385 -1.492518   \n",
       "4 -0.104360  0.553410  0.201346  ... -0.839075  1.097703  1.241924  0.500597   \n",
       "\n",
       "         44        45        46        47        48  ReportedFraud  \n",
       "0  1.187173  1.406392  1.569784 -0.672372 -0.736559            0.0  \n",
       "1  1.405717  1.406392 -0.637030 -0.672372 -0.736559            0.0  \n",
       "2 -1.435355 -1.440622 -0.637030 -0.672372  1.357665            0.0  \n",
       "3 -0.852571 -0.491618 -0.637030  1.487271 -0.736559            0.0  \n",
       "4  1.187173  1.406392 -0.637030  1.487271 -0.736559            0.0  \n",
       "\n",
       "[5 rows x 50 columns]"
      ]
     },
     "execution_count": 273,
     "metadata": {},
     "output_type": "execute_result"
    }
   ],
   "source": [
    "predf.head()"
   ]
  },
  {
   "cell_type": "code",
   "execution_count": 274,
   "metadata": {},
   "outputs": [
    {
     "data": {
      "text/plain": [
       "(28836, 50)"
      ]
     },
     "execution_count": 274,
     "metadata": {},
     "output_type": "execute_result"
    }
   ],
   "source": [
    "predf.shape"
   ]
  },
  {
   "cell_type": "code",
   "execution_count": 275,
   "metadata": {},
   "outputs": [
    {
     "data": {
      "text/plain": [
       "0                31\n",
       "1                31\n",
       "2                31\n",
       "3                31\n",
       "4                31\n",
       "5                31\n",
       "6                31\n",
       "7                31\n",
       "8                31\n",
       "9                31\n",
       "10               31\n",
       "11               31\n",
       "12               31\n",
       "13               31\n",
       "14               31\n",
       "15               31\n",
       "16               31\n",
       "17               31\n",
       "18               31\n",
       "19               31\n",
       "20               31\n",
       "21               31\n",
       "22               31\n",
       "23               31\n",
       "24               31\n",
       "25               31\n",
       "26               31\n",
       "27               31\n",
       "28               31\n",
       "29               31\n",
       "30               31\n",
       "31               31\n",
       "32               31\n",
       "33               31\n",
       "34               31\n",
       "35               31\n",
       "36               31\n",
       "37               31\n",
       "38               31\n",
       "39               31\n",
       "40               31\n",
       "41               31\n",
       "42               31\n",
       "43               31\n",
       "44               31\n",
       "45               31\n",
       "46               31\n",
       "47               31\n",
       "48               31\n",
       "ReportedFraud    31\n",
       "dtype: int64"
      ]
     },
     "execution_count": 275,
     "metadata": {},
     "output_type": "execute_result"
    }
   ],
   "source": [
    "# checking any missing values in \"predf\" dataframe\n",
    "predf.isnull().sum()[predf.isnull().sum()>0]"
   ]
  },
  {
   "cell_type": "code",
   "execution_count": 276,
   "metadata": {},
   "outputs": [],
   "source": [
    "# dropping the missing values in \"predf\" dataframe\n",
    "predf=predf.dropna()"
   ]
  },
  {
   "cell_type": "code",
   "execution_count": 277,
   "metadata": {},
   "outputs": [
    {
     "data": {
      "text/plain": [
       "(28774, 50)"
      ]
     },
     "execution_count": 277,
     "metadata": {},
     "output_type": "execute_result"
    }
   ],
   "source": [
    "# shape of \"predf\" dataframe\n",
    "predf.shape"
   ]
  },
  {
   "cell_type": "code",
   "execution_count": 278,
   "metadata": {},
   "outputs": [],
   "source": [
    "from sklearn.model_selection import train_test_split\n",
    "\n",
    "X = predf.drop('ReportedFraud',axis=1)\n",
    "\n",
    "y = predf['ReportedFraud']\n",
    "\n",
    "X_train, X_test, y_train, y_test = train_test_split(X, y, test_size=0.30, random_state=500)"
   ]
  },
  {
   "cell_type": "code",
   "execution_count": 279,
   "metadata": {},
   "outputs": [
    {
     "name": "stdout",
     "output_type": "stream",
     "text": [
      "              precision    recall  f1-score   support\n",
      "\n",
      "         0.0       0.84      0.93      0.88      6312\n",
      "         1.0       0.74      0.50      0.60      2321\n",
      "\n",
      "    accuracy                           0.82      8633\n",
      "   macro avg       0.79      0.72      0.74      8633\n",
      "weighted avg       0.81      0.82      0.81      8633\n",
      "\n"
     ]
    }
   ],
   "source": [
    "# random forest classifier\n",
    "from sklearn.ensemble import RandomForestClassifier\n",
    "\n",
    "rfc = RandomForestClassifier(n_estimators=100)\n",
    "\n",
    "rfc.fit(X_train,y_train)\n",
    "\n",
    "rfc_pred = rfc.predict(X_test)\n",
    "\n",
    "from sklearn.metrics import classification_report,confusion_matrix\n",
    "\n",
    "print(classification_report(y_test,rfc_pred))"
   ]
  },
  {
   "cell_type": "code",
   "execution_count": 280,
   "metadata": {},
   "outputs": [
    {
     "name": "stdout",
     "output_type": "stream",
     "text": [
      "Fitting 3 folds for each of 16 candidates, totalling 48 fits\n",
      "              precision    recall  f1-score   support\n",
      "\n",
      "         0.0       0.82      0.95      0.88      6312\n",
      "         1.0       0.77      0.41      0.54      2321\n",
      "\n",
      "    accuracy                           0.81      8633\n",
      "   macro avg       0.79      0.68      0.71      8633\n",
      "weighted avg       0.80      0.81      0.79      8633\n",
      "\n"
     ]
    }
   ],
   "source": [
    "# tuning the hyperparameters of random forest classifier\n",
    "\n",
    "from sklearn.model_selection import GridSearchCV\n",
    "\n",
    "param_grid = {\n",
    "    'max_features': [2, 3],\n",
    "    'min_samples_leaf': [3, 4],\n",
    "    'min_samples_split': [8, 12],\n",
    "    'n_estimators': [100, 300]\n",
    "}\n",
    "\n",
    "rfc = RandomForestClassifier()\n",
    "\n",
    "grid_search = GridSearchCV(estimator = rfc, param_grid = param_grid, cv = 3, n_jobs = -1, verbose = 2)\n",
    "\n",
    "grid_search.fit(X_train, y_train)\n",
    "\n",
    "grid_search.best_params_\n",
    "\n",
    "grid_search.best_score_\n",
    "\n",
    "print (classification_report(y_test,grid_search.predict(X_test)))\n"
   ]
  },
  {
   "cell_type": "code",
   "execution_count": 281,
   "metadata": {},
   "outputs": [
    {
     "name": "stdout",
     "output_type": "stream",
     "text": [
      "              precision    recall  f1-score   support\n",
      "\n",
      "         0.0       0.77      0.92      0.84      6312\n",
      "         1.0       0.56      0.27      0.36      2321\n",
      "\n",
      "    accuracy                           0.75      8633\n",
      "   macro avg       0.67      0.60      0.60      8633\n",
      "weighted avg       0.72      0.75      0.71      8633\n",
      "\n"
     ]
    }
   ],
   "source": [
    "# logistic regression\n",
    "from sklearn.linear_model import LogisticRegression\n",
    "\n",
    "logmodel = LogisticRegression()\n",
    "\n",
    "logmodel.fit(X_train,y_train)\n",
    "\n",
    "log_pred = logmodel.predict(X_test)\n",
    "\n",
    "print(classification_report(y_test,log_pred))"
   ]
  },
  {
   "cell_type": "code",
   "execution_count": 282,
   "metadata": {},
   "outputs": [
    {
     "name": "stdout",
     "output_type": "stream",
     "text": [
      "              precision    recall  f1-score   support\n",
      "\n",
      "         0.0       0.81      0.79      0.80      6312\n",
      "         1.0       0.46      0.49      0.48      2321\n",
      "\n",
      "    accuracy                           0.71      8633\n",
      "   macro avg       0.64      0.64      0.64      8633\n",
      "weighted avg       0.72      0.71      0.71      8633\n",
      "\n"
     ]
    }
   ],
   "source": [
    "# Decision tree classifier\n",
    "\n",
    "from sklearn.tree import DecisionTreeClassifier\n",
    "\n",
    "dtree = DecisionTreeClassifier()\n",
    "\n",
    "dtree.fit(X_train,y_train)\n",
    "\n",
    "dtree_pred = dtree.predict(X_test)\n",
    "\n",
    "print(classification_report(y_test,dtree_pred))"
   ]
  },
  {
   "cell_type": "code",
   "execution_count": 1135,
   "metadata": {},
   "outputs": [
    {
     "name": "stderr",
     "output_type": "stream",
     "text": [
      "c:\\Users\\user\\anaconda3\\lib\\site-packages\\xgboost\\sklearn.py:1224: UserWarning: The use of label encoder in XGBClassifier is deprecated and will be removed in a future release. To remove this warning, do the following: 1) Pass option use_label_encoder=False when constructing XGBClassifier object; and 2) Encode your labels (y) as integers starting with 0, i.e. 0, 1, 2, ..., [num_class - 1].\n",
      "  warnings.warn(label_encoder_deprecation_msg, UserWarning)\n",
      "c:\\Users\\user\\anaconda3\\lib\\site-packages\\xgboost\\data.py:250: FutureWarning: pandas.Int64Index is deprecated and will be removed from pandas in a future version. Use pandas.Index with the appropriate dtype instead.\n",
      "  elif isinstance(data.columns, (pd.Int64Index, pd.RangeIndex)):\n"
     ]
    },
    {
     "name": "stdout",
     "output_type": "stream",
     "text": [
      "[00:13:16] WARNING: C:\\Windows\\Temp\\abs_557yfx631l\\croots\\recipe\\xgboost-split_1659548953302\\work\\src\\learner.cc:1115: Starting in XGBoost 1.3.0, the default evaluation metric used with the objective 'binary:logistic' was changed from 'error' to 'logloss'. Explicitly set eval_metric if you'd like to restore the old behavior.\n",
      "              precision    recall  f1-score   support\n",
      "\n",
      "         0.0       0.81      0.93      0.87      6312\n",
      "         1.0       0.70      0.42      0.53      2321\n",
      "\n",
      "    accuracy                           0.80      8633\n",
      "   macro avg       0.76      0.68      0.70      8633\n",
      "weighted avg       0.78      0.80      0.78      8633\n",
      "\n"
     ]
    }
   ],
   "source": [
    "\n",
    "# import xgboost classifier\n",
    "\n",
    "from xgboost import XGBClassifier\n",
    "\n",
    "# create an instance of xgboost classifier\n",
    "\n",
    "xgb=XGBClassifier(n_estimators=10)\n",
    "\n",
    "# fit the model\n",
    "\n",
    "xgb.fit(X_train,y_train)\n",
    "\n",
    "# predict the model\n",
    "\n",
    "y_pred=xgb.predict(X_test)\n",
    "\n",
    "# import classification report\n",
    "\n",
    "from sklearn.metrics import classification_report\n",
    "\n",
    "# print classification report\n",
    "\n",
    "print(classification_report(y_test,y_pred))\n"
   ]
  },
  {
   "cell_type": "code",
   "execution_count": 1136,
   "metadata": {},
   "outputs": [
    {
     "name": "stdout",
     "output_type": "stream",
     "text": [
      "Fitting 5 folds for each of 16 candidates, totalling 80 fits\n"
     ]
    },
    {
     "name": "stderr",
     "output_type": "stream",
     "text": [
      "c:\\Users\\user\\anaconda3\\lib\\site-packages\\xgboost\\sklearn.py:1224: UserWarning: The use of label encoder in XGBClassifier is deprecated and will be removed in a future release. To remove this warning, do the following: 1) Pass option use_label_encoder=False when constructing XGBClassifier object; and 2) Encode your labels (y) as integers starting with 0, i.e. 0, 1, 2, ..., [num_class - 1].\n",
      "  warnings.warn(label_encoder_deprecation_msg, UserWarning)\n",
      "c:\\Users\\user\\anaconda3\\lib\\site-packages\\xgboost\\data.py:250: FutureWarning: pandas.Int64Index is deprecated and will be removed from pandas in a future version. Use pandas.Index with the appropriate dtype instead.\n",
      "  elif isinstance(data.columns, (pd.Int64Index, pd.RangeIndex)):\n"
     ]
    },
    {
     "name": "stdout",
     "output_type": "stream",
     "text": [
      "[00:18:24] WARNING: C:\\Windows\\Temp\\abs_557yfx631l\\croots\\recipe\\xgboost-split_1659548953302\\work\\src\\learner.cc:1115: Starting in XGBoost 1.3.0, the default evaluation metric used with the objective 'binary:logistic' was changed from 'error' to 'logloss'. Explicitly set eval_metric if you'd like to restore the old behavior.\n",
      "              precision    recall  f1-score   support\n",
      "\n",
      "         0.0       0.84      0.93      0.88      6312\n",
      "         1.0       0.74      0.52      0.61      2321\n",
      "\n",
      "    accuracy                           0.82      8633\n",
      "   macro avg       0.79      0.73      0.75      8633\n",
      "weighted avg       0.81      0.82      0.81      8633\n",
      "\n"
     ]
    }
   ],
   "source": [
    "# Tuning the model using GridSearchCV\n",
    "from sklearn.model_selection import GridSearchCV\n",
    "\n",
    "# Create a dictionary of parameters\n",
    "param_grid={'n_estimators':[50,100],'max_depth':[3,7],'learning_rate':[0.1,0.001],'gamma':[0,0.2]}\n",
    "\n",
    "# Create an instance of GridSearchCV\n",
    "grid=GridSearchCV(XGBClassifier(),param_grid,verbose=3,n_jobs=-1)\n",
    "\n",
    "# Fit the model\n",
    "grid.fit(X_train,y_train)\n",
    "\n",
    "# Predict the model\n",
    "grid_pred=grid.predict(X_test)\n",
    "\n",
    "# Print classification report\n",
    "print(classification_report(y_test,grid_pred))"
   ]
  },
  {
   "cell_type": "code",
   "execution_count": 1137,
   "metadata": {},
   "outputs": [
    {
     "data": {
      "text/plain": [
       "{'gamma': 0.2, 'learning_rate': 0.1, 'max_depth': 7, 'n_estimators': 100}"
      ]
     },
     "execution_count": 1137,
     "metadata": {},
     "output_type": "execute_result"
    }
   ],
   "source": [
    "grid.best_params_"
   ]
  },
  {
   "cell_type": "code",
   "execution_count": 1138,
   "metadata": {},
   "outputs": [
    {
     "name": "stdout",
     "output_type": "stream",
     "text": [
      "              precision    recall  f1-score   support\n",
      "\n",
      "         0.0       0.84      0.94      0.89      6312\n",
      "         1.0       0.75      0.52      0.61      2321\n",
      "\n",
      "    accuracy                           0.82      8633\n",
      "   macro avg       0.80      0.73      0.75      8633\n",
      "weighted avg       0.82      0.82      0.81      8633\n",
      "\n"
     ]
    }
   ],
   "source": [
    "# svm\n",
    "\n",
    "from sklearn.svm import SVC\n",
    "\n",
    "# create an instance of svm\n",
    "svm=SVC()\n",
    "\n",
    "# fit the model\n",
    "svm.fit(X_train,y_train)\n",
    "\n",
    "# predict the model\n",
    "svm_pred=svm.predict(X_test)\n",
    "\n",
    "# print classification report\n",
    "print(classification_report(y_test,svm_pred))"
   ]
  },
  {
   "cell_type": "code",
   "execution_count": 1139,
   "metadata": {},
   "outputs": [
    {
     "data": {
      "text/html": [
       "<div>\n",
       "<style scoped>\n",
       "    .dataframe tbody tr th:only-of-type {\n",
       "        vertical-align: middle;\n",
       "    }\n",
       "\n",
       "    .dataframe tbody tr th {\n",
       "        vertical-align: top;\n",
       "    }\n",
       "\n",
       "    .dataframe thead th {\n",
       "        text-align: right;\n",
       "    }\n",
       "</style>\n",
       "<table border=\"1\" class=\"dataframe\">\n",
       "  <thead>\n",
       "    <tr style=\"text-align: right;\">\n",
       "      <th></th>\n",
       "      <th>pc1</th>\n",
       "      <th>pc2</th>\n",
       "      <th>pc3</th>\n",
       "      <th>pc4</th>\n",
       "      <th>pc5</th>\n",
       "      <th>pc6</th>\n",
       "      <th>ReportedFraud</th>\n",
       "    </tr>\n",
       "  </thead>\n",
       "  <tbody>\n",
       "    <tr>\n",
       "      <th>0</th>\n",
       "      <td>-1.557496</td>\n",
       "      <td>-2.328336</td>\n",
       "      <td>-1.733059</td>\n",
       "      <td>0.348929</td>\n",
       "      <td>1.961037</td>\n",
       "      <td>2.038527</td>\n",
       "      <td>0.0</td>\n",
       "    </tr>\n",
       "    <tr>\n",
       "      <th>1</th>\n",
       "      <td>-1.126756</td>\n",
       "      <td>-2.690745</td>\n",
       "      <td>-1.196086</td>\n",
       "      <td>-1.963934</td>\n",
       "      <td>0.181783</td>\n",
       "      <td>1.805477</td>\n",
       "      <td>0.0</td>\n",
       "    </tr>\n",
       "    <tr>\n",
       "      <th>2</th>\n",
       "      <td>-1.366110</td>\n",
       "      <td>2.445694</td>\n",
       "      <td>0.000250</td>\n",
       "      <td>-1.360505</td>\n",
       "      <td>-0.434926</td>\n",
       "      <td>-0.334797</td>\n",
       "      <td>0.0</td>\n",
       "    </tr>\n",
       "    <tr>\n",
       "      <th>3</th>\n",
       "      <td>-1.388622</td>\n",
       "      <td>1.455058</td>\n",
       "      <td>0.069810</td>\n",
       "      <td>-1.982260</td>\n",
       "      <td>0.220106</td>\n",
       "      <td>-1.119832</td>\n",
       "      <td>0.0</td>\n",
       "    </tr>\n",
       "    <tr>\n",
       "      <th>4</th>\n",
       "      <td>-0.291905</td>\n",
       "      <td>-1.649120</td>\n",
       "      <td>-1.346339</td>\n",
       "      <td>0.411909</td>\n",
       "      <td>-0.142003</td>\n",
       "      <td>-2.349785</td>\n",
       "      <td>0.0</td>\n",
       "    </tr>\n",
       "  </tbody>\n",
       "</table>\n",
       "</div>"
      ],
      "text/plain": [
       "        pc1       pc2       pc3       pc4       pc5       pc6  ReportedFraud\n",
       "0 -1.557496 -2.328336 -1.733059  0.348929  1.961037  2.038527            0.0\n",
       "1 -1.126756 -2.690745 -1.196086 -1.963934  0.181783  1.805477            0.0\n",
       "2 -1.366110  2.445694  0.000250 -1.360505 -0.434926 -0.334797            0.0\n",
       "3 -1.388622  1.455058  0.069810 -1.982260  0.220106 -1.119832            0.0\n",
       "4 -0.291905 -1.649120 -1.346339  0.411909 -0.142003 -2.349785            0.0"
      ]
     },
     "execution_count": 1139,
     "metadata": {},
     "output_type": "execute_result"
    }
   ],
   "source": [
    "# Using PCA to reduce the dimensionality of the data\n",
    "from sklearn.decomposition import PCA\n",
    "\n",
    "# Creating an instance of PCA\n",
    "pca=PCA(n_components=6)\n",
    "\n",
    "# fit and transform the data\n",
    "principalComponents=pca.fit_transform(z)\n",
    "\n",
    "# Convert the principalComponents to dataframe\n",
    "principalDf=pd.DataFrame(data=principalComponents,columns=['pc1','pc2','pc3','pc4','pc5','pc6'])\n",
    "\n",
    "# Concat the \"principalDf\" and \"target\" dataframe\n",
    "finaldf=pd.concat([principalDf,target],axis=1)\n",
    "\n",
    "# Head of finalDf\n",
    "finaldf.head()"
   ]
  },
  {
   "cell_type": "code",
   "execution_count": 1140,
   "metadata": {},
   "outputs": [
    {
     "data": {
      "text/plain": [
       "(28836, 7)"
      ]
     },
     "execution_count": 1140,
     "metadata": {},
     "output_type": "execute_result"
    }
   ],
   "source": [
    "finaldf.shape"
   ]
  },
  {
   "cell_type": "code",
   "execution_count": 1141,
   "metadata": {},
   "outputs": [
    {
     "data": {
      "text/plain": [
       "pc1              31\n",
       "pc2              31\n",
       "pc3              31\n",
       "pc4              31\n",
       "pc5              31\n",
       "pc6              31\n",
       "ReportedFraud    31\n",
       "dtype: int64"
      ]
     },
     "execution_count": 1141,
     "metadata": {},
     "output_type": "execute_result"
    }
   ],
   "source": [
    "finaldf.isnull().sum()[finaldf.isnull().sum()>0]"
   ]
  },
  {
   "cell_type": "code",
   "execution_count": 1142,
   "metadata": {},
   "outputs": [],
   "source": [
    "# dropping the missing values in \"finaldf\" dataframe\n",
    "finaldf=finaldf.dropna()"
   ]
  },
  {
   "cell_type": "code",
   "execution_count": 1143,
   "metadata": {},
   "outputs": [
    {
     "data": {
      "text/plain": [
       "Series([], dtype: int64)"
      ]
     },
     "execution_count": 1143,
     "metadata": {},
     "output_type": "execute_result"
    }
   ],
   "source": [
    "finaldf.isnull().sum()[finaldf.isnull().sum()>0]"
   ]
  },
  {
   "cell_type": "code",
   "execution_count": 1144,
   "metadata": {},
   "outputs": [],
   "source": [
    "from sklearn.model_selection import train_test_split\n",
    "\n",
    "X = finaldf.drop('ReportedFraud',axis=1)\n",
    "\n",
    "y = finaldf['ReportedFraud']\n",
    "\n",
    "X_train, X_test, y_train, y_test = train_test_split(X, y, test_size=0.30, random_state=500)"
   ]
  },
  {
   "cell_type": "code",
   "execution_count": 1145,
   "metadata": {},
   "outputs": [
    {
     "name": "stderr",
     "output_type": "stream",
     "text": [
      "c:\\Users\\user\\anaconda3\\lib\\site-packages\\xgboost\\sklearn.py:1224: UserWarning: The use of label encoder in XGBClassifier is deprecated and will be removed in a future release. To remove this warning, do the following: 1) Pass option use_label_encoder=False when constructing XGBClassifier object; and 2) Encode your labels (y) as integers starting with 0, i.e. 0, 1, 2, ..., [num_class - 1].\n",
      "  warnings.warn(label_encoder_deprecation_msg, UserWarning)\n",
      "c:\\Users\\user\\anaconda3\\lib\\site-packages\\xgboost\\data.py:250: FutureWarning: pandas.Int64Index is deprecated and will be removed from pandas in a future version. Use pandas.Index with the appropriate dtype instead.\n",
      "  elif isinstance(data.columns, (pd.Int64Index, pd.RangeIndex)):\n"
     ]
    },
    {
     "name": "stdout",
     "output_type": "stream",
     "text": [
      "[00:21:28] WARNING: C:\\Windows\\Temp\\abs_557yfx631l\\croots\\recipe\\xgboost-split_1659548953302\\work\\src\\learner.cc:1115: Starting in XGBoost 1.3.0, the default evaluation metric used with the objective 'binary:logistic' was changed from 'error' to 'logloss'. Explicitly set eval_metric if you'd like to restore the old behavior.\n",
      "              precision    recall  f1-score   support\n",
      "\n",
      "         0.0       0.73      1.00      0.84      6312\n",
      "         1.0       0.60      0.02      0.03      2321\n",
      "\n",
      "    accuracy                           0.73      8633\n",
      "   macro avg       0.67      0.51      0.44      8633\n",
      "weighted avg       0.70      0.73      0.63      8633\n",
      "\n"
     ]
    }
   ],
   "source": [
    "# create an instance of xgboost classifier\n",
    "xgb=XGBClassifier(n_estimators=10)\n",
    "\n",
    "# fit the model\n",
    "xgb.fit(X_train,y_train)\n",
    "\n",
    "# predict the model\n",
    "y_pred=xgb.predict(X_test)\n",
    "\n",
    "# import classification report\n",
    "from sklearn.metrics import classification_report\n",
    "\n",
    "# print classification report\n",
    "print(classification_report(y_test,y_pred))"
   ]
  },
  {
   "attachments": {},
   "cell_type": "markdown",
   "metadata": {},
   "source": [
    "# By using variuous model, I have got the best accuracy of 0.82 using Random Forest Classifier, XGBoost Classifier and SVM Classifier. In the three model, I got the same accuracy. But in SVM I got the highest f1-score of 0.89"
   ]
  }
 ],
 "metadata": {
  "kernelspec": {
   "display_name": "Python 3.8.5 ('base')",
   "language": "python",
   "name": "python3"
  },
  "language_info": {
   "codemirror_mode": {
    "name": "ipython",
    "version": 3
   },
   "file_extension": ".py",
   "mimetype": "text/x-python",
   "name": "python",
   "nbconvert_exporter": "python",
   "pygments_lexer": "ipython3",
   "version": "3.9.13 (main, Aug 25 2022, 23:51:50) [MSC v.1916 64 bit (AMD64)]"
  },
  "orig_nbformat": 4,
  "vscode": {
   "interpreter": {
    "hash": "a077222d77dfe082b8f1dd562ad70e458ac2ab76993a0b248ab0476e32e9e8dd"
   }
  }
 },
 "nbformat": 4,
 "nbformat_minor": 2
}
